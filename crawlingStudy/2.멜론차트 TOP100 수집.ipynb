{
 "cells": [
  {
   "cell_type": "code",
   "execution_count": 2,
   "id": "93c99875-daea-4bb6-af42-c3f32ea95edf",
   "metadata": {},
   "outputs": [],
   "source": [
    "import requests as req\n",
    "from bs4 import BeautifulSoup as bs"
   ]
  },
  {
   "cell_type": "code",
   "execution_count": 6,
   "id": "5d94de10-e6bb-4214-a9f0-cb6b88abf6d8",
   "metadata": {},
   "outputs": [],
   "source": [
    "head = {\"User-Agent\" : \"Mozilla/5.0 (Macintosh; Intel Mac OS X 10_15_7) AppleWebKit/537.36 (KHTML, like Gecko) Chrome/134.0.0.0 Safari/537.36\"}\n",
    "res = req.get(\"https://www.melon.com/chart/index.htm\", headers = head)"
   ]
  },
  {
   "cell_type": "code",
   "execution_count": 10,
   "id": "1e5787cd-68fe-4982-afdb-8414f3cb44a3",
   "metadata": {},
   "outputs": [],
   "source": [
    "soup = bs(res.text, \"lxml\")"
   ]
  },
  {
   "cell_type": "code",
   "execution_count": 72,
   "id": "5cc4d65f-d08e-45bb-9cf7-cfec3bfbd9cf",
   "metadata": {},
   "outputs": [
    {
     "data": {
      "text/plain": [
       "100"
      ]
     },
     "execution_count": 72,
     "metadata": {},
     "output_type": "execute_result"
    }
   ],
   "source": [
    "# 클래스명을 여러개 가지고 있을 경우에는 공백을 지우고 .으로 이어줌\n",
    "# select_one(수집 데이터의 갯수가 복수면 첫번째 데이터만 가지고 오기)\n",
    "# singer = soup.select_one(\"div.ellipsis.rank02>span.checkEllipsis\")\n",
    "singer = soup.select(\"div.ellipsis.rank02>span\")\n",
    "# 갯수가 정해진 데이터를 수집할 때는 반드시 데이터의 갯수를 체크\n",
    "len(singer)"
   ]
  },
  {
   "cell_type": "code",
   "execution_count": null,
   "id": "395178dd-1f7c-42bb-8774-aba986df96a5",
   "metadata": {},
   "outputs": [],
   "source": [
    "# 부정확한 데이터가 수집되면 반드시 HTMl 코드의 정보를 다시 확인"
   ]
  },
  {
   "cell_type": "code",
   "execution_count": 62,
   "id": "513b9c9c-15df-43fe-b5ca-f043db64f301",
   "metadata": {},
   "outputs": [
    {
     "data": {
      "text/plain": [
       "100"
      ]
     },
     "execution_count": 62,
     "metadata": {},
     "output_type": "execute_result"
    }
   ],
   "source": [
    "song = soup.select(\"div.ellipsis.rank01>span>a\")\n",
    "len(title)"
   ]
  },
  {
   "cell_type": "code",
   "execution_count": 83,
   "id": "9597d751-47af-4244-8f7c-c5c4cf43d24c",
   "metadata": {},
   "outputs": [
    {
     "name": "stdout",
     "output_type": "stream",
     "text": [
      "['G-DRAGON', '조째즈', 'WOODZ', '제니 (JENNIE)', 'G-DRAGON', '황가람', 'IVE (아이브)', 'aespa', 'BOYNEXTDOOR', '로제 (ROSÉ), Bruno Mars', 'LE SSERAFIM (르세라핌)', '오반(OVAN)', 'DAY6 (데이식스)', 'IVE (아이브)', '로제 (ROSÉ)', '로이킴', '이클립스 (ECLIPSE)', 'KiiiKiii (키키)', 'G-DRAGON', '황가람', 'G-DRAGON', '이창섭', 'DAY6 (데이식스)', 'DAY6 (데이식스)', '임영웅', 'aespa', 'Lady Gaga, Bruno Mars', 'AKMU (악뮤)', 'DAY6 (데이식스)', '이무진', 'BABYMONSTER', 'PLAVE', '순순희(지환)', '아이유', '이예은, 아샤트리, 전건호', '임영웅', '너드커넥션 (Nerd Connection)', 'aespa', '임영웅', '이무진', 'QWER', '성시경', 'G-DRAGON', '멜로망스', 'Hearts2Hearts (하츠투하츠)', 'QWER', '임영웅', '임재현', 'TWS (투어스)', 'PLAVE', '임영웅', '폴킴', 'PLAVE', '잔나비', '임영웅', '이무진', '아일릿(ILLIT)', 'NewJeans', '임영웅', '경서예지, 전건호', 'PLAVE', '(여자)아이들', '박재정', '방탄소년단', 'BOYNEXTDOOR', 'PLAVE', '제니 (JENNIE)', '프로미스나인', 'IVE (아이브)', '우디 (Woody)', '범진', '재쓰비 (JAESSBEE)', '정국', '이영지', 'Crush', '10CM', 'NewJeans', '임영웅', '김민석', '임영웅', '임영웅', '임영웅', '임영웅', '우디 (Woody)', 'NewJeans', '송필근', 'j-hope, Miguel', 'aespa', '순순희', 'KISS OF LIFE', 'DAY6 (데이식스)', 'IVE (아이브)', 'G-DRAGON', '임영웅', 'NewJeans', '로제 (ROSÉ)', '지수 (JISOO)', 'KISS OF LIFE', '태연 (TAEYEON)', '임영웅']\n",
      "['TOO BAD (feat. Anderson .Paak)', '모르시나요(PROD.로코베리)', 'Drowning', 'like JENNIE', 'HOME SWEET HOME (feat. 태양, 대성)', '나는 반딧불', 'REBEL HEART', 'Whiplash', '오늘만 I LOVE YOU', 'APT.', 'HOT', 'Flower', 'HAPPY', 'ATTITUDE', 'toxic till the end', '내게 사랑이 뭐냐고 물어본다면', '소나기', 'I DO ME', 'PO￦ER', '미치게 그리워서', 'TAKE ME', '천상연', '한 페이지가 될 수 있게', 'Welcome to the Show', '사랑은 늘 도망가', 'Supernova', 'Die With A Smile', '어떻게 이별까지 사랑하겠어, 널 사랑하는 거지', '예뻤어', '청춘만화', 'DRIP', 'Dash', '슬픈 초대장', 'Love wins all', 'MY LOVE(2025)', '우리들의 블루스', '그대만 있다면 (여름날 우리 X 너드커넥션 (Nerd Connection))', 'UP (KARINA Solo)', '온기', '청혼하지 않을 이유를 못 찾았어', '내 이름 맑음', '너의 모든 순간', '무제(無題) (Untitled, 2014)', '사랑인가 봐', 'The Chase', '고민중독', '모래 알갱이', '비의 랩소디', '첫 만남은 계획대로 되지 않아', 'RIZZ', 'Home', '모든 날, 모든 순간 (Every day, Every Moment)', 'Island', '주저하는 연인들을 위해', '다시 만날 수 있을까', '에피소드', 'Magnetic', 'How Sweet', '이제 나만 믿어요', '다정히 내 이름을 부르면', 'Chroma Drift', '나는 아픈 건 딱 질색이니까', '헤어지자 말해요', '봄날', '이렇게 좋아해 본 적이 없어요', '12:32 (A to T)', 'Mantra', 'Supersonic', 'I AM', '어제보다 슬픈 오늘', '인사', '너와의 모든 지금', 'Seven (feat. Latto) - Clean Ver.', 'Small girl (feat. 도경수(D.O.))', '미안해 미워해 사랑해', '너에게 닿기를', 'Hype Boy', 'Do or Die', '취중고백', '무지개', '인생찬가', 'Polaroid', 'London Boy', '사막에서 꽃을 피우듯', 'Ditto', '숙녀에게', 'Sweet Dreams (feat. Miguel)', 'Armageddon', '살기 위해서', 'Sticky', '녹아내려요', '해야 (HEYA)', 'DRAMA', '연애편지', 'Supernatural', 'number one girl', 'earthquake', 'Igloo', 'To. X', '보금자리']\n"
     ]
    }
   ],
   "source": [
    "# 순수 텍스트 정보 담은 리스트 제작\n",
    "singer_list = []\n",
    "song_list = []\n",
    "for i in range(len(singer)):\n",
    "    singer_list.append(singer[i].text)\n",
    "    song_list.append(song[i].text)\n",
    "\n",
    "print(singer_list)\n",
    "print(song_list)"
   ]
  },
  {
   "cell_type": "code",
   "execution_count": null,
   "id": "00d6e3a8-a34c-4276-b670-f2325a74fad7",
   "metadata": {},
   "outputs": [],
   "source": []
  },
  {
   "cell_type": "code",
   "execution_count": 85,
   "id": "32e6569f-e03c-40bd-b795-85a67ec91b01",
   "metadata": {},
   "outputs": [],
   "source": [
    "import pandas as pd"
   ]
  },
  {
   "cell_type": "code",
   "execution_count": 101,
   "id": "9aca4fc5-3110-4711-98b2-959f2f6f6fbc",
   "metadata": {},
   "outputs": [],
   "source": [
    "dic = {\"가수이름\" : singer_list, \"노래제목\" : song_list}\n",
    "melon = pd.DataFrame(dic)\n",
    "# encoding을 해야 한다면\n",
    "# utf-8 / euc-kr / utf-8-sig\n",
    "melon.to_csv(\"멜론차트.csv\", encoding=\"utf-8\")"
   ]
  },
  {
   "cell_type": "code",
   "execution_count": null,
   "id": "cd6430dc-8e6c-44ba-9f4c-80a73cd5ffd3",
   "metadata": {},
   "outputs": [],
   "source": []
  },
  {
   "cell_type": "markdown",
   "id": "282c7760-3f29-4871-b5b2-b0e4a1c4f4f5",
   "metadata": {},
   "source": [
    "# 정리\n",
    "1. 필요한 라이브러리 import\n",
    "2. 특정 웹페이지의 정보를 가져오라고 요청\n",
    "3. 응답된 데이터가 많음 -> html내용만 필요\n",
    "4. 받아온 html은 거대한 String -> 파싱 필요\n",
    "5. 많은 태그들을 가지고 있는 상태\n",
    "6. 특정 선택자에 해당하는 요소들만 빼서 리스트화\n",
    "7. 리스트 안에 들어있는 건 \"요소\", 우리가 필요한 건 \"content\""
   ]
  },
  {
   "cell_type": "code",
   "execution_count": null,
   "id": "0f8587e3-141c-4499-b5be-4685404f310c",
   "metadata": {},
   "outputs": [],
   "source": []
  },
  {
   "cell_type": "code",
   "execution_count": null,
   "id": "a1d1c76b-fa2c-4447-b2da-cd8d9e475b57",
   "metadata": {},
   "outputs": [],
   "source": []
  },
  {
   "cell_type": "code",
   "execution_count": null,
   "id": "8bb31b29-7ab1-43df-8b0b-7464f42568a3",
   "metadata": {},
   "outputs": [],
   "source": []
  },
  {
   "cell_type": "code",
   "execution_count": null,
   "id": "a9b8531c-bc30-4d08-8adb-aae07b96972a",
   "metadata": {},
   "outputs": [],
   "source": []
  },
  {
   "cell_type": "code",
   "execution_count": null,
   "id": "048a61f2-8fcd-4dcc-8c5a-89f72346eee6",
   "metadata": {},
   "outputs": [],
   "source": []
  },
  {
   "cell_type": "code",
   "execution_count": null,
   "id": "68534f2a-5b9a-4648-b244-e84dc8f2ddf5",
   "metadata": {},
   "outputs": [],
   "source": []
  },
  {
   "cell_type": "code",
   "execution_count": null,
   "id": "8406035c-dcb6-4e6b-8b61-279da5b40ef3",
   "metadata": {},
   "outputs": [],
   "source": []
  },
  {
   "cell_type": "code",
   "execution_count": null,
   "id": "aec4556e-91e8-453d-86a3-4aea451811f2",
   "metadata": {},
   "outputs": [],
   "source": []
  },
  {
   "cell_type": "code",
   "execution_count": null,
   "id": "2d8ab3b4-bed4-4f54-9caf-7a44177d8285",
   "metadata": {},
   "outputs": [],
   "source": []
  }
 ],
 "metadata": {
  "kernelspec": {
   "display_name": "Python [conda env:base] *",
   "language": "python",
   "name": "conda-base-py"
  },
  "language_info": {
   "codemirror_mode": {
    "name": "ipython",
    "version": 3
   },
   "file_extension": ".py",
   "mimetype": "text/x-python",
   "name": "python",
   "nbconvert_exporter": "python",
   "pygments_lexer": "ipython3",
   "version": "3.12.7"
  }
 },
 "nbformat": 4,
 "nbformat_minor": 5
}
