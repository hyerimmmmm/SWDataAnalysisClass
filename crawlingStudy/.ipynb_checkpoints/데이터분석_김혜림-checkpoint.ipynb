{
 "cells": [
  {
   "cell_type": "markdown",
   "id": "348f4fb7-05d9-4c90-8f86-10ccb9904151",
   "metadata": {},
   "source": [
    "# Q1."
   ]
  },
  {
   "cell_type": "markdown",
   "id": "9d4b0e63-7aed-41de-90d3-406e85bdf988",
   "metadata": {},
   "source": [
    "### 문제 1\n",
    "1. \n",
    "2. 크롤링\n",
    "3. 오픈 API\n",
    "4. 센서수집"
   ]
  },
  {
   "cell_type": "markdown",
   "id": "cf1f3475-edd1-4475-8ddf-0971863ac71f",
   "metadata": {},
   "source": [
    "### 문제 2\n",
    "- 개념: 웹사이트 내 필요한 데이터(텍스트, 속성, 링크)들을 수집하는 기술\n",
    "- 필요성: 사람이 할 수 있는 수준의 수집을 월등히 빠른 속도로 수행가능"
   ]
  },
  {
   "cell_type": "markdown",
   "id": "3a75090a-6972-42b2-a2c4-b70cce21a753",
   "metadata": {
    "jp-MarkdownHeadingCollapsed": true
   },
   "source": [
    "### 문제 3\n",
    "- 받아온 html은 거대한 String 덩어리이기 때문에 파싱이 필요한데, 그것을 진행하는 것이 BeautifulSoup\n",
    "- String을 HTMl로 변환"
   ]
  },
  {
   "cell_type": "markdown",
   "id": "20111db5-6603-4a87-9af0-17bab666dddc",
   "metadata": {},
   "source": [
    "### 문제 4\n",
    "- find_element: 단일 데이터 탐색\n",
    "- find_elements:복수 데이터 탐색"
   ]
  },
  {
   "cell_type": "markdown",
   "id": "52b0c0be-7f2e-49e6-8aeb-6a9e0c9c4dcc",
   "metadata": {},
   "source": [
    "### 문제 5\n",
    "- soup = bs(res.text, \"lxml\")\n",
    "- soup.select(\"div>p:nth-child(2)\")"
   ]
  },
  {
   "cell_type": "code",
   "execution_count": null,
   "id": "b1648aa4-5826-425e-9056-33ee13086f3e",
   "metadata": {},
   "outputs": [],
   "source": []
  },
  {
   "cell_type": "markdown",
   "id": "7ae6f31a-4d21-47fd-9940-d0de3175fdc7",
   "metadata": {},
   "source": [
    "# Q2."
   ]
  },
  {
   "cell_type": "code",
   "execution_count": 23,
   "id": "e1e18062-2339-4d7e-a599-980ccdc1b545",
   "metadata": {},
   "outputs": [],
   "source": [
    "from selenium import webdriver as wb\n",
    "from selenium.webdriver.common.by import By\n",
    "from selenium.webdriver.common.keys import Keys"
   ]
  },
  {
   "cell_type": "code",
   "execution_count": 21,
   "id": "6d79d276-fdcf-42f4-b71a-b405383f3078",
   "metadata": {},
   "outputs": [],
   "source": [
    "driver = wb.Chrome()\n",
    "driver.get(\"https://www.naver.com/\")"
   ]
  },
  {
   "cell_type": "code",
   "execution_count": 25,
   "id": "e6a714bf-231f-439c-9993-c5527ff4ada0",
   "metadata": {},
   "outputs": [],
   "source": [
    "search = driver.find_element(By.ID, \"query\")\n",
    "search.send_keys(\"크롤링\")\n",
    "search.send_keys(Keys.ENTER)"
   ]
  },
  {
   "cell_type": "code",
   "execution_count": null,
   "id": "5c6f6e22-815e-4c9e-a425-801e1fcbf082",
   "metadata": {},
   "outputs": [],
   "source": []
  },
  {
   "cell_type": "markdown",
   "id": "76ef4cea-aa42-41d8-9b98-7f66bc7884c9",
   "metadata": {},
   "source": [
    "# Q3."
   ]
  },
  {
   "cell_type": "code",
   "execution_count": 30,
   "id": "8522ef7a-a89f-4235-bbba-03d8365c116e",
   "metadata": {},
   "outputs": [],
   "source": [
    "import time"
   ]
  },
  {
   "cell_type": "code",
   "execution_count": 137,
   "id": "4212d92f-d074-4ca6-b0fc-4a571c74ca79",
   "metadata": {},
   "outputs": [],
   "source": [
    "driver = wb.Chrome()\n",
    "driver.get(\"https://www.11st.co.kr/browsing/BestSeller.tmall?method=getBestSellerMain&xfrom=main^gnb\")"
   ]
  },
  {
   "cell_type": "code",
   "execution_count": 161,
   "id": "052460ff-b7bb-4ddb-9fc1-137b98d0870b",
   "metadata": {},
   "outputs": [],
   "source": [
    "title_list = []\n",
    "price_list = []\n",
    "review_list = []\n",
    "for i in range(5):\n",
    "    pro = driver.find_elements(By.CSS_SELECTOR, \".viewtype.catal_ty > .cfix > li > div > a\")\n",
    "    time.sleep(2)\n",
    "    pro[i].click()\n",
    "    time.sleep(2)\n",
    "    \n",
    "    title = driver.find_element(By.CSS_SELECTOR, \"h1.title\")\n",
    "    price = driver.find_element(By.CSS_SELECTOR, \".price > strong > .value\")\n",
    "    real_price = price.get_attribute(\"textContent\")\n",
    "    review = driver.find_element(By.CSS_SELECTOR, \"#tabMenuDetail2 > i\")\n",
    "    time.sleep(1)\n",
    "\n",
    "    title_list.append(title.text)\n",
    "    price_list.append(real_price)\n",
    "\n",
    "    real_review = \"\"\n",
    "    for j in review.text:\n",
    "        if j != \"(\" and j != \")\":\n",
    "            real_review += j\n",
    "            \n",
    "    review_list.append(real_review)  \n",
    "        \n",
    "    driver.back()\n",
    "    time.sleep(2)\n"
   ]
  },
  {
   "cell_type": "code",
   "execution_count": 42,
   "id": "b2aad0d1-ed80-44ca-9edb-a4bc76da05d9",
   "metadata": {},
   "outputs": [],
   "source": [
    "import pandas as pd"
   ]
  },
  {
   "cell_type": "code",
   "execution_count": 165,
   "id": "15cff634-6732-4864-8e47-8d0371734ef7",
   "metadata": {},
   "outputs": [
    {
     "data": {
      "text/html": [
       "<div>\n",
       "<style scoped>\n",
       "    .dataframe tbody tr th:only-of-type {\n",
       "        vertical-align: middle;\n",
       "    }\n",
       "\n",
       "    .dataframe tbody tr th {\n",
       "        vertical-align: top;\n",
       "    }\n",
       "\n",
       "    .dataframe thead th {\n",
       "        text-align: right;\n",
       "    }\n",
       "</style>\n",
       "<table border=\"1\" class=\"dataframe\">\n",
       "  <thead>\n",
       "    <tr style=\"text-align: right;\">\n",
       "      <th></th>\n",
       "      <th>상품</th>\n",
       "      <th>가격</th>\n",
       "      <th>리뷰 수</th>\n",
       "    </tr>\n",
       "  </thead>\n",
       "  <tbody>\n",
       "    <tr>\n",
       "      <th>0</th>\n",
       "      <td>[쉐이크쉑][매장POS에서만 주문가능/키오스크불가] Shack 베스트 세트 (쉑버거...</td>\n",
       "      <td>17,100</td>\n",
       "      <td>50</td>\n",
       "    </tr>\n",
       "    <tr>\n",
       "      <th>1</th>\n",
       "      <td>[푸마]여름 유아동 키즈 주니어 상의2종 하의2종 총 4종세트</td>\n",
       "      <td>13,170</td>\n",
       "      <td>0</td>\n",
       "    </tr>\n",
       "    <tr>\n",
       "      <th>2</th>\n",
       "      <td>[11번가 단독] 베베숲 고평량 프리미엄 물티슈 프레쉬 70매 캡 20팩</td>\n",
       "      <td>24,900</td>\n",
       "      <td>980</td>\n",
       "    </tr>\n",
       "    <tr>\n",
       "      <th>3</th>\n",
       "      <td>[내일도착]24년산 전라북도쌀 20kg(혼합, 상등급)</td>\n",
       "      <td>47,900</td>\n",
       "      <td>3,422</td>\n",
       "    </tr>\n",
       "    <tr>\n",
       "      <th>4</th>\n",
       "      <td>[품질보장] 달콤트리 찰토마토 5KG(사이즈 선택:소과,중과,대과)</td>\n",
       "      <td>14,730</td>\n",
       "      <td>9</td>\n",
       "    </tr>\n",
       "  </tbody>\n",
       "</table>\n",
       "</div>"
      ],
      "text/plain": [
       "                                                  상품      가격   리뷰 수\n",
       "0  [쉐이크쉑][매장POS에서만 주문가능/키오스크불가] Shack 베스트 세트 (쉑버거...  17,100     50\n",
       "1                 [푸마]여름 유아동 키즈 주니어 상의2종 하의2종 총 4종세트  13,170      0\n",
       "2           [11번가 단독] 베베숲 고평량 프리미엄 물티슈 프레쉬 70매 캡 20팩  24,900    980\n",
       "3                     [내일도착]24년산 전라북도쌀 20kg(혼합, 상등급)  47,900  3,422\n",
       "4              [품질보장] 달콤트리 찰토마토 5KG(사이즈 선택:소과,중과,대과)  14,730      9"
      ]
     },
     "execution_count": 165,
     "metadata": {},
     "output_type": "execute_result"
    }
   ],
   "source": [
    "dic = {\"상품\": title_list, \"가격\": price_list, \"리뷰 수\": review_list}\n",
    "store = pd.DataFrame(dic)\n",
    "store"
   ]
  },
  {
   "cell_type": "code",
   "execution_count": null,
   "id": "2dd83834-9f92-4e74-a97d-0de5aa8564bb",
   "metadata": {},
   "outputs": [],
   "source": []
  },
  {
   "cell_type": "markdown",
   "id": "9ba545de-b8b0-4897-8497-4a312afd139f",
   "metadata": {},
   "source": [
    "# Q4."
   ]
  },
  {
   "cell_type": "code",
   "execution_count": 54,
   "id": "479e7bc6-ea15-4dbb-b290-b7859ffa4fb5",
   "metadata": {},
   "outputs": [],
   "source": [
    "driver = wb.Chrome()\n",
    "driver.get(\"https://www.melon.com/chart/index.htm\")"
   ]
  },
  {
   "cell_type": "code",
   "execution_count": 96,
   "id": "c150751f-747b-42ef-a6d4-2f32425e21eb",
   "metadata": {},
   "outputs": [],
   "source": [
    "rank_list = []\n",
    "song_list = []\n",
    "singer_list = []\n",
    "like_list = []\n",
    "\n",
    "rank = driver.find_elements(By.CSS_SELECTOR, \"td>.wrap.t_center>.rank\")\n",
    "song = driver.find_elements(By.CSS_SELECTOR, \".ellipsis.rank01>span>a\")\n",
    "singer = driver.find_elements(By.CSS_SELECTOR, \".ellipsis.rank02\")\n",
    "like = driver.find_elements(By.CSS_SELECTOR, \".odd_span+.cnt\")\n",
    "\n",
    "for i in range(len(rank)):\n",
    "    rank_list.append(rank[i].text)\n",
    "    song_list.append(song[i].text)\n",
    "    singer_list.append(singer[i].text)\n",
    "    like_list.append(like[i].text)"
   ]
  },
  {
   "cell_type": "code",
   "execution_count": 128,
   "id": "4331412a-c5fb-4205-9166-b638e85dbc39",
   "metadata": {},
   "outputs": [],
   "source": [
    "dic = {\"순위\": rank_list, \"곡명\": song_list, \"가수\": singer_list, \"좋아요\": like_list}\n",
    "melon = pd.DataFrame(dic)\n",
    "melon.to_csv(\"melon.csv\", encoding='utf-8')"
   ]
  },
  {
   "cell_type": "code",
   "execution_count": 120,
   "id": "02b6bb62-2088-414b-8002-8e49ee6e19f1",
   "metadata": {},
   "outputs": [
    {
     "data": {
      "text/html": [
       "<div>\n",
       "<style scoped>\n",
       "    .dataframe tbody tr th:only-of-type {\n",
       "        vertical-align: middle;\n",
       "    }\n",
       "\n",
       "    .dataframe tbody tr th {\n",
       "        vertical-align: top;\n",
       "    }\n",
       "\n",
       "    .dataframe thead th {\n",
       "        text-align: right;\n",
       "    }\n",
       "</style>\n",
       "<table border=\"1\" class=\"dataframe\">\n",
       "  <thead>\n",
       "    <tr style=\"text-align: right;\">\n",
       "      <th></th>\n",
       "      <th>순위</th>\n",
       "      <th>곡명</th>\n",
       "      <th>가수</th>\n",
       "      <th>좋아요</th>\n",
       "    </tr>\n",
       "  </thead>\n",
       "  <tbody>\n",
       "    <tr>\n",
       "      <th>0</th>\n",
       "      <td>1</td>\n",
       "      <td>TOO BAD (feat. Anderson .Paak)</td>\n",
       "      <td>G-DRAGON</td>\n",
       "      <td>127,937</td>\n",
       "    </tr>\n",
       "    <tr>\n",
       "      <th>1</th>\n",
       "      <td>2</td>\n",
       "      <td>like JENNIE</td>\n",
       "      <td>제니 (JENNIE)</td>\n",
       "      <td>58,187</td>\n",
       "    </tr>\n",
       "    <tr>\n",
       "      <th>2</th>\n",
       "      <td>3</td>\n",
       "      <td>모르시나요(PROD.로코베리)</td>\n",
       "      <td>조째즈</td>\n",
       "      <td>61,138</td>\n",
       "    </tr>\n",
       "    <tr>\n",
       "      <th>3</th>\n",
       "      <td>4</td>\n",
       "      <td>Drowning</td>\n",
       "      <td>WOODZ</td>\n",
       "      <td>171,998</td>\n",
       "    </tr>\n",
       "    <tr>\n",
       "      <th>4</th>\n",
       "      <td>5</td>\n",
       "      <td>HOME SWEET HOME (feat. 태양, 대성)</td>\n",
       "      <td>G-DRAGON</td>\n",
       "      <td>207,205</td>\n",
       "    </tr>\n",
       "    <tr>\n",
       "      <th>...</th>\n",
       "      <td>...</td>\n",
       "      <td>...</td>\n",
       "      <td>...</td>\n",
       "      <td>...</td>\n",
       "    </tr>\n",
       "    <tr>\n",
       "      <th>95</th>\n",
       "      <td>96</td>\n",
       "      <td>earthquake</td>\n",
       "      <td>지수 (JISOO)</td>\n",
       "      <td>27,755</td>\n",
       "    </tr>\n",
       "    <tr>\n",
       "      <th>96</th>\n",
       "      <td>97</td>\n",
       "      <td>보금자리</td>\n",
       "      <td>임영웅</td>\n",
       "      <td>55,067</td>\n",
       "    </tr>\n",
       "    <tr>\n",
       "      <th>97</th>\n",
       "      <td>98</td>\n",
       "      <td>number one girl</td>\n",
       "      <td>로제 (ROSÉ)</td>\n",
       "      <td>55,448</td>\n",
       "    </tr>\n",
       "    <tr>\n",
       "      <th>98</th>\n",
       "      <td>99</td>\n",
       "      <td>Igloo</td>\n",
       "      <td>KISS OF LIFE</td>\n",
       "      <td>43,277</td>\n",
       "    </tr>\n",
       "    <tr>\n",
       "      <th>99</th>\n",
       "      <td>100</td>\n",
       "      <td>To. X</td>\n",
       "      <td>태연 (TAEYEON)</td>\n",
       "      <td>172,192</td>\n",
       "    </tr>\n",
       "  </tbody>\n",
       "</table>\n",
       "<p>100 rows × 4 columns</p>\n",
       "</div>"
      ],
      "text/plain": [
       "     순위                              곡명            가수      좋아요\n",
       "0     1  TOO BAD (feat. Anderson .Paak)      G-DRAGON  127,937\n",
       "1     2                     like JENNIE   제니 (JENNIE)   58,187\n",
       "2     3                모르시나요(PROD.로코베리)           조째즈   61,138\n",
       "3     4                        Drowning         WOODZ  171,998\n",
       "4     5  HOME SWEET HOME (feat. 태양, 대성)      G-DRAGON  207,205\n",
       "..  ...                             ...           ...      ...\n",
       "95   96                      earthquake    지수 (JISOO)   27,755\n",
       "96   97                            보금자리           임영웅   55,067\n",
       "97   98                 number one girl     로제 (ROSÉ)   55,448\n",
       "98   99                           Igloo  KISS OF LIFE   43,277\n",
       "99  100                           To. X  태연 (TAEYEON)  172,192\n",
       "\n",
       "[100 rows x 4 columns]"
      ]
     },
     "execution_count": 120,
     "metadata": {},
     "output_type": "execute_result"
    }
   ],
   "source": [
    "melon"
   ]
  },
  {
   "cell_type": "code",
   "execution_count": null,
   "id": "78c8e2d7-6dc6-4148-865c-ff20a75e1748",
   "metadata": {},
   "outputs": [],
   "source": []
  },
  {
   "cell_type": "code",
   "execution_count": null,
   "id": "5e140d5b-3959-4c6f-8993-cc99a8bd8b41",
   "metadata": {},
   "outputs": [],
   "source": []
  },
  {
   "cell_type": "code",
   "execution_count": null,
   "id": "fafe04cb-3637-4860-88e9-a938724fb7a9",
   "metadata": {},
   "outputs": [],
   "source": []
  },
  {
   "cell_type": "code",
   "execution_count": null,
   "id": "2c9881ce-527e-435d-9381-11bdd4a70c72",
   "metadata": {},
   "outputs": [],
   "source": []
  },
  {
   "cell_type": "code",
   "execution_count": null,
   "id": "4ab62ccf-bcdc-41af-a8de-58bf8c9b46d0",
   "metadata": {},
   "outputs": [],
   "source": []
  }
 ],
 "metadata": {
  "kernelspec": {
   "display_name": "Python [conda env:base] *",
   "language": "python",
   "name": "conda-base-py"
  },
  "language_info": {
   "codemirror_mode": {
    "name": "ipython",
    "version": 3
   },
   "file_extension": ".py",
   "mimetype": "text/x-python",
   "name": "python",
   "nbconvert_exporter": "python",
   "pygments_lexer": "ipython3",
   "version": "3.12.7"
  }
 },
 "nbformat": 4,
 "nbformat_minor": 5
}
