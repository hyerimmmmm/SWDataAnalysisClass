{
 "cells": [
  {
   "cell_type": "code",
   "execution_count": null,
   "id": "b2440846-a3e6-4701-8cfc-c5440861ca83",
   "metadata": {},
   "outputs": [],
   "source": []
  },
  {
   "cell_type": "code",
   "execution_count": 41,
   "id": "dc721c58-102d-43c2-801b-73d51ee93510",
   "metadata": {},
   "outputs": [],
   "source": [
    "from selenium import webdriver as wb\n",
    "from selenium.webdriver.common.keys import Keys\n",
    "from selenium.webdriver.common.by import By\n",
    "\n",
    "import requests as req\n",
    "from bs4 import BeautifulSoup as bs\n",
    "\n",
    "import time"
   ]
  },
  {
   "cell_type": "code",
   "execution_count": null,
   "id": "7e76af17-56a3-4ab4-bd2d-581521b7b947",
   "metadata": {},
   "outputs": [],
   "source": []
  },
  {
   "cell_type": "code",
   "execution_count": 4,
   "id": "bd8a1e61-2364-4c9a-b16a-7023fc58359c",
   "metadata": {},
   "outputs": [],
   "source": [
    "driver = wb.Chrome()"
   ]
  },
  {
   "cell_type": "code",
   "execution_count": 6,
   "id": "03266611-8038-44f1-8d6b-b64e8a2847d9",
   "metadata": {},
   "outputs": [],
   "source": [
    "driver.get(\"https://www.naver.com/\")"
   ]
  },
  {
   "cell_type": "code",
   "execution_count": 67,
   "id": "a8724e8a-1dc4-42e9-b364-674bb9aaa240",
   "metadata": {},
   "outputs": [
    {
     "ename": "InvalidSessionIdException",
     "evalue": "Message: invalid session id\nStacktrace:\n0   chromedriver                        0x000000010348edec cxxbridge1$str$ptr + 2817040\n1   chromedriver                        0x0000000103487088 cxxbridge1$str$ptr + 2784940\n2   chromedriver                        0x0000000102fce74c cxxbridge1$string$len + 92632\n3   chromedriver                        0x0000000103008ec8 cxxbridge1$string$len + 332116\n4   chromedriver                        0x000000010303129c cxxbridge1$string$len + 496936\n5   chromedriver                        0x00000001030305a4 cxxbridge1$string$len + 493616\n6   chromedriver                        0x0000000102f9e9d4 chromedriver + 92628\n7   chromedriver                        0x0000000103453c74 cxxbridge1$str$ptr + 2575000\n8   chromedriver                        0x0000000103456f40 cxxbridge1$str$ptr + 2588004\n9   chromedriver                        0x00000001034339fc cxxbridge1$str$ptr + 2443296\n10  chromedriver                        0x00000001034577bc cxxbridge1$str$ptr + 2590176\n11  chromedriver                        0x0000000103424af0 cxxbridge1$str$ptr + 2382100\n12  chromedriver                        0x0000000102f9cc68 chromedriver + 85096\n13  dyld                                0x000000018249c274 start + 2840\n",
     "output_type": "error",
     "traceback": [
      "\u001b[0;31m---------------------------------------------------------------------------\u001b[0m",
      "\u001b[0;31mInvalidSessionIdException\u001b[0m                 Traceback (most recent call last)",
      "Cell \u001b[0;32mIn[67], line 1\u001b[0m\n\u001b[0;32m----> 1\u001b[0m search \u001b[38;5;241m=\u001b[39m driver\u001b[38;5;241m.\u001b[39mfind_element(By\u001b[38;5;241m.\u001b[39mID, \u001b[38;5;124m\"\u001b[39m\u001b[38;5;124mquery\u001b[39m\u001b[38;5;124m\"\u001b[39m)\n",
      "File \u001b[0;32m/opt/anaconda3/lib/python3.12/site-packages/selenium/webdriver/remote/webdriver.py:898\u001b[0m, in \u001b[0;36mWebDriver.find_element\u001b[0;34m(self, by, value)\u001b[0m\n\u001b[1;32m    895\u001b[0m         \u001b[38;5;28;01mraise\u001b[39;00m NoSuchElementException(\u001b[38;5;124mf\u001b[39m\u001b[38;5;124m\"\u001b[39m\u001b[38;5;124mCannot locate relative element with: \u001b[39m\u001b[38;5;132;01m{\u001b[39;00mby\u001b[38;5;241m.\u001b[39mroot\u001b[38;5;132;01m}\u001b[39;00m\u001b[38;5;124m\"\u001b[39m)\n\u001b[1;32m    896\u001b[0m     \u001b[38;5;28;01mreturn\u001b[39;00m elements[\u001b[38;5;241m0\u001b[39m]\n\u001b[0;32m--> 898\u001b[0m \u001b[38;5;28;01mreturn\u001b[39;00m \u001b[38;5;28mself\u001b[39m\u001b[38;5;241m.\u001b[39mexecute(Command\u001b[38;5;241m.\u001b[39mFIND_ELEMENT, {\u001b[38;5;124m\"\u001b[39m\u001b[38;5;124musing\u001b[39m\u001b[38;5;124m\"\u001b[39m: by, \u001b[38;5;124m\"\u001b[39m\u001b[38;5;124mvalue\u001b[39m\u001b[38;5;124m\"\u001b[39m: value})[\u001b[38;5;124m\"\u001b[39m\u001b[38;5;124mvalue\u001b[39m\u001b[38;5;124m\"\u001b[39m]\n",
      "File \u001b[0;32m/opt/anaconda3/lib/python3.12/site-packages/selenium/webdriver/remote/webdriver.py:429\u001b[0m, in \u001b[0;36mWebDriver.execute\u001b[0;34m(self, driver_command, params)\u001b[0m\n\u001b[1;32m    427\u001b[0m response \u001b[38;5;241m=\u001b[39m \u001b[38;5;28mself\u001b[39m\u001b[38;5;241m.\u001b[39mcommand_executor\u001b[38;5;241m.\u001b[39mexecute(driver_command, params)\n\u001b[1;32m    428\u001b[0m \u001b[38;5;28;01mif\u001b[39;00m response:\n\u001b[0;32m--> 429\u001b[0m     \u001b[38;5;28mself\u001b[39m\u001b[38;5;241m.\u001b[39merror_handler\u001b[38;5;241m.\u001b[39mcheck_response(response)\n\u001b[1;32m    430\u001b[0m     response[\u001b[38;5;124m\"\u001b[39m\u001b[38;5;124mvalue\u001b[39m\u001b[38;5;124m\"\u001b[39m] \u001b[38;5;241m=\u001b[39m \u001b[38;5;28mself\u001b[39m\u001b[38;5;241m.\u001b[39m_unwrap_value(response\u001b[38;5;241m.\u001b[39mget(\u001b[38;5;124m\"\u001b[39m\u001b[38;5;124mvalue\u001b[39m\u001b[38;5;124m\"\u001b[39m, \u001b[38;5;28;01mNone\u001b[39;00m))\n\u001b[1;32m    431\u001b[0m     \u001b[38;5;28;01mreturn\u001b[39;00m response\n",
      "File \u001b[0;32m/opt/anaconda3/lib/python3.12/site-packages/selenium/webdriver/remote/errorhandler.py:232\u001b[0m, in \u001b[0;36mErrorHandler.check_response\u001b[0;34m(self, response)\u001b[0m\n\u001b[1;32m    230\u001b[0m         alert_text \u001b[38;5;241m=\u001b[39m value[\u001b[38;5;124m\"\u001b[39m\u001b[38;5;124malert\u001b[39m\u001b[38;5;124m\"\u001b[39m]\u001b[38;5;241m.\u001b[39mget(\u001b[38;5;124m\"\u001b[39m\u001b[38;5;124mtext\u001b[39m\u001b[38;5;124m\"\u001b[39m)\n\u001b[1;32m    231\u001b[0m     \u001b[38;5;28;01mraise\u001b[39;00m exception_class(message, screen, stacktrace, alert_text)  \u001b[38;5;66;03m# type: ignore[call-arg]  # mypy is not smart enough here\u001b[39;00m\n\u001b[0;32m--> 232\u001b[0m \u001b[38;5;28;01mraise\u001b[39;00m exception_class(message, screen, stacktrace)\n",
      "\u001b[0;31mInvalidSessionIdException\u001b[0m: Message: invalid session id\nStacktrace:\n0   chromedriver                        0x000000010348edec cxxbridge1$str$ptr + 2817040\n1   chromedriver                        0x0000000103487088 cxxbridge1$str$ptr + 2784940\n2   chromedriver                        0x0000000102fce74c cxxbridge1$string$len + 92632\n3   chromedriver                        0x0000000103008ec8 cxxbridge1$string$len + 332116\n4   chromedriver                        0x000000010303129c cxxbridge1$string$len + 496936\n5   chromedriver                        0x00000001030305a4 cxxbridge1$string$len + 493616\n6   chromedriver                        0x0000000102f9e9d4 chromedriver + 92628\n7   chromedriver                        0x0000000103453c74 cxxbridge1$str$ptr + 2575000\n8   chromedriver                        0x0000000103456f40 cxxbridge1$str$ptr + 2588004\n9   chromedriver                        0x00000001034339fc cxxbridge1$str$ptr + 2443296\n10  chromedriver                        0x00000001034577bc cxxbridge1$str$ptr + 2590176\n11  chromedriver                        0x0000000103424af0 cxxbridge1$str$ptr + 2382100\n12  chromedriver                        0x0000000102f9cc68 chromedriver + 85096\n13  dyld                                0x000000018249c274 start + 2840\n"
     ]
    }
   ],
   "source": [
    "search = driver.find_element(By.ID, \"query\")\n",
    "# CSS 선택자로 선택하기\n",
    "# search = driver.find_element(By.CSS_SELECTOR, \"#query\")"
   ]
  },
  {
   "cell_type": "code",
   "execution_count": 12,
   "id": "9ff40a42-ede4-4dd3-87f9-236376415150",
   "metadata": {},
   "outputs": [],
   "source": [
    "search.send_keys(\"롯데월드\")"
   ]
  },
  {
   "cell_type": "code",
   "execution_count": 14,
   "id": "428e3a54-0384-480f-9f14-2cc88ede33af",
   "metadata": {},
   "outputs": [],
   "source": [
    "search.send_keys(Keys.ENTER)"
   ]
  },
  {
   "cell_type": "code",
   "execution_count": 20,
   "id": "d9bd2797-523f-4008-855d-924b40287ad6",
   "metadata": {},
   "outputs": [],
   "source": [
    "# 뉴스 탭 클릭해보기\n",
    "# 특정 요소를 선택할 때, 개발자 도구에서 태그 우클릭 > copy > copy selector 누르면\n",
    "# 그 요소의 고유 선택다를 가져올 수 있는데, 복사한 전체를 사용해야 할지, 아니면 뒷부분만 사용해도 될지는 알아서 판단\n",
    "tab = driver.find_element(By.CSS_SELECTOR, \"#lnb > div.lnb_group > div > div.lnb_nav_area._nav_area_root > div > div.api_flicking_wrap._conveyer_root > div:nth-child(8) > a\")\n",
    "tab.click()"
   ]
  },
  {
   "cell_type": "code",
   "execution_count": 51,
   "id": "a4bd62ae-d265-44d7-8695-7b2cad794d8e",
   "metadata": {},
   "outputs": [],
   "source": [
    "body = driver.find_element(By.TAG_NAME, \"body\")\n",
    "for i in range(5):\n",
    "    body.send_keys(Keys.END)\n",
    "    time.sleep(1)"
   ]
  },
  {
   "cell_type": "code",
   "execution_count": 65,
   "id": "1c9ba8e4-7b6d-4a1d-be58-d2887068ddc0",
   "metadata": {},
   "outputs": [
    {
     "ename": "InvalidSessionIdException",
     "evalue": "Message: invalid session id\nStacktrace:\n0   chromedriver                        0x000000010348edec cxxbridge1$str$ptr + 2817040\n1   chromedriver                        0x0000000103487088 cxxbridge1$str$ptr + 2784940\n2   chromedriver                        0x0000000102fce74c cxxbridge1$string$len + 92632\n3   chromedriver                        0x0000000103008ec8 cxxbridge1$string$len + 332116\n4   chromedriver                        0x000000010303129c cxxbridge1$string$len + 496936\n5   chromedriver                        0x00000001030305a4 cxxbridge1$string$len + 493616\n6   chromedriver                        0x0000000102f9e9d4 chromedriver + 92628\n7   chromedriver                        0x0000000103453c74 cxxbridge1$str$ptr + 2575000\n8   chromedriver                        0x0000000103456f40 cxxbridge1$str$ptr + 2588004\n9   chromedriver                        0x00000001034339fc cxxbridge1$str$ptr + 2443296\n10  chromedriver                        0x00000001034577bc cxxbridge1$str$ptr + 2590176\n11  chromedriver                        0x0000000103424af0 cxxbridge1$str$ptr + 2382100\n12  chromedriver                        0x0000000102f9cc68 chromedriver + 85096\n13  dyld                                0x000000018249c274 start + 2840\n",
     "output_type": "error",
     "traceback": [
      "\u001b[0;31m---------------------------------------------------------------------------\u001b[0m",
      "\u001b[0;31mInvalidSessionIdException\u001b[0m                 Traceback (most recent call last)",
      "Cell \u001b[0;32mIn[65], line 2\u001b[0m\n\u001b[1;32m      1\u001b[0m \u001b[38;5;66;03m# 뉴스 타이틀 수집\u001b[39;00m\n\u001b[0;32m----> 2\u001b[0m news \u001b[38;5;241m=\u001b[39m driver\u001b[38;5;241m.\u001b[39mfind_elements(By\u001b[38;5;241m.\u001b[39mCSS_SELECTOR, \u001b[38;5;124m\"\u001b[39m\u001b[38;5;124ma.news_tit\u001b[39m\u001b[38;5;124m\"\u001b[39m)\n",
      "File \u001b[0;32m/opt/anaconda3/lib/python3.12/site-packages/selenium/webdriver/remote/webdriver.py:936\u001b[0m, in \u001b[0;36mWebDriver.find_elements\u001b[0;34m(self, by, value)\u001b[0m\n\u001b[1;32m    932\u001b[0m     \u001b[38;5;28;01mreturn\u001b[39;00m \u001b[38;5;28mself\u001b[39m\u001b[38;5;241m.\u001b[39mexecute_script(find_element_js, by\u001b[38;5;241m.\u001b[39mto_dict())\n\u001b[1;32m    934\u001b[0m \u001b[38;5;66;03m# Return empty list if driver returns null\u001b[39;00m\n\u001b[1;32m    935\u001b[0m \u001b[38;5;66;03m# See https://github.com/SeleniumHQ/selenium/issues/4555\u001b[39;00m\n\u001b[0;32m--> 936\u001b[0m \u001b[38;5;28;01mreturn\u001b[39;00m \u001b[38;5;28mself\u001b[39m\u001b[38;5;241m.\u001b[39mexecute(Command\u001b[38;5;241m.\u001b[39mFIND_ELEMENTS, {\u001b[38;5;124m\"\u001b[39m\u001b[38;5;124musing\u001b[39m\u001b[38;5;124m\"\u001b[39m: by, \u001b[38;5;124m\"\u001b[39m\u001b[38;5;124mvalue\u001b[39m\u001b[38;5;124m\"\u001b[39m: value})[\u001b[38;5;124m\"\u001b[39m\u001b[38;5;124mvalue\u001b[39m\u001b[38;5;124m\"\u001b[39m] \u001b[38;5;129;01mor\u001b[39;00m []\n",
      "File \u001b[0;32m/opt/anaconda3/lib/python3.12/site-packages/selenium/webdriver/remote/webdriver.py:429\u001b[0m, in \u001b[0;36mWebDriver.execute\u001b[0;34m(self, driver_command, params)\u001b[0m\n\u001b[1;32m    427\u001b[0m response \u001b[38;5;241m=\u001b[39m \u001b[38;5;28mself\u001b[39m\u001b[38;5;241m.\u001b[39mcommand_executor\u001b[38;5;241m.\u001b[39mexecute(driver_command, params)\n\u001b[1;32m    428\u001b[0m \u001b[38;5;28;01mif\u001b[39;00m response:\n\u001b[0;32m--> 429\u001b[0m     \u001b[38;5;28mself\u001b[39m\u001b[38;5;241m.\u001b[39merror_handler\u001b[38;5;241m.\u001b[39mcheck_response(response)\n\u001b[1;32m    430\u001b[0m     response[\u001b[38;5;124m\"\u001b[39m\u001b[38;5;124mvalue\u001b[39m\u001b[38;5;124m\"\u001b[39m] \u001b[38;5;241m=\u001b[39m \u001b[38;5;28mself\u001b[39m\u001b[38;5;241m.\u001b[39m_unwrap_value(response\u001b[38;5;241m.\u001b[39mget(\u001b[38;5;124m\"\u001b[39m\u001b[38;5;124mvalue\u001b[39m\u001b[38;5;124m\"\u001b[39m, \u001b[38;5;28;01mNone\u001b[39;00m))\n\u001b[1;32m    431\u001b[0m     \u001b[38;5;28;01mreturn\u001b[39;00m response\n",
      "File \u001b[0;32m/opt/anaconda3/lib/python3.12/site-packages/selenium/webdriver/remote/errorhandler.py:232\u001b[0m, in \u001b[0;36mErrorHandler.check_response\u001b[0;34m(self, response)\u001b[0m\n\u001b[1;32m    230\u001b[0m         alert_text \u001b[38;5;241m=\u001b[39m value[\u001b[38;5;124m\"\u001b[39m\u001b[38;5;124malert\u001b[39m\u001b[38;5;124m\"\u001b[39m]\u001b[38;5;241m.\u001b[39mget(\u001b[38;5;124m\"\u001b[39m\u001b[38;5;124mtext\u001b[39m\u001b[38;5;124m\"\u001b[39m)\n\u001b[1;32m    231\u001b[0m     \u001b[38;5;28;01mraise\u001b[39;00m exception_class(message, screen, stacktrace, alert_text)  \u001b[38;5;66;03m# type: ignore[call-arg]  # mypy is not smart enough here\u001b[39;00m\n\u001b[0;32m--> 232\u001b[0m \u001b[38;5;28;01mraise\u001b[39;00m exception_class(message, screen, stacktrace)\n",
      "\u001b[0;31mInvalidSessionIdException\u001b[0m: Message: invalid session id\nStacktrace:\n0   chromedriver                        0x000000010348edec cxxbridge1$str$ptr + 2817040\n1   chromedriver                        0x0000000103487088 cxxbridge1$str$ptr + 2784940\n2   chromedriver                        0x0000000102fce74c cxxbridge1$string$len + 92632\n3   chromedriver                        0x0000000103008ec8 cxxbridge1$string$len + 332116\n4   chromedriver                        0x000000010303129c cxxbridge1$string$len + 496936\n5   chromedriver                        0x00000001030305a4 cxxbridge1$string$len + 493616\n6   chromedriver                        0x0000000102f9e9d4 chromedriver + 92628\n7   chromedriver                        0x0000000103453c74 cxxbridge1$str$ptr + 2575000\n8   chromedriver                        0x0000000103456f40 cxxbridge1$str$ptr + 2588004\n9   chromedriver                        0x00000001034339fc cxxbridge1$str$ptr + 2443296\n10  chromedriver                        0x00000001034577bc cxxbridge1$str$ptr + 2590176\n11  chromedriver                        0x0000000103424af0 cxxbridge1$str$ptr + 2382100\n12  chromedriver                        0x0000000102f9cc68 chromedriver + 85096\n13  dyld                                0x000000018249c274 start + 2840\n"
     ]
    }
   ],
   "source": [
    "# 뉴스 타이틀 수집\n",
    "news = driver.find_elements(By.CSS_SELECTOR, \"a.news_tit\")"
   ]
  },
  {
   "cell_type": "code",
   "execution_count": 61,
   "id": "e28e6592-82a2-45d2-932f-61d281009638",
   "metadata": {},
   "outputs": [
    {
     "data": {
      "text/plain": [
       "40"
      ]
     },
     "execution_count": 61,
     "metadata": {},
     "output_type": "execute_result"
    }
   ],
   "source": [
    "len(news)"
   ]
  },
  {
   "cell_type": "code",
   "execution_count": 57,
   "id": "93b3b6fc-28c2-48fe-8739-ef9b3bcafdac",
   "metadata": {},
   "outputs": [],
   "source": [
    "news_list = []\n",
    "for i in news:\n",
    "    news_list.append(i.text)"
   ]
  },
  {
   "cell_type": "code",
   "execution_count": 59,
   "id": "4a7fe1ea-919b-4503-88f4-a2073c354d50",
   "metadata": {},
   "outputs": [
    {
     "data": {
      "text/plain": [
       "['롯데월드에서 만나는 bhc 콜팝의 이야기…산호세점 정식 오픈',\n",
       " \"롯데월드 아쿠아리움, '보노보노 친구들과 아쿠아리움 나들이' 진행\",\n",
       " '“아들아 좋아? 아빠도 좋아”...초대박 행진에 발 디딜 틈 없다는 롯데...',\n",
       " '롯데월드, ‘포켓몬’ 효과에 3월 매출 10% 늘어',\n",
       " '\"롯데월드타워 정상까지 도전\"… 롯데, \\'패밀리 스카이런\\' 개최',\n",
       " \"bhc, 롯데월드에 '콜팝' 테마 체험형 매장 오픈... 브랜드 공간 혁신 시...\",\n",
       " 'SL&C, 롯데월드몰·현대百 판교점에 ‘이타마에 스시’ 동시 오픈',\n",
       " '\"귀여움 폭발\"…보노보노, 롯데월드 아쿠아리움에 떴다',\n",
       " '이타마에 스시, 롯데월드몰·현대백화점 판교점 오픈',\n",
       " '\"아기 해달, 잠실에 뜬다\" 롯데월드 아쿠아리움x보노보노',\n",
       " '롯데월드타워 4배 높이…사우디, 2㎞ 마천루 건설 계획',\n",
       " '롯데월드 샤롯데 봉사단 나무 심기 봉사',\n",
       " '‘찰떡 컬래버’ 롯데월드 아쿠아리움에서 만나는 보노보노 세상',\n",
       " '“롯데월드타워 123층 오르기 도전”',\n",
       " \"롯데그룹 노사 함께 '롯데월드타워' 오른다\",\n",
       " \"'1천만 러너의 성지' 롯데 잠실월드몰에 '디스턴스' 팝업\",\n",
       " '롯데월드 어드벤처와 즐기는 벚꽃놀이',\n",
       " '화순군청소년수련관, 롯데월드 문화체험',\n",
       " \"bhc, 콜팝 담은 브랜드 매장 'bhc pop' 롯데월드서 첫 선\",\n",
       " \"롯데월드 아쿠아리움, '보노보노 친구들과 아쿠아리움 나들이' 진행\",\n",
       " \"롯데월드타워, 석촌호수 벚꽃축제 속 '스프링 인 잠실' 펼친다\",\n",
       " \"롯데월드, 베트남 하노이에 실내 놀이공원 연다…'K-레저 직진출'\",\n",
       " '천정명, 이세령 아나운서와 롯데월드 데이트(이젠 사랑할 수 있을까)',\n",
       " '롯데월드 석촌호수 나무심기 ‘도심 숲 조성’ 캠페인',\n",
       " '롯데월드 “도심 속 숲 조성해요”… 나무 심으며 탄소중립 실천',\n",
       " '롯데월드, 롯데자이언츠 팬 대상 5개 사업장 할인 프로모션',\n",
       " 'bhc, 롯데월드산호세점 리뉴얼…콜팝 전용 매장 들어선다',\n",
       " '영산대, 외국인 유학생 롯데월드서 봄맞이 네트워킹 행사',\n",
       " '영산대, 외국인 유학생 롯데월드서 봄맞이 네트워킹 행사',\n",
       " '롯데월드타워, 봄꽃 정원에 포토존 조성…밤에는 벚꽂 산책로',\n",
       " \"[게시판] 코오롱모터스, 13일까지 롯데월드몰서 'BMW 아이코닉 라운지'\",\n",
       " '[영상] 롯데월드몰 등장한 NCT 마크, 직접 조리에 맛보기',\n",
       " '[Daily New유통] 놀유니버스, 롯데월드타워, 오뚜기함태호재단 外',\n",
       " '\"벚꽃 보러 롯데월드타워 어떠세요?\"',\n",
       " '사르투, 4월 18일부터 롯데월드몰 잠실점 팝업스토어 운영',\n",
       " '\"잠실롯데월드 123층 정상까지 달린다\"...19일 \\'롯데 패밀리 스카이런\\'',\n",
       " '네파키즈, 롯데월드와 함께한 콜라보 상품 공개',\n",
       " '티니핑으로 물든 롯데월드 부산, 봄 축제 팡파르',\n",
       " '\"탄소중립 실천\"…롯데월드, 식목일 맞이 \\'도심 숲 조성\\' 캠페인 진행',\n",
       " '\"핑크빛으로 물든 잠실\"...롯데월드타워, \\'2025 스프링 인 잠실\\' 행사 진...']"
      ]
     },
     "execution_count": 59,
     "metadata": {},
     "output_type": "execute_result"
    }
   ],
   "source": [
    "news_list"
   ]
  },
  {
   "cell_type": "code",
   "execution_count": null,
   "id": "ae3b56e8-4a03-4bd4-a0f7-849db8e3a693",
   "metadata": {},
   "outputs": [],
   "source": []
  },
  {
   "cell_type": "code",
   "execution_count": null,
   "id": "4d225842-4a97-4d38-be2f-63c58586d03c",
   "metadata": {},
   "outputs": [],
   "source": []
  },
  {
   "cell_type": "code",
   "execution_count": null,
   "id": "78433aeb-169f-4ef6-9b65-f67f4848a782",
   "metadata": {},
   "outputs": [],
   "source": []
  }
 ],
 "metadata": {
  "kernelspec": {
   "display_name": "Python [conda env:base] *",
   "language": "python",
   "name": "conda-base-py"
  },
  "language_info": {
   "codemirror_mode": {
    "name": "ipython",
    "version": 3
   },
   "file_extension": ".py",
   "mimetype": "text/x-python",
   "name": "python",
   "nbconvert_exporter": "python",
   "pygments_lexer": "ipython3",
   "version": "3.12.7"
  }
 },
 "nbformat": 4,
 "nbformat_minor": 5
}
