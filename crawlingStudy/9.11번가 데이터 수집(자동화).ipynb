{
 "cells": [
  {
   "cell_type": "code",
   "execution_count": 18,
   "id": "b2099ba4-ac55-4a24-b5e2-c43f3e5167c9",
   "metadata": {
    "scrolled": true
   },
   "outputs": [
    {
     "name": "stdout",
     "output_type": "stream",
     "text": [
      "Requirement already satisfied: undetected-chromedriver in /opt/anaconda3/lib/python3.12/site-packages (3.5.5)\n",
      "Requirement already satisfied: selenium>=4.9.0 in /opt/anaconda3/lib/python3.12/site-packages (from undetected-chromedriver) (4.31.0)\n",
      "Requirement already satisfied: requests in /opt/anaconda3/lib/python3.12/site-packages (from undetected-chromedriver) (2.32.3)\n",
      "Requirement already satisfied: websockets in /opt/anaconda3/lib/python3.12/site-packages (from undetected-chromedriver) (15.0.1)\n",
      "Requirement already satisfied: urllib3<3,>=1.26 in /opt/anaconda3/lib/python3.12/site-packages (from urllib3[socks]<3,>=1.26->selenium>=4.9.0->undetected-chromedriver) (2.2.3)\n",
      "Requirement already satisfied: trio~=0.17 in /opt/anaconda3/lib/python3.12/site-packages (from selenium>=4.9.0->undetected-chromedriver) (0.29.0)\n",
      "Requirement already satisfied: trio-websocket~=0.9 in /opt/anaconda3/lib/python3.12/site-packages (from selenium>=4.9.0->undetected-chromedriver) (0.12.2)\n",
      "Requirement already satisfied: certifi>=2021.10.8 in /opt/anaconda3/lib/python3.12/site-packages (from selenium>=4.9.0->undetected-chromedriver) (2025.1.31)\n",
      "Requirement already satisfied: typing_extensions~=4.9 in /opt/anaconda3/lib/python3.12/site-packages (from selenium>=4.9.0->undetected-chromedriver) (4.11.0)\n",
      "Requirement already satisfied: websocket-client~=1.8 in /opt/anaconda3/lib/python3.12/site-packages (from selenium>=4.9.0->undetected-chromedriver) (1.8.0)\n",
      "Requirement already satisfied: charset-normalizer<4,>=2 in /opt/anaconda3/lib/python3.12/site-packages (from requests->undetected-chromedriver) (3.3.2)\n",
      "Requirement already satisfied: idna<4,>=2.5 in /opt/anaconda3/lib/python3.12/site-packages (from requests->undetected-chromedriver) (3.7)\n",
      "Requirement already satisfied: attrs>=23.2.0 in /opt/anaconda3/lib/python3.12/site-packages (from trio~=0.17->selenium>=4.9.0->undetected-chromedriver) (25.3.0)\n",
      "Requirement already satisfied: sortedcontainers in /opt/anaconda3/lib/python3.12/site-packages (from trio~=0.17->selenium>=4.9.0->undetected-chromedriver) (2.4.0)\n",
      "Requirement already satisfied: outcome in /opt/anaconda3/lib/python3.12/site-packages (from trio~=0.17->selenium>=4.9.0->undetected-chromedriver) (1.3.0.post0)\n",
      "Requirement already satisfied: sniffio>=1.3.0 in /opt/anaconda3/lib/python3.12/site-packages (from trio~=0.17->selenium>=4.9.0->undetected-chromedriver) (1.3.0)\n",
      "Requirement already satisfied: wsproto>=0.14 in /opt/anaconda3/lib/python3.12/site-packages (from trio-websocket~=0.9->selenium>=4.9.0->undetected-chromedriver) (1.2.0)\n",
      "Requirement already satisfied: pysocks!=1.5.7,<2.0,>=1.5.6 in /opt/anaconda3/lib/python3.12/site-packages (from urllib3[socks]<3,>=1.26->selenium>=4.9.0->undetected-chromedriver) (1.7.1)\n",
      "Requirement already satisfied: h11<1,>=0.9.0 in /opt/anaconda3/lib/python3.12/site-packages (from wsproto>=0.14->trio-websocket~=0.9->selenium>=4.9.0->undetected-chromedriver) (0.14.0)\n",
      "Note: you may need to restart the kernel to use updated packages.\n"
     ]
    }
   ],
   "source": [
    "# 봇 아닌척하기 위한 설치 파일\n",
    "pip install undetected-chromedriver"
   ]
  },
  {
   "cell_type": "code",
   "execution_count": 8,
   "id": "0dac7f22-69bd-493e-9064-84ca27c841b7",
   "metadata": {},
   "outputs": [],
   "source": [
    "from selenium import webdriver as wb\n",
    "from selenium.webdriver.common.by import By\n",
    "\n",
    "import time"
   ]
  },
  {
   "cell_type": "code",
   "execution_count": 95,
   "id": "d139799c-942f-4b91-8f4a-cf1e1cb52d16",
   "metadata": {},
   "outputs": [],
   "source": [
    "driver = wb.Chrome()\n",
    "driver.get(\"https://www.11st.co.kr/browsing/BestSeller.tmall?method=getBestSellerMain&xfrom=main^gnb\")"
   ]
  },
  {
   "cell_type": "code",
   "execution_count": 67,
   "id": "2c2bcf5b-7c87-450a-90a7-8c151eef8827",
   "metadata": {},
   "outputs": [
    {
     "data": {
      "text/plain": [
       "69"
      ]
     },
     "execution_count": 67,
     "metadata": {},
     "output_type": "execute_result"
    }
   ],
   "source": [
    "# 첫번째 상품을 클릭해서 들어가기\n",
    "pro = driver.find_elements(By.CSS_SELECTOR, \".viewtype.catal_ty > .cfix > li > div > a\")  \n",
    "len(pro)"
   ]
  },
  {
   "cell_type": "code",
   "execution_count": 18,
   "id": "c4f58844-eb5d-43d4-8c89-77a36d20a860",
   "metadata": {},
   "outputs": [
    {
     "name": "stdout",
     "output_type": "stream",
     "text": [
      "[쉐이크쉑][매장POS에서만 주문가능/키오스크불가] Shack 베스트 세트 (쉑버거2개+프렌치프라이+콜라2개)\n",
      "17,100\n"
     ]
    }
   ],
   "source": [
    "# 상품명, 상품 가격 수집\n",
    "title = driver.find_element(By.CSS_SELECTOR, \"h1.title\")\n",
    "price = driver.find_element(By.CSS_SELECTOR, \".price > strong > .value\")\n",
    "print(title.text)\n",
    "print(price.text)"
   ]
  },
  {
   "cell_type": "code",
   "execution_count": 20,
   "id": "a9ef2a92-6d9d-4157-84ca-4fb5bb646455",
   "metadata": {},
   "outputs": [],
   "source": [
    "# 페이지 뒤로가기\n",
    "driver.back()"
   ]
  },
  {
   "cell_type": "code",
   "execution_count": 105,
   "id": "31e3c4dd-53f6-4700-a8d6-440450379b9d",
   "metadata": {},
   "outputs": [
    {
     "name": "stdout",
     "output_type": "stream",
     "text": [
      "['[쉐이크쉑][매장POS에서만 주문가능/키오스크불가] Shack 베스트 세트 (쉑버거2개+프렌치프라이+콜라2개)', '[폴햄키즈 외] 봄&여름 아이템 20%즉할 티셔츠/니트/셔츠/바지 외 100종', '성주참외 못난이 랜덤과 1kg 꿀참외 당일수확', '[5%페이] 내셔널지오그래픽 봄&여름 BEST 모음전 운동화/캐주얼가방/모자', 'BHC 뿌링클+콜라1.25L', '[품질보장] 100년기업 세콰이어 네이블 오렌지 (중과 3kg내외)', '[품질보장] 달콤트리 찰토마토 5KG(사이즈 선택:소과,중과,대과)', '[더미식] 당진쌀로 만든 당진 백미밥 200g 24개', '마니커에프앤지 바사삭치킨 고추순살 300g(3봉)', '홍대쭈꾸미 300g 4팩 한국인 입맛 맞춤 수제양념 쭈꾸미볶음', '[품질보장] 100년기업 세콰이어 네이블 오렌지 (중소과 3.5kg내외)', '[내일도착]24년산 전라북도쌀 20kg(혼합, 상등급)', '[베리메이] *대방출* 클리어런스/봄/여름/반팔/반바지/봄마감가/상하복/원피스/티셔츠/팬츠/레깅스/치렝스/아동복/유아동/등교룩/여아110/남아110/6세남아/6세여아 外', '[3개] 리르 리얼 타투 펜 아이라이너 / 룩스 리퀴드 아이라이너', '[11번가 단독] 베베숲 고평량 프리미엄 물티슈 프레쉬 70매 캡 20팩']\n",
      "['17,100', '7,920', '8,280', '23,400', '19,200', '14,270', '14,730', '23,500', '17,370', '22,010', '13,290', '47,900', '7,830', '9,810', '24,900']\n"
     ]
    }
   ],
   "source": [
    "# 위의 내용을 반복문으로 시키기\n",
    "title_list = []\n",
    "price_list = []\n",
    "pro = driver.find_elements(By.CSS_SELECTOR, \".viewtype.catal_ty > .cfix > li > div > a\")\n",
    "for i in range(15):\n",
    "    pro = driver.find_elements(By.CSS_SELECTOR, \".viewtype.catal_ty > .cfix > li > div > a\")\n",
    "    time.sleep(2)\n",
    "    pro[i].click()\n",
    "    time.sleep(2)\n",
    "    title_list.append(driver.find_element(By.CSS_SELECTOR, \"h1.title\").text)\n",
    "    \n",
    "    price = driver.find_element(By.CSS_SELECTOR, \".price > strong > .value\")\n",
    "    real_price = price.get_attribute(\"textContent\")\n",
    "    price_list.append(real_price)\n",
    "    \n",
    "    time.sleep(2)\n",
    "    driver.back()\n",
    "    time.sleep(2)\n",
    "\n",
    "print(title_list)\n",
    "print(price_list)"
   ]
  },
  {
   "cell_type": "code",
   "execution_count": 71,
   "id": "b3c11cf8-a297-4f24-b9e3-ad8a5155d657",
   "metadata": {},
   "outputs": [
    {
     "name": "stdout",
     "output_type": "stream",
     "text": [
      "75\n",
      "75\n",
      "529\n"
     ]
    }
   ],
   "source": [
    "print(len(title_list))\n",
    "print(len(price_list))\n",
    "print(len(pro))"
   ]
  },
  {
   "cell_type": "code",
   "execution_count": 81,
   "id": "2b00477e-5069-4a32-b618-a0a1ebddbee9",
   "metadata": {},
   "outputs": [],
   "source": [
    "import pandas as pd"
   ]
  },
  {
   "cell_type": "code",
   "execution_count": 85,
   "id": "d4155609-55cd-4349-80b6-44db99d9237a",
   "metadata": {},
   "outputs": [
    {
     "data": {
      "text/html": [
       "<div>\n",
       "<style scoped>\n",
       "    .dataframe tbody tr th:only-of-type {\n",
       "        vertical-align: middle;\n",
       "    }\n",
       "\n",
       "    .dataframe tbody tr th {\n",
       "        vertical-align: top;\n",
       "    }\n",
       "\n",
       "    .dataframe thead th {\n",
       "        text-align: right;\n",
       "    }\n",
       "</style>\n",
       "<table border=\"1\" class=\"dataframe\">\n",
       "  <thead>\n",
       "    <tr style=\"text-align: right;\">\n",
       "      <th></th>\n",
       "      <th>상품</th>\n",
       "      <th>가격</th>\n",
       "    </tr>\n",
       "  </thead>\n",
       "  <tbody>\n",
       "    <tr>\n",
       "      <th>0</th>\n",
       "      <td>[쉐이크쉑][매장POS에서만 주문가능/키오스크불가] Shack 베스트 세트 (쉑버거...</td>\n",
       "      <td>17,100</td>\n",
       "    </tr>\n",
       "    <tr>\n",
       "      <th>1</th>\n",
       "      <td>[폴햄키즈 외] 봄&amp;여름 아이템 20%즉할 티셔츠/니트/셔츠/바지 외 100종</td>\n",
       "      <td>7,920</td>\n",
       "    </tr>\n",
       "    <tr>\n",
       "      <th>2</th>\n",
       "      <td>성주참외 못난이 랜덤과 1kg 꿀참외 당일수확</td>\n",
       "      <td>8,280</td>\n",
       "    </tr>\n",
       "    <tr>\n",
       "      <th>3</th>\n",
       "      <td>[5%페이] 내셔널지오그래픽 봄&amp;여름 BEST 모음전 운동화/캐주얼가방/모자</td>\n",
       "      <td>23,400</td>\n",
       "    </tr>\n",
       "    <tr>\n",
       "      <th>4</th>\n",
       "      <td>BHC 뿌링클+콜라1.25L</td>\n",
       "      <td>19,200</td>\n",
       "    </tr>\n",
       "    <tr>\n",
       "      <th>5</th>\n",
       "      <td>[품질보장] 100년기업 세콰이어 네이블 오렌지 (중과 3kg내외)</td>\n",
       "      <td>14,270</td>\n",
       "    </tr>\n",
       "    <tr>\n",
       "      <th>6</th>\n",
       "      <td>[품질보장] 달콤트리 찰토마토 5KG(사이즈 선택:소과,중과,대과)</td>\n",
       "      <td>14,730</td>\n",
       "    </tr>\n",
       "    <tr>\n",
       "      <th>7</th>\n",
       "      <td>[더미식] 당진쌀로 만든 당진 백미밥 200g 24개</td>\n",
       "      <td>23,500</td>\n",
       "    </tr>\n",
       "    <tr>\n",
       "      <th>8</th>\n",
       "      <td>마니커에프앤지 바사삭치킨 고추순살 300g(3봉)</td>\n",
       "      <td>17,370</td>\n",
       "    </tr>\n",
       "    <tr>\n",
       "      <th>9</th>\n",
       "      <td>홍대쭈꾸미 300g 4팩 한국인 입맛 맞춤 수제양념 쭈꾸미볶음</td>\n",
       "      <td>22,010</td>\n",
       "    </tr>\n",
       "  </tbody>\n",
       "</table>\n",
       "</div>"
      ],
      "text/plain": [
       "                                                  상품      가격\n",
       "0  [쉐이크쉑][매장POS에서만 주문가능/키오스크불가] Shack 베스트 세트 (쉑버거...  17,100\n",
       "1        [폴햄키즈 외] 봄&여름 아이템 20%즉할 티셔츠/니트/셔츠/바지 외 100종   7,920\n",
       "2                          성주참외 못난이 랜덤과 1kg 꿀참외 당일수확   8,280\n",
       "3         [5%페이] 내셔널지오그래픽 봄&여름 BEST 모음전 운동화/캐주얼가방/모자  23,400\n",
       "4                                    BHC 뿌링클+콜라1.25L  19,200\n",
       "5              [품질보장] 100년기업 세콰이어 네이블 오렌지 (중과 3kg내외)  14,270\n",
       "6              [품질보장] 달콤트리 찰토마토 5KG(사이즈 선택:소과,중과,대과)  14,730\n",
       "7                      [더미식] 당진쌀로 만든 당진 백미밥 200g 24개  23,500\n",
       "8                        마니커에프앤지 바사삭치킨 고추순살 300g(3봉)  17,370\n",
       "9                 홍대쭈꾸미 300g 4팩 한국인 입맛 맞춤 수제양념 쭈꾸미볶음  22,010"
      ]
     },
     "execution_count": 85,
     "metadata": {},
     "output_type": "execute_result"
    }
   ],
   "source": [
    "dic = {\"상품\": title_list, \"가격\": price_list}\n",
    "store = pd.DataFrame(dic)\n",
    "store"
   ]
  },
  {
   "cell_type": "code",
   "execution_count": null,
   "id": "691b64c4-1e54-455d-a231-4a33b6f0499e",
   "metadata": {},
   "outputs": [],
   "source": []
  },
  {
   "cell_type": "code",
   "execution_count": null,
   "id": "072f11b2-af93-4ac7-9c2a-a123b839e372",
   "metadata": {},
   "outputs": [],
   "source": []
  },
  {
   "cell_type": "code",
   "execution_count": null,
   "id": "df207fdc-394d-4d27-9eee-8204ecbbfa0e",
   "metadata": {},
   "outputs": [],
   "source": []
  },
  {
   "cell_type": "code",
   "execution_count": null,
   "id": "dd832cb3-476c-4f5c-a5c7-a97fa0a8df30",
   "metadata": {},
   "outputs": [],
   "source": []
  },
  {
   "cell_type": "code",
   "execution_count": null,
   "id": "a3ce3060-b157-4ba8-ad5d-663699949d8d",
   "metadata": {},
   "outputs": [],
   "source": []
  },
  {
   "cell_type": "code",
   "execution_count": null,
   "id": "4d5909ff-6323-4858-80af-2c12b348ce59",
   "metadata": {},
   "outputs": [],
   "source": []
  },
  {
   "cell_type": "code",
   "execution_count": null,
   "id": "a5270ce5-2093-4172-9271-2c23f6122b27",
   "metadata": {},
   "outputs": [],
   "source": []
  },
  {
   "cell_type": "code",
   "execution_count": null,
   "id": "c0599589-b454-483c-9e06-76d1f430d81a",
   "metadata": {},
   "outputs": [],
   "source": []
  },
  {
   "cell_type": "code",
   "execution_count": null,
   "id": "671fa9d0-6532-445d-bdd7-1fd45c847d51",
   "metadata": {},
   "outputs": [],
   "source": []
  },
  {
   "cell_type": "code",
   "execution_count": null,
   "id": "9337938c-fd84-4488-91d6-f830d1641d94",
   "metadata": {},
   "outputs": [],
   "source": []
  },
  {
   "cell_type": "code",
   "execution_count": null,
   "id": "0d079295-de7e-457f-8812-73152a061b60",
   "metadata": {},
   "outputs": [],
   "source": []
  },
  {
   "cell_type": "code",
   "execution_count": null,
   "id": "5b355771-462a-42b9-b073-ed4d644a8508",
   "metadata": {},
   "outputs": [],
   "source": []
  },
  {
   "cell_type": "code",
   "execution_count": null,
   "id": "23f73e5d-c1bf-415d-91c8-861b62af4af0",
   "metadata": {},
   "outputs": [],
   "source": []
  },
  {
   "cell_type": "code",
   "execution_count": null,
   "id": "cefeb835-2a8e-48f6-bc6b-7b8516b05cd6",
   "metadata": {},
   "outputs": [],
   "source": []
  },
  {
   "cell_type": "code",
   "execution_count": null,
   "id": "a1786c4c-9409-4605-8abf-574e00c00b4c",
   "metadata": {},
   "outputs": [],
   "source": []
  },
  {
   "cell_type": "code",
   "execution_count": null,
   "id": "2dde5b04-6e4d-456e-862f-f09be7f90ffe",
   "metadata": {},
   "outputs": [],
   "source": []
  }
 ],
 "metadata": {
  "kernelspec": {
   "display_name": "Python [conda env:base] *",
   "language": "python",
   "name": "conda-base-py"
  },
  "language_info": {
   "codemirror_mode": {
    "name": "ipython",
    "version": 3
   },
   "file_extension": ".py",
   "mimetype": "text/x-python",
   "name": "python",
   "nbconvert_exporter": "python",
   "pygments_lexer": "ipython3",
   "version": "3.12.7"
  }
 },
 "nbformat": 4,
 "nbformat_minor": 5
}
