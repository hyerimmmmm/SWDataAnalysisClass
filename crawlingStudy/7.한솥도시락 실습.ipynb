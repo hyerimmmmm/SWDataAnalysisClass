{
 "cells": [
  {
   "cell_type": "code",
   "execution_count": 149,
   "id": "5a2f1358-3245-49d8-91d2-be8e9e294b8b",
   "metadata": {},
   "outputs": [],
   "source": [
    "from selenium import webdriver as wb\n",
    "from selenium.webdriver.common.keys import Keys\n",
    "from selenium.webdriver.common.by import By\n",
    "\n",
    "from bs4 import BeautifulSoup as bs\n",
    "import time\n",
    "\n",
    "import pandas as pd"
   ]
  },
  {
   "cell_type": "code",
   "execution_count": 49,
   "id": "68836094-6cb7-4d80-9d3b-f4d59f73e960",
   "metadata": {},
   "outputs": [],
   "source": [
    "driver = wb.Chrome()"
   ]
  },
  {
   "cell_type": "code",
   "execution_count": 50,
   "id": "f8c9777a-0f25-407d-9d30-8751548b7f3a",
   "metadata": {},
   "outputs": [],
   "source": [
    "driver.get(\"https://www.hsd.co.kr/menu/menu_list\") "
   ]
  },
  {
   "cell_type": "code",
   "execution_count": 57,
   "id": "62383984-766d-459f-be97-59fc4d12d538",
   "metadata": {},
   "outputs": [],
   "source": [
    "more = driver.find_element(By.CSS_SELECTOR, \"#btn_more > span > a\")\n",
    "for i in range(5):  \n",
    "    more.click()\n",
    "    time.sleep(1)"
   ]
  },
  {
   "cell_type": "code",
   "execution_count": 121,
   "id": "506b7042-d60d-4509-8968-1b617a8872b9",
   "metadata": {},
   "outputs": [],
   "source": [
    "menu = driver.find_elements(By.CSS_SELECTOR, \"div.item-text > h4.h.fz_03\")\n",
    "price = driver.find_elements(By.CSS_SELECTOR, \"div.item-price > strong\")"
   ]
  },
  {
   "cell_type": "code",
   "execution_count": 145,
   "id": "1d312df6-dbbe-48b7-a5df-8e32f4bdf7fe",
   "metadata": {},
   "outputs": [],
   "source": [
    "menu_list = []\n",
    "price_list = []\n",
    "\n",
    "for i in range(len(menu)):\n",
    "    menu_list.append(menu[i].text)\n",
    "    price_list.append(price[i].text + \"원\")"
   ]
  },
  {
   "cell_type": "code",
   "execution_count": 147,
   "id": "a94f16e8-e69c-441c-8620-fe87b21b4806",
   "metadata": {},
   "outputs": [
    {
     "name": "stdout",
     "output_type": "stream",
     "text": [
      "['제육야채 감초고추장 비빔밥', '진달래', '해바라기', '매화', '돈치 고기고기', '돈까스도련님 고기고기', '새치 고기고기', '칠리 찹쌀탕수육도련님', '제육볶음', '한우 함박스테이크& 청양 토네이도 소세지', '돈까스도련님', '한우 함박스테이크&토네이도 소세지', '제육돈까스 도련님', '돈치스팸', '치킨제육', '소불고기', '믹스후라이', '동백', '송정식 떡갈비', '송정식 떡갈비 Ⅱ', '메가치킨제육', '치킨마요 김치찌개 정식', '치킨마요 부대찌개 정식', '빅치킨마요 김치찌개 정식', '빅치킨마요 부대찌개 정식', '제육 김치찌개 정식', '메가스팸마요', '스팸마요', '메가치킨마요', '왕치킨마요', '빅치킨마요', '치킨마요', '참치마요', '돈치마요', '돈까스 카레', '스팸 김치볶음밥', '김치볶음밥', '스팸 철판볶음밥', '소불고기 철판볶음밥', '묵은지 김치찌개', '부대찌개', '빅 제많덮(빅 제육 많이 덮밥)', '제많덮(제육 많이 덮밥)', '스페셜 하이라이스', '핫 치즈 닭갈비덮밥', '오리지널 치즈 닭갈비덮밥', '숯불직화구이 덮밥', '마파두부 덮밥', '왕카레돈까스덮밥', '새우돈까스 덮밥', '돈까스 덮밥', '소불고기 감초고추장 비빔밥', '시골제육 두부강된장 비빔밥', '참치야채 감초고추장 비빔밥', '튼튼도시락', '단품 묵은지 김치찌개', '단품 카레', '반찬 순살 고등어 간장구이', '단품 부대찌개', '반찬 치킨', '반찬 고기고기', '반찬 돈까스도련님', '반찬 제육볶음', '반찬 토네이도 소세지', '반찬 돈까스', '3종 미니반찬B', '3종 미니반찬A', '오징어젓갈', '한솥 두부강된장소스', '한솥 감초볶음고추장소스', '김치', '무말랭이 무침', '한솥밥', '현미밥', '케이준후라이', '해시 포테이토 스틱', '치즈버터 해시 포테이토 스틱', '허니버터 해시 포테이토 스틱', '미니 찹쌀탕수육', '뉴 감자고로케', '미니 찹쌀핫도그', '멘치카츠', '통현미 닭강정(소)', '통현미 닭강정(중)', '후라이드 순살(소)_양념치킨소스', '후라이드 순살(소)_케이준소스', '후라이드 순살(중)', '치킹 반반순살(양념, 후라이드)', '치킹 반반순살(후라이드)', '제주녹차 미니꿀호떡']\n",
      "['3,800원', '8,000원', '10,000원', '10,500원', '6,100원', '6,600원', '7,100원', '4,500원', '4,700원', '8,900원', '4,900원', '8,900원', '4,900원', '5,000원', '5,000원', '5,700원', '6,000원', '6,200원', '6,900원', '6,900원', '7,800원', '7,100원', '7,600원', '7,700원', '8,200원', '8,800원', '5,900원', '4,000원', '6,200원', '5,100원', '4,400원', '3,800원', '3,600원', '4,100원', '4,800원', '4,900원', '4,100원', '4,900원', '5,100원', '5,000원', '6,100원', '6,900원', '5,900원', '5,900원', '6,100원', '6,100원', '6,000원', '5,000원', '6,100원', '4,400원', '4,300원', '5,700원', '5,500원', '3,800원', '5,300원', '4,400원', '2,900원', '3,900원', '4,900원', '3,800원', '3,600원', '4,100원', '3,500원', '3,200원', '2,900원', '1,300원', '1,300원', '600원', '1,800원', '500원', '500원', '500원', '1,000원', '1,700원', '1,900원', '2,000원', '2,200원', '2,200원', '2,300원', '2,700원', '2,800원', '2,800원', '3,500원', '8,500원', '4,000원', '4,000원', '7,500원', '16,900원', '16,900원', '2,500원']\n"
     ]
    }
   ],
   "source": [
    "print(menu_list)\n",
    "print(price_list)"
   ]
  },
  {
   "cell_type": "code",
   "execution_count": null,
   "id": "0a1d9ab3-7248-4859-b66f-cdc48ba62b14",
   "metadata": {},
   "outputs": [],
   "source": []
  },
  {
   "cell_type": "code",
   "execution_count": 163,
   "id": "ade7431b-a736-4144-b0ad-daeeda08634b",
   "metadata": {},
   "outputs": [
    {
     "data": {
      "text/html": [
       "<div>\n",
       "<style scoped>\n",
       "    .dataframe tbody tr th:only-of-type {\n",
       "        vertical-align: middle;\n",
       "    }\n",
       "\n",
       "    .dataframe tbody tr th {\n",
       "        vertical-align: top;\n",
       "    }\n",
       "\n",
       "    .dataframe thead th {\n",
       "        text-align: right;\n",
       "    }\n",
       "</style>\n",
       "<table border=\"1\" class=\"dataframe\">\n",
       "  <thead>\n",
       "    <tr style=\"text-align: right;\">\n",
       "      <th></th>\n",
       "      <th>메뉴명</th>\n",
       "      <th>가격</th>\n",
       "    </tr>\n",
       "  </thead>\n",
       "  <tbody>\n",
       "    <tr>\n",
       "      <th>0</th>\n",
       "      <td>제육야채 감초고추장 비빔밥</td>\n",
       "      <td>3,800원</td>\n",
       "    </tr>\n",
       "    <tr>\n",
       "      <th>1</th>\n",
       "      <td>진달래</td>\n",
       "      <td>8,000원</td>\n",
       "    </tr>\n",
       "    <tr>\n",
       "      <th>2</th>\n",
       "      <td>해바라기</td>\n",
       "      <td>10,000원</td>\n",
       "    </tr>\n",
       "    <tr>\n",
       "      <th>3</th>\n",
       "      <td>매화</td>\n",
       "      <td>10,500원</td>\n",
       "    </tr>\n",
       "    <tr>\n",
       "      <th>4</th>\n",
       "      <td>돈치 고기고기</td>\n",
       "      <td>6,100원</td>\n",
       "    </tr>\n",
       "    <tr>\n",
       "      <th>...</th>\n",
       "      <td>...</td>\n",
       "      <td>...</td>\n",
       "    </tr>\n",
       "    <tr>\n",
       "      <th>85</th>\n",
       "      <td>후라이드 순살(소)_케이준소스</td>\n",
       "      <td>4,000원</td>\n",
       "    </tr>\n",
       "    <tr>\n",
       "      <th>86</th>\n",
       "      <td>후라이드 순살(중)</td>\n",
       "      <td>7,500원</td>\n",
       "    </tr>\n",
       "    <tr>\n",
       "      <th>87</th>\n",
       "      <td>치킹 반반순살(양념, 후라이드)</td>\n",
       "      <td>16,900원</td>\n",
       "    </tr>\n",
       "    <tr>\n",
       "      <th>88</th>\n",
       "      <td>치킹 반반순살(후라이드)</td>\n",
       "      <td>16,900원</td>\n",
       "    </tr>\n",
       "    <tr>\n",
       "      <th>89</th>\n",
       "      <td>제주녹차 미니꿀호떡</td>\n",
       "      <td>2,500원</td>\n",
       "    </tr>\n",
       "  </tbody>\n",
       "</table>\n",
       "<p>90 rows × 2 columns</p>\n",
       "</div>"
      ],
      "text/plain": [
       "                  메뉴명       가격\n",
       "0      제육야채 감초고추장 비빔밥   3,800원\n",
       "1                 진달래   8,000원\n",
       "2                해바라기  10,000원\n",
       "3                  매화  10,500원\n",
       "4             돈치 고기고기   6,100원\n",
       "..                ...      ...\n",
       "85   후라이드 순살(소)_케이준소스   4,000원\n",
       "86         후라이드 순살(중)   7,500원\n",
       "87  치킹 반반순살(양념, 후라이드)  16,900원\n",
       "88      치킹 반반순살(후라이드)  16,900원\n",
       "89         제주녹차 미니꿀호떡   2,500원\n",
       "\n",
       "[90 rows x 2 columns]"
      ]
     },
     "execution_count": 163,
     "metadata": {},
     "output_type": "execute_result"
    }
   ],
   "source": [
    "data = pd.DataFrame([menu_list, price_list], index=[\"메뉴명\", \"가격\"]).T\n",
    "data"
   ]
  },
  {
   "cell_type": "code",
   "execution_count": 165,
   "id": "ee1e063e-9d64-4b3a-ac5d-c37016963469",
   "metadata": {},
   "outputs": [],
   "source": [
    "data.to_csv(\"한솥.csv\", encoding='euc-kr')  "
   ]
  },
  {
   "cell_type": "code",
   "execution_count": null,
   "id": "0501f244-5345-408c-bed0-77b071d9ad1f",
   "metadata": {},
   "outputs": [],
   "source": []
  },
  {
   "cell_type": "code",
   "execution_count": null,
   "id": "77de2bc8-4b1c-4b9e-ac3e-c6ebfac1849f",
   "metadata": {},
   "outputs": [],
   "source": []
  },
  {
   "cell_type": "code",
   "execution_count": null,
   "id": "f09fcd97-c57f-439f-a480-5b5df7e327ac",
   "metadata": {},
   "outputs": [],
   "source": []
  },
  {
   "cell_type": "code",
   "execution_count": null,
   "id": "9658dd1c-26e0-43b9-b484-7eddaffaa173",
   "metadata": {},
   "outputs": [],
   "source": []
  }
 ],
 "metadata": {
  "kernelspec": {
   "display_name": "Python [conda env:base] *",
   "language": "python",
   "name": "conda-base-py"
  },
  "language_info": {
   "codemirror_mode": {
    "name": "ipython",
    "version": 3
   },
   "file_extension": ".py",
   "mimetype": "text/x-python",
   "name": "python",
   "nbconvert_exporter": "python",
   "pygments_lexer": "ipython3",
   "version": "3.12.7"
  }
 },
 "nbformat": 4,
 "nbformat_minor": 5
}
