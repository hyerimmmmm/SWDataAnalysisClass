{
 "cells": [
  {
   "cell_type": "markdown",
   "id": "301f3589-33f6-4bcd-9f9e-aa59f355f330",
   "metadata": {},
   "source": [
    "# 필요한 라이브러리 설치\n",
    "- fastapi: python쪽에 요청을 처리할 수 있는 서버를 로드하는 라이브러리(flask 라이브러리와 유사)\n",
    "- uvicorn: 서버 재요청을 할때마다, 서버를 껐다 켜는게 불편하니까 사용하기 쉬우려고 추가하는 라이브러리\n",
    "- nbconvert: .ipynb 파일을 .py 파일로 변환하는 역할"
   ]
  },
  {
   "cell_type": "code",
   "execution_count": 4,
   "id": "e6a8e949-d0c6-4237-be0c-bcdb2b8f37e4",
   "metadata": {
    "collapsed": true,
    "jupyter": {
     "outputs_hidden": true
    },
    "scrolled": true
   },
   "outputs": [
    {
     "name": "stdout",
     "output_type": "stream",
     "text": [
      "Collecting fastapi\n",
      "  Downloading fastapi-0.115.14-py3-none-any.whl.metadata (27 kB)\n",
      "Collecting starlette<0.47.0,>=0.40.0 (from fastapi)\n",
      "  Downloading starlette-0.46.2-py3-none-any.whl.metadata (6.2 kB)\n",
      "Requirement already satisfied: pydantic!=1.8,!=1.8.1,!=2.0.0,!=2.0.1,!=2.1.0,<3.0.0,>=1.7.4 in /opt/anaconda3/lib/python3.12/site-packages (from fastapi) (2.8.2)\n",
      "Requirement already satisfied: typing-extensions>=4.8.0 in /opt/anaconda3/lib/python3.12/site-packages (from fastapi) (4.11.0)\n",
      "Requirement already satisfied: annotated-types>=0.4.0 in /opt/anaconda3/lib/python3.12/site-packages (from pydantic!=1.8,!=1.8.1,!=2.0.0,!=2.0.1,!=2.1.0,<3.0.0,>=1.7.4->fastapi) (0.6.0)\n",
      "Requirement already satisfied: pydantic-core==2.20.1 in /opt/anaconda3/lib/python3.12/site-packages (from pydantic!=1.8,!=1.8.1,!=2.0.0,!=2.0.1,!=2.1.0,<3.0.0,>=1.7.4->fastapi) (2.20.1)\n",
      "Requirement already satisfied: anyio<5,>=3.6.2 in /opt/anaconda3/lib/python3.12/site-packages (from starlette<0.47.0,>=0.40.0->fastapi) (4.2.0)\n",
      "Requirement already satisfied: idna>=2.8 in /opt/anaconda3/lib/python3.12/site-packages (from anyio<5,>=3.6.2->starlette<0.47.0,>=0.40.0->fastapi) (3.7)\n",
      "Requirement already satisfied: sniffio>=1.1 in /opt/anaconda3/lib/python3.12/site-packages (from anyio<5,>=3.6.2->starlette<0.47.0,>=0.40.0->fastapi) (1.3.0)\n",
      "Downloading fastapi-0.115.14-py3-none-any.whl (95 kB)\n",
      "Downloading starlette-0.46.2-py3-none-any.whl (72 kB)\n",
      "Installing collected packages: starlette, fastapi\n",
      "Successfully installed fastapi-0.115.14 starlette-0.46.2\n"
     ]
    }
   ],
   "source": [
    "!pip install fastapi"
   ]
  },
  {
   "cell_type": "code",
   "execution_count": 11,
   "id": "07697975-5068-45a9-b668-2dd0842f524a",
   "metadata": {
    "collapsed": true,
    "jupyter": {
     "outputs_hidden": true
    }
   },
   "outputs": [
    {
     "name": "stdout",
     "output_type": "stream",
     "text": [
      "Collecting uvicorn[standard]\n",
      "  Downloading uvicorn-0.35.0-py3-none-any.whl.metadata (6.5 kB)\n",
      "Requirement already satisfied: click>=7.0 in /opt/anaconda3/lib/python3.12/site-packages (from uvicorn[standard]) (8.1.7)\n",
      "Requirement already satisfied: h11>=0.8 in /opt/anaconda3/lib/python3.12/site-packages (from uvicorn[standard]) (0.14.0)\n",
      "Collecting httptools>=0.6.3 (from uvicorn[standard])\n",
      "  Downloading httptools-0.6.4-cp312-cp312-macosx_11_0_arm64.whl.metadata (3.6 kB)\n",
      "Requirement already satisfied: python-dotenv>=0.13 in /opt/anaconda3/lib/python3.12/site-packages (from uvicorn[standard]) (0.21.0)\n",
      "Requirement already satisfied: pyyaml>=5.1 in /opt/anaconda3/lib/python3.12/site-packages (from uvicorn[standard]) (6.0.1)\n",
      "Collecting uvloop>=0.15.1 (from uvicorn[standard])\n",
      "  Downloading uvloop-0.21.0-cp312-cp312-macosx_10_13_universal2.whl.metadata (4.9 kB)\n",
      "Collecting watchfiles>=0.13 (from uvicorn[standard])\n",
      "  Downloading watchfiles-1.1.0-cp312-cp312-macosx_11_0_arm64.whl.metadata (4.9 kB)\n",
      "Requirement already satisfied: websockets>=10.4 in /opt/anaconda3/lib/python3.12/site-packages (from uvicorn[standard]) (15.0.1)\n",
      "Requirement already satisfied: anyio>=3.0.0 in /opt/anaconda3/lib/python3.12/site-packages (from watchfiles>=0.13->uvicorn[standard]) (4.2.0)\n",
      "Requirement already satisfied: idna>=2.8 in /opt/anaconda3/lib/python3.12/site-packages (from anyio>=3.0.0->watchfiles>=0.13->uvicorn[standard]) (3.7)\n",
      "Requirement already satisfied: sniffio>=1.1 in /opt/anaconda3/lib/python3.12/site-packages (from anyio>=3.0.0->watchfiles>=0.13->uvicorn[standard]) (1.3.0)\n",
      "Downloading httptools-0.6.4-cp312-cp312-macosx_11_0_arm64.whl (104 kB)\n",
      "Downloading uvloop-0.21.0-cp312-cp312-macosx_10_13_universal2.whl (1.5 MB)\n",
      "\u001b[2K   \u001b[90m━━━━━━━━━━━━━━━━━━━━━━━━━━━━━━━━━━━━━━━━\u001b[0m \u001b[32m1.5/1.5 MB\u001b[0m \u001b[31m14.3 MB/s\u001b[0m eta \u001b[36m0:00:00\u001b[0m\n",
      "\u001b[?25hDownloading watchfiles-1.1.0-cp312-cp312-macosx_11_0_arm64.whl (394 kB)\n",
      "Downloading uvicorn-0.35.0-py3-none-any.whl (66 kB)\n",
      "Installing collected packages: uvloop, uvicorn, httptools, watchfiles\n",
      "Successfully installed httptools-0.6.4 uvicorn-0.35.0 uvloop-0.21.0 watchfiles-1.1.0\n"
     ]
    }
   ],
   "source": [
    "# !pip install uvicorn[standard]\n",
    "!pip install \"uvicorn[standard]\""
   ]
  },
  {
   "cell_type": "code",
   "execution_count": 18,
   "id": "5b17ab91-6263-47f2-997a-a67af5cc8d87",
   "metadata": {
    "collapsed": true,
    "jupyter": {
     "outputs_hidden": true
    }
   },
   "outputs": [
    {
     "name": "stdout",
     "output_type": "stream",
     "text": [
      "Requirement already satisfied: nbconvert in /opt/anaconda3/lib/python3.12/site-packages (7.16.4)\n",
      "Requirement already satisfied: beautifulsoup4 in /opt/anaconda3/lib/python3.12/site-packages (from nbconvert) (4.12.3)\n",
      "Requirement already satisfied: bleach!=5.0.0 in /opt/anaconda3/lib/python3.12/site-packages (from nbconvert) (4.1.0)\n",
      "Requirement already satisfied: defusedxml in /opt/anaconda3/lib/python3.12/site-packages (from nbconvert) (0.7.1)\n",
      "Requirement already satisfied: jinja2>=3.0 in /opt/anaconda3/lib/python3.12/site-packages (from nbconvert) (3.1.4)\n",
      "Requirement already satisfied: jupyter-core>=4.7 in /opt/anaconda3/lib/python3.12/site-packages (from nbconvert) (5.7.2)\n",
      "Requirement already satisfied: jupyterlab-pygments in /opt/anaconda3/lib/python3.12/site-packages (from nbconvert) (0.1.2)\n",
      "Requirement already satisfied: markupsafe>=2.0 in /opt/anaconda3/lib/python3.12/site-packages (from nbconvert) (2.1.3)\n",
      "Requirement already satisfied: mistune<4,>=2.0.3 in /opt/anaconda3/lib/python3.12/site-packages (from nbconvert) (2.0.4)\n",
      "Requirement already satisfied: nbclient>=0.5.0 in /opt/anaconda3/lib/python3.12/site-packages (from nbconvert) (0.8.0)\n",
      "Requirement already satisfied: nbformat>=5.7 in /opt/anaconda3/lib/python3.12/site-packages (from nbconvert) (5.10.4)\n",
      "Requirement already satisfied: packaging in /opt/anaconda3/lib/python3.12/site-packages (from nbconvert) (24.1)\n",
      "Requirement already satisfied: pandocfilters>=1.4.1 in /opt/anaconda3/lib/python3.12/site-packages (from nbconvert) (1.5.0)\n",
      "Requirement already satisfied: pygments>=2.4.1 in /opt/anaconda3/lib/python3.12/site-packages (from nbconvert) (2.15.1)\n",
      "Requirement already satisfied: tinycss2 in /opt/anaconda3/lib/python3.12/site-packages (from nbconvert) (1.2.1)\n",
      "Requirement already satisfied: traitlets>=5.1 in /opt/anaconda3/lib/python3.12/site-packages (from nbconvert) (5.14.3)\n",
      "Requirement already satisfied: six>=1.9.0 in /opt/anaconda3/lib/python3.12/site-packages (from bleach!=5.0.0->nbconvert) (1.16.0)\n",
      "Requirement already satisfied: webencodings in /opt/anaconda3/lib/python3.12/site-packages (from bleach!=5.0.0->nbconvert) (0.5.1)\n",
      "Requirement already satisfied: platformdirs>=2.5 in /opt/anaconda3/lib/python3.12/site-packages (from jupyter-core>=4.7->nbconvert) (3.10.0)\n",
      "Requirement already satisfied: jupyter-client>=6.1.12 in /opt/anaconda3/lib/python3.12/site-packages (from nbclient>=0.5.0->nbconvert) (8.6.0)\n",
      "Requirement already satisfied: fastjsonschema>=2.15 in /opt/anaconda3/lib/python3.12/site-packages (from nbformat>=5.7->nbconvert) (2.16.2)\n",
      "Requirement already satisfied: jsonschema>=2.6 in /opt/anaconda3/lib/python3.12/site-packages (from nbformat>=5.7->nbconvert) (4.23.0)\n",
      "Requirement already satisfied: soupsieve>1.2 in /opt/anaconda3/lib/python3.12/site-packages (from beautifulsoup4->nbconvert) (2.5)\n",
      "Requirement already satisfied: attrs>=22.2.0 in /opt/anaconda3/lib/python3.12/site-packages (from jsonschema>=2.6->nbformat>=5.7->nbconvert) (25.3.0)\n",
      "Requirement already satisfied: jsonschema-specifications>=2023.03.6 in /opt/anaconda3/lib/python3.12/site-packages (from jsonschema>=2.6->nbformat>=5.7->nbconvert) (2023.7.1)\n",
      "Requirement already satisfied: referencing>=0.28.4 in /opt/anaconda3/lib/python3.12/site-packages (from jsonschema>=2.6->nbformat>=5.7->nbconvert) (0.30.2)\n",
      "Requirement already satisfied: rpds-py>=0.7.1 in /opt/anaconda3/lib/python3.12/site-packages (from jsonschema>=2.6->nbformat>=5.7->nbconvert) (0.10.6)\n",
      "Requirement already satisfied: python-dateutil>=2.8.2 in /opt/anaconda3/lib/python3.12/site-packages (from jupyter-client>=6.1.12->nbclient>=0.5.0->nbconvert) (2.9.0.post0)\n",
      "Requirement already satisfied: pyzmq>=23.0 in /opt/anaconda3/lib/python3.12/site-packages (from jupyter-client>=6.1.12->nbclient>=0.5.0->nbconvert) (25.1.2)\n",
      "Requirement already satisfied: tornado>=6.2 in /opt/anaconda3/lib/python3.12/site-packages (from jupyter-client>=6.1.12->nbclient>=0.5.0->nbconvert) (6.4.1)\n"
     ]
    }
   ],
   "source": [
    "!pip install nbconvert"
   ]
  },
  {
   "cell_type": "markdown",
   "id": "34a83487-95ba-4813-af9b-d260e9d22f2c",
   "metadata": {},
   "source": [
    "# FastAPI 사용하기"
   ]
  },
  {
   "cell_type": "code",
   "execution_count": 29,
   "id": "f98a17f4-1b37-4d10-9d6c-ee44a5d1c7f3",
   "metadata": {},
   "outputs": [],
   "source": [
    "# 1. 라이브러리 가져오기(필요한 데이터셋에 따라 라이브러리 추가)\n",
    "from fastapi import FastAPI"
   ]
  },
  {
   "cell_type": "code",
   "execution_count": 31,
   "id": "69781cce-1319-4018-983e-5bfacd35a51c",
   "metadata": {},
   "outputs": [],
   "source": [
    "# 2. FastAPI를 기반으로 한 app 생성\n",
    "app = FastAPI()\n",
    "\n",
    "# 3. 요청을 처리할 수 있는 url과 함수를 생성\n",
    "@app.get(\"/temp\") # 요청 url(스프링 부트의 @GetMapping 이랑 비슷하다고 보면 됨)\n",
    "def temp():\n",
    "    return \"success\""
   ]
  },
  {
   "cell_type": "code",
   "execution_count": 33,
   "id": "fe8ae190-c8f7-4bc0-b3de-6252edacd12f",
   "metadata": {},
   "outputs": [],
   "source": [
    "# 동일 출처 정책을 풀어줄 수 있는 설정을 잡아보자\n",
    "from fastapi.middleware.cors import CORSMiddleware"
   ]
  },
  {
   "cell_type": "code",
   "execution_count": 41,
   "id": "5b7e70ef-f6ec-459a-9b4e-253e7a3711fe",
   "metadata": {},
   "outputs": [],
   "source": [
    "# app == controller와 유사한 역할\n",
    "# app에다가 midlewere를 끼우는 작업 진행 --> 정책을 좀 풀어주려고\n",
    "app.add_middleware(\n",
    "    CORSMiddleware, # 동일출처정책과 관련한 미들웨어\n",
    "    allow_origins = [\"http://localhost:8090\"], # 접근을 허용할 출처(==접근을 허용할 url)\n",
    "    allow_methods = [\"*\"], # 접근을 허용할 전송 방식\n",
    "    allow_headers = [\"*\"], # 접근을 허용할 상태값\n",
    "    allow_credentials = True\n",
    ")"
   ]
  },
  {
   "cell_type": "code",
   "execution_count": 55,
   "id": "84022042-82cc-464a-9799-d8f84c3f12c0",
   "metadata": {},
   "outputs": [
    {
     "name": "stdout",
     "output_type": "stream",
     "text": [
      "이미지 주소:  https://search.pstatic.net/common/?src=http%3A%2F%2Fimgnews.naver.net%2Fimage%2F477%2F2025%2F03%2F05%2F0000537635_006_20250305121615103.jpg&type=a340\n"
     ]
    }
   ],
   "source": [
    "# 크롤링 코드를 작성해보자\n",
    "# -> 네이버에서 아이유라는 글자를 검색했을 때 첫번째 이미지를 가져오도록\n",
    "\n",
    "# 1. 라이브러리 가져오기\n",
    "from selenium import webdriver as wb\n",
    "from selenium.webdriver.common.by import By\n",
    "\n",
    "# 2. 크롬창 열기\n",
    "driver = wb.Chrome()\n",
    "driver.get(f\"https://search.naver.com/search.naver?ssc=tab.image.all&where=image&sm=tab_jum&query={sendData}\")\n",
    "driver.implicitly_wait(5)\n",
    "print(\"데이터: \", sendData)\n",
    "\n",
    "# 3. img 태그 선택해서 src 값 가져오기\n",
    "img = driver.find_element(By.CSS_SELECTOR, \"#main_pack > section > div.api_subject_bx._fe_image_tab_grid_root.ani_fadein > div > div > div.image_tile._fe_image_tab_grid > div:nth-child(1) > div > div > div > img\")\n",
    "img_src = img.get_attribute(\"src\")\n",
    "\n",
    "# 4.chrom 창 닫기\n",
    "driver.quit()\n",
    "\n",
    "print(\"이미지 주소: \", img_src)"
   ]
  },
  {
   "cell_type": "code",
   "execution_count": null,
   "id": "7a72b604-c5b4-4a2a-88cb-7cf4fa8ddcde",
   "metadata": {},
   "outputs": [],
   "source": []
  },
  {
   "cell_type": "code",
   "execution_count": null,
   "id": "8a8f4bb8-ccb8-412b-a4df-d38661f97fd7",
   "metadata": {},
   "outputs": [],
   "source": [
    "# fastapi 라이브러리\n",
    "from fastapi import FastAPI\n",
    "# 동일 출처 정책 설정을 위한 라이브러리\n",
    "from fastapi.middleware.cors import CORSMiddleware\n",
    "# 크롤링을 위한 라이브러리\n",
    "from selenium import webdriver as wb\n",
    "from selenium.webdriver.common.by import By"
   ]
  },
  {
   "cell_type": "code",
   "execution_count": null,
   "id": "77827e78-c7ba-42b6-9611-7c1fdae75d9d",
   "metadata": {},
   "outputs": [],
   "source": []
  },
  {
   "cell_type": "code",
   "execution_count": null,
   "id": "cdfcdc72-2371-4851-9a8a-3ca114017205",
   "metadata": {},
   "outputs": [],
   "source": []
  },
  {
   "cell_type": "code",
   "execution_count": null,
   "id": "386e9721-11fd-44a2-b433-8ecb1d389539",
   "metadata": {},
   "outputs": [],
   "source": []
  },
  {
   "cell_type": "code",
   "execution_count": null,
   "id": "11943132-8f49-49b1-abcb-4727e50d203a",
   "metadata": {},
   "outputs": [],
   "source": []
  },
  {
   "cell_type": "code",
   "execution_count": null,
   "id": "791a6c37-968d-44fc-bf83-c54bcd30ec11",
   "metadata": {},
   "outputs": [],
   "source": []
  },
  {
   "cell_type": "code",
   "execution_count": null,
   "id": "06b82c76-043c-4eab-ab1c-846e3ece2283",
   "metadata": {},
   "outputs": [],
   "source": []
  },
  {
   "cell_type": "code",
   "execution_count": null,
   "id": "f49070d0-4744-445f-9d7b-cc036d26d23c",
   "metadata": {},
   "outputs": [],
   "source": []
  },
  {
   "cell_type": "code",
   "execution_count": null,
   "id": "59699a87-5c08-441e-94f3-0bf15577d658",
   "metadata": {},
   "outputs": [],
   "source": []
  },
  {
   "cell_type": "code",
   "execution_count": null,
   "id": "b3a6734d-57e0-4a3d-8e12-85f4d46a918f",
   "metadata": {},
   "outputs": [],
   "source": []
  },
  {
   "cell_type": "code",
   "execution_count": null,
   "id": "16395fb6-df01-4c16-b666-0f6abc5fdba9",
   "metadata": {},
   "outputs": [],
   "source": []
  }
 ],
 "metadata": {
  "kernelspec": {
   "display_name": "Python [conda env:base] *",
   "language": "python",
   "name": "conda-base-py"
  },
  "language_info": {
   "codemirror_mode": {
    "name": "ipython",
    "version": 3
   },
   "file_extension": ".py",
   "mimetype": "text/x-python",
   "name": "python",
   "nbconvert_exporter": "python",
   "pygments_lexer": "ipython3",
   "version": "3.12.7"
  }
 },
 "nbformat": 4,
 "nbformat_minor": 5
}
