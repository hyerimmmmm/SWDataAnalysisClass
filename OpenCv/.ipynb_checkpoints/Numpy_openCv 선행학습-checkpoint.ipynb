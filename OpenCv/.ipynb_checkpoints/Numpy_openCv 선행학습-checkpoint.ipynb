{
 "cells": [
  {
   "cell_type": "markdown",
   "id": "dadd2a7d-7229-4a99-a65e-f8c0be43c425",
   "metadata": {},
   "source": [
    "Numpy 사용하기"
   ]
  },
  {
   "cell_type": "code",
   "execution_count": 4,
   "id": "59ebf68b-12ba-445c-a689-ceb37c54df8f",
   "metadata": {},
   "outputs": [],
   "source": [
    "import numpy as np;"
   ]
  },
  {
   "cell_type": "markdown",
   "id": "fe3d667d-f299-4957-a00f-73e1c91e6514",
   "metadata": {},
   "source": [
    "## Numpy 제공 자료형태\n",
    "- 파이썬 기본 자료형: list, tuple, dict\n",
    "- numpy: 배열(array, ndarray, 다차원배열)\n",
    "- 기존 파이썬이 가질 수 있는 데이터 처리 크기보다 더 큰 데이터를 정리할 수 있는 자료구조(형태)"
   ]
  },
  {
   "cell_type": "markdown",
   "id": "b02653da-84fd-4aa2-8311-a6b167ef5c96",
   "metadata": {},
   "source": [
    "## 넘파이 배열 특징\n",
    "- 동일한 자료형을 가지는 값의 배열\n",
    "- n차원 배열\n",
    "- 데이터 접근을 하기 위해 색인(index)을 부여"
   ]
  },
  {
   "cell_type": "markdown",
   "id": "208e9b6d-e0b8-439d-86e4-406baa99f009",
   "metadata": {},
   "source": [
    "### Numpy 배열 다루기\n",
    "- 1차원 배열 생성"
   ]
  },
  {
   "cell_type": "code",
   "execution_count": 12,
   "id": "86d47efc-af13-413c-824d-02d880e5ad37",
   "metadata": {},
   "outputs": [
    {
     "data": {
      "text/plain": [
       "array([1, 2, 3, 4, 5])"
      ]
     },
     "execution_count": 12,
     "metadata": {},
     "output_type": "execute_result"
    }
   ],
   "source": [
    "# 1~5까지 담은 리스트\n",
    "list1 = [1, 2, 3, 4, 5]\n",
    "\n",
    "arr1 = np.array(list1)\n",
    "\n",
    "arr1"
   ]
  },
  {
   "cell_type": "code",
   "execution_count": 14,
   "id": "b741b8d6-f195-4619-8dd7-bc7e1def17f2",
   "metadata": {},
   "outputs": [
    {
     "data": {
      "text/plain": [
       "array([2, 3, 4, 5, 6])"
      ]
     },
     "execution_count": 14,
     "metadata": {},
     "output_type": "execute_result"
    }
   ],
   "source": [
    "arr1 + 1"
   ]
  },
  {
   "cell_type": "code",
   "execution_count": 18,
   "id": "4a201e73-3b3b-4ebd-a789-e4eacd206139",
   "metadata": {},
   "outputs": [
    {
     "data": {
      "text/plain": [
       "[2, 3, 4, 5, 6]"
      ]
     },
     "execution_count": 18,
     "metadata": {},
     "output_type": "execute_result"
    }
   ],
   "source": [
    "# list로 연산 만든다면?\n",
    "# append 함수 사용\n",
    "\n",
    "list2 = []\n",
    "for i in list1:\n",
    "    list2.append(i + 1)\n",
    "\n",
    "list2"
   ]
  },
  {
   "cell_type": "markdown",
   "id": "4e3e8f4c-91c0-4db6-bffb-1bcbdd3be137",
   "metadata": {},
   "source": [
    "- 2차원 배열 생성하기\n",
    "  "
   ]
  },
  {
   "cell_type": "code",
   "execution_count": 28,
   "id": "14493cdc-e351-4546-8131-d31e4b784322",
   "metadata": {},
   "outputs": [
    {
     "data": {
      "text/plain": [
       "array([[  1,   4,   9,  16,  25],\n",
       "       [ 36,  49,  64,  81, 100]])"
      ]
     },
     "execution_count": 28,
     "metadata": {},
     "output_type": "execute_result"
    }
   ],
   "source": [
    "list3 = [[1, 2, 3, 4, 5], [6, 7, 8, 9, 10]]\n",
    "arr2 = np.array(list3)\n",
    "arr2 **2 # 제곱하기"
   ]
  },
  {
   "cell_type": "markdown",
   "id": "bfe74b3b-351a-4b9b-8fdf-b1701889f03b",
   "metadata": {},
   "source": [
    "### 배열 속성 확인하기\n",
    "- 배열 형태: shape\n",
    "- 배열 데이터 개수: size\n",
    "- 배열 차원 수: ndim\n",
    "- 배열 데이터 타입: dtype"
   ]
  },
  {
   "cell_type": "code",
   "execution_count": 31,
   "id": "137895cb-b3e8-413f-a3bb-09426308ff6e",
   "metadata": {},
   "outputs": [
    {
     "data": {
      "text/plain": [
       "array([[ 1,  2,  3,  4,  5],\n",
       "       [ 6,  7,  8,  9, 10]])"
      ]
     },
     "execution_count": 31,
     "metadata": {},
     "output_type": "execute_result"
    }
   ],
   "source": [
    "arr2"
   ]
  },
  {
   "cell_type": "code",
   "execution_count": 33,
   "id": "2c74fca6-97b5-4c10-bea4-ed3cb0da1b24",
   "metadata": {},
   "outputs": [
    {
     "data": {
      "text/plain": [
       "(2, 5)"
      ]
     },
     "execution_count": 33,
     "metadata": {},
     "output_type": "execute_result"
    }
   ],
   "source": [
    "arr2.shape"
   ]
  },
  {
   "cell_type": "code",
   "execution_count": 35,
   "id": "5670a980-ef00-491a-9979-168c681d3bf6",
   "metadata": {},
   "outputs": [
    {
     "data": {
      "text/plain": [
       "10"
      ]
     },
     "execution_count": 35,
     "metadata": {},
     "output_type": "execute_result"
    }
   ],
   "source": [
    "arr2.size"
   ]
  },
  {
   "cell_type": "code",
   "execution_count": 37,
   "id": "e117ef45-580c-44b2-a35b-be264d0eee0b",
   "metadata": {},
   "outputs": [
    {
     "data": {
      "text/plain": [
       "2"
      ]
     },
     "execution_count": 37,
     "metadata": {},
     "output_type": "execute_result"
    }
   ],
   "source": [
    "arr2.ndim"
   ]
  },
  {
   "cell_type": "code",
   "execution_count": 39,
   "id": "7184c608-edcf-42b2-83d0-9cfe91bc231a",
   "metadata": {},
   "outputs": [
    {
     "data": {
      "text/plain": [
       "dtype('int64')"
      ]
     },
     "execution_count": 39,
     "metadata": {},
     "output_type": "execute_result"
    }
   ],
   "source": [
    "arr2.dtype"
   ]
  },
  {
   "cell_type": "code",
   "execution_count": null,
   "id": "e9824b33-b50d-4b5a-9264-ec8b1b5f1418",
   "metadata": {},
   "outputs": [],
   "source": []
  },
  {
   "cell_type": "markdown",
   "id": "86927dfd-f472-42c9-9971-39a34c616c74",
   "metadata": {},
   "source": [
    "### 다양한 배열 생성하는 함수들이 존재\n",
    "- 1~50이 담긴 1차원 배열을 생성해보자"
   ]
  },
  {
   "cell_type": "code",
   "execution_count": 42,
   "id": "0715b1b3-2b61-453a-a22c-76d3b07e6abe",
   "metadata": {},
   "outputs": [
    {
     "data": {
      "text/plain": [
       "[1, 2, 3, 4, 5, 6, 7, 8, 9]"
      ]
     },
     "execution_count": 42,
     "metadata": {},
     "output_type": "execute_result"
    }
   ],
   "source": [
    "# 리스트\n",
    "list4 = [1, 2, 3, 4, 5, 6, 7, 8, 9]\n",
    "list4"
   ]
  },
  {
   "cell_type": "code",
   "execution_count": 44,
   "id": "8da3dc48-ffb9-4728-aca6-860f6ee56a61",
   "metadata": {},
   "outputs": [
    {
     "name": "stdout",
     "output_type": "stream",
     "text": [
      "[1, 2, 3, 4, 5, 6, 7, 8, 9, 10, 11, 12, 13, 14, 15, 16, 17, 18, 19, 20, 21, 22, 23, 24, 25, 26, 27, 28, 29, 30, 31, 32, 33, 34, 35, 36, 37, 38, 39, 40, 41, 42, 43, 44, 45, 46, 47, 48, 49, 50]\n"
     ]
    }
   ],
   "source": [
    "# 리스트\n",
    "list5 = []\n",
    "for i in range(1, 51):\n",
    "    list5.append(i)\n",
    "\n",
    "print(list5)"
   ]
  },
  {
   "cell_type": "code",
   "execution_count": 52,
   "id": "480f0b30-e320-425d-a045-3b0bc25cee54",
   "metadata": {},
   "outputs": [
    {
     "name": "stdout",
     "output_type": "stream",
     "text": [
      "[1, 4, 9, 16, 25, 36, 49, 64, 81, 100, 121, 144, 169, 196, 225, 256, 289, 324, 361, 400, 441, 484, 529, 576, 625, 676, 729, 784, 841, 900, 961, 1024, 1089, 1156, 1225, 1296, 1369, 1444, 1521, 1600, 1681, 1764, 1849, 1936, 2025, 2116, 2209, 2304, 2401, 2500]\n"
     ]
    }
   ],
   "source": [
    "# 리스트\n",
    "list6 = [i**2 for i in range(1, 51)] # 한 줄 for문\n",
    "print(list6)"
   ]
  },
  {
   "cell_type": "code",
   "execution_count": 54,
   "id": "47d20079-3206-4cdf-ae4b-fed6aca3c27a",
   "metadata": {},
   "outputs": [
    {
     "name": "stdout",
     "output_type": "stream",
     "text": [
      "[1, 2, 3, 4, 5, 6, 7, 8, 9, 10, 11, 12, 13, 14, 15, 16, 17, 18, 19, 20, 21, 22, 23, 24, 25, 26, 27, 28, 29, 30, 31, 32, 33, 34, 35, 36, 37, 38, 39, 40, 41, 42, 43, 44, 45, 46, 47, 48, 49, 50]\n"
     ]
    }
   ],
   "source": [
    "list(range(1, 51))\n",
    "\n",
    "print(list(range(1, 51)))"
   ]
  },
  {
   "cell_type": "code",
   "execution_count": 56,
   "id": "4f52532c-3fb8-4f27-a23a-50bc75a34444",
   "metadata": {},
   "outputs": [
    {
     "data": {
      "text/plain": [
       "array([ 1,  2,  3,  4,  5,  6,  7,  8,  9, 10, 11, 12, 13, 14, 15, 16, 17,\n",
       "       18, 19, 20, 21, 22, 23, 24, 25, 26, 27, 28, 29, 30, 31, 32, 33, 34,\n",
       "       35, 36, 37, 38, 39, 40, 41, 42, 43, 44, 45, 46, 47, 48, 49, 50])"
      ]
     },
     "execution_count": 56,
     "metadata": {},
     "output_type": "execute_result"
    }
   ],
   "source": [
    "np.array(list(range(1, 51)))"
   ]
  },
  {
   "cell_type": "code",
   "execution_count": 60,
   "id": "f8365f66-7f83-448d-9b94-d9862cfbdf93",
   "metadata": {},
   "outputs": [
    {
     "data": {
      "text/plain": [
       "array([ 1,  2,  3,  4,  5,  6,  7,  8,  9, 10, 11, 12, 13, 14, 15, 16, 17,\n",
       "       18, 19, 20, 21, 22, 23, 24, 25, 26, 27, 28, 29, 30, 31, 32, 33, 34,\n",
       "       35, 36, 37, 38, 39, 40, 41, 42, 43, 44, 45, 46, 47, 48, 49, 50])"
      ]
     },
     "execution_count": 60,
     "metadata": {},
     "output_type": "execute_result"
    }
   ],
   "source": [
    "# arange\n",
    "arr3 = np.arange(1, 51)\n",
    "arr3"
   ]
  },
  {
   "cell_type": "code",
   "execution_count": 64,
   "id": "c16069bd-9596-456b-9bd1-6ac106dff951",
   "metadata": {},
   "outputs": [
    {
     "data": {
      "text/plain": [
       "array([[ 1,  2,  3,  4,  5,  6,  7,  8,  9, 10],\n",
       "       [11, 12, 13, 14, 15, 16, 17, 18, 19, 20],\n",
       "       [21, 22, 23, 24, 25, 26, 27, 28, 29, 30],\n",
       "       [31, 32, 33, 34, 35, 36, 37, 38, 39, 40],\n",
       "       [41, 42, 43, 44, 45, 46, 47, 48, 49, 50]])"
      ]
     },
     "execution_count": 64,
     "metadata": {},
     "output_type": "execute_result"
    }
   ],
   "source": [
    "# arr3 데이터를 2차원 배열로 변경\n",
    "# 배열의 형태를 재설정 - reshape\n",
    "rs_arr3 = arr3.reshape(5, 10)\n",
    "rs_arr3"
   ]
  },
  {
   "cell_type": "code",
   "execution_count": null,
   "id": "84d62a3c-abf8-47ec-968a-2f56a62980d7",
   "metadata": {},
   "outputs": [],
   "source": []
  },
  {
   "cell_type": "markdown",
   "id": "c70c3e39-c504-40df-bfc3-79c65e67508d",
   "metadata": {},
   "source": [
    "### 이미지 데이터를 불러오기\n",
    "- OpenCV 라이브러리(모듈) 활용"
   ]
  },
  {
   "cell_type": "code",
   "execution_count": 68,
   "id": "5abbe3f6-ef18-4f98-a52b-4d41644df731",
   "metadata": {},
   "outputs": [
    {
     "name": "stdout",
     "output_type": "stream",
     "text": [
      "Collecting opencv-python\n",
      "  Downloading opencv_python-4.11.0.86-cp37-abi3-macosx_13_0_arm64.whl.metadata (20 kB)\n",
      "Requirement already satisfied: numpy>=1.21.2 in /opt/anaconda3/lib/python3.12/site-packages (from opencv-python) (1.26.4)\n",
      "Downloading opencv_python-4.11.0.86-cp37-abi3-macosx_13_0_arm64.whl (37.3 MB)\n",
      "\u001b[2K   \u001b[90m━━━━━━━━━━━━━━━━━━━━━━━━━━━━━━━━━━━━━━━━\u001b[0m \u001b[32m37.3/37.3 MB\u001b[0m \u001b[31m22.0 MB/s\u001b[0m eta \u001b[36m0:00:00\u001b[0ma \u001b[36m0:00:01\u001b[0m\n",
      "\u001b[?25hInstalling collected packages: opencv-python\n",
      "Successfully installed opencv-python-4.11.0.86\n"
     ]
    }
   ],
   "source": [
    "!pip install opencv-python"
   ]
  },
  {
   "cell_type": "code",
   "execution_count": 74,
   "id": "fb810462-1888-4bf4-a101-ebd567fdb974",
   "metadata": {},
   "outputs": [
    {
     "data": {
      "text/plain": [
       "<matplotlib.image.AxesImage at 0x15240f980>"
      ]
     },
     "execution_count": 74,
     "metadata": {},
     "output_type": "execute_result"
    },
    {
     "data": {
      "image/png": "[encoded data removed]",
      "text/plain": [
       "<Figure size 640x480 with 1 Axes>"
      ]
     },
     "metadata": {},
     "output_type": "display_data"
    }
   ],
   "source": [
    "import cv2 #opencv 라이브러리(이미지/영샹 데이터 처리)\n",
    "import matplotlib.pyplot as plt\n",
    "\n",
    "# 이미지 경로\n",
    "img_path = './data/po.jpg'\n",
    "\n",
    "img = cv2.imread(img_path, cv2.IMREAD_COLOR) # 컬러 이미지로 불러옴\n",
    "img = cv2.cvtColor(img, cv2.COLOR_BGR2RGB)\n",
    "# cvtColor: 이미지 색상 변환 함수\n",
    "\n",
    "plt.imshow(img)"
   ]
  },
  {
   "cell_type": "code",
   "execution_count": null,
   "id": "5bacf9f9-7606-4afc-8c4e-1d6e2081324a",
   "metadata": {},
   "outputs": [],
   "source": []
  },
  {
   "cell_type": "code",
   "execution_count": null,
   "id": "e3b50f10-b8ac-415d-8545-142818557018",
   "metadata": {},
   "outputs": [],
   "source": []
  },
  {
   "cell_type": "code",
   "execution_count": null,
   "id": "04983479-ce67-4163-b999-d9f0cc288d69",
   "metadata": {},
   "outputs": [],
   "source": []
  },
  {
   "cell_type": "code",
   "execution_count": null,
   "id": "3ccc3b51-955e-4b14-919a-aff8f8541f71",
   "metadata": {},
   "outputs": [],
   "source": []
  },
  {
   "cell_type": "code",
   "execution_count": null,
   "id": "b9126b3f-e0b1-4141-a7b4-9125b472a340",
   "metadata": {},
   "outputs": [],
   "source": []
  },
  {
   "cell_type": "code",
   "execution_count": null,
   "id": "8ea7b026-35af-4243-8c00-4cb6c00c6ad5",
   "metadata": {},
   "outputs": [],
   "source": []
  },
  {
   "cell_type": "code",
   "execution_count": null,
   "id": "33ee655d-da39-489a-899e-04c8f62e630d",
   "metadata": {},
   "outputs": [],
   "source": []
  },
  {
   "cell_type": "code",
   "execution_count": null,
   "id": "9113e3fb-72e2-424d-89d6-6aad587125bb",
   "metadata": {},
   "outputs": [],
   "source": []
  },
  {
   "cell_type": "code",
   "execution_count": null,
   "id": "e429d5fd-6ec8-4973-97a9-c763d81af108",
   "metadata": {},
   "outputs": [],
   "source": []
  },
  {
   "cell_type": "code",
   "execution_count": null,
   "id": "28821ad9-6855-47f2-8f5a-a5bd978e111e",
   "metadata": {},
   "outputs": [],
   "source": []
  },
  {
   "cell_type": "code",
   "execution_count": null,
   "id": "c3c5c206-43b1-4555-9c3f-b75be1e21014",
   "metadata": {},
   "outputs": [],
   "source": []
  },
  {
   "cell_type": "code",
   "execution_count": null,
   "id": "acefbca7-5916-42c4-b4ae-c55bb51f10d7",
   "metadata": {},
   "outputs": [],
   "source": []
  },
  {
   "cell_type": "code",
   "execution_count": null,
   "id": "e36ec455-95d2-4756-9257-b531926c85e5",
   "metadata": {},
   "outputs": [],
   "source": []
  },
  {
   "cell_type": "code",
   "execution_count": null,
   "id": "feb6e97c-2fe3-4d77-ac8f-45c5fee50cd5",
   "metadata": {},
   "outputs": [],
   "source": []
  },
  {
   "cell_type": "code",
   "execution_count": null,
   "id": "d65e472d-de44-468f-bd70-84a356739277",
   "metadata": {},
   "outputs": [],
   "source": []
  },
  {
   "cell_type": "code",
   "execution_count": null,
   "id": "1aabbb40-2451-4e23-bb1d-815ae1d38329",
   "metadata": {},
   "outputs": [],
   "source": []
  },
  {
   "cell_type": "code",
   "execution_count": null,
   "id": "a50ab8e6-b651-4c11-9982-b769a1e1556a",
   "metadata": {},
   "outputs": [],
   "source": []
  },
  {
   "cell_type": "code",
   "execution_count": null,
   "id": "135ac539-0b96-409a-a509-1f751a5867a6",
   "metadata": {},
   "outputs": [],
   "source": []
  },
  {
   "cell_type": "code",
   "execution_count": null,
   "id": "9548a7cb-a9e6-4319-bc3c-8d8a56989031",
   "metadata": {},
   "outputs": [],
   "source": []
  },
  {
   "cell_type": "code",
   "execution_count": null,
   "id": "e6945cc7-7e10-4d7e-823f-28ccc7e3c37b",
   "metadata": {},
   "outputs": [],
   "source": []
  },
  {
   "cell_type": "code",
   "execution_count": null,
   "id": "f84198c4-f908-43f8-b12e-470d9a9dc410",
   "metadata": {},
   "outputs": [],
   "source": []
  },
  {
   "cell_type": "code",
   "execution_count": null,
   "id": "d02213b7-d4e9-42a8-ac09-ec21ecc7fc32",
   "metadata": {},
   "outputs": [],
   "source": []
  },
  {
   "cell_type": "code",
   "execution_count": null,
   "id": "060e76f3-c753-4189-9779-8c5234aeb9ff",
   "metadata": {},
   "outputs": [],
   "source": []
  },
  {
   "cell_type": "code",
   "execution_count": null,
   "id": "1bc78ae7-394a-4762-bcb6-4c67d4ce87c3",
   "metadata": {},
   "outputs": [],
   "source": []
  },
  {
   "cell_type": "code",
   "execution_count": null,
   "id": "bb0eafa4-c89e-465d-a090-f87e1b0380df",
   "metadata": {},
   "outputs": [],
   "source": []
  },
  {
   "cell_type": "code",
   "execution_count": null,
   "id": "c59150e6-8850-417f-bf80-ddb39e498615",
   "metadata": {},
   "outputs": [],
   "source": []
  },
  {
   "cell_type": "code",
   "execution_count": null,
   "id": "51fc1bb1-b0c8-47bf-8aee-4308d8791a5d",
   "metadata": {},
   "outputs": [],
   "source": []
  },
  {
   "cell_type": "code",
   "execution_count": null,
   "id": "813b0ccb-4f1f-41c7-8fbd-8c85c04e5c1b",
   "metadata": {},
   "outputs": [],
   "source": []
  },
  {
   "cell_type": "code",
   "execution_count": null,
   "id": "13dde9de-0a47-4f8c-afff-72ad5cd98592",
   "metadata": {},
   "outputs": [],
   "source": []
  },
  {
   "cell_type": "code",
   "execution_count": null,
   "id": "cb501705-1522-45ca-8d22-d5259221907b",
   "metadata": {},
   "outputs": [],
   "source": []
  },
  {
   "cell_type": "code",
   "execution_count": null,
   "id": "70314dc7-7aaa-48d3-a547-547e12d08128",
   "metadata": {},
   "outputs": [],
   "source": []
  },
  {
   "cell_type": "code",
   "execution_count": null,
   "id": "4104861c-5fb4-4c86-aff9-9b383c476937",
   "metadata": {},
   "outputs": [],
   "source": []
  },
  {
   "cell_type": "code",
   "execution_count": null,
   "id": "3f0de4dd-381e-47a2-b1aa-d9d7cf914425",
   "metadata": {},
   "outputs": [],
   "source": []
  }
 ],
 "metadata": {
  "kernelspec": {
   "display_name": "Python [conda env:base] *",
   "language": "python",
   "name": "conda-base-py"
  },
  "language_info": {
   "codemirror_mode": {
    "name": "ipython",
    "version": 3
   },
   "file_extension": ".py",
   "mimetype": "text/x-python",
   "name": "python",
   "nbconvert_exporter": "python",
   "pygments_lexer": "ipython3",
   "version": "3.12.7"
  }
 },
 "nbformat": 4,
 "nbformat_minor": 5
}
