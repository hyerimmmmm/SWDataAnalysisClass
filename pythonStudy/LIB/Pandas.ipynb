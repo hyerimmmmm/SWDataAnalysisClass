{
 "cells": [
  {
   "cell_type": "markdown",
   "id": "93a330a6-1b70-4ce4-937e-5df465555647",
   "metadata": {},
   "source": [
    "### Series: 1차원 데이터 자료 형식\n",
    "- 인덱스 + 값으로 구성"
   ]
  },
  {
   "cell_type": "raw",
   "id": "529fce1a-186b-42f7-b0df-1241c9b8c40d",
   "metadata": {},
   "source": [
    "Series 만들기\n",
    "- 각 도시들의 인구수를 Series로 만들어보자"
   ]
  },
  {
   "cell_type": "code",
   "execution_count": 8,
   "id": "4395cc61-be01-442a-8ec9-496e63316138",
   "metadata": {},
   "outputs": [],
   "source": [
    "import pandas as pd"
   ]
  },
  {
   "cell_type": "code",
   "execution_count": 12,
   "id": "fc912cdd-1042-48a4-91e8-4858bdfe03dc",
   "metadata": {},
   "outputs": [
    {
     "data": {
      "text/plain": [
       "0    9901232\n",
       "1    3441423\n",
       "2    2891323\n",
       "3    2462123\n",
       "dtype: int64"
      ]
     },
     "execution_count": 12,
     "metadata": {},
     "output_type": "execute_result"
    }
   ],
   "source": [
    "# Series 만들기\n",
    "# Pandas의 Series 함수 사용\n",
    "\n",
    "pop = pd.Series([9901232, 3441423, 2891323, 2462123])\n",
    "pop"
   ]
  },
  {
   "cell_type": "code",
   "execution_count": 18,
   "id": "d2d583c8-3db2-4a9e-a898-0a4c60bd49e4",
   "metadata": {},
   "outputs": [
    {
     "data": {
      "text/plain": [
       "서울    9901232\n",
       "부산    3441423\n",
       "인천    2891323\n",
       "대구    2462123\n",
       "dtype: int64"
      ]
     },
     "execution_count": 18,
     "metadata": {},
     "output_type": "execute_result"
    }
   ],
   "source": [
    "# 인덱스 각각에 이름을 부여\n",
    "# Series.index = [값, 값, ...]\n",
    "\n",
    "pop.index = ['서울', '부산', '인천', '대구']\n",
    "pop"
   ]
  },
  {
   "cell_type": "code",
   "execution_count": 24,
   "id": "a8eaf3fc-7e36-4e0a-97d1-a5a3dde1ea10",
   "metadata": {},
   "outputs": [
    {
     "data": {
      "text/plain": [
       "써울    9901232\n",
       "부산    3441423\n",
       "인천    2891323\n",
       "대구    2462123\n",
       "dtype: int64"
      ]
     },
     "execution_count": 24,
     "metadata": {},
     "output_type": "execute_result"
    }
   ],
   "source": [
    "# 이름을 재설정\n",
    "# Series.rename({기존값:바꿀값})\n",
    "\n",
    "pop.rename({'서울':'써울'})\n"
   ]
  },
  {
   "cell_type": "code",
   "execution_count": 30,
   "id": "d8720864-c449-4f57-b451-3020e54d15e1",
   "metadata": {},
   "outputs": [
    {
     "data": {
      "text/plain": [
       "서울    9901232\n",
       "부산    3441423\n",
       "인천    2891323\n",
       "대구    2462123\n",
       "dtype: int64"
      ]
     },
     "execution_count": 30,
     "metadata": {},
     "output_type": "execute_result"
    }
   ],
   "source": [
    "# Series의 인덱스 이름을 부여해서 만들기\n",
    "\n",
    "pop = pd.Series([9901232, 3441423, 2891323, 2462123],\n",
    "               index = ['서울', '부산', '인천', '대구']\n",
    "               )\n",
    "\n",
    "pop"
   ]
  },
  {
   "cell_type": "code",
   "execution_count": 34,
   "id": "325e0d13-9e9b-4758-b8a5-bbf92d8fc089",
   "metadata": {},
   "outputs": [
    {
     "data": {
      "text/plain": [
       "서울    9901232\n",
       "부산    3441423\n",
       "인천    2891323\n",
       "대구    2462123\n",
       "dtype: int64"
      ]
     },
     "execution_count": 34,
     "metadata": {},
     "output_type": "execute_result"
    }
   ],
   "source": [
    "# 딕셔너리로 Series 생성\n",
    "# 딕셔너리의 키값이 인덱스의 이름으로 들어감\n",
    "pop = pd.Series({'서울' : 9901232, '부산': 3441423, '인천': 2891323, '대구': 2462123})\n",
    "pop"
   ]
  },
  {
   "cell_type": "code",
   "execution_count": 38,
   "id": "2b7603f2-675d-49b4-8959-651a87fd1c5d",
   "metadata": {},
   "outputs": [
    {
     "data": {
      "text/plain": [
       "서울    9901232\n",
       "부산    3441423\n",
       "인천    2891323\n",
       "대구    2462123\n",
       "Name: 인구수, dtype: int64"
      ]
     },
     "execution_count": 38,
     "metadata": {},
     "output_type": "execute_result"
    }
   ],
   "source": [
    "# Series에 이름을 부여하기\n",
    "\n",
    "pop.name = '인구수'\n",
    "pop"
   ]
  },
  {
   "cell_type": "code",
   "execution_count": 40,
   "id": "1e1f4fd8-ff31-4162-9202-cc4c0d0ac1e5",
   "metadata": {},
   "outputs": [
    {
     "data": {
      "text/plain": [
       "도시\n",
       "서울    9901232\n",
       "부산    3441423\n",
       "인천    2891323\n",
       "대구    2462123\n",
       "Name: 인구수, dtype: int64"
      ]
     },
     "execution_count": 40,
     "metadata": {},
     "output_type": "execute_result"
    }
   ],
   "source": [
    "# Series의 인덱스 전체(그룹)에 이름을 부여하기\n",
    "\n",
    "pop.index.name = '도시'\n",
    "pop"
   ]
  },
  {
   "cell_type": "code",
   "execution_count": null,
   "id": "23610a2b-63bd-4293-9952-5c536ff1aad6",
   "metadata": {},
   "outputs": [],
   "source": []
  },
  {
   "cell_type": "markdown",
   "id": "171645e9-1d26-4d91-ac29-6765bbde48c5",
   "metadata": {},
   "source": [
    "### Series의 데이터 확인 (속성 확인)"
   ]
  },
  {
   "cell_type": "code",
   "execution_count": 43,
   "id": "d602f5dd-89f0-41a2-916c-933a7efad521",
   "metadata": {},
   "outputs": [
    {
     "data": {
      "text/plain": [
       "array([9901232, 3441423, 2891323, 2462123])"
      ]
     },
     "execution_count": 43,
     "metadata": {},
     "output_type": "execute_result"
    }
   ],
   "source": [
    "# Series의 값들 확인\n",
    "# Series.values\n",
    "\n",
    "pop.values"
   ]
  },
  {
   "cell_type": "code",
   "execution_count": 49,
   "id": "b3b0bc7b-e4b5-414c-98d4-3ed0f66279b3",
   "metadata": {},
   "outputs": [
    {
     "data": {
      "text/plain": [
       "numpy.ndarray"
      ]
     },
     "execution_count": 49,
     "metadata": {},
     "output_type": "execute_result"
    }
   ],
   "source": [
    "type(pop.values) # pandas 라이브러리가 numpy를 바탕으로 만들어졌기 때문"
   ]
  },
  {
   "cell_type": "code",
   "execution_count": 51,
   "id": "7e6d3f59-88d2-4ae5-878f-3d062a0ae7fa",
   "metadata": {},
   "outputs": [
    {
     "data": {
      "text/plain": [
       "Index(['서울', '부산', '인천', '대구'], dtype='object', name='도시')"
      ]
     },
     "execution_count": 51,
     "metadata": {},
     "output_type": "execute_result"
    }
   ],
   "source": [
    "# Series의 인덱스 확인하기\n",
    "# Series.index\n",
    "\n",
    "pop.index"
   ]
  },
  {
   "cell_type": "code",
   "execution_count": 53,
   "id": "a4c34397-1a6f-4049-a03a-554b72eebe6f",
   "metadata": {},
   "outputs": [
    {
     "data": {
      "text/plain": [
       "dtype('int64')"
      ]
     },
     "execution_count": 53,
     "metadata": {},
     "output_type": "execute_result"
    }
   ],
   "source": [
    "# Series의 데이터 타입 확인하기\n",
    "# Series.dtype\n",
    "\n",
    "pop.dtype"
   ]
  },
  {
   "cell_type": "code",
   "execution_count": null,
   "id": "35f9427e-d3a3-45cb-8877-1c9976a83e8e",
   "metadata": {},
   "outputs": [],
   "source": []
  },
  {
   "cell_type": "markdown",
   "id": "8c2f0b3f-34fd-43b8-a58d-a64d63979ae8",
   "metadata": {},
   "source": [
    "### 인덱싱"
   ]
  },
  {
   "cell_type": "code",
   "execution_count": 56,
   "id": "5dc762e1-6037-432f-b62e-59c75e46d5f9",
   "metadata": {},
   "outputs": [
    {
     "data": {
      "text/plain": [
       "도시\n",
       "서울    9901232\n",
       "부산    3441423\n",
       "인천    2891323\n",
       "대구    2462123\n",
       "Name: 인구수, dtype: int64"
      ]
     },
     "execution_count": 56,
     "metadata": {},
     "output_type": "execute_result"
    }
   ],
   "source": [
    "pop"
   ]
  },
  {
   "cell_type": "code",
   "execution_count": 58,
   "id": "3cd123bb-6f11-4b6e-986f-e65890623f45",
   "metadata": {},
   "outputs": [
    {
     "data": {
      "text/plain": [
       "9901232"
      ]
     },
     "execution_count": 58,
     "metadata": {},
     "output_type": "execute_result"
    }
   ],
   "source": [
    "# 인덱스의 이름으로 인덱싱\n",
    "\n",
    "pop['서울']"
   ]
  },
  {
   "cell_type": "code",
   "execution_count": 60,
   "id": "d84e6e13-905d-42d6-a701-19c133269623",
   "metadata": {},
   "outputs": [
    {
     "name": "stderr",
     "output_type": "stream",
     "text": [
      "/var/folders/wp/kc67w1qs78j6fmlzz9psj5cw0000gn/T/ipykernel_20530/997359403.py:2: FutureWarning: Series.__getitem__ treating keys as positions is deprecated. In a future version, integer keys will always be treated as labels (consistent with DataFrame behavior). To access a value by position, use `ser.iloc[pos]`\n",
      "  pop[1]\n"
     ]
    },
    {
     "data": {
      "text/plain": [
       "3441423"
      ]
     },
     "execution_count": 60,
     "metadata": {},
     "output_type": "execute_result"
    }
   ],
   "source": [
    "# 인덱스 번호로 인덱싱\n",
    "pop[1]"
   ]
  },
  {
   "cell_type": "code",
   "execution_count": 68,
   "id": "788a9129-18c7-4217-a563-87ac2d2e0ae1",
   "metadata": {},
   "outputs": [
    {
     "data": {
      "text/plain": [
       "도시\n",
       "부산    3441423\n",
       "대구    2462123\n",
       "Name: 인구수, dtype: int64"
      ]
     },
     "execution_count": 68,
     "metadata": {},
     "output_type": "execute_result"
    }
   ],
   "source": [
    "# 여러 도시를 인덱싱\n",
    "# 인덱스를 '리스트'의 형태로 입력\n",
    "\n",
    "pop[['부산', '대구']]"
   ]
  },
  {
   "cell_type": "code",
   "execution_count": null,
   "id": "d95c38d3-104b-4c5f-84f2-e06c8bc6a016",
   "metadata": {},
   "outputs": [],
   "source": []
  },
  {
   "cell_type": "markdown",
   "id": "707fa8d4-0bbb-4989-ace1-eb2b2b456949",
   "metadata": {},
   "source": [
    "### 슬라이싱"
   ]
  },
  {
   "cell_type": "code",
   "execution_count": 71,
   "id": "859c431a-7e64-48d4-b5f5-c0cd80d18622",
   "metadata": {},
   "outputs": [
    {
     "data": {
      "text/plain": [
       "도시\n",
       "서울    9901232\n",
       "부산    3441423\n",
       "인천    2891323\n",
       "대구    2462123\n",
       "Name: 인구수, dtype: int64"
      ]
     },
     "execution_count": 71,
     "metadata": {},
     "output_type": "execute_result"
    }
   ],
   "source": [
    "pop"
   ]
  },
  {
   "cell_type": "code",
   "execution_count": 75,
   "id": "87f04561-73bd-4981-bb0b-88905d278a54",
   "metadata": {},
   "outputs": [
    {
     "data": {
      "text/plain": [
       "도시\n",
       "부산    3441423\n",
       "인천    2891323\n",
       "Name: 인구수, dtype: int64"
      ]
     },
     "execution_count": 75,
     "metadata": {},
     "output_type": "execute_result"
    }
   ],
   "source": [
    "# 인덱스 번호로 슬라이싱\n",
    "pop[1 : 3]"
   ]
  },
  {
   "cell_type": "code",
   "execution_count": 83,
   "id": "d8a7f914-0e27-44a1-9f32-931fd6737230",
   "metadata": {},
   "outputs": [
    {
     "data": {
      "text/plain": [
       "도시\n",
       "부산    3441423\n",
       "인천    2891323\n",
       "Name: 인구수, dtype: int64"
      ]
     },
     "execution_count": 83,
     "metadata": {},
     "output_type": "execute_result"
    }
   ],
   "source": [
    "# 인덱스 이름으로 슬라이싱\n",
    "# 인덱스 이름으로 슬라이싱 하는 경우에는 끝값 포함\n",
    "pop['부산':'인천']"
   ]
  },
  {
   "cell_type": "code",
   "execution_count": null,
   "id": "5d5c7147-9f7c-4e8a-9842-25c50361db06",
   "metadata": {},
   "outputs": [],
   "source": []
  },
  {
   "cell_type": "markdown",
   "id": "47068212-7b96-4b68-be09-a053d29021cb",
   "metadata": {},
   "source": [
    "### 불리언 인덱싱\n",
    "- 특정 조건에 맞는 데이터를 가져올 때 사용\n",
    "- 인덱스 번호 대신, 조건식을 입력"
   ]
  },
  {
   "cell_type": "code",
   "execution_count": 90,
   "id": "f2c18b74-fae7-47cd-add3-264a5a970541",
   "metadata": {},
   "outputs": [
    {
     "data": {
      "text/plain": [
       "도시\n",
       "인천    2891323\n",
       "대구    2462123\n",
       "Name: 인구수, dtype: int64"
      ]
     },
     "execution_count": 90,
     "metadata": {},
     "output_type": "execute_result"
    }
   ],
   "source": [
    "# Series에서 불리언 값을 불러와보기\n",
    "# 인구가 300만 미만인가?\n",
    "\n",
    "pop[pop < 3000000]"
   ]
  },
  {
   "cell_type": "code",
   "execution_count": 96,
   "id": "3145df51-daa5-459a-9459-821d1f9d0150",
   "metadata": {},
   "outputs": [
    {
     "data": {
      "text/plain": [
       "도시\n",
       "부산    3441423\n",
       "인천    2891323\n",
       "Name: 인구수, dtype: int64"
      ]
     },
     "execution_count": 96,
     "metadata": {},
     "output_type": "execute_result"
    }
   ],
   "source": [
    "# 인구가 250만 초과이고, 500만 미만인 도시들을 가져오기\n",
    "\n",
    "pop[(pop < 5000000) & (pop > 2500000)]"
   ]
  },
  {
   "cell_type": "code",
   "execution_count": null,
   "id": "ccb0f97e-11ed-4329-8dfd-e6ea788d4ac6",
   "metadata": {},
   "outputs": [],
   "source": []
  },
  {
   "cell_type": "markdown",
   "id": "4e5a6fa1-8bcf-4f26-a50f-facf3e7a998d",
   "metadata": {},
   "source": [
    "#### Series 데이터 변경, 추가, 삭제"
   ]
  },
  {
   "cell_type": "code",
   "execution_count": 99,
   "id": "7084c982-fe47-46d6-9650-e280c48eb876",
   "metadata": {},
   "outputs": [
    {
     "data": {
      "text/plain": [
       "도시\n",
       "서울    9901232\n",
       "부산    3441423\n",
       "인천    2891323\n",
       "대구    2462123\n",
       "Name: 인구수, dtype: int64"
      ]
     },
     "execution_count": 99,
     "metadata": {},
     "output_type": "execute_result"
    }
   ],
   "source": [
    "pop"
   ]
  },
  {
   "cell_type": "code",
   "execution_count": 113,
   "id": "fe184c09-5cfa-4989-b8c5-8f45e15c0cae",
   "metadata": {},
   "outputs": [
    {
     "data": {
      "text/plain": [
       "도시\n",
       "서울    9901232\n",
       "부산    3400000\n",
       "인천    2891323\n",
       "대구    2462123\n",
       "대전    2400000\n",
       "Name: 인구수, dtype: int64"
      ]
     },
     "execution_count": 113,
     "metadata": {},
     "output_type": "execute_result"
    }
   ],
   "source": [
    "# 데이터 변경\n",
    "# 인덱싱으로 값을 불러와서 새로운 값을 넣어줌\n",
    "\n",
    "pop['부산'] = 3400000\n",
    "pop"
   ]
  },
  {
   "cell_type": "code",
   "execution_count": 111,
   "id": "eca470bb-68d2-4114-bf81-5043f9b42e7d",
   "metadata": {},
   "outputs": [
    {
     "data": {
      "text/plain": [
       "도시\n",
       "서울    9901232\n",
       "부산    3400000\n",
       "인천    2891323\n",
       "대구    2462123\n",
       "대전    2400000\n",
       "Name: 인구수, dtype: int64"
      ]
     },
     "execution_count": 111,
     "metadata": {},
     "output_type": "execute_result"
    }
   ],
   "source": [
    "# 데이터 추가\n",
    "# 기존에 입력한 적 없는 인덱스에 데이터를 삽입\n",
    "\n",
    "pop['대전'] = 2400000\n",
    "pop"
   ]
  },
  {
   "cell_type": "code",
   "execution_count": 121,
   "id": "0f1da2f3-e0d8-45f0-bdbc-23bb8bedecb0",
   "metadata": {},
   "outputs": [],
   "source": [
    "# 데이터 삭제\n",
    "\n",
    "del pop['대전']\n",
    "\n",
    "pop"
   ]
  },
  {
   "cell_type": "code",
   "execution_count": null,
   "id": "c886225b-14cd-4e4d-b9b1-e62fba0d954a",
   "metadata": {},
   "outputs": [],
   "source": []
  },
  {
   "cell_type": "code",
   "execution_count": null,
   "id": "f7ed86fa-a8dc-42ac-87d8-81167dd6d688",
   "metadata": {},
   "outputs": [],
   "source": []
  },
  {
   "cell_type": "markdown",
   "id": "e11160ea-11cd-4f4f-9b13-5116b5ffe61f",
   "metadata": {},
   "source": [
    "### DataFrame(2차원 데이터) 만들기"
   ]
  },
  {
   "cell_type": "code",
   "execution_count": 134,
   "id": "34ee90c0-6215-4e0e-a930-163541f2e3a8",
   "metadata": {},
   "outputs": [
    {
     "data": {
      "text/html": [
       "<div>\n",
       "<style scoped>\n",
       "    .dataframe tbody tr th:only-of-type {\n",
       "        vertical-align: middle;\n",
       "    }\n",
       "\n",
       "    .dataframe tbody tr th {\n",
       "        vertical-align: top;\n",
       "    }\n",
       "\n",
       "    .dataframe thead th {\n",
       "        text-align: right;\n",
       "    }\n",
       "</style>\n",
       "<table border=\"1\" class=\"dataframe\">\n",
       "  <thead>\n",
       "    <tr style=\"text-align: right;\">\n",
       "      <th></th>\n",
       "      <th>서울</th>\n",
       "      <th>부산</th>\n",
       "      <th>인천</th>\n",
       "      <th>대구</th>\n",
       "    </tr>\n",
       "  </thead>\n",
       "  <tbody>\n",
       "    <tr>\n",
       "      <th>2015</th>\n",
       "      <td>9904312</td>\n",
       "      <td>3448737</td>\n",
       "      <td>2890451</td>\n",
       "      <td>2466052</td>\n",
       "    </tr>\n",
       "    <tr>\n",
       "      <th>2010</th>\n",
       "      <td>9631482</td>\n",
       "      <td>3393191</td>\n",
       "      <td>2632035</td>\n",
       "      <td>2431774</td>\n",
       "    </tr>\n",
       "  </tbody>\n",
       "</table>\n",
       "</div>"
      ],
      "text/plain": [
       "           서울       부산       인천       대구\n",
       "2015  9904312  3448737  2890451  2466052\n",
       "2010  9631482  3393191  2632035  2431774"
      ]
     },
     "execution_count": 134,
     "metadata": {},
     "output_type": "execute_result"
    }
   ],
   "source": [
    "# 딕셔너리를 이용해 데이터 프레임 생성 하기\n",
    "# 자료\n",
    "data = {\n",
    "    '서울': [9904312, 9631482],\n",
    "    '부산': [3448737, 3393191],\n",
    "    '인천': [2890451, 2632035],\n",
    "    '대구': [2466052, 2431774],\n",
    "}\n",
    "\n",
    "# 인덱스\n",
    "ind = ['2015', '2010']\n",
    "\n",
    "pop = pd.DataFrame(data, ind) # 자료, 인덱스 순으로 넣어주기\n",
    "pop\n",
    "\n",
    "# Series: key 값이 인덱스의 이름으로 사용\n",
    "# DataFrame: key 값이 컬럼명으로 사용"
   ]
  },
  {
   "cell_type": "code",
   "execution_count": 138,
   "id": "8c8c7831-5fd4-4bc1-b0ba-a551ed58e860",
   "metadata": {},
   "outputs": [
    {
     "data": {
      "text/html": [
       "<div>\n",
       "<style scoped>\n",
       "    .dataframe tbody tr th:only-of-type {\n",
       "        vertical-align: middle;\n",
       "    }\n",
       "\n",
       "    .dataframe tbody tr th {\n",
       "        vertical-align: top;\n",
       "    }\n",
       "\n",
       "    .dataframe thead th {\n",
       "        text-align: right;\n",
       "    }\n",
       "</style>\n",
       "<table border=\"1\" class=\"dataframe\">\n",
       "  <thead>\n",
       "    <tr style=\"text-align: right;\">\n",
       "      <th></th>\n",
       "      <th>서울</th>\n",
       "      <th>부산</th>\n",
       "      <th>인천</th>\n",
       "      <th>대구</th>\n",
       "    </tr>\n",
       "  </thead>\n",
       "  <tbody>\n",
       "    <tr>\n",
       "      <th>2015</th>\n",
       "      <td>9904312</td>\n",
       "      <td>3448737</td>\n",
       "      <td>2890451</td>\n",
       "      <td>2466052</td>\n",
       "    </tr>\n",
       "    <tr>\n",
       "      <th>2010</th>\n",
       "      <td>9631482</td>\n",
       "      <td>3393191</td>\n",
       "      <td>2632035</td>\n",
       "      <td>2431774</td>\n",
       "    </tr>\n",
       "  </tbody>\n",
       "</table>\n",
       "</div>"
      ],
      "text/plain": [
       "           서울       부산       인천       대구\n",
       "2015  9904312  3448737  2890451  2466052\n",
       "2010  9631482  3393191  2632035  2431774"
      ]
     },
     "execution_count": 138,
     "metadata": {},
     "output_type": "execute_result"
    }
   ],
   "source": [
    "# 리스트를 이용해 데이터 프레임 생성 하기\n",
    "\n",
    "data = [[9904312,3448737,2890451,2466052],\n",
    "        [9631482,3393191,2632035,2431774]]\n",
    "\n",
    "ind = ['2015', '2010']\n",
    "\n",
    "col = ['서울', '부산', '인천', '대구']\n",
    "\n",
    "pop = pd.DataFrame(data, index = ind, columns = col) # 자료, 인덱스 이름, 컬럼명 순으로 넣어주기\n",
    "\n",
    "pop"
   ]
  },
  {
   "cell_type": "code",
   "execution_count": 144,
   "id": "48fe54b1-888e-43e2-b79b-ca32744b054a",
   "metadata": {},
   "outputs": [
    {
     "data": {
      "text/html": [
       "<div>\n",
       "<style scoped>\n",
       "    .dataframe tbody tr th:only-of-type {\n",
       "        vertical-align: middle;\n",
       "    }\n",
       "\n",
       "    .dataframe tbody tr th {\n",
       "        vertical-align: top;\n",
       "    }\n",
       "\n",
       "    .dataframe thead th {\n",
       "        text-align: right;\n",
       "    }\n",
       "</style>\n",
       "<table border=\"1\" class=\"dataframe\">\n",
       "  <thead>\n",
       "    <tr style=\"text-align: right;\">\n",
       "      <th></th>\n",
       "      <th>서울시</th>\n",
       "      <th>부산시</th>\n",
       "      <th>인천</th>\n",
       "      <th>대구</th>\n",
       "    </tr>\n",
       "  </thead>\n",
       "  <tbody>\n",
       "    <tr>\n",
       "      <th>2016</th>\n",
       "      <td>9904312</td>\n",
       "      <td>3448737</td>\n",
       "      <td>2890451</td>\n",
       "      <td>2466052</td>\n",
       "    </tr>\n",
       "    <tr>\n",
       "      <th>2011</th>\n",
       "      <td>9631482</td>\n",
       "      <td>3393191</td>\n",
       "      <td>2632035</td>\n",
       "      <td>2431774</td>\n",
       "    </tr>\n",
       "  </tbody>\n",
       "</table>\n",
       "</div>"
      ],
      "text/plain": [
       "          서울시      부산시       인천       대구\n",
       "2016  9904312  3448737  2890451  2466052\n",
       "2011  9631482  3393191  2632035  2431774"
      ]
     },
     "execution_count": 144,
     "metadata": {},
     "output_type": "execute_result"
    }
   ],
   "source": [
    "# 인덱스의 이름 변경\n",
    "# DF.rename(index = {'바꾸기 전': '바꾼 후'}, colums = {'바꾸기 전': '바꾼 후'})\n",
    "\n",
    "pop.rename(index = {'2015': '2016', '2010': '2011'}, columns = {'서울': '서울시', '부산': '부산시'})"
   ]
  },
  {
   "cell_type": "markdown",
   "id": "36a8d5eb-576e-4fba-abb4-8a6bd8e7a683",
   "metadata": {},
   "source": [
    "### 정리\n",
    "- DF을 생성하는 방법은 2가지\n",
    "  - 딕셔너리 방식은 key 값이 컬럼명, value값이 위에서 아래로\n",
    "  - 리스트 방식은 데이터가 보이는 위치 그대로 들어감"
   ]
  },
  {
   "cell_type": "code",
   "execution_count": null,
   "id": "132ac58f-634f-4451-85c8-f24a59a6c65a",
   "metadata": {},
   "outputs": [],
   "source": []
  },
  {
   "cell_type": "code",
   "execution_count": 151,
   "id": "d5438a23-7593-40c3-95c0-adbe1fa0ddc9",
   "metadata": {},
   "outputs": [
    {
     "data": {
      "text/html": [
       "<div>\n",
       "<style scoped>\n",
       "    .dataframe tbody tr th:only-of-type {\n",
       "        vertical-align: middle;\n",
       "    }\n",
       "\n",
       "    .dataframe tbody tr th {\n",
       "        vertical-align: top;\n",
       "    }\n",
       "\n",
       "    .dataframe thead th {\n",
       "        text-align: right;\n",
       "    }\n",
       "</style>\n",
       "<table border=\"1\" class=\"dataframe\">\n",
       "  <thead>\n",
       "    <tr style=\"text-align: right;\">\n",
       "      <th></th>\n",
       "      <th>2015</th>\n",
       "      <th>2010</th>\n",
       "    </tr>\n",
       "  </thead>\n",
       "  <tbody>\n",
       "    <tr>\n",
       "      <th>서울</th>\n",
       "      <td>9904312</td>\n",
       "      <td>9631482</td>\n",
       "    </tr>\n",
       "    <tr>\n",
       "      <th>부산</th>\n",
       "      <td>3448737</td>\n",
       "      <td>3393191</td>\n",
       "    </tr>\n",
       "    <tr>\n",
       "      <th>인천</th>\n",
       "      <td>2890451</td>\n",
       "      <td>2632035</td>\n",
       "    </tr>\n",
       "    <tr>\n",
       "      <th>대구</th>\n",
       "      <td>2466052</td>\n",
       "      <td>2431774</td>\n",
       "    </tr>\n",
       "  </tbody>\n",
       "</table>\n",
       "</div>"
      ],
      "text/plain": [
       "       2015     2010\n",
       "서울  9904312  9631482\n",
       "부산  3448737  3393191\n",
       "인천  2890451  2632035\n",
       "대구  2466052  2431774"
      ]
     },
     "execution_count": 151,
     "metadata": {},
     "output_type": "execute_result"
    }
   ],
   "source": [
    "# 전치\n",
    "# 전치 시키면 딕셔너리와 형태가 같아짐\n",
    "pop = pop.T\n",
    "pop"
   ]
  },
  {
   "cell_type": "code",
   "execution_count": 163,
   "id": "23e541ba-dec6-4631-8e62-37550277fbf6",
   "metadata": {},
   "outputs": [
    {
     "data": {
      "text/html": [
       "<div>\n",
       "<style scoped>\n",
       "    .dataframe tbody tr th:only-of-type {\n",
       "        vertical-align: middle;\n",
       "    }\n",
       "\n",
       "    .dataframe tbody tr th {\n",
       "        vertical-align: top;\n",
       "    }\n",
       "\n",
       "    .dataframe thead th {\n",
       "        text-align: right;\n",
       "    }\n",
       "</style>\n",
       "<table border=\"1\" class=\"dataframe\">\n",
       "  <thead>\n",
       "    <tr style=\"text-align: right;\">\n",
       "      <th></th>\n",
       "      <th>2015</th>\n",
       "      <th>2010</th>\n",
       "    </tr>\n",
       "  </thead>\n",
       "  <tbody>\n",
       "    <tr>\n",
       "      <th>서울</th>\n",
       "      <td>90000000</td>\n",
       "      <td>9631482</td>\n",
       "    </tr>\n",
       "    <tr>\n",
       "      <th>부산</th>\n",
       "      <td>23450000</td>\n",
       "      <td>3393191</td>\n",
       "    </tr>\n",
       "    <tr>\n",
       "      <th>인천</th>\n",
       "      <td>2342234</td>\n",
       "      <td>2632035</td>\n",
       "    </tr>\n",
       "    <tr>\n",
       "      <th>대구</th>\n",
       "      <td>5029384</td>\n",
       "      <td>2431774</td>\n",
       "    </tr>\n",
       "  </tbody>\n",
       "</table>\n",
       "</div>"
      ],
      "text/plain": [
       "        2015     2010\n",
       "서울  90000000  9631482\n",
       "부산  23450000  3393191\n",
       "인천   2342234  2632035\n",
       "대구   5029384  2431774"
      ]
     },
     "execution_count": 163,
     "metadata": {},
     "output_type": "execute_result"
    }
   ],
   "source": [
    "# DataFrame의 컬럼 변경\n",
    "# 기존 컬럼을 인덱싱 해서 새로운 값 대입\n",
    "# 인덱싱은 컬럼에만 접근가능\n",
    "\n",
    "pop['2015'] = [90000000, 23450000, 2342234, 5029384]\n",
    "pop"
   ]
  },
  {
   "cell_type": "code",
   "execution_count": 165,
   "id": "c011f3dd-9a38-4ad8-b013-f3c031af0b4d",
   "metadata": {},
   "outputs": [
    {
     "data": {
      "text/plain": [
       "90000000"
      ]
     },
     "execution_count": 165,
     "metadata": {},
     "output_type": "execute_result"
    }
   ],
   "source": [
    "pop['2015']['서울']"
   ]
  },
  {
   "cell_type": "code",
   "execution_count": null,
   "id": "a8d090e0-0e30-4f7f-b4f3-c07395414b7e",
   "metadata": {},
   "outputs": [],
   "source": []
  },
  {
   "cell_type": "code",
   "execution_count": 169,
   "id": "ef855c91-a8c2-45dc-9228-5bbfc6f59f14",
   "metadata": {},
   "outputs": [
    {
     "data": {
      "text/html": [
       "<div>\n",
       "<style scoped>\n",
       "    .dataframe tbody tr th:only-of-type {\n",
       "        vertical-align: middle;\n",
       "    }\n",
       "\n",
       "    .dataframe tbody tr th {\n",
       "        vertical-align: top;\n",
       "    }\n",
       "\n",
       "    .dataframe thead th {\n",
       "        text-align: right;\n",
       "    }\n",
       "</style>\n",
       "<table border=\"1\" class=\"dataframe\">\n",
       "  <thead>\n",
       "    <tr style=\"text-align: right;\">\n",
       "      <th></th>\n",
       "      <th>2015</th>\n",
       "      <th>2010</th>\n",
       "      <th>2005</th>\n",
       "    </tr>\n",
       "  </thead>\n",
       "  <tbody>\n",
       "    <tr>\n",
       "      <th>서울</th>\n",
       "      <td>90000000</td>\n",
       "      <td>9631482</td>\n",
       "      <td>1</td>\n",
       "    </tr>\n",
       "    <tr>\n",
       "      <th>부산</th>\n",
       "      <td>23450000</td>\n",
       "      <td>3393191</td>\n",
       "      <td>2</td>\n",
       "    </tr>\n",
       "    <tr>\n",
       "      <th>인천</th>\n",
       "      <td>2342234</td>\n",
       "      <td>2632035</td>\n",
       "      <td>3</td>\n",
       "    </tr>\n",
       "    <tr>\n",
       "      <th>대구</th>\n",
       "      <td>5029384</td>\n",
       "      <td>2431774</td>\n",
       "      <td>4</td>\n",
       "    </tr>\n",
       "  </tbody>\n",
       "</table>\n",
       "</div>"
      ],
      "text/plain": [
       "        2015     2010  2005\n",
       "서울  90000000  9631482     1\n",
       "부산  23450000  3393191     2\n",
       "인천   2342234  2632035     3\n",
       "대구   5029384  2431774     4"
      ]
     },
     "execution_count": 169,
     "metadata": {},
     "output_type": "execute_result"
    }
   ],
   "source": [
    "# DataFrame에 새로운 컬럼 추가\n",
    "pop['2005'] = [1, 2, 3, 4]\n",
    "\n",
    "pop"
   ]
  },
  {
   "cell_type": "code",
   "execution_count": 171,
   "id": "dff08023-c914-4705-a3f9-25a69c5a893c",
   "metadata": {},
   "outputs": [
    {
     "data": {
      "text/html": [
       "<div>\n",
       "<style scoped>\n",
       "    .dataframe tbody tr th:only-of-type {\n",
       "        vertical-align: middle;\n",
       "    }\n",
       "\n",
       "    .dataframe tbody tr th {\n",
       "        vertical-align: top;\n",
       "    }\n",
       "\n",
       "    .dataframe thead th {\n",
       "        text-align: right;\n",
       "    }\n",
       "</style>\n",
       "<table border=\"1\" class=\"dataframe\">\n",
       "  <thead>\n",
       "    <tr style=\"text-align: right;\">\n",
       "      <th></th>\n",
       "      <th>2015</th>\n",
       "      <th>2010</th>\n",
       "    </tr>\n",
       "  </thead>\n",
       "  <tbody>\n",
       "    <tr>\n",
       "      <th>서울</th>\n",
       "      <td>90000000</td>\n",
       "      <td>9631482</td>\n",
       "    </tr>\n",
       "    <tr>\n",
       "      <th>부산</th>\n",
       "      <td>23450000</td>\n",
       "      <td>3393191</td>\n",
       "    </tr>\n",
       "    <tr>\n",
       "      <th>인천</th>\n",
       "      <td>2342234</td>\n",
       "      <td>2632035</td>\n",
       "    </tr>\n",
       "    <tr>\n",
       "      <th>대구</th>\n",
       "      <td>5029384</td>\n",
       "      <td>2431774</td>\n",
       "    </tr>\n",
       "  </tbody>\n",
       "</table>\n",
       "</div>"
      ],
      "text/plain": [
       "        2015     2010\n",
       "서울  90000000  9631482\n",
       "부산  23450000  3393191\n",
       "인천   2342234  2632035\n",
       "대구   5029384  2431774"
      ]
     },
     "execution_count": 171,
     "metadata": {},
     "output_type": "execute_result"
    }
   ],
   "source": [
    "# DataFrame의 컬럼을 삭제하는 방법\n",
    "# del 키워드는 컬럼(열)만 삭제 가능\n",
    "del pop['2005']\n",
    "\n",
    "pop"
   ]
  },
  {
   "cell_type": "code",
   "execution_count": null,
   "id": "76bf4730-5ee6-4ad7-bc73-6025333ba96b",
   "metadata": {},
   "outputs": [],
   "source": []
  },
  {
   "cell_type": "markdown",
   "id": "7ae969b1-c290-41df-be1e-dc188bcb74f7",
   "metadata": {},
   "source": [
    "### 행 또는 열 삭제(drop)"
   ]
  },
  {
   "cell_type": "code",
   "execution_count": 174,
   "id": "ae9f1a9b-64b9-4340-9897-8ae62144ed05",
   "metadata": {},
   "outputs": [
    {
     "data": {
      "text/html": [
       "<div>\n",
       "<style scoped>\n",
       "    .dataframe tbody tr th:only-of-type {\n",
       "        vertical-align: middle;\n",
       "    }\n",
       "\n",
       "    .dataframe tbody tr th {\n",
       "        vertical-align: top;\n",
       "    }\n",
       "\n",
       "    .dataframe thead th {\n",
       "        text-align: right;\n",
       "    }\n",
       "</style>\n",
       "<table border=\"1\" class=\"dataframe\">\n",
       "  <thead>\n",
       "    <tr style=\"text-align: right;\">\n",
       "      <th></th>\n",
       "      <th>2015</th>\n",
       "      <th>2010</th>\n",
       "      <th>2005</th>\n",
       "    </tr>\n",
       "  </thead>\n",
       "  <tbody>\n",
       "    <tr>\n",
       "      <th>서울</th>\n",
       "      <td>90000000</td>\n",
       "      <td>9631482</td>\n",
       "      <td>1</td>\n",
       "    </tr>\n",
       "    <tr>\n",
       "      <th>부산</th>\n",
       "      <td>23450000</td>\n",
       "      <td>3393191</td>\n",
       "      <td>2</td>\n",
       "    </tr>\n",
       "    <tr>\n",
       "      <th>인천</th>\n",
       "      <td>2342234</td>\n",
       "      <td>2632035</td>\n",
       "      <td>3</td>\n",
       "    </tr>\n",
       "    <tr>\n",
       "      <th>대구</th>\n",
       "      <td>5029384</td>\n",
       "      <td>2431774</td>\n",
       "      <td>4</td>\n",
       "    </tr>\n",
       "  </tbody>\n",
       "</table>\n",
       "</div>"
      ],
      "text/plain": [
       "        2015     2010  2005\n",
       "서울  90000000  9631482     1\n",
       "부산  23450000  3393191     2\n",
       "인천   2342234  2632035     3\n",
       "대구   5029384  2431774     4"
      ]
     },
     "execution_count": 174,
     "metadata": {},
     "output_type": "execute_result"
    }
   ],
   "source": [
    "pop['2005'] = [1, 2, 3, 4]\n",
    "\n",
    "pop"
   ]
  },
  {
   "cell_type": "code",
   "execution_count": 176,
   "id": "737ac856-ffbe-40bd-a2b1-a5ced6288469",
   "metadata": {},
   "outputs": [
    {
     "data": {
      "text/html": [
       "<div>\n",
       "<style scoped>\n",
       "    .dataframe tbody tr th:only-of-type {\n",
       "        vertical-align: middle;\n",
       "    }\n",
       "\n",
       "    .dataframe tbody tr th {\n",
       "        vertical-align: top;\n",
       "    }\n",
       "\n",
       "    .dataframe thead th {\n",
       "        text-align: right;\n",
       "    }\n",
       "</style>\n",
       "<table border=\"1\" class=\"dataframe\">\n",
       "  <thead>\n",
       "    <tr style=\"text-align: right;\">\n",
       "      <th></th>\n",
       "      <th>2015</th>\n",
       "      <th>2010</th>\n",
       "    </tr>\n",
       "  </thead>\n",
       "  <tbody>\n",
       "    <tr>\n",
       "      <th>서울</th>\n",
       "      <td>90000000</td>\n",
       "      <td>9631482</td>\n",
       "    </tr>\n",
       "    <tr>\n",
       "      <th>부산</th>\n",
       "      <td>23450000</td>\n",
       "      <td>3393191</td>\n",
       "    </tr>\n",
       "    <tr>\n",
       "      <th>인천</th>\n",
       "      <td>2342234</td>\n",
       "      <td>2632035</td>\n",
       "    </tr>\n",
       "    <tr>\n",
       "      <th>대구</th>\n",
       "      <td>5029384</td>\n",
       "      <td>2431774</td>\n",
       "    </tr>\n",
       "  </tbody>\n",
       "</table>\n",
       "</div>"
      ],
      "text/plain": [
       "        2015     2010\n",
       "서울  90000000  9631482\n",
       "부산  23450000  3393191\n",
       "인천   2342234  2632035\n",
       "대구   5029384  2431774"
      ]
     },
     "execution_count": 176,
     "metadata": {},
     "output_type": "execute_result"
    }
   ],
   "source": [
    "# drop: 행 또는 열 삭제\n",
    "# DF.drop('행 or 열이름', axis = 0 or 1, inplace = True or False)\n",
    "# axis = 0은 행, 1은 열\n",
    "# inplace = True는 원본에 영향 O, False는 원본에 영향 X\n",
    "\n",
    "pop.drop('2005', axis = 1, inplace = False)"
   ]
  },
  {
   "cell_type": "code",
   "execution_count": 178,
   "id": "c680076e-8bca-4d98-8394-c394863967cd",
   "metadata": {},
   "outputs": [
    {
     "data": {
      "text/html": [
       "<div>\n",
       "<style scoped>\n",
       "    .dataframe tbody tr th:only-of-type {\n",
       "        vertical-align: middle;\n",
       "    }\n",
       "\n",
       "    .dataframe tbody tr th {\n",
       "        vertical-align: top;\n",
       "    }\n",
       "\n",
       "    .dataframe thead th {\n",
       "        text-align: right;\n",
       "    }\n",
       "</style>\n",
       "<table border=\"1\" class=\"dataframe\">\n",
       "  <thead>\n",
       "    <tr style=\"text-align: right;\">\n",
       "      <th></th>\n",
       "      <th>2015</th>\n",
       "      <th>2010</th>\n",
       "    </tr>\n",
       "  </thead>\n",
       "  <tbody>\n",
       "    <tr>\n",
       "      <th>서울</th>\n",
       "      <td>90000000</td>\n",
       "      <td>9631482</td>\n",
       "    </tr>\n",
       "    <tr>\n",
       "      <th>부산</th>\n",
       "      <td>23450000</td>\n",
       "      <td>3393191</td>\n",
       "    </tr>\n",
       "    <tr>\n",
       "      <th>인천</th>\n",
       "      <td>2342234</td>\n",
       "      <td>2632035</td>\n",
       "    </tr>\n",
       "    <tr>\n",
       "      <th>대구</th>\n",
       "      <td>5029384</td>\n",
       "      <td>2431774</td>\n",
       "    </tr>\n",
       "  </tbody>\n",
       "</table>\n",
       "</div>"
      ],
      "text/plain": [
       "        2015     2010\n",
       "서울  90000000  9631482\n",
       "부산  23450000  3393191\n",
       "인천   2342234  2632035\n",
       "대구   5029384  2431774"
      ]
     },
     "execution_count": 178,
     "metadata": {},
     "output_type": "execute_result"
    }
   ],
   "source": [
    "pop.drop('2005', axis = 1, inplace = True)\n",
    "pop"
   ]
  },
  {
   "cell_type": "code",
   "execution_count": 182,
   "id": "b2cd5e6c-071d-4be5-96d0-3183c37fc5f6",
   "metadata": {},
   "outputs": [
    {
     "data": {
      "text/html": [
       "<div>\n",
       "<style scoped>\n",
       "    .dataframe tbody tr th:only-of-type {\n",
       "        vertical-align: middle;\n",
       "    }\n",
       "\n",
       "    .dataframe tbody tr th {\n",
       "        vertical-align: top;\n",
       "    }\n",
       "\n",
       "    .dataframe thead th {\n",
       "        text-align: right;\n",
       "    }\n",
       "</style>\n",
       "<table border=\"1\" class=\"dataframe\">\n",
       "  <thead>\n",
       "    <tr style=\"text-align: right;\">\n",
       "      <th></th>\n",
       "      <th>2015</th>\n",
       "      <th>2010</th>\n",
       "    </tr>\n",
       "  </thead>\n",
       "  <tbody>\n",
       "    <tr>\n",
       "      <th>부산</th>\n",
       "      <td>23450000</td>\n",
       "      <td>3393191</td>\n",
       "    </tr>\n",
       "    <tr>\n",
       "      <th>인천</th>\n",
       "      <td>2342234</td>\n",
       "      <td>2632035</td>\n",
       "    </tr>\n",
       "    <tr>\n",
       "      <th>대구</th>\n",
       "      <td>5029384</td>\n",
       "      <td>2431774</td>\n",
       "    </tr>\n",
       "  </tbody>\n",
       "</table>\n",
       "</div>"
      ],
      "text/plain": [
       "        2015     2010\n",
       "부산  23450000  3393191\n",
       "인천   2342234  2632035\n",
       "대구   5029384  2431774"
      ]
     },
     "execution_count": 182,
     "metadata": {},
     "output_type": "execute_result"
    }
   ],
   "source": [
    "pop.drop('서울')\n",
    "\n",
    "# aixs = 0, inplace = False 기본값으로 사용할 경우 생략 가능"
   ]
  },
  {
   "cell_type": "markdown",
   "id": "9c8c890a-fcc0-4bb9-b6ea-53dad7fb08e3",
   "metadata": {},
   "source": [
    "#### 정리\n",
    "- del는 열(컬럼)만 삭제 가능\n",
    "- drop은 행, 열 둘 다 삭제 가능(단 axis를 설정해줘야 함)\n",
    "  - axis와 inplace 옵셥의 기본값은 각각 0, False"
   ]
  },
  {
   "cell_type": "code",
   "execution_count": null,
   "id": "c93fd4e2-edeb-4b38-8089-6d2af082ce4e",
   "metadata": {},
   "outputs": [],
   "source": []
  },
  {
   "cell_type": "markdown",
   "id": "1a85b4b0-b9d4-44ae-9bea-5b23402ba019",
   "metadata": {},
   "source": [
    "### DataFrame 속성 확인하기\n",
    "- 형태, 값, 인덱스, 컬렴명"
   ]
  },
  {
   "cell_type": "code",
   "execution_count": 187,
   "id": "efe73167-62d0-4235-92ee-62887292c04c",
   "metadata": {},
   "outputs": [
    {
     "data": {
      "text/html": [
       "<div>\n",
       "<style scoped>\n",
       "    .dataframe tbody tr th:only-of-type {\n",
       "        vertical-align: middle;\n",
       "    }\n",
       "\n",
       "    .dataframe tbody tr th {\n",
       "        vertical-align: top;\n",
       "    }\n",
       "\n",
       "    .dataframe thead th {\n",
       "        text-align: right;\n",
       "    }\n",
       "</style>\n",
       "<table border=\"1\" class=\"dataframe\">\n",
       "  <thead>\n",
       "    <tr style=\"text-align: right;\">\n",
       "      <th></th>\n",
       "      <th>2015</th>\n",
       "      <th>2010</th>\n",
       "    </tr>\n",
       "  </thead>\n",
       "  <tbody>\n",
       "    <tr>\n",
       "      <th>서울</th>\n",
       "      <td>90000000</td>\n",
       "      <td>9631482</td>\n",
       "    </tr>\n",
       "    <tr>\n",
       "      <th>부산</th>\n",
       "      <td>23450000</td>\n",
       "      <td>3393191</td>\n",
       "    </tr>\n",
       "    <tr>\n",
       "      <th>인천</th>\n",
       "      <td>2342234</td>\n",
       "      <td>2632035</td>\n",
       "    </tr>\n",
       "    <tr>\n",
       "      <th>대구</th>\n",
       "      <td>5029384</td>\n",
       "      <td>2431774</td>\n",
       "    </tr>\n",
       "  </tbody>\n",
       "</table>\n",
       "</div>"
      ],
      "text/plain": [
       "        2015     2010\n",
       "서울  90000000  9631482\n",
       "부산  23450000  3393191\n",
       "인천   2342234  2632035\n",
       "대구   5029384  2431774"
      ]
     },
     "execution_count": 187,
     "metadata": {},
     "output_type": "execute_result"
    }
   ],
   "source": [
    "pop"
   ]
  },
  {
   "cell_type": "code",
   "execution_count": 195,
   "id": "2df18645-3bf7-460a-a1b9-65ea76444368",
   "metadata": {},
   "outputs": [
    {
     "data": {
      "text/html": [
       "<div>\n",
       "<style scoped>\n",
       "    .dataframe tbody tr th:only-of-type {\n",
       "        vertical-align: middle;\n",
       "    }\n",
       "\n",
       "    .dataframe tbody tr th {\n",
       "        vertical-align: top;\n",
       "    }\n",
       "\n",
       "    .dataframe thead th {\n",
       "        text-align: right;\n",
       "    }\n",
       "</style>\n",
       "<table border=\"1\" class=\"dataframe\">\n",
       "  <thead>\n",
       "    <tr style=\"text-align: right;\">\n",
       "      <th></th>\n",
       "      <th>2015</th>\n",
       "      <th>2010</th>\n",
       "    </tr>\n",
       "  </thead>\n",
       "  <tbody>\n",
       "    <tr>\n",
       "      <th>서울</th>\n",
       "      <td>9904312</td>\n",
       "      <td>9631482</td>\n",
       "    </tr>\n",
       "    <tr>\n",
       "      <th>부산</th>\n",
       "      <td>3448737</td>\n",
       "      <td>3393191</td>\n",
       "    </tr>\n",
       "    <tr>\n",
       "      <th>인천</th>\n",
       "      <td>2890451</td>\n",
       "      <td>2632035</td>\n",
       "    </tr>\n",
       "    <tr>\n",
       "      <th>대구</th>\n",
       "      <td>2466052</td>\n",
       "      <td>2431774</td>\n",
       "    </tr>\n",
       "  </tbody>\n",
       "</table>\n",
       "</div>"
      ],
      "text/plain": [
       "       2015     2010\n",
       "서울  9904312  9631482\n",
       "부산  3448737  3393191\n",
       "인천  2890451  2632035\n",
       "대구  2466052  2431774"
      ]
     },
     "execution_count": 195,
     "metadata": {},
     "output_type": "execute_result"
    }
   ],
   "source": [
    "pop = pd.DataFrame(data, index = ind, columns = col)\n",
    "pop = pop.T\n",
    "pop"
   ]
  },
  {
   "cell_type": "code",
   "execution_count": 201,
   "id": "2895ad50-76c5-4aa4-9540-c179b74541f1",
   "metadata": {},
   "outputs": [
    {
     "data": {
      "text/plain": [
       "(4, 2)"
      ]
     },
     "execution_count": 201,
     "metadata": {},
     "output_type": "execute_result"
    }
   ],
   "source": [
    "# DF의 형태 확인\n",
    "# shape\n",
    "pop.shape"
   ]
  },
  {
   "cell_type": "code",
   "execution_count": 203,
   "id": "bf8d3ec9-1d72-4437-af24-6fda9feabae8",
   "metadata": {},
   "outputs": [
    {
     "data": {
      "text/plain": [
       "array([[9904312, 9631482],\n",
       "       [3448737, 3393191],\n",
       "       [2890451, 2632035],\n",
       "       [2466052, 2431774]])"
      ]
     },
     "execution_count": 203,
     "metadata": {},
     "output_type": "execute_result"
    }
   ],
   "source": [
    "# DF의 데이터 값 확인\n",
    "# values\n",
    "\n",
    "pop.values"
   ]
  },
  {
   "cell_type": "code",
   "execution_count": 205,
   "id": "db94c38f-e917-484e-9cf6-ad1b0e24e62e",
   "metadata": {},
   "outputs": [
    {
     "data": {
      "text/plain": [
       "Index(['서울', '부산', '인천', '대구'], dtype='object')"
      ]
     },
     "execution_count": 205,
     "metadata": {},
     "output_type": "execute_result"
    }
   ],
   "source": [
    "# DF의 인덱스 값 확인\n",
    "# index\n",
    "\n",
    "pop.index"
   ]
  },
  {
   "cell_type": "code",
   "execution_count": 207,
   "id": "492f5532-b5be-4fa9-b1c5-079b9aa2c45c",
   "metadata": {},
   "outputs": [
    {
     "data": {
      "text/plain": [
       "Index(['2015', '2010'], dtype='object')"
      ]
     },
     "execution_count": 207,
     "metadata": {},
     "output_type": "execute_result"
    }
   ],
   "source": [
    "# DF의 컬럼명 확인하기\n",
    "# columns\n",
    "\n",
    "pop.columns"
   ]
  },
  {
   "cell_type": "code",
   "execution_count": null,
   "id": "34f3d7c2-35d5-470b-b441-9b73d6390693",
   "metadata": {},
   "outputs": [],
   "source": []
  },
  {
   "attachments": {
    "0782c919-ae7a-40df-8506-3feab85f057e.png": {
     "image/png": "[encoded data removed]"
    }
   },
   "cell_type": "markdown",
   "id": "258ca681-d4b0-4099-9165-c73c1b166eb7",
   "metadata": {},
   "source": [
    "![image.png](attachment:0782c919-ae7a-40df-8506-3feab85f057e.png)"
   ]
  },
  {
   "cell_type": "code",
   "execution_count": null,
   "id": "d27b159b-817a-44b4-99a5-6f6da0f9d5f0",
   "metadata": {},
   "outputs": [],
   "source": []
  },
  {
   "cell_type": "code",
   "execution_count": 224,
   "id": "2f840b83-9953-4d70-bb52-a3a8d1be977e",
   "metadata": {},
   "outputs": [
    {
     "data": {
      "text/html": [
       "<div>\n",
       "<style scoped>\n",
       "    .dataframe tbody tr th:only-of-type {\n",
       "        vertical-align: middle;\n",
       "    }\n",
       "\n",
       "    .dataframe tbody tr th {\n",
       "        vertical-align: top;\n",
       "    }\n",
       "\n",
       "    .dataframe thead th {\n",
       "        text-align: right;\n",
       "    }\n",
       "</style>\n",
       "<table border=\"1\" class=\"dataframe\">\n",
       "  <thead>\n",
       "    <tr style=\"text-align: right;\">\n",
       "      <th></th>\n",
       "      <th>키</th>\n",
       "      <th>몸무게</th>\n",
       "      <th>나이</th>\n",
       "    </tr>\n",
       "  </thead>\n",
       "  <tbody>\n",
       "    <tr>\n",
       "      <th>홍길동</th>\n",
       "      <td>175.3</td>\n",
       "      <td>66.2</td>\n",
       "      <td>27.0</td>\n",
       "    </tr>\n",
       "    <tr>\n",
       "      <th>김사또</th>\n",
       "      <td>180.2</td>\n",
       "      <td>78.9</td>\n",
       "      <td>49.0</td>\n",
       "    </tr>\n",
       "    <tr>\n",
       "      <th>임꺽정</th>\n",
       "      <td>178.6</td>\n",
       "      <td>55.1</td>\n",
       "      <td>35.0</td>\n",
       "    </tr>\n",
       "  </tbody>\n",
       "</table>\n",
       "</div>"
      ],
      "text/plain": [
       "         키   몸무게    나이\n",
       "홍길동  175.3  66.2  27.0\n",
       "김사또  180.2  78.9  49.0\n",
       "임꺽정  178.6  55.1  35.0"
      ]
     },
     "execution_count": 224,
     "metadata": {},
     "output_type": "execute_result"
    }
   ],
   "source": [
    "data2 = [[175.3, 66.2, 27.0], \n",
    "         [180.2, 78.9, 49.0],\n",
    "         [178.6, 55.1, 35.0]]\n",
    "\n",
    "ind2 = ['홍길동', '김사또', '임꺽정']\n",
    "\n",
    "col2 = ['키', '몸무게', '나이']\n",
    "\n",
    "pop2 = pd.DataFrame(data2, ind2, col2)\n",
    "pop2"
   ]
  },
  {
   "cell_type": "code",
   "execution_count": 218,
   "id": "a0c6428e-2964-4ba3-ad90-bc82ab14d624",
   "metadata": {},
   "outputs": [
    {
     "data": {
      "text/html": [
       "<div>\n",
       "<style scoped>\n",
       "    .dataframe tbody tr th:only-of-type {\n",
       "        vertical-align: middle;\n",
       "    }\n",
       "\n",
       "    .dataframe tbody tr th {\n",
       "        vertical-align: top;\n",
       "    }\n",
       "\n",
       "    .dataframe thead th {\n",
       "        text-align: right;\n",
       "    }\n",
       "</style>\n",
       "<table border=\"1\" class=\"dataframe\">\n",
       "  <thead>\n",
       "    <tr style=\"text-align: right;\">\n",
       "      <th></th>\n",
       "      <th>홍길동</th>\n",
       "      <th>김사또</th>\n",
       "      <th>임꺽적</th>\n",
       "    </tr>\n",
       "  </thead>\n",
       "  <tbody>\n",
       "    <tr>\n",
       "      <th>키</th>\n",
       "      <td>175.3</td>\n",
       "      <td>180.2</td>\n",
       "      <td>178.6</td>\n",
       "    </tr>\n",
       "    <tr>\n",
       "      <th>몸무게</th>\n",
       "      <td>66.2</td>\n",
       "      <td>78.9</td>\n",
       "      <td>55.1</td>\n",
       "    </tr>\n",
       "    <tr>\n",
       "      <th>나이</th>\n",
       "      <td>27.0</td>\n",
       "      <td>49.0</td>\n",
       "      <td>35.0</td>\n",
       "    </tr>\n",
       "  </tbody>\n",
       "</table>\n",
       "</div>"
      ],
      "text/plain": [
       "       홍길동    김사또    임꺽적\n",
       "키    175.3  180.2  178.6\n",
       "몸무게   66.2   78.9   55.1\n",
       "나이    27.0   49.0   35.0"
      ]
     },
     "execution_count": 218,
     "metadata": {},
     "output_type": "execute_result"
    }
   ],
   "source": [
    "pop2.T"
   ]
  },
  {
   "cell_type": "code",
   "execution_count": 226,
   "id": "9d92ac3b-08a3-491d-a47c-3606c0931cb4",
   "metadata": {},
   "outputs": [
    {
     "data": {
      "text/html": [
       "<div>\n",
       "<style scoped>\n",
       "    .dataframe tbody tr th:only-of-type {\n",
       "        vertical-align: middle;\n",
       "    }\n",
       "\n",
       "    .dataframe tbody tr th {\n",
       "        vertical-align: top;\n",
       "    }\n",
       "\n",
       "    .dataframe thead th {\n",
       "        text-align: right;\n",
       "    }\n",
       "</style>\n",
       "<table border=\"1\" class=\"dataframe\">\n",
       "  <thead>\n",
       "    <tr style=\"text-align: right;\">\n",
       "      <th></th>\n",
       "      <th>키</th>\n",
       "      <th>몸무게</th>\n",
       "      <th>나이</th>\n",
       "    </tr>\n",
       "  </thead>\n",
       "  <tbody>\n",
       "    <tr>\n",
       "      <th>홍길동</th>\n",
       "      <td>175.3</td>\n",
       "      <td>66.2</td>\n",
       "      <td>27.0</td>\n",
       "    </tr>\n",
       "    <tr>\n",
       "      <th>김사또</th>\n",
       "      <td>180.2</td>\n",
       "      <td>78.9</td>\n",
       "      <td>49.0</td>\n",
       "    </tr>\n",
       "    <tr>\n",
       "      <th>임꺽정</th>\n",
       "      <td>178.6</td>\n",
       "      <td>55.1</td>\n",
       "      <td>35.0</td>\n",
       "    </tr>\n",
       "  </tbody>\n",
       "</table>\n",
       "</div>"
      ],
      "text/plain": [
       "         키   몸무게    나이\n",
       "홍길동  175.3  66.2  27.0\n",
       "김사또  180.2  78.9  49.0\n",
       "임꺽정  178.6  55.1  35.0"
      ]
     },
     "execution_count": 226,
     "metadata": {},
     "output_type": "execute_result"
    }
   ],
   "source": [
    "# 딕셔너리를 이용하여 생성\n",
    "data = {'키' : [175.3, 180.2, 178.6],\n",
    "        '몸무게' : [66.2, 78.9, 55.1],\n",
    "        '나이' : [27.0, 49.0, 35.0],\n",
    "       }\n",
    "\n",
    "ind = ['홍길동', '김사또', '임꺽정']\n",
    "\n",
    "DF2 = pd.DataFrame(data, index = ind)\n",
    "\n",
    "DF2"
   ]
  },
  {
   "cell_type": "code",
   "execution_count": null,
   "id": "2b45ef48-4e18-4c28-9b30-4216e4c7e2e4",
   "metadata": {},
   "outputs": [],
   "source": []
  },
  {
   "cell_type": "markdown",
   "id": "51d53d7d-7227-4bcc-831b-f417cfdb5b7c",
   "metadata": {},
   "source": [
    "### DataFrame 연산"
   ]
  },
  {
   "cell_type": "code",
   "execution_count": 229,
   "id": "79afe283-6842-4e15-a12d-905aad19d1b1",
   "metadata": {},
   "outputs": [
    {
     "data": {
      "text/html": [
       "<div>\n",
       "<style scoped>\n",
       "    .dataframe tbody tr th:only-of-type {\n",
       "        vertical-align: middle;\n",
       "    }\n",
       "\n",
       "    .dataframe tbody tr th {\n",
       "        vertical-align: top;\n",
       "    }\n",
       "\n",
       "    .dataframe thead th {\n",
       "        text-align: right;\n",
       "    }\n",
       "</style>\n",
       "<table border=\"1\" class=\"dataframe\">\n",
       "  <thead>\n",
       "    <tr style=\"text-align: right;\">\n",
       "      <th></th>\n",
       "      <th>2015</th>\n",
       "      <th>2010</th>\n",
       "    </tr>\n",
       "  </thead>\n",
       "  <tbody>\n",
       "    <tr>\n",
       "      <th>서울</th>\n",
       "      <td>9904312</td>\n",
       "      <td>9631482</td>\n",
       "    </tr>\n",
       "    <tr>\n",
       "      <th>부산</th>\n",
       "      <td>3448737</td>\n",
       "      <td>3393191</td>\n",
       "    </tr>\n",
       "    <tr>\n",
       "      <th>인천</th>\n",
       "      <td>2890451</td>\n",
       "      <td>2632035</td>\n",
       "    </tr>\n",
       "    <tr>\n",
       "      <th>대구</th>\n",
       "      <td>2466052</td>\n",
       "      <td>2431774</td>\n",
       "    </tr>\n",
       "  </tbody>\n",
       "</table>\n",
       "</div>"
      ],
      "text/plain": [
       "       2015     2010\n",
       "서울  9904312  9631482\n",
       "부산  3448737  3393191\n",
       "인천  2890451  2632035\n",
       "대구  2466052  2431774"
      ]
     },
     "execution_count": 229,
     "metadata": {},
     "output_type": "execute_result"
    }
   ],
   "source": [
    "pop"
   ]
  },
  {
   "cell_type": "code",
   "execution_count": 233,
   "id": "b68a7b6e-5eea-4c37-bec4-0bed0e940031",
   "metadata": {},
   "outputs": [
    {
     "data": {
      "text/html": [
       "<div>\n",
       "<style scoped>\n",
       "    .dataframe tbody tr th:only-of-type {\n",
       "        vertical-align: middle;\n",
       "    }\n",
       "\n",
       "    .dataframe tbody tr th {\n",
       "        vertical-align: top;\n",
       "    }\n",
       "\n",
       "    .dataframe thead th {\n",
       "        text-align: right;\n",
       "    }\n",
       "</style>\n",
       "<table border=\"1\" class=\"dataframe\">\n",
       "  <thead>\n",
       "    <tr style=\"text-align: right;\">\n",
       "      <th></th>\n",
       "      <th>2015</th>\n",
       "      <th>2010</th>\n",
       "    </tr>\n",
       "  </thead>\n",
       "  <tbody>\n",
       "    <tr>\n",
       "      <th>서울</th>\n",
       "      <td>10904312</td>\n",
       "      <td>10631482</td>\n",
       "    </tr>\n",
       "    <tr>\n",
       "      <th>부산</th>\n",
       "      <td>4448737</td>\n",
       "      <td>4393191</td>\n",
       "    </tr>\n",
       "    <tr>\n",
       "      <th>인천</th>\n",
       "      <td>3890451</td>\n",
       "      <td>3632035</td>\n",
       "    </tr>\n",
       "    <tr>\n",
       "      <th>대구</th>\n",
       "      <td>3466052</td>\n",
       "      <td>3431774</td>\n",
       "    </tr>\n",
       "  </tbody>\n",
       "</table>\n",
       "</div>"
      ],
      "text/plain": [
       "        2015      2010\n",
       "서울  10904312  10631482\n",
       "부산   4448737   4393191\n",
       "인천   3890451   3632035\n",
       "대구   3466052   3431774"
      ]
     },
     "execution_count": 233,
     "metadata": {},
     "output_type": "execute_result"
    }
   ],
   "source": [
    "pop + 1000000\n",
    "# 각 값에 모두 계산"
   ]
  },
  {
   "cell_type": "code",
   "execution_count": 235,
   "id": "3fab5759-c80b-4eba-a361-82d23a93fc1a",
   "metadata": {},
   "outputs": [
    {
     "data": {
      "text/html": [
       "<div>\n",
       "<style scoped>\n",
       "    .dataframe tbody tr th:only-of-type {\n",
       "        vertical-align: middle;\n",
       "    }\n",
       "\n",
       "    .dataframe tbody tr th {\n",
       "        vertical-align: top;\n",
       "    }\n",
       "\n",
       "    .dataframe thead th {\n",
       "        text-align: right;\n",
       "    }\n",
       "</style>\n",
       "<table border=\"1\" class=\"dataframe\">\n",
       "  <thead>\n",
       "    <tr style=\"text-align: right;\">\n",
       "      <th></th>\n",
       "      <th>2015</th>\n",
       "      <th>2010</th>\n",
       "    </tr>\n",
       "  </thead>\n",
       "  <tbody>\n",
       "    <tr>\n",
       "      <th>서울</th>\n",
       "      <td>8904312</td>\n",
       "      <td>8631482</td>\n",
       "    </tr>\n",
       "    <tr>\n",
       "      <th>부산</th>\n",
       "      <td>2448737</td>\n",
       "      <td>2393191</td>\n",
       "    </tr>\n",
       "    <tr>\n",
       "      <th>인천</th>\n",
       "      <td>1890451</td>\n",
       "      <td>1632035</td>\n",
       "    </tr>\n",
       "    <tr>\n",
       "      <th>대구</th>\n",
       "      <td>1466052</td>\n",
       "      <td>1431774</td>\n",
       "    </tr>\n",
       "  </tbody>\n",
       "</table>\n",
       "</div>"
      ],
      "text/plain": [
       "       2015     2010\n",
       "서울  8904312  8631482\n",
       "부산  2448737  2393191\n",
       "인천  1890451  1632035\n",
       "대구  1466052  1431774"
      ]
     },
     "execution_count": 235,
     "metadata": {},
     "output_type": "execute_result"
    }
   ],
   "source": [
    "pop -1000000"
   ]
  },
  {
   "cell_type": "code",
   "execution_count": null,
   "id": "6918f69a-dc44-4d4e-9bc9-0479938a4fd6",
   "metadata": {},
   "outputs": [],
   "source": []
  },
  {
   "cell_type": "code",
   "execution_count": 239,
   "id": "545bbc57-9b1d-4b0d-ac82-0cfa1eab7771",
   "metadata": {},
   "outputs": [
    {
     "data": {
      "text/html": [
       "<div>\n",
       "<style scoped>\n",
       "    .dataframe tbody tr th:only-of-type {\n",
       "        vertical-align: middle;\n",
       "    }\n",
       "\n",
       "    .dataframe tbody tr th {\n",
       "        vertical-align: top;\n",
       "    }\n",
       "\n",
       "    .dataframe thead th {\n",
       "        text-align: right;\n",
       "    }\n",
       "</style>\n",
       "<table border=\"1\" class=\"dataframe\">\n",
       "  <thead>\n",
       "    <tr style=\"text-align: right;\">\n",
       "      <th></th>\n",
       "      <th>2015</th>\n",
       "      <th>2010</th>\n",
       "    </tr>\n",
       "  </thead>\n",
       "  <tbody>\n",
       "    <tr>\n",
       "      <th>서울</th>\n",
       "      <td>10904312</td>\n",
       "      <td>10631482</td>\n",
       "    </tr>\n",
       "    <tr>\n",
       "      <th>부산</th>\n",
       "      <td>4448737</td>\n",
       "      <td>4393191</td>\n",
       "    </tr>\n",
       "    <tr>\n",
       "      <th>인천</th>\n",
       "      <td>3890451</td>\n",
       "      <td>3632035</td>\n",
       "    </tr>\n",
       "    <tr>\n",
       "      <th>대구</th>\n",
       "      <td>3466052</td>\n",
       "      <td>3431774</td>\n",
       "    </tr>\n",
       "  </tbody>\n",
       "</table>\n",
       "</div>"
      ],
      "text/plain": [
       "        2015      2010\n",
       "서울  10904312  10631482\n",
       "부산   4448737   4393191\n",
       "인천   3890451   3632035\n",
       "대구   3466052   3431774"
      ]
     },
     "execution_count": 239,
     "metadata": {},
     "output_type": "execute_result"
    }
   ],
   "source": [
    "# 새로운 pop2\n",
    "pop2 = pop + 1000000\n",
    "pop2"
   ]
  },
  {
   "cell_type": "code",
   "execution_count": 245,
   "id": "f2578330-786e-44db-b525-b8e82f4e316f",
   "metadata": {},
   "outputs": [
    {
     "data": {
      "text/html": [
       "<div>\n",
       "<style scoped>\n",
       "    .dataframe tbody tr th:only-of-type {\n",
       "        vertical-align: middle;\n",
       "    }\n",
       "\n",
       "    .dataframe tbody tr th {\n",
       "        vertical-align: top;\n",
       "    }\n",
       "\n",
       "    .dataframe thead th {\n",
       "        text-align: right;\n",
       "    }\n",
       "</style>\n",
       "<table border=\"1\" class=\"dataframe\">\n",
       "  <thead>\n",
       "    <tr style=\"text-align: right;\">\n",
       "      <th></th>\n",
       "      <th>2015</th>\n",
       "      <th>2010</th>\n",
       "    </tr>\n",
       "  </thead>\n",
       "  <tbody>\n",
       "    <tr>\n",
       "      <th>서울</th>\n",
       "      <td>1000000</td>\n",
       "      <td>1000000</td>\n",
       "    </tr>\n",
       "    <tr>\n",
       "      <th>부산</th>\n",
       "      <td>1000000</td>\n",
       "      <td>1000000</td>\n",
       "    </tr>\n",
       "    <tr>\n",
       "      <th>인천</th>\n",
       "      <td>1000000</td>\n",
       "      <td>1000000</td>\n",
       "    </tr>\n",
       "    <tr>\n",
       "      <th>대구</th>\n",
       "      <td>1000000</td>\n",
       "      <td>1000000</td>\n",
       "    </tr>\n",
       "  </tbody>\n",
       "</table>\n",
       "</div>"
      ],
      "text/plain": [
       "       2015     2010\n",
       "서울  1000000  1000000\n",
       "부산  1000000  1000000\n",
       "인천  1000000  1000000\n",
       "대구  1000000  1000000"
      ]
     },
     "execution_count": 245,
     "metadata": {},
     "output_type": "execute_result"
    }
   ],
   "source": [
    "pop2 - pop\n",
    "# 각각 일치하는 주소값(행이름, 열이름)끼리 계산"
   ]
  },
  {
   "cell_type": "code",
   "execution_count": 249,
   "id": "ccb7f248-e5a9-4dc4-8e48-4597b163aa42",
   "metadata": {},
   "outputs": [
    {
     "data": {
      "text/html": [
       "<div>\n",
       "<style scoped>\n",
       "    .dataframe tbody tr th:only-of-type {\n",
       "        vertical-align: middle;\n",
       "    }\n",
       "\n",
       "    .dataframe tbody tr th {\n",
       "        vertical-align: top;\n",
       "    }\n",
       "\n",
       "    .dataframe thead th {\n",
       "        text-align: right;\n",
       "    }\n",
       "</style>\n",
       "<table border=\"1\" class=\"dataframe\">\n",
       "  <thead>\n",
       "    <tr style=\"text-align: right;\">\n",
       "      <th></th>\n",
       "      <th>2015</th>\n",
       "      <th>2010</th>\n",
       "    </tr>\n",
       "  </thead>\n",
       "  <tbody>\n",
       "    <tr>\n",
       "      <th>서울</th>\n",
       "      <td>0</td>\n",
       "      <td>0</td>\n",
       "    </tr>\n",
       "    <tr>\n",
       "      <th>부산</th>\n",
       "      <td>0</td>\n",
       "      <td>0</td>\n",
       "    </tr>\n",
       "    <tr>\n",
       "      <th>인천</th>\n",
       "      <td>0</td>\n",
       "      <td>0</td>\n",
       "    </tr>\n",
       "    <tr>\n",
       "      <th>대구</th>\n",
       "      <td>0</td>\n",
       "      <td>0</td>\n",
       "    </tr>\n",
       "  </tbody>\n",
       "</table>\n",
       "</div>"
      ],
      "text/plain": [
       "    2015  2010\n",
       "서울     0     0\n",
       "부산     0     0\n",
       "인천     0     0\n",
       "대구     0     0"
      ]
     },
     "execution_count": 249,
     "metadata": {},
     "output_type": "execute_result"
    }
   ],
   "source": [
    "pop - pop"
   ]
  },
  {
   "cell_type": "code",
   "execution_count": 253,
   "id": "86335a4f-9a2b-4097-b934-3fd116d1d1ed",
   "metadata": {},
   "outputs": [
    {
     "data": {
      "text/html": [
       "<div>\n",
       "<style scoped>\n",
       "    .dataframe tbody tr th:only-of-type {\n",
       "        vertical-align: middle;\n",
       "    }\n",
       "\n",
       "    .dataframe tbody tr th {\n",
       "        vertical-align: top;\n",
       "    }\n",
       "\n",
       "    .dataframe thead th {\n",
       "        text-align: right;\n",
       "    }\n",
       "</style>\n",
       "<table border=\"1\" class=\"dataframe\">\n",
       "  <thead>\n",
       "    <tr style=\"text-align: right;\">\n",
       "      <th></th>\n",
       "      <th>2015</th>\n",
       "      <th>2010</th>\n",
       "      <th>2005</th>\n",
       "    </tr>\n",
       "  </thead>\n",
       "  <tbody>\n",
       "    <tr>\n",
       "      <th>서울</th>\n",
       "      <td>10904312</td>\n",
       "      <td>10631482</td>\n",
       "      <td>134141</td>\n",
       "    </tr>\n",
       "    <tr>\n",
       "      <th>부산</th>\n",
       "      <td>4448737</td>\n",
       "      <td>4393191</td>\n",
       "      <td>133435</td>\n",
       "    </tr>\n",
       "    <tr>\n",
       "      <th>인천</th>\n",
       "      <td>3890451</td>\n",
       "      <td>3632035</td>\n",
       "      <td>3436356</td>\n",
       "    </tr>\n",
       "    <tr>\n",
       "      <th>대구</th>\n",
       "      <td>3466052</td>\n",
       "      <td>3431774</td>\n",
       "      <td>2342425</td>\n",
       "    </tr>\n",
       "  </tbody>\n",
       "</table>\n",
       "</div>"
      ],
      "text/plain": [
       "        2015      2010     2005\n",
       "서울  10904312  10631482   134141\n",
       "부산   4448737   4393191   133435\n",
       "인천   3890451   3632035  3436356\n",
       "대구   3466052   3431774  2342425"
      ]
     },
     "execution_count": 253,
     "metadata": {},
     "output_type": "execute_result"
    }
   ],
   "source": [
    "pop2['2005'] = [134141, 133435, 3436356, 2342425]\n",
    "pop2"
   ]
  },
  {
   "cell_type": "code",
   "execution_count": 257,
   "id": "206838c5-d529-498c-90bd-c24dfc07e642",
   "metadata": {},
   "outputs": [
    {
     "data": {
      "text/html": [
       "<div>\n",
       "<style scoped>\n",
       "    .dataframe tbody tr th:only-of-type {\n",
       "        vertical-align: middle;\n",
       "    }\n",
       "\n",
       "    .dataframe tbody tr th {\n",
       "        vertical-align: top;\n",
       "    }\n",
       "\n",
       "    .dataframe thead th {\n",
       "        text-align: right;\n",
       "    }\n",
       "</style>\n",
       "<table border=\"1\" class=\"dataframe\">\n",
       "  <thead>\n",
       "    <tr style=\"text-align: right;\">\n",
       "      <th></th>\n",
       "      <th>2005</th>\n",
       "      <th>2010</th>\n",
       "      <th>2015</th>\n",
       "    </tr>\n",
       "  </thead>\n",
       "  <tbody>\n",
       "    <tr>\n",
       "      <th>서울</th>\n",
       "      <td>NaN</td>\n",
       "      <td>1000000</td>\n",
       "      <td>1000000</td>\n",
       "    </tr>\n",
       "    <tr>\n",
       "      <th>부산</th>\n",
       "      <td>NaN</td>\n",
       "      <td>1000000</td>\n",
       "      <td>1000000</td>\n",
       "    </tr>\n",
       "    <tr>\n",
       "      <th>인천</th>\n",
       "      <td>NaN</td>\n",
       "      <td>1000000</td>\n",
       "      <td>1000000</td>\n",
       "    </tr>\n",
       "    <tr>\n",
       "      <th>대구</th>\n",
       "      <td>NaN</td>\n",
       "      <td>1000000</td>\n",
       "      <td>1000000</td>\n",
       "    </tr>\n",
       "  </tbody>\n",
       "</table>\n",
       "</div>"
      ],
      "text/plain": [
       "    2005     2010     2015\n",
       "서울   NaN  1000000  1000000\n",
       "부산   NaN  1000000  1000000\n",
       "인천   NaN  1000000  1000000\n",
       "대구   NaN  1000000  1000000"
      ]
     },
     "execution_count": 257,
     "metadata": {},
     "output_type": "execute_result"
    }
   ],
   "source": [
    "# pop2는 2005라는 컬럼 보유\n",
    "# pop는 2005라는 컬럼 미보유\n",
    "\n",
    "pop2 - pop\n",
    "\n",
    "# 인덱스명, 컬럼명 모두 일치한 부분끼리만 연산\n",
    "# 미일치한 부분은 NaN(Not a Number)로 표시 -> 정해지지 않은 값"
   ]
  },
  {
   "cell_type": "code",
   "execution_count": null,
   "id": "a7d5f360-3f16-4abc-8066-1924b21c7ef6",
   "metadata": {},
   "outputs": [],
   "source": []
  },
  {
   "cell_type": "markdown",
   "id": "4282fe6d-e036-402d-8138-0ffdee703628",
   "metadata": {},
   "source": [
    "### DataFrame의 인덱싱, 슬라이싱"
   ]
  },
  {
   "cell_type": "code",
   "execution_count": 268,
   "id": "c5d4775c-2d63-47b2-aeae-70e83c7aa556",
   "metadata": {},
   "outputs": [
    {
     "data": {
      "text/html": [
       "<div>\n",
       "<style scoped>\n",
       "    .dataframe tbody tr th:only-of-type {\n",
       "        vertical-align: middle;\n",
       "    }\n",
       "\n",
       "    .dataframe tbody tr th {\n",
       "        vertical-align: top;\n",
       "    }\n",
       "\n",
       "    .dataframe thead th {\n",
       "        text-align: right;\n",
       "    }\n",
       "</style>\n",
       "<table border=\"1\" class=\"dataframe\">\n",
       "  <thead>\n",
       "    <tr style=\"text-align: right;\">\n",
       "      <th></th>\n",
       "      <th>1반</th>\n",
       "      <th>2반</th>\n",
       "      <th>3반</th>\n",
       "      <th>4반</th>\n",
       "    </tr>\n",
       "    <tr>\n",
       "      <th>과목</th>\n",
       "      <th></th>\n",
       "      <th></th>\n",
       "      <th></th>\n",
       "      <th></th>\n",
       "    </tr>\n",
       "  </thead>\n",
       "  <tbody>\n",
       "    <tr>\n",
       "      <th>수학</th>\n",
       "      <td>45</td>\n",
       "      <td>44</td>\n",
       "      <td>73</td>\n",
       "      <td>39</td>\n",
       "    </tr>\n",
       "    <tr>\n",
       "      <th>영어</th>\n",
       "      <td>76</td>\n",
       "      <td>92</td>\n",
       "      <td>45</td>\n",
       "      <td>69</td>\n",
       "    </tr>\n",
       "    <tr>\n",
       "      <th>국어</th>\n",
       "      <td>47</td>\n",
       "      <td>92</td>\n",
       "      <td>45</td>\n",
       "      <td>69</td>\n",
       "    </tr>\n",
       "    <tr>\n",
       "      <th>사회</th>\n",
       "      <td>92</td>\n",
       "      <td>81</td>\n",
       "      <td>85</td>\n",
       "      <td>40</td>\n",
       "    </tr>\n",
       "    <tr>\n",
       "      <th>과학</th>\n",
       "      <td>11</td>\n",
       "      <td>79</td>\n",
       "      <td>47</td>\n",
       "      <td>26</td>\n",
       "    </tr>\n",
       "  </tbody>\n",
       "</table>\n",
       "</div>"
      ],
      "text/plain": [
       "    1반  2반  3반  4반\n",
       "과목                \n",
       "수학  45  44  73  39\n",
       "영어  76  92  45  69\n",
       "국어  47  92  45  69\n",
       "사회  92  81  85  40\n",
       "과학  11  79  47  26"
      ]
     },
     "execution_count": 268,
     "metadata": {},
     "output_type": "execute_result"
    }
   ],
   "source": [
    "# 1. 데이터 불러오기\n",
    "# read_csv\n",
    "# read_csv('데이터 위치', encoding = '인코딩 방식', index_col = 인덱스로 만들 컬럼)\n",
    "# encoding : 컴퓨터가 문자를 인식 할 수 있게 해주는 처리 과정\n",
    "# euc-kr: 한글 전용 인코딩\n",
    "# index_col: 데이터에서 인덱스로 만들어줄 컬럼 설정(설정안하면 자동으로 0부터 숫자로 설정)\n",
    "\n",
    "score_data = pd.read_csv('data/score.csv', encoding = 'euc-kr', index_col = 0)\n",
    "score_data"
   ]
  },
  {
   "cell_type": "code",
   "execution_count": 266,
   "id": "c63a483e-4501-4079-a50e-d0b8f65cb0fe",
   "metadata": {},
   "outputs": [
    {
     "data": {
      "text/html": [
       "<div>\n",
       "<style scoped>\n",
       "    .dataframe tbody tr th:only-of-type {\n",
       "        vertical-align: middle;\n",
       "    }\n",
       "\n",
       "    .dataframe tbody tr th {\n",
       "        vertical-align: top;\n",
       "    }\n",
       "\n",
       "    .dataframe thead th {\n",
       "        text-align: right;\n",
       "    }\n",
       "</style>\n",
       "<table border=\"1\" class=\"dataframe\">\n",
       "  <thead>\n",
       "    <tr style=\"text-align: right;\">\n",
       "      <th></th>\n",
       "      <th>1반</th>\n",
       "      <th>2반</th>\n",
       "      <th>3반</th>\n",
       "      <th>4반</th>\n",
       "    </tr>\n",
       "    <tr>\n",
       "      <th>과목</th>\n",
       "      <th></th>\n",
       "      <th></th>\n",
       "      <th></th>\n",
       "      <th></th>\n",
       "    </tr>\n",
       "  </thead>\n",
       "  <tbody>\n",
       "    <tr>\n",
       "      <th>수학</th>\n",
       "      <td>45</td>\n",
       "      <td>44</td>\n",
       "      <td>73</td>\n",
       "      <td>39</td>\n",
       "    </tr>\n",
       "    <tr>\n",
       "      <th>영어</th>\n",
       "      <td>76</td>\n",
       "      <td>92</td>\n",
       "      <td>45</td>\n",
       "      <td>69</td>\n",
       "    </tr>\n",
       "    <tr>\n",
       "      <th>국어</th>\n",
       "      <td>47</td>\n",
       "      <td>92</td>\n",
       "      <td>45</td>\n",
       "      <td>69</td>\n",
       "    </tr>\n",
       "    <tr>\n",
       "      <th>사회</th>\n",
       "      <td>92</td>\n",
       "      <td>81</td>\n",
       "      <td>85</td>\n",
       "      <td>40</td>\n",
       "    </tr>\n",
       "    <tr>\n",
       "      <th>과학</th>\n",
       "      <td>11</td>\n",
       "      <td>79</td>\n",
       "      <td>47</td>\n",
       "      <td>26</td>\n",
       "    </tr>\n",
       "  </tbody>\n",
       "</table>\n",
       "</div>"
      ],
      "text/plain": [
       "    1반  2반  3반  4반\n",
       "과목                \n",
       "수학  45  44  73  39\n",
       "영어  76  92  45  69\n",
       "국어  47  92  45  69\n",
       "사회  92  81  85  40\n",
       "과학  11  79  47  26"
      ]
     },
     "execution_count": 266,
     "metadata": {},
     "output_type": "execute_result"
    }
   ],
   "source": [
    "# 데이터 정의\n",
    "data = {\n",
    "    '1반': [45, 76, 47, 92, 11],\n",
    "    '2반': [44, 92, 92, 81, 79],\n",
    "    '3반': [73, 45, 45, 85, 47],\n",
    "    '4반': [39, 69, 69, 40, 26]\n",
    "}\n",
    "\n",
    "# 인덱스 정의\n",
    "index = ['수학', '영어', '국어', '사회', '과학']\n",
    "\n",
    "# DataFrame 생성\n",
    "df = pd.DataFrame(data, index=index)\n",
    "\n",
    "# 인덱스 전체이름\n",
    "df.index.name = '과목'\n",
    "\n",
    "df"
   ]
  },
  {
   "cell_type": "code",
   "execution_count": null,
   "id": "0fbb0fc8-0d5c-411d-9f1e-93f24f756b48",
   "metadata": {},
   "outputs": [],
   "source": []
  },
  {
   "cell_type": "markdown",
   "id": "19631566-be51-4bd9-bdb8-4db2a1f69a9e",
   "metadata": {},
   "source": [
    "#### DF 열(컬럼) 인덱싱: 컬럼명"
   ]
  },
  {
   "cell_type": "code",
   "execution_count": 279,
   "id": "9638b94d-a527-4c50-9cc4-cd5f5c9686fe",
   "metadata": {},
   "outputs": [
    {
     "data": {
      "text/html": [
       "<div>\n",
       "<style scoped>\n",
       "    .dataframe tbody tr th:only-of-type {\n",
       "        vertical-align: middle;\n",
       "    }\n",
       "\n",
       "    .dataframe tbody tr th {\n",
       "        vertical-align: top;\n",
       "    }\n",
       "\n",
       "    .dataframe thead th {\n",
       "        text-align: right;\n",
       "    }\n",
       "</style>\n",
       "<table border=\"1\" class=\"dataframe\">\n",
       "  <thead>\n",
       "    <tr style=\"text-align: right;\">\n",
       "      <th></th>\n",
       "      <th>1반</th>\n",
       "    </tr>\n",
       "    <tr>\n",
       "      <th>과목</th>\n",
       "      <th></th>\n",
       "    </tr>\n",
       "  </thead>\n",
       "  <tbody>\n",
       "    <tr>\n",
       "      <th>수학</th>\n",
       "      <td>45</td>\n",
       "    </tr>\n",
       "    <tr>\n",
       "      <th>영어</th>\n",
       "      <td>76</td>\n",
       "    </tr>\n",
       "    <tr>\n",
       "      <th>국어</th>\n",
       "      <td>47</td>\n",
       "    </tr>\n",
       "    <tr>\n",
       "      <th>사회</th>\n",
       "      <td>92</td>\n",
       "    </tr>\n",
       "    <tr>\n",
       "      <th>과학</th>\n",
       "      <td>11</td>\n",
       "    </tr>\n",
       "  </tbody>\n",
       "</table>\n",
       "</div>"
      ],
      "text/plain": [
       "    1반\n",
       "과목    \n",
       "수학  45\n",
       "영어  76\n",
       "국어  47\n",
       "사회  92\n",
       "과학  11"
      ]
     },
     "execution_count": 279,
     "metadata": {},
     "output_type": "execute_result"
    }
   ],
   "source": [
    "score_data[['1반']]\n",
    "# Series 형태로 가져와짐"
   ]
  },
  {
   "cell_type": "code",
   "execution_count": 277,
   "id": "c9e9371f-634c-488c-bc82-e22d9cb4efc5",
   "metadata": {},
   "outputs": [
    {
     "data": {
      "text/html": [
       "<div>\n",
       "<style scoped>\n",
       "    .dataframe tbody tr th:only-of-type {\n",
       "        vertical-align: middle;\n",
       "    }\n",
       "\n",
       "    .dataframe tbody tr th {\n",
       "        vertical-align: top;\n",
       "    }\n",
       "\n",
       "    .dataframe thead th {\n",
       "        text-align: right;\n",
       "    }\n",
       "</style>\n",
       "<table border=\"1\" class=\"dataframe\">\n",
       "  <thead>\n",
       "    <tr style=\"text-align: right;\">\n",
       "      <th></th>\n",
       "      <th>1반</th>\n",
       "      <th>3반</th>\n",
       "    </tr>\n",
       "    <tr>\n",
       "      <th>과목</th>\n",
       "      <th></th>\n",
       "      <th></th>\n",
       "    </tr>\n",
       "  </thead>\n",
       "  <tbody>\n",
       "    <tr>\n",
       "      <th>수학</th>\n",
       "      <td>45</td>\n",
       "      <td>73</td>\n",
       "    </tr>\n",
       "    <tr>\n",
       "      <th>영어</th>\n",
       "      <td>76</td>\n",
       "      <td>45</td>\n",
       "    </tr>\n",
       "    <tr>\n",
       "      <th>국어</th>\n",
       "      <td>47</td>\n",
       "      <td>45</td>\n",
       "    </tr>\n",
       "    <tr>\n",
       "      <th>사회</th>\n",
       "      <td>92</td>\n",
       "      <td>85</td>\n",
       "    </tr>\n",
       "    <tr>\n",
       "      <th>과학</th>\n",
       "      <td>11</td>\n",
       "      <td>47</td>\n",
       "    </tr>\n",
       "  </tbody>\n",
       "</table>\n",
       "</div>"
      ],
      "text/plain": [
       "    1반  3반\n",
       "과목        \n",
       "수학  45  73\n",
       "영어  76  45\n",
       "국어  47  45\n",
       "사회  92  85\n",
       "과학  11  47"
      ]
     },
     "execution_count": 277,
     "metadata": {},
     "output_type": "execute_result"
    }
   ],
   "source": [
    "# 여러 반 인덱싱\n",
    "# 1반과 3반\n",
    "score_data[['1반', '3반']]\n",
    "# DataFrame 형태로 가져와짐"
   ]
  },
  {
   "cell_type": "code",
   "execution_count": null,
   "id": "678d8cae-5b0b-4a44-b37e-72d1405c5488",
   "metadata": {},
   "outputs": [],
   "source": []
  },
  {
   "cell_type": "markdown",
   "id": "69c8fee2-39df-4dac-8e87-93411e6fff81",
   "metadata": {},
   "source": [
    "- DF 행 인덱싱\n",
    "- DF에서 행 인덱싱을 위해서는 슬라이싱 문법(범위) 사용"
   ]
  },
  {
   "cell_type": "code",
   "execution_count": 282,
   "id": "7c7ead01-e48b-4a70-b228-3f6d1aed5a30",
   "metadata": {},
   "outputs": [
    {
     "data": {
      "text/html": [
       "<div>\n",
       "<style scoped>\n",
       "    .dataframe tbody tr th:only-of-type {\n",
       "        vertical-align: middle;\n",
       "    }\n",
       "\n",
       "    .dataframe tbody tr th {\n",
       "        vertical-align: top;\n",
       "    }\n",
       "\n",
       "    .dataframe thead th {\n",
       "        text-align: right;\n",
       "    }\n",
       "</style>\n",
       "<table border=\"1\" class=\"dataframe\">\n",
       "  <thead>\n",
       "    <tr style=\"text-align: right;\">\n",
       "      <th></th>\n",
       "      <th>1반</th>\n",
       "      <th>2반</th>\n",
       "      <th>3반</th>\n",
       "      <th>4반</th>\n",
       "    </tr>\n",
       "    <tr>\n",
       "      <th>과목</th>\n",
       "      <th></th>\n",
       "      <th></th>\n",
       "      <th></th>\n",
       "      <th></th>\n",
       "    </tr>\n",
       "  </thead>\n",
       "  <tbody>\n",
       "    <tr>\n",
       "      <th>수학</th>\n",
       "      <td>45</td>\n",
       "      <td>44</td>\n",
       "      <td>73</td>\n",
       "      <td>39</td>\n",
       "    </tr>\n",
       "    <tr>\n",
       "      <th>영어</th>\n",
       "      <td>76</td>\n",
       "      <td>92</td>\n",
       "      <td>45</td>\n",
       "      <td>69</td>\n",
       "    </tr>\n",
       "    <tr>\n",
       "      <th>국어</th>\n",
       "      <td>47</td>\n",
       "      <td>92</td>\n",
       "      <td>45</td>\n",
       "      <td>69</td>\n",
       "    </tr>\n",
       "    <tr>\n",
       "      <th>사회</th>\n",
       "      <td>92</td>\n",
       "      <td>81</td>\n",
       "      <td>85</td>\n",
       "      <td>40</td>\n",
       "    </tr>\n",
       "    <tr>\n",
       "      <th>과학</th>\n",
       "      <td>11</td>\n",
       "      <td>79</td>\n",
       "      <td>47</td>\n",
       "      <td>26</td>\n",
       "    </tr>\n",
       "  </tbody>\n",
       "</table>\n",
       "</div>"
      ],
      "text/plain": [
       "    1반  2반  3반  4반\n",
       "과목                \n",
       "수학  45  44  73  39\n",
       "영어  76  92  45  69\n",
       "국어  47  92  45  69\n",
       "사회  92  81  85  40\n",
       "과학  11  79  47  26"
      ]
     },
     "execution_count": 282,
     "metadata": {},
     "output_type": "execute_result"
    }
   ],
   "source": [
    "score_data"
   ]
  },
  {
   "cell_type": "code",
   "execution_count": 284,
   "id": "a3ccbfc8-b561-4de0-9cac-f95c43d4de53",
   "metadata": {},
   "outputs": [
    {
     "data": {
      "text/html": [
       "<div>\n",
       "<style scoped>\n",
       "    .dataframe tbody tr th:only-of-type {\n",
       "        vertical-align: middle;\n",
       "    }\n",
       "\n",
       "    .dataframe tbody tr th {\n",
       "        vertical-align: top;\n",
       "    }\n",
       "\n",
       "    .dataframe thead th {\n",
       "        text-align: right;\n",
       "    }\n",
       "</style>\n",
       "<table border=\"1\" class=\"dataframe\">\n",
       "  <thead>\n",
       "    <tr style=\"text-align: right;\">\n",
       "      <th></th>\n",
       "      <th>1반</th>\n",
       "      <th>2반</th>\n",
       "      <th>3반</th>\n",
       "      <th>4반</th>\n",
       "    </tr>\n",
       "    <tr>\n",
       "      <th>과목</th>\n",
       "      <th></th>\n",
       "      <th></th>\n",
       "      <th></th>\n",
       "      <th></th>\n",
       "    </tr>\n",
       "  </thead>\n",
       "  <tbody>\n",
       "    <tr>\n",
       "      <th>수학</th>\n",
       "      <td>45</td>\n",
       "      <td>44</td>\n",
       "      <td>73</td>\n",
       "      <td>39</td>\n",
       "    </tr>\n",
       "    <tr>\n",
       "      <th>영어</th>\n",
       "      <td>76</td>\n",
       "      <td>92</td>\n",
       "      <td>45</td>\n",
       "      <td>69</td>\n",
       "    </tr>\n",
       "    <tr>\n",
       "      <th>국어</th>\n",
       "      <td>47</td>\n",
       "      <td>92</td>\n",
       "      <td>45</td>\n",
       "      <td>69</td>\n",
       "    </tr>\n",
       "  </tbody>\n",
       "</table>\n",
       "</div>"
      ],
      "text/plain": [
       "    1반  2반  3반  4반\n",
       "과목                \n",
       "수학  45  44  73  39\n",
       "영어  76  92  45  69\n",
       "국어  47  92  45  69"
      ]
     },
     "execution_count": 284,
     "metadata": {},
     "output_type": "execute_result"
    }
   ],
   "source": [
    "score_data['수학':'국어']"
   ]
  },
  {
   "cell_type": "code",
   "execution_count": 286,
   "id": "2b4e0684-9b39-44cd-a834-72f755603526",
   "metadata": {},
   "outputs": [
    {
     "data": {
      "text/html": [
       "<div>\n",
       "<style scoped>\n",
       "    .dataframe tbody tr th:only-of-type {\n",
       "        vertical-align: middle;\n",
       "    }\n",
       "\n",
       "    .dataframe tbody tr th {\n",
       "        vertical-align: top;\n",
       "    }\n",
       "\n",
       "    .dataframe thead th {\n",
       "        text-align: right;\n",
       "    }\n",
       "</style>\n",
       "<table border=\"1\" class=\"dataframe\">\n",
       "  <thead>\n",
       "    <tr style=\"text-align: right;\">\n",
       "      <th></th>\n",
       "      <th>1반</th>\n",
       "      <th>2반</th>\n",
       "      <th>3반</th>\n",
       "      <th>4반</th>\n",
       "    </tr>\n",
       "    <tr>\n",
       "      <th>과목</th>\n",
       "      <th></th>\n",
       "      <th></th>\n",
       "      <th></th>\n",
       "      <th></th>\n",
       "    </tr>\n",
       "  </thead>\n",
       "  <tbody>\n",
       "    <tr>\n",
       "      <th>수학</th>\n",
       "      <td>45</td>\n",
       "      <td>44</td>\n",
       "      <td>73</td>\n",
       "      <td>39</td>\n",
       "    </tr>\n",
       "  </tbody>\n",
       "</table>\n",
       "</div>"
      ],
      "text/plain": [
       "    1반  2반  3반  4반\n",
       "과목                \n",
       "수학  45  44  73  39"
      ]
     },
     "execution_count": 286,
     "metadata": {},
     "output_type": "execute_result"
    }
   ],
   "source": [
    "# 수학 한 과목만 가져오고 싶은 경우\n",
    "score_data['수학':'수학']"
   ]
  },
  {
   "cell_type": "code",
   "execution_count": 288,
   "id": "8ec2a5fe-3dd8-4b8a-a61d-f18a033f0415",
   "metadata": {},
   "outputs": [
    {
     "data": {
      "text/html": [
       "<div>\n",
       "<style scoped>\n",
       "    .dataframe tbody tr th:only-of-type {\n",
       "        vertical-align: middle;\n",
       "    }\n",
       "\n",
       "    .dataframe tbody tr th {\n",
       "        vertical-align: top;\n",
       "    }\n",
       "\n",
       "    .dataframe thead th {\n",
       "        text-align: right;\n",
       "    }\n",
       "</style>\n",
       "<table border=\"1\" class=\"dataframe\">\n",
       "  <thead>\n",
       "    <tr style=\"text-align: right;\">\n",
       "      <th></th>\n",
       "      <th>1반</th>\n",
       "      <th>2반</th>\n",
       "      <th>3반</th>\n",
       "      <th>4반</th>\n",
       "    </tr>\n",
       "    <tr>\n",
       "      <th>과목</th>\n",
       "      <th></th>\n",
       "      <th></th>\n",
       "      <th></th>\n",
       "      <th></th>\n",
       "    </tr>\n",
       "  </thead>\n",
       "  <tbody>\n",
       "    <tr>\n",
       "      <th>수학</th>\n",
       "      <td>45</td>\n",
       "      <td>44</td>\n",
       "      <td>73</td>\n",
       "      <td>39</td>\n",
       "    </tr>\n",
       "  </tbody>\n",
       "</table>\n",
       "</div>"
      ],
      "text/plain": [
       "    1반  2반  3반  4반\n",
       "과목                \n",
       "수학  45  44  73  39"
      ]
     },
     "execution_count": 288,
     "metadata": {},
     "output_type": "execute_result"
    }
   ],
   "source": [
    "# 행번호로도 가능\n",
    "score_data[0: 1]"
   ]
  },
  {
   "cell_type": "markdown",
   "id": "e771bed3-6eef-40a8-a16d-25cb14dea319",
   "metadata": {},
   "source": [
    "### 정리\n",
    "- DF의 열(컬럼) 접근은 인덱싱으로\n",
    "- DF의 행 접근은 슬라이싱으로\n",
    "- 인덱싱 -> 열\n",
    "- 슬라이싱 -> 행"
   ]
  },
  {
   "cell_type": "code",
   "execution_count": null,
   "id": "968d3896-1426-4ca7-9117-98afdb74c3dc",
   "metadata": {},
   "outputs": [],
   "source": []
  },
  {
   "cell_type": "markdown",
   "id": "38f44c08-1b66-47bc-ba02-3a58770a174f",
   "metadata": {},
   "source": [
    "### loc, iloc를 활용한 인덱싱, 슬라이싱\n",
    "- 한번에 행과 열에 모두 접근\n",
    "- 기본적으로 loc, iloc는 행에 먼저 접근"
   ]
  },
  {
   "cell_type": "code",
   "execution_count": null,
   "id": "4705e810-fb20-4e99-8726-438936381cb7",
   "metadata": {},
   "outputs": [],
   "source": []
  },
  {
   "cell_type": "code",
   "execution_count": 293,
   "id": "dca63cfd-dd91-47ca-be9a-96615392f2b4",
   "metadata": {},
   "outputs": [
    {
     "data": {
      "text/html": [
       "<div>\n",
       "<style scoped>\n",
       "    .dataframe tbody tr th:only-of-type {\n",
       "        vertical-align: middle;\n",
       "    }\n",
       "\n",
       "    .dataframe tbody tr th {\n",
       "        vertical-align: top;\n",
       "    }\n",
       "\n",
       "    .dataframe thead th {\n",
       "        text-align: right;\n",
       "    }\n",
       "</style>\n",
       "<table border=\"1\" class=\"dataframe\">\n",
       "  <thead>\n",
       "    <tr style=\"text-align: right;\">\n",
       "      <th></th>\n",
       "      <th>1반</th>\n",
       "      <th>2반</th>\n",
       "      <th>3반</th>\n",
       "      <th>4반</th>\n",
       "    </tr>\n",
       "    <tr>\n",
       "      <th>과목</th>\n",
       "      <th></th>\n",
       "      <th></th>\n",
       "      <th></th>\n",
       "      <th></th>\n",
       "    </tr>\n",
       "  </thead>\n",
       "  <tbody>\n",
       "    <tr>\n",
       "      <th>수학</th>\n",
       "      <td>45</td>\n",
       "      <td>44</td>\n",
       "      <td>73</td>\n",
       "      <td>39</td>\n",
       "    </tr>\n",
       "    <tr>\n",
       "      <th>영어</th>\n",
       "      <td>76</td>\n",
       "      <td>92</td>\n",
       "      <td>45</td>\n",
       "      <td>69</td>\n",
       "    </tr>\n",
       "    <tr>\n",
       "      <th>국어</th>\n",
       "      <td>47</td>\n",
       "      <td>92</td>\n",
       "      <td>45</td>\n",
       "      <td>69</td>\n",
       "    </tr>\n",
       "    <tr>\n",
       "      <th>사회</th>\n",
       "      <td>92</td>\n",
       "      <td>81</td>\n",
       "      <td>85</td>\n",
       "      <td>40</td>\n",
       "    </tr>\n",
       "    <tr>\n",
       "      <th>과학</th>\n",
       "      <td>11</td>\n",
       "      <td>79</td>\n",
       "      <td>47</td>\n",
       "      <td>26</td>\n",
       "    </tr>\n",
       "  </tbody>\n",
       "</table>\n",
       "</div>"
      ],
      "text/plain": [
       "    1반  2반  3반  4반\n",
       "과목                \n",
       "수학  45  44  73  39\n",
       "영어  76  92  45  69\n",
       "국어  47  92  45  69\n",
       "사회  92  81  85  40\n",
       "과학  11  79  47  26"
      ]
     },
     "execution_count": 293,
     "metadata": {},
     "output_type": "execute_result"
    }
   ],
   "source": [
    "score_data"
   ]
  },
  {
   "cell_type": "markdown",
   "id": "8b56b985-a1c5-4d42-b243-8e6e399788b3",
   "metadata": {},
   "source": [
    "#### loc"
   ]
  },
  {
   "cell_type": "code",
   "execution_count": 302,
   "id": "fcbe8145-3c9d-4696-be50-ea7be12443a6",
   "metadata": {},
   "outputs": [
    {
     "data": {
      "text/plain": [
       "1반    11\n",
       "2반    79\n",
       "3반    47\n",
       "4반    26\n",
       "Name: 과학, dtype: int64"
      ]
     },
     "execution_count": 302,
     "metadata": {},
     "output_type": "execute_result"
    }
   ],
   "source": [
    "# loc : 이름으로 접근\n",
    "# DF.loc[행의 범위(명칭), 열의 범위(명칭)]\n",
    "\n",
    "# 각 반의 과학 점수\n",
    "score_data.loc['과학'] # 열의 범위가 전체일 경우 생략 가능"
   ]
  },
  {
   "cell_type": "code",
   "execution_count": 304,
   "id": "c7e69eb3-d2f5-44a8-a91c-ab1c74f44464",
   "metadata": {},
   "outputs": [
    {
     "data": {
      "text/plain": [
       "26"
      ]
     },
     "execution_count": 304,
     "metadata": {},
     "output_type": "execute_result"
    }
   ],
   "source": [
    "# 4반의 과학 점수\n",
    "score_data.loc['과학', '4반']"
   ]
  },
  {
   "cell_type": "code",
   "execution_count": 306,
   "id": "347a84d6-1756-4e68-9054-10557d9f641f",
   "metadata": {},
   "outputs": [
    {
     "data": {
      "text/plain": [
       "과목\n",
       "수학    39\n",
       "영어    69\n",
       "국어    69\n",
       "사회    40\n",
       "과학    26\n",
       "Name: 4반, dtype: int64"
      ]
     },
     "execution_count": 306,
     "metadata": {},
     "output_type": "execute_result"
    }
   ],
   "source": [
    "# 4반의 모든 과목\n",
    "score_data.loc[:, '4반']"
   ]
  },
  {
   "cell_type": "code",
   "execution_count": 308,
   "id": "dfa4790c-fc43-4c5d-ae5a-8d3ee3ee3d66",
   "metadata": {},
   "outputs": [
    {
     "data": {
      "text/html": [
       "<div>\n",
       "<style scoped>\n",
       "    .dataframe tbody tr th:only-of-type {\n",
       "        vertical-align: middle;\n",
       "    }\n",
       "\n",
       "    .dataframe tbody tr th {\n",
       "        vertical-align: top;\n",
       "    }\n",
       "\n",
       "    .dataframe thead th {\n",
       "        text-align: right;\n",
       "    }\n",
       "</style>\n",
       "<table border=\"1\" class=\"dataframe\">\n",
       "  <thead>\n",
       "    <tr style=\"text-align: right;\">\n",
       "      <th></th>\n",
       "      <th>1반</th>\n",
       "      <th>4반</th>\n",
       "    </tr>\n",
       "    <tr>\n",
       "      <th>과목</th>\n",
       "      <th></th>\n",
       "      <th></th>\n",
       "    </tr>\n",
       "  </thead>\n",
       "  <tbody>\n",
       "    <tr>\n",
       "      <th>수학</th>\n",
       "      <td>45</td>\n",
       "      <td>39</td>\n",
       "    </tr>\n",
       "    <tr>\n",
       "      <th>영어</th>\n",
       "      <td>76</td>\n",
       "      <td>69</td>\n",
       "    </tr>\n",
       "    <tr>\n",
       "      <th>국어</th>\n",
       "      <td>47</td>\n",
       "      <td>69</td>\n",
       "    </tr>\n",
       "    <tr>\n",
       "      <th>사회</th>\n",
       "      <td>92</td>\n",
       "      <td>40</td>\n",
       "    </tr>\n",
       "    <tr>\n",
       "      <th>과학</th>\n",
       "      <td>11</td>\n",
       "      <td>26</td>\n",
       "    </tr>\n",
       "  </tbody>\n",
       "</table>\n",
       "</div>"
      ],
      "text/plain": [
       "    1반  4반\n",
       "과목        \n",
       "수학  45  39\n",
       "영어  76  69\n",
       "국어  47  69\n",
       "사회  92  40\n",
       "과학  11  26"
      ]
     },
     "execution_count": 308,
     "metadata": {},
     "output_type": "execute_result"
    }
   ],
   "source": [
    "# 4반과 1반의 모든 과목 점수\n",
    "score_data.loc[:, ['1반', '4반']]"
   ]
  },
  {
   "cell_type": "code",
   "execution_count": null,
   "id": "2ec258cd-fd2c-4f90-8a7a-acb0e44b3509",
   "metadata": {},
   "outputs": [],
   "source": []
  },
  {
   "cell_type": "code",
   "execution_count": 314,
   "id": "0213ee04-80cf-4d9b-be55-24096dd6aae6",
   "metadata": {},
   "outputs": [
    {
     "data": {
      "text/plain": [
       "1반    11\n",
       "2반    79\n",
       "3반    47\n",
       "4반    26\n",
       "Name: 과학, dtype: int64"
      ]
     },
     "execution_count": 314,
     "metadata": {},
     "output_type": "execute_result"
    }
   ],
   "source": [
    "# iloc는 인덱스 번호로 접근\n",
    "# DF.iloc[행의 범위(인덱스 번호), 열의 범위(인덱스 번호)]\n",
    "\n",
    "# 각 반의 과학 점수 \n",
    "score_data.iloc[4] # 열의 범위가 전체일 경우 생략 가능\n",
    "score_data.iloc[4, :]"
   ]
  },
  {
   "cell_type": "code",
   "execution_count": null,
   "id": "f03b63f6-73e7-4c7c-907b-1ca92ce84075",
   "metadata": {},
   "outputs": [],
   "source": []
  },
  {
   "cell_type": "code",
   "execution_count": 316,
   "id": "5562f6e9-6e00-4d04-adb4-73e44a5d4c41",
   "metadata": {},
   "outputs": [
    {
     "data": {
      "text/html": [
       "<div>\n",
       "<style scoped>\n",
       "    .dataframe tbody tr th:only-of-type {\n",
       "        vertical-align: middle;\n",
       "    }\n",
       "\n",
       "    .dataframe tbody tr th {\n",
       "        vertical-align: top;\n",
       "    }\n",
       "\n",
       "    .dataframe thead th {\n",
       "        text-align: right;\n",
       "    }\n",
       "</style>\n",
       "<table border=\"1\" class=\"dataframe\">\n",
       "  <thead>\n",
       "    <tr style=\"text-align: right;\">\n",
       "      <th></th>\n",
       "      <th>1반</th>\n",
       "      <th>2반</th>\n",
       "      <th>3반</th>\n",
       "      <th>4반</th>\n",
       "    </tr>\n",
       "    <tr>\n",
       "      <th>과목</th>\n",
       "      <th></th>\n",
       "      <th></th>\n",
       "      <th></th>\n",
       "      <th></th>\n",
       "    </tr>\n",
       "  </thead>\n",
       "  <tbody>\n",
       "    <tr>\n",
       "      <th>수학</th>\n",
       "      <td>45</td>\n",
       "      <td>44</td>\n",
       "      <td>73</td>\n",
       "      <td>39</td>\n",
       "    </tr>\n",
       "    <tr>\n",
       "      <th>영어</th>\n",
       "      <td>76</td>\n",
       "      <td>92</td>\n",
       "      <td>45</td>\n",
       "      <td>69</td>\n",
       "    </tr>\n",
       "    <tr>\n",
       "      <th>국어</th>\n",
       "      <td>47</td>\n",
       "      <td>92</td>\n",
       "      <td>45</td>\n",
       "      <td>69</td>\n",
       "    </tr>\n",
       "    <tr>\n",
       "      <th>사회</th>\n",
       "      <td>92</td>\n",
       "      <td>81</td>\n",
       "      <td>85</td>\n",
       "      <td>40</td>\n",
       "    </tr>\n",
       "    <tr>\n",
       "      <th>과학</th>\n",
       "      <td>11</td>\n",
       "      <td>79</td>\n",
       "      <td>47</td>\n",
       "      <td>26</td>\n",
       "    </tr>\n",
       "  </tbody>\n",
       "</table>\n",
       "</div>"
      ],
      "text/plain": [
       "    1반  2반  3반  4반\n",
       "과목                \n",
       "수학  45  44  73  39\n",
       "영어  76  92  45  69\n",
       "국어  47  92  45  69\n",
       "사회  92  81  85  40\n",
       "과학  11  79  47  26"
      ]
     },
     "execution_count": 316,
     "metadata": {},
     "output_type": "execute_result"
    }
   ],
   "source": [
    "score_data"
   ]
  },
  {
   "cell_type": "code",
   "execution_count": 320,
   "id": "28f10c15-c64d-4258-977c-5767689dc7d0",
   "metadata": {},
   "outputs": [
    {
     "data": {
      "text/plain": [
       "과목\n",
       "국어    45\n",
       "사회    85\n",
       "Name: 3반, dtype: int64"
      ]
     },
     "execution_count": 320,
     "metadata": {},
     "output_type": "execute_result"
    }
   ],
   "source": [
    "# 3반의 국어와 사회 점수\n",
    "score_data.iloc[2:4, 2]"
   ]
  },
  {
   "cell_type": "code",
   "execution_count": null,
   "id": "beb8b37f-c8fe-4e52-9f62-1ad0df7dd3fc",
   "metadata": {},
   "outputs": [],
   "source": []
  },
  {
   "cell_type": "code",
   "execution_count": 326,
   "id": "fef076a2-e3c0-4628-8a22-722ac30b7ede",
   "metadata": {},
   "outputs": [
    {
     "data": {
      "text/html": [
       "<div>\n",
       "<style scoped>\n",
       "    .dataframe tbody tr th:only-of-type {\n",
       "        vertical-align: middle;\n",
       "    }\n",
       "\n",
       "    .dataframe tbody tr th {\n",
       "        vertical-align: top;\n",
       "    }\n",
       "\n",
       "    .dataframe thead th {\n",
       "        text-align: right;\n",
       "    }\n",
       "</style>\n",
       "<table border=\"1\" class=\"dataframe\">\n",
       "  <thead>\n",
       "    <tr style=\"text-align: right;\">\n",
       "      <th></th>\n",
       "      <th>1반</th>\n",
       "      <th>2반</th>\n",
       "    </tr>\n",
       "    <tr>\n",
       "      <th>과목</th>\n",
       "      <th></th>\n",
       "      <th></th>\n",
       "    </tr>\n",
       "  </thead>\n",
       "  <tbody>\n",
       "    <tr>\n",
       "      <th>수학</th>\n",
       "      <td>45</td>\n",
       "      <td>44</td>\n",
       "    </tr>\n",
       "    <tr>\n",
       "      <th>사회</th>\n",
       "      <td>92</td>\n",
       "      <td>81</td>\n",
       "    </tr>\n",
       "  </tbody>\n",
       "</table>\n",
       "</div>"
      ],
      "text/plain": [
       "    1반  2반\n",
       "과목        \n",
       "수학  45  44\n",
       "사회  92  81"
      ]
     },
     "execution_count": 326,
     "metadata": {},
     "output_type": "execute_result"
    }
   ],
   "source": [
    "# 1반과 2반의 수학과 사회 점수\n",
    "score_data.iloc[[0, 3], 0:2]"
   ]
  },
  {
   "cell_type": "code",
   "execution_count": null,
   "id": "a08ce18a-2a29-4320-9217-80068d72c860",
   "metadata": {},
   "outputs": [],
   "source": []
  },
  {
   "cell_type": "code",
   "execution_count": 328,
   "id": "846b985f-3c51-4253-9fe4-1df126622002",
   "metadata": {},
   "outputs": [
    {
     "data": {
      "text/html": [
       "<div>\n",
       "<style scoped>\n",
       "    .dataframe tbody tr th:only-of-type {\n",
       "        vertical-align: middle;\n",
       "    }\n",
       "\n",
       "    .dataframe tbody tr th {\n",
       "        vertical-align: top;\n",
       "    }\n",
       "\n",
       "    .dataframe thead th {\n",
       "        text-align: right;\n",
       "    }\n",
       "</style>\n",
       "<table border=\"1\" class=\"dataframe\">\n",
       "  <thead>\n",
       "    <tr style=\"text-align: right;\">\n",
       "      <th></th>\n",
       "      <th>1반</th>\n",
       "      <th>2반</th>\n",
       "      <th>3반</th>\n",
       "      <th>4반</th>\n",
       "    </tr>\n",
       "    <tr>\n",
       "      <th>과목</th>\n",
       "      <th></th>\n",
       "      <th></th>\n",
       "      <th></th>\n",
       "      <th></th>\n",
       "    </tr>\n",
       "  </thead>\n",
       "  <tbody>\n",
       "    <tr>\n",
       "      <th>수학</th>\n",
       "      <td>45</td>\n",
       "      <td>44</td>\n",
       "      <td>73</td>\n",
       "      <td>39</td>\n",
       "    </tr>\n",
       "    <tr>\n",
       "      <th>영어</th>\n",
       "      <td>76</td>\n",
       "      <td>92</td>\n",
       "      <td>45</td>\n",
       "      <td>69</td>\n",
       "    </tr>\n",
       "    <tr>\n",
       "      <th>국어</th>\n",
       "      <td>47</td>\n",
       "      <td>92</td>\n",
       "      <td>45</td>\n",
       "      <td>69</td>\n",
       "    </tr>\n",
       "    <tr>\n",
       "      <th>사회</th>\n",
       "      <td>92</td>\n",
       "      <td>81</td>\n",
       "      <td>85</td>\n",
       "      <td>40</td>\n",
       "    </tr>\n",
       "    <tr>\n",
       "      <th>과학</th>\n",
       "      <td>11</td>\n",
       "      <td>79</td>\n",
       "      <td>47</td>\n",
       "      <td>26</td>\n",
       "    </tr>\n",
       "  </tbody>\n",
       "</table>\n",
       "</div>"
      ],
      "text/plain": [
       "    1반  2반  3반  4반\n",
       "과목                \n",
       "수학  45  44  73  39\n",
       "영어  76  92  45  69\n",
       "국어  47  92  45  69\n",
       "사회  92  81  85  40\n",
       "과학  11  79  47  26"
      ]
     },
     "execution_count": 328,
     "metadata": {},
     "output_type": "execute_result"
    }
   ],
   "source": [
    "score_data"
   ]
  },
  {
   "cell_type": "code",
   "execution_count": null,
   "id": "f55afd00-9779-4d20-86d8-0d1ab6fbac15",
   "metadata": {},
   "outputs": [],
   "source": []
  },
  {
   "cell_type": "markdown",
   "id": "b838a1ab-cdc7-4935-89d2-4b31dd887abf",
   "metadata": {},
   "source": [
    "- 2반의 사회점수 데이터 접근(loc, iloc 둘 다)"
   ]
  },
  {
   "cell_type": "code",
   "execution_count": 332,
   "id": "a61c7a1e-046e-4eb7-ae12-5f678fde7553",
   "metadata": {},
   "outputs": [
    {
     "data": {
      "text/plain": [
       "81"
      ]
     },
     "execution_count": 332,
     "metadata": {},
     "output_type": "execute_result"
    }
   ],
   "source": [
    "score_data.loc['사회', '2반']"
   ]
  },
  {
   "cell_type": "code",
   "execution_count": 340,
   "id": "70fed7a3-9448-4461-a508-bbd9858e7c8d",
   "metadata": {},
   "outputs": [
    {
     "data": {
      "text/plain": [
       "81"
      ]
     },
     "execution_count": 340,
     "metadata": {},
     "output_type": "execute_result"
    }
   ],
   "source": [
    "score_data.iloc[3, 1]"
   ]
  },
  {
   "cell_type": "markdown",
   "id": "1f20b777-1d8d-4c7a-a442-09e833c5c168",
   "metadata": {},
   "source": [
    "- 2반, 4반의 국어, 사회점수 데이터 접근(loc, iloc 둘다)"
   ]
  },
  {
   "cell_type": "code",
   "execution_count": 342,
   "id": "7ca4e0e5-20ef-4915-ae62-da3cb8cde07a",
   "metadata": {},
   "outputs": [
    {
     "data": {
      "text/html": [
       "<div>\n",
       "<style scoped>\n",
       "    .dataframe tbody tr th:only-of-type {\n",
       "        vertical-align: middle;\n",
       "    }\n",
       "\n",
       "    .dataframe tbody tr th {\n",
       "        vertical-align: top;\n",
       "    }\n",
       "\n",
       "    .dataframe thead th {\n",
       "        text-align: right;\n",
       "    }\n",
       "</style>\n",
       "<table border=\"1\" class=\"dataframe\">\n",
       "  <thead>\n",
       "    <tr style=\"text-align: right;\">\n",
       "      <th></th>\n",
       "      <th>2반</th>\n",
       "      <th>4반</th>\n",
       "    </tr>\n",
       "    <tr>\n",
       "      <th>과목</th>\n",
       "      <th></th>\n",
       "      <th></th>\n",
       "    </tr>\n",
       "  </thead>\n",
       "  <tbody>\n",
       "    <tr>\n",
       "      <th>국어</th>\n",
       "      <td>92</td>\n",
       "      <td>69</td>\n",
       "    </tr>\n",
       "    <tr>\n",
       "      <th>사회</th>\n",
       "      <td>81</td>\n",
       "      <td>40</td>\n",
       "    </tr>\n",
       "  </tbody>\n",
       "</table>\n",
       "</div>"
      ],
      "text/plain": [
       "    2반  4반\n",
       "과목        \n",
       "국어  92  69\n",
       "사회  81  40"
      ]
     },
     "execution_count": 342,
     "metadata": {},
     "output_type": "execute_result"
    }
   ],
   "source": [
    "score_data.loc['국어':'사회', ['2반', '4반']]"
   ]
  },
  {
   "cell_type": "code",
   "execution_count": 344,
   "id": "4d9cf48a-d023-4eea-985e-828bbf7cb53f",
   "metadata": {},
   "outputs": [
    {
     "data": {
      "text/html": [
       "<div>\n",
       "<style scoped>\n",
       "    .dataframe tbody tr th:only-of-type {\n",
       "        vertical-align: middle;\n",
       "    }\n",
       "\n",
       "    .dataframe tbody tr th {\n",
       "        vertical-align: top;\n",
       "    }\n",
       "\n",
       "    .dataframe thead th {\n",
       "        text-align: right;\n",
       "    }\n",
       "</style>\n",
       "<table border=\"1\" class=\"dataframe\">\n",
       "  <thead>\n",
       "    <tr style=\"text-align: right;\">\n",
       "      <th></th>\n",
       "      <th>2반</th>\n",
       "      <th>4반</th>\n",
       "    </tr>\n",
       "    <tr>\n",
       "      <th>과목</th>\n",
       "      <th></th>\n",
       "      <th></th>\n",
       "    </tr>\n",
       "  </thead>\n",
       "  <tbody>\n",
       "    <tr>\n",
       "      <th>국어</th>\n",
       "      <td>92</td>\n",
       "      <td>69</td>\n",
       "    </tr>\n",
       "    <tr>\n",
       "      <th>사회</th>\n",
       "      <td>81</td>\n",
       "      <td>40</td>\n",
       "    </tr>\n",
       "  </tbody>\n",
       "</table>\n",
       "</div>"
      ],
      "text/plain": [
       "    2반  4반\n",
       "과목        \n",
       "국어  92  69\n",
       "사회  81  40"
      ]
     },
     "execution_count": 344,
     "metadata": {},
     "output_type": "execute_result"
    }
   ],
   "source": [
    "score_data.iloc[2:4, [1, 3]]"
   ]
  },
  {
   "cell_type": "code",
   "execution_count": null,
   "id": "5028afa9-cedd-403c-87ed-de9c238cf992",
   "metadata": {},
   "outputs": [],
   "source": []
  },
  {
   "cell_type": "code",
   "execution_count": 350,
   "id": "50d8690a-313d-4b0c-86b7-81a5a0bb2925",
   "metadata": {},
   "outputs": [
    {
     "data": {
      "text/html": [
       "<div>\n",
       "<style scoped>\n",
       "    .dataframe tbody tr th:only-of-type {\n",
       "        vertical-align: middle;\n",
       "    }\n",
       "\n",
       "    .dataframe tbody tr th {\n",
       "        vertical-align: top;\n",
       "    }\n",
       "\n",
       "    .dataframe thead th {\n",
       "        text-align: right;\n",
       "    }\n",
       "</style>\n",
       "<table border=\"1\" class=\"dataframe\">\n",
       "  <thead>\n",
       "    <tr style=\"text-align: right;\">\n",
       "      <th>과목</th>\n",
       "      <th>수학</th>\n",
       "      <th>영어</th>\n",
       "      <th>국어</th>\n",
       "      <th>사회</th>\n",
       "      <th>과학</th>\n",
       "    </tr>\n",
       "  </thead>\n",
       "  <tbody>\n",
       "    <tr>\n",
       "      <th>1반</th>\n",
       "      <td>45</td>\n",
       "      <td>76</td>\n",
       "      <td>47</td>\n",
       "      <td>92</td>\n",
       "      <td>11</td>\n",
       "    </tr>\n",
       "    <tr>\n",
       "      <th>2반</th>\n",
       "      <td>44</td>\n",
       "      <td>92</td>\n",
       "      <td>92</td>\n",
       "      <td>81</td>\n",
       "      <td>79</td>\n",
       "    </tr>\n",
       "    <tr>\n",
       "      <th>3반</th>\n",
       "      <td>73</td>\n",
       "      <td>45</td>\n",
       "      <td>45</td>\n",
       "      <td>85</td>\n",
       "      <td>47</td>\n",
       "    </tr>\n",
       "    <tr>\n",
       "      <th>4반</th>\n",
       "      <td>39</td>\n",
       "      <td>69</td>\n",
       "      <td>69</td>\n",
       "      <td>40</td>\n",
       "      <td>26</td>\n",
       "    </tr>\n",
       "  </tbody>\n",
       "</table>\n",
       "</div>"
      ],
      "text/plain": [
       "과목  수학  영어  국어  사회  과학\n",
       "1반  45  76  47  92  11\n",
       "2반  44  92  92  81  79\n",
       "3반  73  45  45  85  47\n",
       "4반  39  69  69  40  26"
      ]
     },
     "execution_count": 350,
     "metadata": {},
     "output_type": "execute_result"
    }
   ],
   "source": [
    "# 데이터 전치\n",
    "score = score_data.T\n",
    "\n",
    "score"
   ]
  },
  {
   "cell_type": "markdown",
   "id": "aaff03a2-4273-4405-a3bc-e379f318d60b",
   "metadata": {},
   "source": [
    "#### 실습 예제\n",
    "- 영어 점수가 75점 이상인 영어 점수들을 구해보자"
   ]
  },
  {
   "cell_type": "code",
   "execution_count": 405,
   "id": "a3a2a44d-c979-45f5-94cf-47275980c598",
   "metadata": {},
   "outputs": [
    {
     "data": {
      "text/plain": [
       "1반    76\n",
       "2반    92\n",
       "Name: 영어, dtype: int64"
      ]
     },
     "execution_count": 405,
     "metadata": {},
     "output_type": "execute_result"
    }
   ],
   "source": [
    "score.loc[score['영어'] >= 75, '영어']"
   ]
  },
  {
   "cell_type": "code",
   "execution_count": 407,
   "id": "4b895cf4-970b-4d04-ab43-09c45dbec2d3",
   "metadata": {},
   "outputs": [
    {
     "data": {
      "text/plain": [
       "1반    76\n",
       "2반    92\n",
       "Name: 영어, dtype: int64"
      ]
     },
     "execution_count": 407,
     "metadata": {},
     "output_type": "execute_result"
    }
   ],
   "source": [
    "score[score['영어'] >= 75]['영어']"
   ]
  },
  {
   "cell_type": "code",
   "execution_count": null,
   "id": "24c77c2c-db8a-444c-9e3d-2a19b23878b3",
   "metadata": {},
   "outputs": [],
   "source": []
  },
  {
   "cell_type": "markdown",
   "id": "a0d817c5-65a9-428d-a478-d4cce033f35e",
   "metadata": {},
   "source": [
    "### sum(), mean() 함수"
   ]
  },
  {
   "cell_type": "code",
   "execution_count": 411,
   "id": "f4abe12b-4475-4b54-9a1c-cdb48e730be9",
   "metadata": {},
   "outputs": [
    {
     "data": {
      "text/html": [
       "<div>\n",
       "<style scoped>\n",
       "    .dataframe tbody tr th:only-of-type {\n",
       "        vertical-align: middle;\n",
       "    }\n",
       "\n",
       "    .dataframe tbody tr th {\n",
       "        vertical-align: top;\n",
       "    }\n",
       "\n",
       "    .dataframe thead th {\n",
       "        text-align: right;\n",
       "    }\n",
       "</style>\n",
       "<table border=\"1\" class=\"dataframe\">\n",
       "  <thead>\n",
       "    <tr style=\"text-align: right;\">\n",
       "      <th></th>\n",
       "      <th>1반</th>\n",
       "      <th>2반</th>\n",
       "      <th>3반</th>\n",
       "      <th>4반</th>\n",
       "    </tr>\n",
       "    <tr>\n",
       "      <th>과목</th>\n",
       "      <th></th>\n",
       "      <th></th>\n",
       "      <th></th>\n",
       "      <th></th>\n",
       "    </tr>\n",
       "  </thead>\n",
       "  <tbody>\n",
       "    <tr>\n",
       "      <th>수학</th>\n",
       "      <td>45</td>\n",
       "      <td>44</td>\n",
       "      <td>73</td>\n",
       "      <td>39</td>\n",
       "    </tr>\n",
       "    <tr>\n",
       "      <th>영어</th>\n",
       "      <td>76</td>\n",
       "      <td>92</td>\n",
       "      <td>45</td>\n",
       "      <td>69</td>\n",
       "    </tr>\n",
       "    <tr>\n",
       "      <th>국어</th>\n",
       "      <td>47</td>\n",
       "      <td>92</td>\n",
       "      <td>45</td>\n",
       "      <td>69</td>\n",
       "    </tr>\n",
       "    <tr>\n",
       "      <th>사회</th>\n",
       "      <td>92</td>\n",
       "      <td>81</td>\n",
       "      <td>85</td>\n",
       "      <td>40</td>\n",
       "    </tr>\n",
       "    <tr>\n",
       "      <th>과학</th>\n",
       "      <td>11</td>\n",
       "      <td>79</td>\n",
       "      <td>47</td>\n",
       "      <td>26</td>\n",
       "    </tr>\n",
       "  </tbody>\n",
       "</table>\n",
       "</div>"
      ],
      "text/plain": [
       "    1반  2반  3반  4반\n",
       "과목                \n",
       "수학  45  44  73  39\n",
       "영어  76  92  45  69\n",
       "국어  47  92  45  69\n",
       "사회  92  81  85  40\n",
       "과학  11  79  47  26"
      ]
     },
     "execution_count": 411,
     "metadata": {},
     "output_type": "execute_result"
    }
   ],
   "source": [
    "score_data"
   ]
  },
  {
   "cell_type": "code",
   "execution_count": 419,
   "id": "09d3cb56-8630-4ce5-b3ff-017c4300e91b",
   "metadata": {},
   "outputs": [
    {
     "data": {
      "text/plain": [
       "1반    271\n",
       "2반    388\n",
       "3반    295\n",
       "4반    243\n",
       "dtype: int64"
      ]
     },
     "execution_count": 419,
     "metadata": {},
     "output_type": "execute_result"
    }
   ],
   "source": [
    "# sum: 합계를 구해주는 함수\n",
    "# DF라는 객체에 종속된 메서드\n",
    "# DF.sum(axis = 0 or 1)\n",
    "# 행 방향 합계 : axis = 0 (기본값)\n",
    "# 열 방향 합계 : axis = 1\n",
    "\n",
    "score_data.sum()"
   ]
  },
  {
   "cell_type": "code",
   "execution_count": 421,
   "id": "68920c2e-0dae-4c54-a525-fb160edf60e2",
   "metadata": {},
   "outputs": [
    {
     "data": {
      "text/plain": [
       "과목\n",
       "수학    201\n",
       "영어    282\n",
       "국어    253\n",
       "사회    298\n",
       "과학    163\n",
       "dtype: int64"
      ]
     },
     "execution_count": 421,
     "metadata": {},
     "output_type": "execute_result"
    }
   ],
   "source": [
    "score_data.sum(axis = 1)"
   ]
  },
  {
   "cell_type": "code",
   "execution_count": 449,
   "id": "4d800dc6-b466-4c89-bc4e-ceda19911b86",
   "metadata": {},
   "outputs": [
    {
     "data": {
      "text/html": [
       "<div>\n",
       "<style scoped>\n",
       "    .dataframe tbody tr th:only-of-type {\n",
       "        vertical-align: middle;\n",
       "    }\n",
       "\n",
       "    .dataframe tbody tr th {\n",
       "        vertical-align: top;\n",
       "    }\n",
       "\n",
       "    .dataframe thead th {\n",
       "        text-align: right;\n",
       "    }\n",
       "</style>\n",
       "<table border=\"1\" class=\"dataframe\">\n",
       "  <thead>\n",
       "    <tr style=\"text-align: right;\">\n",
       "      <th></th>\n",
       "      <th>1반</th>\n",
       "      <th>2반</th>\n",
       "      <th>3반</th>\n",
       "      <th>4반</th>\n",
       "      <th>총합</th>\n",
       "    </tr>\n",
       "    <tr>\n",
       "      <th>과목</th>\n",
       "      <th></th>\n",
       "      <th></th>\n",
       "      <th></th>\n",
       "      <th></th>\n",
       "      <th></th>\n",
       "    </tr>\n",
       "  </thead>\n",
       "  <tbody>\n",
       "    <tr>\n",
       "      <th>수학</th>\n",
       "      <td>45</td>\n",
       "      <td>44</td>\n",
       "      <td>73</td>\n",
       "      <td>39</td>\n",
       "      <td>201</td>\n",
       "    </tr>\n",
       "    <tr>\n",
       "      <th>영어</th>\n",
       "      <td>76</td>\n",
       "      <td>92</td>\n",
       "      <td>45</td>\n",
       "      <td>69</td>\n",
       "      <td>282</td>\n",
       "    </tr>\n",
       "    <tr>\n",
       "      <th>국어</th>\n",
       "      <td>47</td>\n",
       "      <td>92</td>\n",
       "      <td>45</td>\n",
       "      <td>69</td>\n",
       "      <td>253</td>\n",
       "    </tr>\n",
       "    <tr>\n",
       "      <th>사회</th>\n",
       "      <td>92</td>\n",
       "      <td>81</td>\n",
       "      <td>85</td>\n",
       "      <td>40</td>\n",
       "      <td>298</td>\n",
       "    </tr>\n",
       "    <tr>\n",
       "      <th>과학</th>\n",
       "      <td>11</td>\n",
       "      <td>79</td>\n",
       "      <td>47</td>\n",
       "      <td>26</td>\n",
       "      <td>163</td>\n",
       "    </tr>\n",
       "  </tbody>\n",
       "</table>\n",
       "</div>"
      ],
      "text/plain": [
       "    1반  2반  3반  4반   총합\n",
       "과목                     \n",
       "수학  45  44  73  39  201\n",
       "영어  76  92  45  69  282\n",
       "국어  47  92  45  69  253\n",
       "사회  92  81  85  40  298\n",
       "과학  11  79  47  26  163"
      ]
     },
     "execution_count": 449,
     "metadata": {},
     "output_type": "execute_result"
    }
   ],
   "source": [
    "# 각 과목의 총합을 구해서 새로운 열에 넣기\n",
    "score_data['총합'] = score_data.loc[:, '1반':'4반'].sum(axis = 1)\n",
    "\n",
    "score_data"
   ]
  },
  {
   "cell_type": "code",
   "execution_count": null,
   "id": "2475a702-17dc-45ee-9d96-c5a5f3fdb42f",
   "metadata": {},
   "outputs": [],
   "source": []
  },
  {
   "cell_type": "code",
   "execution_count": null,
   "id": "ec5ebb27-97c8-449f-b415-5532dc88579a",
   "metadata": {},
   "outputs": [],
   "source": [
    "# 평균을 구해주는 함수\n",
    "# DF.mean(axis = 0 or 1)\n",
    "# 행 방향 평균 : axis = 0 (기본값)\n",
    "# 열 방향 평균 : axis = 1"
   ]
  },
  {
   "cell_type": "code",
   "execution_count": 454,
   "id": "ce325b4b-6b44-41b9-bfe7-0b3799409413",
   "metadata": {},
   "outputs": [
    {
     "data": {
      "text/html": [
       "<div>\n",
       "<style scoped>\n",
       "    .dataframe tbody tr th:only-of-type {\n",
       "        vertical-align: middle;\n",
       "    }\n",
       "\n",
       "    .dataframe tbody tr th {\n",
       "        vertical-align: top;\n",
       "    }\n",
       "\n",
       "    .dataframe thead th {\n",
       "        text-align: right;\n",
       "    }\n",
       "</style>\n",
       "<table border=\"1\" class=\"dataframe\">\n",
       "  <thead>\n",
       "    <tr style=\"text-align: right;\">\n",
       "      <th></th>\n",
       "      <th>1반</th>\n",
       "      <th>2반</th>\n",
       "      <th>3반</th>\n",
       "      <th>4반</th>\n",
       "      <th>총합</th>\n",
       "      <th>평균</th>\n",
       "    </tr>\n",
       "    <tr>\n",
       "      <th>과목</th>\n",
       "      <th></th>\n",
       "      <th></th>\n",
       "      <th></th>\n",
       "      <th></th>\n",
       "      <th></th>\n",
       "      <th></th>\n",
       "    </tr>\n",
       "  </thead>\n",
       "  <tbody>\n",
       "    <tr>\n",
       "      <th>수학</th>\n",
       "      <td>45</td>\n",
       "      <td>44</td>\n",
       "      <td>73</td>\n",
       "      <td>39</td>\n",
       "      <td>201</td>\n",
       "      <td>50.25</td>\n",
       "    </tr>\n",
       "    <tr>\n",
       "      <th>영어</th>\n",
       "      <td>76</td>\n",
       "      <td>92</td>\n",
       "      <td>45</td>\n",
       "      <td>69</td>\n",
       "      <td>282</td>\n",
       "      <td>70.50</td>\n",
       "    </tr>\n",
       "    <tr>\n",
       "      <th>국어</th>\n",
       "      <td>47</td>\n",
       "      <td>92</td>\n",
       "      <td>45</td>\n",
       "      <td>69</td>\n",
       "      <td>253</td>\n",
       "      <td>63.25</td>\n",
       "    </tr>\n",
       "    <tr>\n",
       "      <th>사회</th>\n",
       "      <td>92</td>\n",
       "      <td>81</td>\n",
       "      <td>85</td>\n",
       "      <td>40</td>\n",
       "      <td>298</td>\n",
       "      <td>74.50</td>\n",
       "    </tr>\n",
       "    <tr>\n",
       "      <th>과학</th>\n",
       "      <td>11</td>\n",
       "      <td>79</td>\n",
       "      <td>47</td>\n",
       "      <td>26</td>\n",
       "      <td>163</td>\n",
       "      <td>40.75</td>\n",
       "    </tr>\n",
       "  </tbody>\n",
       "</table>\n",
       "</div>"
      ],
      "text/plain": [
       "    1반  2반  3반  4반   총합     평균\n",
       "과목                            \n",
       "수학  45  44  73  39  201  50.25\n",
       "영어  76  92  45  69  282  70.50\n",
       "국어  47  92  45  69  253  63.25\n",
       "사회  92  81  85  40  298  74.50\n",
       "과학  11  79  47  26  163  40.75"
      ]
     },
     "execution_count": 454,
     "metadata": {},
     "output_type": "execute_result"
    }
   ],
   "source": [
    "# 각 과목의 평균을 구해서 새로운 열에 넣기\n",
    "score_data['평균'] = score_data.loc[:, '1반':'4반'].mean(axis = 1)\n",
    "\n",
    "score_data"
   ]
  },
  {
   "cell_type": "code",
   "execution_count": null,
   "id": "b5cc8f9d-61fa-4ee5-acce-51f75887ef31",
   "metadata": {},
   "outputs": [],
   "source": []
  },
  {
   "cell_type": "markdown",
   "id": "c448eeaa-de93-46d9-b9f4-3a7c340a0913",
   "metadata": {},
   "source": [
    "### value_counts()\n",
    "- 특정 컬럼에 있는 데이터들의 유니크값과 그 개수를 출력"
   ]
  },
  {
   "cell_type": "code",
   "execution_count": 457,
   "id": "636ade16-3292-45f4-b88a-8ba4d11b5051",
   "metadata": {},
   "outputs": [
    {
     "data": {
      "text/html": [
       "<div>\n",
       "<style scoped>\n",
       "    .dataframe tbody tr th:only-of-type {\n",
       "        vertical-align: middle;\n",
       "    }\n",
       "\n",
       "    .dataframe tbody tr th {\n",
       "        vertical-align: top;\n",
       "    }\n",
       "\n",
       "    .dataframe thead th {\n",
       "        text-align: right;\n",
       "    }\n",
       "</style>\n",
       "<table border=\"1\" class=\"dataframe\">\n",
       "  <thead>\n",
       "    <tr style=\"text-align: right;\">\n",
       "      <th></th>\n",
       "      <th>5교시</th>\n",
       "      <th>6교시</th>\n",
       "      <th>7교시</th>\n",
       "      <th>8교시</th>\n",
       "    </tr>\n",
       "  </thead>\n",
       "  <tbody>\n",
       "    <tr>\n",
       "      <th>학생1</th>\n",
       "      <td>집중</td>\n",
       "      <td>집중</td>\n",
       "      <td>집중</td>\n",
       "      <td>집중</td>\n",
       "    </tr>\n",
       "    <tr>\n",
       "      <th>학생2</th>\n",
       "      <td>집중</td>\n",
       "      <td>집중</td>\n",
       "      <td>졸림</td>\n",
       "      <td>졸림</td>\n",
       "    </tr>\n",
       "    <tr>\n",
       "      <th>학생3</th>\n",
       "      <td>집중</td>\n",
       "      <td>졸림</td>\n",
       "      <td>숙면</td>\n",
       "      <td>숙면</td>\n",
       "    </tr>\n",
       "  </tbody>\n",
       "</table>\n",
       "</div>"
      ],
      "text/plain": [
       "    5교시 6교시 7교시 8교시\n",
       "학생1  집중  집중  집중  집중\n",
       "학생2  집중  집중  졸림  졸림\n",
       "학생3  집중  졸림  숙면  숙면"
      ]
     },
     "execution_count": 457,
     "metadata": {},
     "output_type": "execute_result"
    }
   ],
   "source": [
    "df_sleep = pd.DataFrame([['집중', '집중', '집중', '집중'],\n",
    "                         ['집중', '집중', '졸림', '졸림'],\n",
    "                         ['집중', '졸림', '숙면', '숙면']],\n",
    "                        index = ['학생1','학생2', '학생3'],\n",
    "                        columns = ['5교시', '6교시', '7교시', '8교시'])\n",
    "\n",
    "df_sleep"
   ]
  },
  {
   "cell_type": "code",
   "execution_count": 461,
   "id": "d3fab40e-0f9e-4047-8b88-afe8826dc525",
   "metadata": {},
   "outputs": [
    {
     "data": {
      "text/plain": [
       "5교시\n",
       "집중    3\n",
       "Name: count, dtype: int64"
      ]
     },
     "execution_count": 461,
     "metadata": {},
     "output_type": "execute_result"
    }
   ],
   "source": [
    "# 5교시 학생들 상태 확인\n",
    "df_sleep['5교시'].value_counts()"
   ]
  },
  {
   "cell_type": "code",
   "execution_count": 465,
   "id": "3ae26a1c-794d-40db-b9f9-e55e8afc81b8",
   "metadata": {},
   "outputs": [
    {
     "data": {
      "text/plain": [
       "6교시\n",
       "집중    2\n",
       "졸림    1\n",
       "Name: count, dtype: int64"
      ]
     },
     "execution_count": 465,
     "metadata": {},
     "output_type": "execute_result"
    }
   ],
   "source": [
    "# 6교시 학생들 상태 확인\n",
    "df_sleep['6교시'].value_counts()"
   ]
  },
  {
   "cell_type": "code",
   "execution_count": 467,
   "id": "bd5c5770-354a-4fd7-8f39-2c3ab02d4673",
   "metadata": {},
   "outputs": [
    {
     "data": {
      "text/plain": [
       "7교시\n",
       "집중    1\n",
       "졸림    1\n",
       "숙면    1\n",
       "Name: count, dtype: int64"
      ]
     },
     "execution_count": 467,
     "metadata": {},
     "output_type": "execute_result"
    }
   ],
   "source": [
    "# 7교시 학생들 상태 확인\n",
    "df_sleep['7교시'].value_counts()"
   ]
  },
  {
   "cell_type": "code",
   "execution_count": 469,
   "id": "4edb48df-a87d-46a4-b923-425f44f462b3",
   "metadata": {},
   "outputs": [
    {
     "data": {
      "text/plain": [
       "8교시\n",
       "집중    1\n",
       "졸림    1\n",
       "숙면    1\n",
       "Name: count, dtype: int64"
      ]
     },
     "execution_count": 469,
     "metadata": {},
     "output_type": "execute_result"
    }
   ],
   "source": [
    "# 8교시 학생들 상태 확인\n",
    "df_sleep['8교시'].value_counts()"
   ]
  },
  {
   "cell_type": "code",
   "execution_count": 471,
   "id": "8922e22e-5983-4bbd-9684-b102385b6447",
   "metadata": {},
   "outputs": [
    {
     "data": {
      "text/plain": [
       "5교시  6교시\n",
       "집중   집중     2\n",
       "     졸림     1\n",
       "Name: count, dtype: int64"
      ]
     },
     "execution_count": 471,
     "metadata": {},
     "output_type": "execute_result"
    }
   ],
   "source": [
    "df_sleep[['5교시', '6교시']].value_counts()"
   ]
  },
  {
   "cell_type": "code",
   "execution_count": 479,
   "id": "171874ce-4129-4f96-bf46-5545b36babe4",
   "metadata": {},
   "outputs": [
    {
     "data": {
      "text/plain": [
       "학생3\n",
       "숙면    2\n",
       "집중    1\n",
       "졸림    1\n",
       "Name: count, dtype: int64"
      ]
     },
     "execution_count": 479,
     "metadata": {},
     "output_type": "execute_result"
    }
   ],
   "source": [
    "# 학생별로 상태 확인\n",
    "df_sleep.loc['학생3'].value_counts()"
   ]
  },
  {
   "cell_type": "code",
   "execution_count": null,
   "id": "65ba55a6-61f4-434b-828a-c37c8e55e4e7",
   "metadata": {},
   "outputs": [],
   "source": []
  },
  {
   "cell_type": "markdown",
   "id": "f5a5e011-d458-4f9a-bbfa-2b58d9c41fd2",
   "metadata": {},
   "source": []
  },
  {
   "cell_type": "code",
   "execution_count": 518,
   "id": "e3fa4b02-746a-4e5e-824a-f952cbccb1ca",
   "metadata": {},
   "outputs": [
    {
     "data": {
      "text/html": [
       "<div>\n",
       "<style scoped>\n",
       "    .dataframe tbody tr th:only-of-type {\n",
       "        vertical-align: middle;\n",
       "    }\n",
       "\n",
       "    .dataframe tbody tr th {\n",
       "        vertical-align: top;\n",
       "    }\n",
       "\n",
       "    .dataframe thead th {\n",
       "        text-align: right;\n",
       "    }\n",
       "</style>\n",
       "<table border=\"1\" class=\"dataframe\">\n",
       "  <thead>\n",
       "    <tr style=\"text-align: right;\">\n",
       "      <th></th>\n",
       "      <th>1반</th>\n",
       "      <th>2반</th>\n",
       "      <th>3반</th>\n",
       "      <th>4반</th>\n",
       "    </tr>\n",
       "    <tr>\n",
       "      <th>과목</th>\n",
       "      <th></th>\n",
       "      <th></th>\n",
       "      <th></th>\n",
       "      <th></th>\n",
       "    </tr>\n",
       "  </thead>\n",
       "  <tbody>\n",
       "    <tr>\n",
       "      <th>수학</th>\n",
       "      <td>45</td>\n",
       "      <td>44</td>\n",
       "      <td>73</td>\n",
       "      <td>39</td>\n",
       "    </tr>\n",
       "    <tr>\n",
       "      <th>영어</th>\n",
       "      <td>76</td>\n",
       "      <td>92</td>\n",
       "      <td>45</td>\n",
       "      <td>69</td>\n",
       "    </tr>\n",
       "    <tr>\n",
       "      <th>국어</th>\n",
       "      <td>47</td>\n",
       "      <td>92</td>\n",
       "      <td>45</td>\n",
       "      <td>69</td>\n",
       "    </tr>\n",
       "    <tr>\n",
       "      <th>사회</th>\n",
       "      <td>92</td>\n",
       "      <td>81</td>\n",
       "      <td>85</td>\n",
       "      <td>40</td>\n",
       "    </tr>\n",
       "    <tr>\n",
       "      <th>과학</th>\n",
       "      <td>11</td>\n",
       "      <td>79</td>\n",
       "      <td>47</td>\n",
       "      <td>26</td>\n",
       "    </tr>\n",
       "  </tbody>\n",
       "</table>\n",
       "</div>"
      ],
      "text/plain": [
       "    1반  2반  3반  4반\n",
       "과목                \n",
       "수학  45  44  73  39\n",
       "영어  76  92  45  69\n",
       "국어  47  92  45  69\n",
       "사회  92  81  85  40\n",
       "과학  11  79  47  26"
      ]
     },
     "execution_count": 518,
     "metadata": {},
     "output_type": "execute_result"
    }
   ],
   "source": [
    "score_data = pd.read_csv('data/score.csv', encoding = 'euc-kr', index_col = 0)\n",
    "score_data"
   ]
  },
  {
   "cell_type": "code",
   "execution_count": 509,
   "id": "9f3967f9-ded2-4db0-a303-3fd37a6e260c",
   "metadata": {},
   "outputs": [
    {
     "data": {
      "text/html": [
       "<div>\n",
       "<style scoped>\n",
       "    .dataframe tbody tr th:only-of-type {\n",
       "        vertical-align: middle;\n",
       "    }\n",
       "\n",
       "    .dataframe tbody tr th {\n",
       "        vertical-align: top;\n",
       "    }\n",
       "\n",
       "    .dataframe thead th {\n",
       "        text-align: right;\n",
       "    }\n",
       "</style>\n",
       "<table border=\"1\" class=\"dataframe\">\n",
       "  <thead>\n",
       "    <tr style=\"text-align: right;\">\n",
       "      <th>과목</th>\n",
       "      <th>수학</th>\n",
       "      <th>영어</th>\n",
       "      <th>국어</th>\n",
       "      <th>사회</th>\n",
       "      <th>과학</th>\n",
       "    </tr>\n",
       "  </thead>\n",
       "  <tbody>\n",
       "    <tr>\n",
       "      <th>1반</th>\n",
       "      <td>45</td>\n",
       "      <td>76</td>\n",
       "      <td>47</td>\n",
       "      <td>92</td>\n",
       "      <td>11</td>\n",
       "    </tr>\n",
       "    <tr>\n",
       "      <th>2반</th>\n",
       "      <td>44</td>\n",
       "      <td>92</td>\n",
       "      <td>92</td>\n",
       "      <td>81</td>\n",
       "      <td>79</td>\n",
       "    </tr>\n",
       "    <tr>\n",
       "      <th>3반</th>\n",
       "      <td>73</td>\n",
       "      <td>45</td>\n",
       "      <td>45</td>\n",
       "      <td>85</td>\n",
       "      <td>47</td>\n",
       "    </tr>\n",
       "    <tr>\n",
       "      <th>4반</th>\n",
       "      <td>39</td>\n",
       "      <td>69</td>\n",
       "      <td>69</td>\n",
       "      <td>40</td>\n",
       "      <td>26</td>\n",
       "    </tr>\n",
       "  </tbody>\n",
       "</table>\n",
       "</div>"
      ],
      "text/plain": [
       "과목  수학  영어  국어  사회  과학\n",
       "1반  45  76  47  92  11\n",
       "2반  44  92  92  81  79\n",
       "3반  73  45  45  85  47\n",
       "4반  39  69  69  40  26"
      ]
     },
     "execution_count": 509,
     "metadata": {},
     "output_type": "execute_result"
    }
   ],
   "source": [
    "score_data = score_data.T\n",
    "score_data"
   ]
  },
  {
   "cell_type": "code",
   "execution_count": 511,
   "id": "0a5496c4-180f-49ec-b29f-89998b8da63b",
   "metadata": {},
   "outputs": [
    {
     "data": {
      "text/html": [
       "<div>\n",
       "<style scoped>\n",
       "    .dataframe tbody tr th:only-of-type {\n",
       "        vertical-align: middle;\n",
       "    }\n",
       "\n",
       "    .dataframe tbody tr th {\n",
       "        vertical-align: top;\n",
       "    }\n",
       "\n",
       "    .dataframe thead th {\n",
       "        text-align: right;\n",
       "    }\n",
       "</style>\n",
       "<table border=\"1\" class=\"dataframe\">\n",
       "  <thead>\n",
       "    <tr style=\"text-align: right;\">\n",
       "      <th></th>\n",
       "      <th>1반</th>\n",
       "      <th>2반</th>\n",
       "      <th>3반</th>\n",
       "      <th>4반</th>\n",
       "    </tr>\n",
       "    <tr>\n",
       "      <th>과목</th>\n",
       "      <th></th>\n",
       "      <th></th>\n",
       "      <th></th>\n",
       "      <th></th>\n",
       "    </tr>\n",
       "  </thead>\n",
       "  <tbody>\n",
       "    <tr>\n",
       "      <th>수학</th>\n",
       "      <td>45</td>\n",
       "      <td>44</td>\n",
       "      <td>73</td>\n",
       "      <td>39</td>\n",
       "    </tr>\n",
       "    <tr>\n",
       "      <th>영어</th>\n",
       "      <td>76</td>\n",
       "      <td>92</td>\n",
       "      <td>45</td>\n",
       "      <td>69</td>\n",
       "    </tr>\n",
       "    <tr>\n",
       "      <th>국어</th>\n",
       "      <td>47</td>\n",
       "      <td>92</td>\n",
       "      <td>45</td>\n",
       "      <td>69</td>\n",
       "    </tr>\n",
       "    <tr>\n",
       "      <th>사회</th>\n",
       "      <td>92</td>\n",
       "      <td>81</td>\n",
       "      <td>85</td>\n",
       "      <td>40</td>\n",
       "    </tr>\n",
       "    <tr>\n",
       "      <th>과학</th>\n",
       "      <td>11</td>\n",
       "      <td>79</td>\n",
       "      <td>47</td>\n",
       "      <td>26</td>\n",
       "    </tr>\n",
       "    <tr>\n",
       "      <th>총합</th>\n",
       "      <td>271</td>\n",
       "      <td>388</td>\n",
       "      <td>295</td>\n",
       "      <td>243</td>\n",
       "    </tr>\n",
       "  </tbody>\n",
       "</table>\n",
       "</div>"
      ],
      "text/plain": [
       "     1반   2반   3반   4반\n",
       "과목                    \n",
       "수학   45   44   73   39\n",
       "영어   76   92   45   69\n",
       "국어   47   92   45   69\n",
       "사회   92   81   85   40\n",
       "과학   11   79   47   26\n",
       "총합  271  388  295  243"
      ]
     },
     "execution_count": 511,
     "metadata": {},
     "output_type": "execute_result"
    }
   ],
   "source": [
    "score_data['총합'] = score_data.loc[:, '수학':'과학'].sum(axis = 1)\n",
    "score_data = score_data.T\n",
    "score_data"
   ]
  },
  {
   "cell_type": "code",
   "execution_count": 553,
   "id": "a19a8777-d7db-4bc5-8258-09da8715dc48",
   "metadata": {},
   "outputs": [
    {
     "data": {
      "text/html": [
       "<div>\n",
       "<style scoped>\n",
       "    .dataframe tbody tr th:only-of-type {\n",
       "        vertical-align: middle;\n",
       "    }\n",
       "\n",
       "    .dataframe tbody tr th {\n",
       "        vertical-align: top;\n",
       "    }\n",
       "\n",
       "    .dataframe thead th {\n",
       "        text-align: right;\n",
       "    }\n",
       "</style>\n",
       "<table border=\"1\" class=\"dataframe\">\n",
       "  <thead>\n",
       "    <tr style=\"text-align: right;\">\n",
       "      <th></th>\n",
       "      <th>1반</th>\n",
       "      <th>2반</th>\n",
       "      <th>3반</th>\n",
       "      <th>4반</th>\n",
       "    </tr>\n",
       "    <tr>\n",
       "      <th>과목</th>\n",
       "      <th></th>\n",
       "      <th></th>\n",
       "      <th></th>\n",
       "      <th></th>\n",
       "    </tr>\n",
       "  </thead>\n",
       "  <tbody>\n",
       "    <tr>\n",
       "      <th>수학</th>\n",
       "      <td>45</td>\n",
       "      <td>44</td>\n",
       "      <td>73</td>\n",
       "      <td>39</td>\n",
       "    </tr>\n",
       "    <tr>\n",
       "      <th>영어</th>\n",
       "      <td>76</td>\n",
       "      <td>92</td>\n",
       "      <td>45</td>\n",
       "      <td>69</td>\n",
       "    </tr>\n",
       "    <tr>\n",
       "      <th>국어</th>\n",
       "      <td>47</td>\n",
       "      <td>92</td>\n",
       "      <td>45</td>\n",
       "      <td>69</td>\n",
       "    </tr>\n",
       "    <tr>\n",
       "      <th>사회</th>\n",
       "      <td>92</td>\n",
       "      <td>81</td>\n",
       "      <td>85</td>\n",
       "      <td>40</td>\n",
       "    </tr>\n",
       "    <tr>\n",
       "      <th>과학</th>\n",
       "      <td>11</td>\n",
       "      <td>79</td>\n",
       "      <td>47</td>\n",
       "      <td>26</td>\n",
       "    </tr>\n",
       "    <tr>\n",
       "      <th>총합</th>\n",
       "      <td>271</td>\n",
       "      <td>388</td>\n",
       "      <td>295</td>\n",
       "      <td>243</td>\n",
       "    </tr>\n",
       "  </tbody>\n",
       "</table>\n",
       "</div>"
      ],
      "text/plain": [
       "     1반   2반   3반   4반\n",
       "과목                    \n",
       "수학   45   44   73   39\n",
       "영어   76   92   45   69\n",
       "국어   47   92   45   69\n",
       "사회   92   81   85   40\n",
       "과학   11   79   47   26\n",
       "총합  271  388  295  243"
      ]
     },
     "execution_count": 553,
     "metadata": {},
     "output_type": "execute_result"
    }
   ],
   "source": [
    "score_data.loc['총합', :] = score_data.loc['수학':'과학', :].sum(axis = 0) \n",
    "score_data.astype(int)"
   ]
  },
  {
   "cell_type": "code",
   "execution_count": null,
   "id": "5fc04a35-4beb-41b2-99da-5f800ffa5301",
   "metadata": {},
   "outputs": [],
   "source": []
  },
  {
   "cell_type": "markdown",
   "id": "ae39380f-e305-4048-a3b9-3054f0d9e1a5",
   "metadata": {},
   "source": [
    "### 2015 - 2017년 광주광역시 범죄현황 데이터를 이용해 전년대비 지역별 범죄 증감률 구하기\n",
    "- 증감률 = (금년 - 작년) / 작년 * 100"
   ]
  },
  {
   "cell_type": "markdown",
   "id": "838ec5f8-b9b8-4eea-b3de-f4069023cf4b",
   "metadata": {},
   "source": [
    "1. 데이터 로드\n",
    "   - 인덱스 컬럼 '관서명'\n",
    "   - 인코딩 'euc-kr'"
   ]
  },
  {
   "cell_type": "code",
   "execution_count": 659,
   "id": "338eb7e3-9987-4193-91d1-602c2ae14490",
   "metadata": {},
   "outputs": [],
   "source": [
    "df2015 = pd.read_csv('data/2015.csv', encoding = 'euc-kr', index_col = '관서명')\n",
    "df2016 = pd.read_csv('data/2016.csv', encoding = 'euc-kr', index_col = '관서명')\n",
    "df2017 = pd.read_csv('data/2017.csv', encoding = 'euc-kr', index_col = '관서명')"
   ]
  },
  {
   "cell_type": "code",
   "execution_count": 559,
   "id": "f7aaac95-d8e4-4301-93d0-0c2d33a8c17a",
   "metadata": {
    "scrolled": true
   },
   "outputs": [
    {
     "data": {
      "text/html": [
       "<div>\n",
       "<style scoped>\n",
       "    .dataframe tbody tr th:only-of-type {\n",
       "        vertical-align: middle;\n",
       "    }\n",
       "\n",
       "    .dataframe tbody tr th {\n",
       "        vertical-align: top;\n",
       "    }\n",
       "\n",
       "    .dataframe thead th {\n",
       "        text-align: right;\n",
       "    }\n",
       "</style>\n",
       "<table border=\"1\" class=\"dataframe\">\n",
       "  <thead>\n",
       "    <tr style=\"text-align: right;\">\n",
       "      <th></th>\n",
       "      <th>구분</th>\n",
       "      <th>살인</th>\n",
       "      <th>강도</th>\n",
       "      <th>강간·강제추행</th>\n",
       "      <th>절도</th>\n",
       "      <th>폭력</th>\n",
       "    </tr>\n",
       "    <tr>\n",
       "      <th>관서명</th>\n",
       "      <th></th>\n",
       "      <th></th>\n",
       "      <th></th>\n",
       "      <th></th>\n",
       "      <th></th>\n",
       "      <th></th>\n",
       "    </tr>\n",
       "  </thead>\n",
       "  <tbody>\n",
       "    <tr>\n",
       "      <th>광주지방경찰청계</th>\n",
       "      <td>발생건수</td>\n",
       "      <td>18</td>\n",
       "      <td>44</td>\n",
       "      <td>750</td>\n",
       "      <td>8425</td>\n",
       "      <td>9593</td>\n",
       "    </tr>\n",
       "    <tr>\n",
       "      <th>광주지방경찰청계</th>\n",
       "      <td>검거건수</td>\n",
       "      <td>18</td>\n",
       "      <td>47</td>\n",
       "      <td>758</td>\n",
       "      <td>5409</td>\n",
       "      <td>8301</td>\n",
       "    </tr>\n",
       "    <tr>\n",
       "      <th>광주지방경찰청계</th>\n",
       "      <td>검거인원</td>\n",
       "      <td>17</td>\n",
       "      <td>66</td>\n",
       "      <td>776</td>\n",
       "      <td>3433</td>\n",
       "      <td>11774</td>\n",
       "    </tr>\n",
       "    <tr>\n",
       "      <th>광주지방경찰청계</th>\n",
       "      <td>구속</td>\n",
       "      <td>9</td>\n",
       "      <td>33</td>\n",
       "      <td>42</td>\n",
       "      <td>104</td>\n",
       "      <td>58</td>\n",
       "    </tr>\n",
       "    <tr>\n",
       "      <th>광주지방경찰청계</th>\n",
       "      <td>불구속</td>\n",
       "      <td>1</td>\n",
       "      <td>26</td>\n",
       "      <td>511</td>\n",
       "      <td>2781</td>\n",
       "      <td>5618</td>\n",
       "    </tr>\n",
       "    <tr>\n",
       "      <th>광주지방경찰청계</th>\n",
       "      <td>기타</td>\n",
       "      <td>7</td>\n",
       "      <td>7</td>\n",
       "      <td>223</td>\n",
       "      <td>548</td>\n",
       "      <td>6098</td>\n",
       "    </tr>\n",
       "    <tr>\n",
       "      <th>광주동부경찰서</th>\n",
       "      <td>발생건수</td>\n",
       "      <td>3</td>\n",
       "      <td>5</td>\n",
       "      <td>92</td>\n",
       "      <td>1100</td>\n",
       "      <td>1155</td>\n",
       "    </tr>\n",
       "    <tr>\n",
       "      <th>광주동부경찰서</th>\n",
       "      <td>검거건수</td>\n",
       "      <td>4</td>\n",
       "      <td>6</td>\n",
       "      <td>86</td>\n",
       "      <td>583</td>\n",
       "      <td>970</td>\n",
       "    </tr>\n",
       "    <tr>\n",
       "      <th>광주동부경찰서</th>\n",
       "      <td>검거인원</td>\n",
       "      <td>4</td>\n",
       "      <td>7</td>\n",
       "      <td>98</td>\n",
       "      <td>447</td>\n",
       "      <td>1483</td>\n",
       "    </tr>\n",
       "    <tr>\n",
       "      <th>광주동부경찰서</th>\n",
       "      <td>구속</td>\n",
       "      <td>3</td>\n",
       "      <td>2</td>\n",
       "      <td>8</td>\n",
       "      <td>13</td>\n",
       "      <td>10</td>\n",
       "    </tr>\n",
       "    <tr>\n",
       "      <th>광주동부경찰서</th>\n",
       "      <td>불구속</td>\n",
       "      <td>0</td>\n",
       "      <td>4</td>\n",
       "      <td>63</td>\n",
       "      <td>379</td>\n",
       "      <td>703</td>\n",
       "    </tr>\n",
       "    <tr>\n",
       "      <th>광주동부경찰서</th>\n",
       "      <td>기타</td>\n",
       "      <td>1</td>\n",
       "      <td>1</td>\n",
       "      <td>27</td>\n",
       "      <td>55</td>\n",
       "      <td>770</td>\n",
       "    </tr>\n",
       "    <tr>\n",
       "      <th>광주서부경찰서</th>\n",
       "      <td>발생건수</td>\n",
       "      <td>5</td>\n",
       "      <td>10</td>\n",
       "      <td>172</td>\n",
       "      <td>2050</td>\n",
       "      <td>2483</td>\n",
       "    </tr>\n",
       "    <tr>\n",
       "      <th>광주서부경찰서</th>\n",
       "      <td>검거건수</td>\n",
       "      <td>4</td>\n",
       "      <td>8</td>\n",
       "      <td>153</td>\n",
       "      <td>1471</td>\n",
       "      <td>2124</td>\n",
       "    </tr>\n",
       "    <tr>\n",
       "      <th>광주서부경찰서</th>\n",
       "      <td>검거인원</td>\n",
       "      <td>4</td>\n",
       "      <td>15</td>\n",
       "      <td>167</td>\n",
       "      <td>876</td>\n",
       "      <td>3080</td>\n",
       "    </tr>\n",
       "    <tr>\n",
       "      <th>광주서부경찰서</th>\n",
       "      <td>구속</td>\n",
       "      <td>3</td>\n",
       "      <td>10</td>\n",
       "      <td>7</td>\n",
       "      <td>27</td>\n",
       "      <td>19</td>\n",
       "    </tr>\n",
       "    <tr>\n",
       "      <th>광주서부경찰서</th>\n",
       "      <td>불구속</td>\n",
       "      <td>0</td>\n",
       "      <td>5</td>\n",
       "      <td>91</td>\n",
       "      <td>665</td>\n",
       "      <td>1366</td>\n",
       "    </tr>\n",
       "    <tr>\n",
       "      <th>광주서부경찰서</th>\n",
       "      <td>기타</td>\n",
       "      <td>1</td>\n",
       "      <td>0</td>\n",
       "      <td>69</td>\n",
       "      <td>184</td>\n",
       "      <td>1695</td>\n",
       "    </tr>\n",
       "    <tr>\n",
       "      <th>광주남부경찰서</th>\n",
       "      <td>발생건수</td>\n",
       "      <td>1</td>\n",
       "      <td>3</td>\n",
       "      <td>70</td>\n",
       "      <td>962</td>\n",
       "      <td>1081</td>\n",
       "    </tr>\n",
       "    <tr>\n",
       "      <th>광주남부경찰서</th>\n",
       "      <td>검거건수</td>\n",
       "      <td>1</td>\n",
       "      <td>3</td>\n",
       "      <td>53</td>\n",
       "      <td>506</td>\n",
       "      <td>941</td>\n",
       "    </tr>\n",
       "    <tr>\n",
       "      <th>광주남부경찰서</th>\n",
       "      <td>검거인원</td>\n",
       "      <td>1</td>\n",
       "      <td>3</td>\n",
       "      <td>52</td>\n",
       "      <td>418</td>\n",
       "      <td>1260</td>\n",
       "    </tr>\n",
       "    <tr>\n",
       "      <th>광주남부경찰서</th>\n",
       "      <td>구속</td>\n",
       "      <td>0</td>\n",
       "      <td>3</td>\n",
       "      <td>3</td>\n",
       "      <td>19</td>\n",
       "      <td>3</td>\n",
       "    </tr>\n",
       "    <tr>\n",
       "      <th>광주남부경찰서</th>\n",
       "      <td>불구속</td>\n",
       "      <td>1</td>\n",
       "      <td>0</td>\n",
       "      <td>39</td>\n",
       "      <td>325</td>\n",
       "      <td>675</td>\n",
       "    </tr>\n",
       "    <tr>\n",
       "      <th>광주남부경찰서</th>\n",
       "      <td>기타</td>\n",
       "      <td>0</td>\n",
       "      <td>0</td>\n",
       "      <td>10</td>\n",
       "      <td>74</td>\n",
       "      <td>582</td>\n",
       "    </tr>\n",
       "    <tr>\n",
       "      <th>광주북부경찰서</th>\n",
       "      <td>발생건수</td>\n",
       "      <td>5</td>\n",
       "      <td>14</td>\n",
       "      <td>256</td>\n",
       "      <td>2570</td>\n",
       "      <td>2621</td>\n",
       "    </tr>\n",
       "    <tr>\n",
       "      <th>광주북부경찰서</th>\n",
       "      <td>검거건수</td>\n",
       "      <td>5</td>\n",
       "      <td>18</td>\n",
       "      <td>212</td>\n",
       "      <td>1852</td>\n",
       "      <td>2319</td>\n",
       "    </tr>\n",
       "    <tr>\n",
       "      <th>광주북부경찰서</th>\n",
       "      <td>검거인원</td>\n",
       "      <td>5</td>\n",
       "      <td>28</td>\n",
       "      <td>216</td>\n",
       "      <td>948</td>\n",
       "      <td>3168</td>\n",
       "    </tr>\n",
       "    <tr>\n",
       "      <th>광주북부경찰서</th>\n",
       "      <td>구속</td>\n",
       "      <td>3</td>\n",
       "      <td>11</td>\n",
       "      <td>11</td>\n",
       "      <td>30</td>\n",
       "      <td>10</td>\n",
       "    </tr>\n",
       "    <tr>\n",
       "      <th>광주북부경찰서</th>\n",
       "      <td>불구속</td>\n",
       "      <td>0</td>\n",
       "      <td>12</td>\n",
       "      <td>153</td>\n",
       "      <td>770</td>\n",
       "      <td>1544</td>\n",
       "    </tr>\n",
       "    <tr>\n",
       "      <th>광주북부경찰서</th>\n",
       "      <td>기타</td>\n",
       "      <td>2</td>\n",
       "      <td>5</td>\n",
       "      <td>52</td>\n",
       "      <td>148</td>\n",
       "      <td>1614</td>\n",
       "    </tr>\n",
       "    <tr>\n",
       "      <th>광주광산경찰서</th>\n",
       "      <td>발생건수</td>\n",
       "      <td>4</td>\n",
       "      <td>12</td>\n",
       "      <td>160</td>\n",
       "      <td>1743</td>\n",
       "      <td>2253</td>\n",
       "    </tr>\n",
       "    <tr>\n",
       "      <th>광주광산경찰서</th>\n",
       "      <td>검거건수</td>\n",
       "      <td>4</td>\n",
       "      <td>10</td>\n",
       "      <td>135</td>\n",
       "      <td>996</td>\n",
       "      <td>1922</td>\n",
       "    </tr>\n",
       "    <tr>\n",
       "      <th>광주광산경찰서</th>\n",
       "      <td>검거인원</td>\n",
       "      <td>3</td>\n",
       "      <td>8</td>\n",
       "      <td>129</td>\n",
       "      <td>736</td>\n",
       "      <td>2585</td>\n",
       "    </tr>\n",
       "    <tr>\n",
       "      <th>광주광산경찰서</th>\n",
       "      <td>구속</td>\n",
       "      <td>0</td>\n",
       "      <td>4</td>\n",
       "      <td>5</td>\n",
       "      <td>12</td>\n",
       "      <td>6</td>\n",
       "    </tr>\n",
       "    <tr>\n",
       "      <th>광주광산경찰서</th>\n",
       "      <td>불구속</td>\n",
       "      <td>0</td>\n",
       "      <td>4</td>\n",
       "      <td>81</td>\n",
       "      <td>639</td>\n",
       "      <td>1181</td>\n",
       "    </tr>\n",
       "    <tr>\n",
       "      <th>광주광산경찰서</th>\n",
       "      <td>기타</td>\n",
       "      <td>3</td>\n",
       "      <td>0</td>\n",
       "      <td>43</td>\n",
       "      <td>85</td>\n",
       "      <td>1398</td>\n",
       "    </tr>\n",
       "  </tbody>\n",
       "</table>\n",
       "</div>"
      ],
      "text/plain": [
       "            구분  살인  강도  강간·강제추행    절도     폭력\n",
       "관서명                                         \n",
       "광주지방경찰청계  발생건수  18  44      750  8425   9593\n",
       "광주지방경찰청계  검거건수  18  47      758  5409   8301\n",
       "광주지방경찰청계  검거인원  17  66      776  3433  11774\n",
       "광주지방경찰청계    구속   9  33       42   104     58\n",
       "광주지방경찰청계   불구속   1  26      511  2781   5618\n",
       "광주지방경찰청계    기타   7   7      223   548   6098\n",
       "광주동부경찰서   발생건수   3   5       92  1100   1155\n",
       "광주동부경찰서   검거건수   4   6       86   583    970\n",
       "광주동부경찰서   검거인원   4   7       98   447   1483\n",
       "광주동부경찰서     구속   3   2        8    13     10\n",
       "광주동부경찰서    불구속   0   4       63   379    703\n",
       "광주동부경찰서     기타   1   1       27    55    770\n",
       "광주서부경찰서   발생건수   5  10      172  2050   2483\n",
       "광주서부경찰서   검거건수   4   8      153  1471   2124\n",
       "광주서부경찰서   검거인원   4  15      167   876   3080\n",
       "광주서부경찰서     구속   3  10        7    27     19\n",
       "광주서부경찰서    불구속   0   5       91   665   1366\n",
       "광주서부경찰서     기타   1   0       69   184   1695\n",
       "광주남부경찰서   발생건수   1   3       70   962   1081\n",
       "광주남부경찰서   검거건수   1   3       53   506    941\n",
       "광주남부경찰서   검거인원   1   3       52   418   1260\n",
       "광주남부경찰서     구속   0   3        3    19      3\n",
       "광주남부경찰서    불구속   1   0       39   325    675\n",
       "광주남부경찰서     기타   0   0       10    74    582\n",
       "광주북부경찰서   발생건수   5  14      256  2570   2621\n",
       "광주북부경찰서   검거건수   5  18      212  1852   2319\n",
       "광주북부경찰서   검거인원   5  28      216   948   3168\n",
       "광주북부경찰서     구속   3  11       11    30     10\n",
       "광주북부경찰서    불구속   0  12      153   770   1544\n",
       "광주북부경찰서     기타   2   5       52   148   1614\n",
       "광주광산경찰서   발생건수   4  12      160  1743   2253\n",
       "광주광산경찰서   검거건수   4  10      135   996   1922\n",
       "광주광산경찰서   검거인원   3   8      129   736   2585\n",
       "광주광산경찰서     구속   0   4        5    12      6\n",
       "광주광산경찰서    불구속   0   4       81   639   1181\n",
       "광주광산경찰서     기타   3   0       43    85   1398"
      ]
     },
     "execution_count": 559,
     "metadata": {},
     "output_type": "execute_result"
    }
   ],
   "source": [
    "df2015"
   ]
  },
  {
   "cell_type": "code",
   "execution_count": 565,
   "id": "e9833b19-e715-4f99-a24e-a21469362d49",
   "metadata": {},
   "outputs": [
    {
     "data": {
      "text/html": [
       "<div>\n",
       "<style scoped>\n",
       "    .dataframe tbody tr th:only-of-type {\n",
       "        vertical-align: middle;\n",
       "    }\n",
       "\n",
       "    .dataframe tbody tr th {\n",
       "        vertical-align: top;\n",
       "    }\n",
       "\n",
       "    .dataframe thead th {\n",
       "        text-align: right;\n",
       "    }\n",
       "</style>\n",
       "<table border=\"1\" class=\"dataframe\">\n",
       "  <thead>\n",
       "    <tr style=\"text-align: right;\">\n",
       "      <th></th>\n",
       "      <th>구분</th>\n",
       "      <th>살인</th>\n",
       "      <th>강도</th>\n",
       "      <th>강간·강제추행</th>\n",
       "      <th>절도</th>\n",
       "      <th>폭력</th>\n",
       "    </tr>\n",
       "    <tr>\n",
       "      <th>관서명</th>\n",
       "      <th></th>\n",
       "      <th></th>\n",
       "      <th></th>\n",
       "      <th></th>\n",
       "      <th></th>\n",
       "      <th></th>\n",
       "    </tr>\n",
       "  </thead>\n",
       "  <tbody>\n",
       "    <tr>\n",
       "      <th>광주지방경찰청계</th>\n",
       "      <td>발생건수</td>\n",
       "      <td>18</td>\n",
       "      <td>44</td>\n",
       "      <td>750</td>\n",
       "      <td>8425</td>\n",
       "      <td>9593</td>\n",
       "    </tr>\n",
       "    <tr>\n",
       "      <th>광주지방경찰청계</th>\n",
       "      <td>검거건수</td>\n",
       "      <td>18</td>\n",
       "      <td>47</td>\n",
       "      <td>758</td>\n",
       "      <td>5409</td>\n",
       "      <td>8301</td>\n",
       "    </tr>\n",
       "    <tr>\n",
       "      <th>광주지방경찰청계</th>\n",
       "      <td>검거인원</td>\n",
       "      <td>17</td>\n",
       "      <td>66</td>\n",
       "      <td>776</td>\n",
       "      <td>3433</td>\n",
       "      <td>11774</td>\n",
       "    </tr>\n",
       "    <tr>\n",
       "      <th>광주지방경찰청계</th>\n",
       "      <td>구속</td>\n",
       "      <td>9</td>\n",
       "      <td>33</td>\n",
       "      <td>42</td>\n",
       "      <td>104</td>\n",
       "      <td>58</td>\n",
       "    </tr>\n",
       "    <tr>\n",
       "      <th>광주지방경찰청계</th>\n",
       "      <td>불구속</td>\n",
       "      <td>1</td>\n",
       "      <td>26</td>\n",
       "      <td>511</td>\n",
       "      <td>2781</td>\n",
       "      <td>5618</td>\n",
       "    </tr>\n",
       "    <tr>\n",
       "      <th>광주지방경찰청계</th>\n",
       "      <td>기타</td>\n",
       "      <td>7</td>\n",
       "      <td>7</td>\n",
       "      <td>223</td>\n",
       "      <td>548</td>\n",
       "      <td>6098</td>\n",
       "    </tr>\n",
       "  </tbody>\n",
       "</table>\n",
       "</div>"
      ],
      "text/plain": [
       "            구분  살인  강도  강간·강제추행    절도     폭력\n",
       "관서명                                         \n",
       "광주지방경찰청계  발생건수  18  44      750  8425   9593\n",
       "광주지방경찰청계  검거건수  18  47      758  5409   8301\n",
       "광주지방경찰청계  검거인원  17  66      776  3433  11774\n",
       "광주지방경찰청계    구속   9  33       42   104     58\n",
       "광주지방경찰청계   불구속   1  26      511  2781   5618\n",
       "광주지방경찰청계    기타   7   7      223   548   6098"
      ]
     },
     "execution_count": 565,
     "metadata": {},
     "output_type": "execute_result"
    }
   ],
   "source": [
    "df2015.loc['광주지방경찰청계']\n",
    "\n",
    "# 인덱스 이름이 겹침\n",
    "# 인덱스 이름으로 조회, 수정, 삭제 한번에 바뀜\n",
    "# 다중 인덱스(Multi Index)"
   ]
  },
  {
   "cell_type": "code",
   "execution_count": null,
   "id": "d0ca8054-612d-473f-8bb2-c18dec803fb4",
   "metadata": {},
   "outputs": [],
   "source": []
  },
  {
   "cell_type": "code",
   "execution_count": 569,
   "id": "72b63b14-1bd5-49cc-a555-a685f313016d",
   "metadata": {},
   "outputs": [
    {
     "name": "stdout",
     "output_type": "stream",
     "text": [
      "(36, 6)\n",
      "(36, 6)\n",
      "(42, 6)\n"
     ]
    }
   ],
   "source": [
    "# 데이터 형태 확인\n",
    "print(df2015.shape)\n",
    "print(df2016.shape)\n",
    "print(df2017.shape)\n",
    "# 2017년도만 다름"
   ]
  },
  {
   "cell_type": "code",
   "execution_count": null,
   "id": "d8ae8ed6-dd32-4b5e-9d37-c509413087e2",
   "metadata": {},
   "outputs": [],
   "source": []
  },
  {
   "cell_type": "code",
   "execution_count": 571,
   "id": "313ac385-e1de-4015-8109-4669ca3586e3",
   "metadata": {},
   "outputs": [
    {
     "data": {
      "text/plain": [
       "Index(['광주지방경찰청계', '광주지방경찰청계', '광주지방경찰청계', '광주지방경찰청계', '광주지방경찰청계', '광주지방경찰청계',\n",
       "       '광주지방경찰청', '광주지방경찰청', '광주지방경찰청', '광주지방경찰청', '광주지방경찰청', '광주지방경찰청',\n",
       "       '광주동부경찰서', '광주동부경찰서', '광주동부경찰서', '광주동부경찰서', '광주동부경찰서', '광주동부경찰서',\n",
       "       '광주서부경찰서', '광주서부경찰서', '광주서부경찰서', '광주서부경찰서', '광주서부경찰서', '광주서부경찰서',\n",
       "       '광주남부경찰서', '광주남부경찰서', '광주남부경찰서', '광주남부경찰서', '광주남부경찰서', '광주남부경찰서',\n",
       "       '광주북부경찰서', '광주북부경찰서', '광주북부경찰서', '광주북부경찰서', '광주북부경찰서', '광주북부경찰서',\n",
       "       '광주광산경찰서', '광주광산경찰서', '광주광산경찰서', '광주광산경찰서', '광주광산경찰서', '광주광산경찰서'],\n",
       "      dtype='object', name='관서명')"
      ]
     },
     "execution_count": 571,
     "metadata": {},
     "output_type": "execute_result"
    }
   ],
   "source": [
    "# 2017년도의 index\n",
    "df2017.index"
   ]
  },
  {
   "cell_type": "code",
   "execution_count": 581,
   "id": "dac12b07-dd72-41f8-99bb-c4dd09bebfd9",
   "metadata": {},
   "outputs": [
    {
     "data": {
      "text/plain": [
       "{'광주광산경찰서', '광주남부경찰서', '광주동부경찰서', '광주북부경찰서', '광주서부경찰서', '광주지방경찰청', '광주지방경찰청계'}"
      ]
     },
     "execution_count": 581,
     "metadata": {},
     "output_type": "execute_result"
    }
   ],
   "source": [
    "# set: 중복값 제거 후 유니크 값만 출력해주는 자료형\n",
    "set(df2017.index)"
   ]
  },
  {
   "cell_type": "code",
   "execution_count": 579,
   "id": "eecd7e91-03df-463a-a9a8-eeb4678984b0",
   "metadata": {},
   "outputs": [
    {
     "data": {
      "text/plain": [
       "set"
      ]
     },
     "execution_count": 579,
     "metadata": {},
     "output_type": "execute_result"
    }
   ],
   "source": [
    "type(set(df2017.index))"
   ]
  },
  {
   "cell_type": "code",
   "execution_count": 583,
   "id": "70e970fd-c344-44f0-a77b-5c5d6fd9c248",
   "metadata": {},
   "outputs": [
    {
     "data": {
      "text/plain": [
       "{'광주광산경찰서', '광주남부경찰서', '광주동부경찰서', '광주북부경찰서', '광주서부경찰서', '광주지방경찰청계'}"
      ]
     },
     "execution_count": 583,
     "metadata": {},
     "output_type": "execute_result"
    }
   ],
   "source": [
    "set(df2015.index)"
   ]
  },
  {
   "cell_type": "code",
   "execution_count": null,
   "id": "1d430dac-d85c-4cce-afc9-a3261305db43",
   "metadata": {},
   "outputs": [],
   "source": []
  },
  {
   "cell_type": "code",
   "execution_count": 585,
   "id": "0977f01a-09b6-4d2d-bcbf-f4cafffc0082",
   "metadata": {},
   "outputs": [
    {
     "data": {
      "text/plain": [
       "{'광주지방경찰청'}"
      ]
     },
     "execution_count": 585,
     "metadata": {},
     "output_type": "execute_result"
    }
   ],
   "source": [
    "# 2017년도에만 있는 index 추출\n",
    "set(df2017.index) - set(df2015.index)"
   ]
  },
  {
   "cell_type": "code",
   "execution_count": 587,
   "id": "ca09798c-e48c-4a8d-a600-33e7cb8bac30",
   "metadata": {},
   "outputs": [
    {
     "data": {
      "text/html": [
       "<div>\n",
       "<style scoped>\n",
       "    .dataframe tbody tr th:only-of-type {\n",
       "        vertical-align: middle;\n",
       "    }\n",
       "\n",
       "    .dataframe tbody tr th {\n",
       "        vertical-align: top;\n",
       "    }\n",
       "\n",
       "    .dataframe thead th {\n",
       "        text-align: right;\n",
       "    }\n",
       "</style>\n",
       "<table border=\"1\" class=\"dataframe\">\n",
       "  <thead>\n",
       "    <tr style=\"text-align: right;\">\n",
       "      <th></th>\n",
       "      <th>구분</th>\n",
       "      <th>살인</th>\n",
       "      <th>강도</th>\n",
       "      <th>강간·강제추행</th>\n",
       "      <th>절도</th>\n",
       "      <th>폭력</th>\n",
       "    </tr>\n",
       "    <tr>\n",
       "      <th>관서명</th>\n",
       "      <th></th>\n",
       "      <th></th>\n",
       "      <th></th>\n",
       "      <th></th>\n",
       "      <th></th>\n",
       "      <th></th>\n",
       "    </tr>\n",
       "  </thead>\n",
       "  <tbody>\n",
       "    <tr>\n",
       "      <th>광주지방경찰청계</th>\n",
       "      <td>발생건수</td>\n",
       "      <td>9</td>\n",
       "      <td>33</td>\n",
       "      <td>725</td>\n",
       "      <td>4816</td>\n",
       "      <td>8366</td>\n",
       "    </tr>\n",
       "    <tr>\n",
       "      <th>광주지방경찰청계</th>\n",
       "      <td>검거건수</td>\n",
       "      <td>9</td>\n",
       "      <td>32</td>\n",
       "      <td>732</td>\n",
       "      <td>3487</td>\n",
       "      <td>7553</td>\n",
       "    </tr>\n",
       "    <tr>\n",
       "      <th>광주지방경찰청계</th>\n",
       "      <td>검거인원</td>\n",
       "      <td>10</td>\n",
       "      <td>61</td>\n",
       "      <td>824</td>\n",
       "      <td>3046</td>\n",
       "      <td>11018</td>\n",
       "    </tr>\n",
       "    <tr>\n",
       "      <th>광주지방경찰청계</th>\n",
       "      <td>구속</td>\n",
       "      <td>8</td>\n",
       "      <td>28</td>\n",
       "      <td>71</td>\n",
       "      <td>115</td>\n",
       "      <td>88</td>\n",
       "    </tr>\n",
       "    <tr>\n",
       "      <th>광주지방경찰청계</th>\n",
       "      <td>불구속</td>\n",
       "      <td>0</td>\n",
       "      <td>26</td>\n",
       "      <td>523</td>\n",
       "      <td>2493</td>\n",
       "      <td>5235</td>\n",
       "    </tr>\n",
       "    <tr>\n",
       "      <th>광주지방경찰청계</th>\n",
       "      <td>기타</td>\n",
       "      <td>2</td>\n",
       "      <td>7</td>\n",
       "      <td>230</td>\n",
       "      <td>438</td>\n",
       "      <td>5695</td>\n",
       "    </tr>\n",
       "    <tr>\n",
       "      <th>광주지방경찰청</th>\n",
       "      <td>발생건수</td>\n",
       "      <td>0</td>\n",
       "      <td>0</td>\n",
       "      <td>0</td>\n",
       "      <td>0</td>\n",
       "      <td>0</td>\n",
       "    </tr>\n",
       "    <tr>\n",
       "      <th>광주지방경찰청</th>\n",
       "      <td>검거건수</td>\n",
       "      <td>0</td>\n",
       "      <td>1</td>\n",
       "      <td>91</td>\n",
       "      <td>0</td>\n",
       "      <td>37</td>\n",
       "    </tr>\n",
       "    <tr>\n",
       "      <th>광주지방경찰청</th>\n",
       "      <td>검거인원</td>\n",
       "      <td>0</td>\n",
       "      <td>1</td>\n",
       "      <td>105</td>\n",
       "      <td>0</td>\n",
       "      <td>149</td>\n",
       "    </tr>\n",
       "    <tr>\n",
       "      <th>광주지방경찰청</th>\n",
       "      <td>구속</td>\n",
       "      <td>0</td>\n",
       "      <td>0</td>\n",
       "      <td>17</td>\n",
       "      <td>0</td>\n",
       "      <td>7</td>\n",
       "    </tr>\n",
       "    <tr>\n",
       "      <th>광주지방경찰청</th>\n",
       "      <td>불구속</td>\n",
       "      <td>0</td>\n",
       "      <td>1</td>\n",
       "      <td>53</td>\n",
       "      <td>0</td>\n",
       "      <td>69</td>\n",
       "    </tr>\n",
       "    <tr>\n",
       "      <th>광주지방경찰청</th>\n",
       "      <td>기타</td>\n",
       "      <td>0</td>\n",
       "      <td>0</td>\n",
       "      <td>35</td>\n",
       "      <td>0</td>\n",
       "      <td>73</td>\n",
       "    </tr>\n",
       "    <tr>\n",
       "      <th>광주동부경찰서</th>\n",
       "      <td>발생건수</td>\n",
       "      <td>3</td>\n",
       "      <td>5</td>\n",
       "      <td>77</td>\n",
       "      <td>624</td>\n",
       "      <td>1090</td>\n",
       "    </tr>\n",
       "    <tr>\n",
       "      <th>광주동부경찰서</th>\n",
       "      <td>검거건수</td>\n",
       "      <td>3</td>\n",
       "      <td>5</td>\n",
       "      <td>70</td>\n",
       "      <td>470</td>\n",
       "      <td>953</td>\n",
       "    </tr>\n",
       "    <tr>\n",
       "      <th>광주동부경찰서</th>\n",
       "      <td>검거인원</td>\n",
       "      <td>4</td>\n",
       "      <td>4</td>\n",
       "      <td>76</td>\n",
       "      <td>483</td>\n",
       "      <td>1538</td>\n",
       "    </tr>\n",
       "    <tr>\n",
       "      <th>광주동부경찰서</th>\n",
       "      <td>구속</td>\n",
       "      <td>2</td>\n",
       "      <td>3</td>\n",
       "      <td>2</td>\n",
       "      <td>19</td>\n",
       "      <td>9</td>\n",
       "    </tr>\n",
       "    <tr>\n",
       "      <th>광주동부경찰서</th>\n",
       "      <td>불구속</td>\n",
       "      <td>0</td>\n",
       "      <td>1</td>\n",
       "      <td>57</td>\n",
       "      <td>395</td>\n",
       "      <td>801</td>\n",
       "    </tr>\n",
       "    <tr>\n",
       "      <th>광주동부경찰서</th>\n",
       "      <td>기타</td>\n",
       "      <td>2</td>\n",
       "      <td>0</td>\n",
       "      <td>17</td>\n",
       "      <td>69</td>\n",
       "      <td>728</td>\n",
       "    </tr>\n",
       "    <tr>\n",
       "      <th>광주서부경찰서</th>\n",
       "      <td>발생건수</td>\n",
       "      <td>0</td>\n",
       "      <td>7</td>\n",
       "      <td>196</td>\n",
       "      <td>1142</td>\n",
       "      <td>2293</td>\n",
       "    </tr>\n",
       "    <tr>\n",
       "      <th>광주서부경찰서</th>\n",
       "      <td>검거건수</td>\n",
       "      <td>0</td>\n",
       "      <td>7</td>\n",
       "      <td>172</td>\n",
       "      <td>708</td>\n",
       "      <td>2065</td>\n",
       "    </tr>\n",
       "    <tr>\n",
       "      <th>광주서부경찰서</th>\n",
       "      <td>검거인원</td>\n",
       "      <td>0</td>\n",
       "      <td>23</td>\n",
       "      <td>188</td>\n",
       "      <td>708</td>\n",
       "      <td>2971</td>\n",
       "    </tr>\n",
       "    <tr>\n",
       "      <th>광주서부경찰서</th>\n",
       "      <td>구속</td>\n",
       "      <td>0</td>\n",
       "      <td>8</td>\n",
       "      <td>6</td>\n",
       "      <td>20</td>\n",
       "      <td>31</td>\n",
       "    </tr>\n",
       "    <tr>\n",
       "      <th>광주서부경찰서</th>\n",
       "      <td>불구속</td>\n",
       "      <td>0</td>\n",
       "      <td>15</td>\n",
       "      <td>123</td>\n",
       "      <td>582</td>\n",
       "      <td>1356</td>\n",
       "    </tr>\n",
       "    <tr>\n",
       "      <th>광주서부경찰서</th>\n",
       "      <td>기타</td>\n",
       "      <td>0</td>\n",
       "      <td>0</td>\n",
       "      <td>59</td>\n",
       "      <td>106</td>\n",
       "      <td>1584</td>\n",
       "    </tr>\n",
       "    <tr>\n",
       "      <th>광주남부경찰서</th>\n",
       "      <td>발생건수</td>\n",
       "      <td>0</td>\n",
       "      <td>4</td>\n",
       "      <td>68</td>\n",
       "      <td>577</td>\n",
       "      <td>898</td>\n",
       "    </tr>\n",
       "    <tr>\n",
       "      <th>광주남부경찰서</th>\n",
       "      <td>검거건수</td>\n",
       "      <td>0</td>\n",
       "      <td>4</td>\n",
       "      <td>51</td>\n",
       "      <td>522</td>\n",
       "      <td>799</td>\n",
       "    </tr>\n",
       "    <tr>\n",
       "      <th>광주남부경찰서</th>\n",
       "      <td>검거인원</td>\n",
       "      <td>0</td>\n",
       "      <td>5</td>\n",
       "      <td>47</td>\n",
       "      <td>363</td>\n",
       "      <td>1107</td>\n",
       "    </tr>\n",
       "    <tr>\n",
       "      <th>광주남부경찰서</th>\n",
       "      <td>구속</td>\n",
       "      <td>0</td>\n",
       "      <td>2</td>\n",
       "      <td>1</td>\n",
       "      <td>18</td>\n",
       "      <td>1</td>\n",
       "    </tr>\n",
       "    <tr>\n",
       "      <th>광주남부경찰서</th>\n",
       "      <td>불구속</td>\n",
       "      <td>0</td>\n",
       "      <td>2</td>\n",
       "      <td>29</td>\n",
       "      <td>271</td>\n",
       "      <td>591</td>\n",
       "    </tr>\n",
       "    <tr>\n",
       "      <th>광주남부경찰서</th>\n",
       "      <td>기타</td>\n",
       "      <td>0</td>\n",
       "      <td>1</td>\n",
       "      <td>17</td>\n",
       "      <td>74</td>\n",
       "      <td>515</td>\n",
       "    </tr>\n",
       "    <tr>\n",
       "      <th>광주북부경찰서</th>\n",
       "      <td>발생건수</td>\n",
       "      <td>3</td>\n",
       "      <td>5</td>\n",
       "      <td>215</td>\n",
       "      <td>1546</td>\n",
       "      <td>2176</td>\n",
       "    </tr>\n",
       "    <tr>\n",
       "      <th>광주북부경찰서</th>\n",
       "      <td>검거건수</td>\n",
       "      <td>3</td>\n",
       "      <td>5</td>\n",
       "      <td>204</td>\n",
       "      <td>1127</td>\n",
       "      <td>1997</td>\n",
       "    </tr>\n",
       "    <tr>\n",
       "      <th>광주북부경찰서</th>\n",
       "      <td>검거인원</td>\n",
       "      <td>3</td>\n",
       "      <td>6</td>\n",
       "      <td>260</td>\n",
       "      <td>898</td>\n",
       "      <td>2863</td>\n",
       "    </tr>\n",
       "    <tr>\n",
       "      <th>광주북부경찰서</th>\n",
       "      <td>구속</td>\n",
       "      <td>3</td>\n",
       "      <td>4</td>\n",
       "      <td>39</td>\n",
       "      <td>33</td>\n",
       "      <td>22</td>\n",
       "    </tr>\n",
       "    <tr>\n",
       "      <th>광주북부경찰서</th>\n",
       "      <td>불구속</td>\n",
       "      <td>0</td>\n",
       "      <td>0</td>\n",
       "      <td>159</td>\n",
       "      <td>730</td>\n",
       "      <td>1314</td>\n",
       "    </tr>\n",
       "    <tr>\n",
       "      <th>광주북부경찰서</th>\n",
       "      <td>기타</td>\n",
       "      <td>0</td>\n",
       "      <td>2</td>\n",
       "      <td>62</td>\n",
       "      <td>135</td>\n",
       "      <td>1527</td>\n",
       "    </tr>\n",
       "    <tr>\n",
       "      <th>광주광산경찰서</th>\n",
       "      <td>발생건수</td>\n",
       "      <td>3</td>\n",
       "      <td>12</td>\n",
       "      <td>169</td>\n",
       "      <td>927</td>\n",
       "      <td>1909</td>\n",
       "    </tr>\n",
       "    <tr>\n",
       "      <th>광주광산경찰서</th>\n",
       "      <td>검거건수</td>\n",
       "      <td>3</td>\n",
       "      <td>10</td>\n",
       "      <td>144</td>\n",
       "      <td>660</td>\n",
       "      <td>1702</td>\n",
       "    </tr>\n",
       "    <tr>\n",
       "      <th>광주광산경찰서</th>\n",
       "      <td>검거인원</td>\n",
       "      <td>3</td>\n",
       "      <td>22</td>\n",
       "      <td>148</td>\n",
       "      <td>594</td>\n",
       "      <td>2390</td>\n",
       "    </tr>\n",
       "    <tr>\n",
       "      <th>광주광산경찰서</th>\n",
       "      <td>구속</td>\n",
       "      <td>3</td>\n",
       "      <td>11</td>\n",
       "      <td>6</td>\n",
       "      <td>25</td>\n",
       "      <td>18</td>\n",
       "    </tr>\n",
       "    <tr>\n",
       "      <th>광주광산경찰서</th>\n",
       "      <td>불구속</td>\n",
       "      <td>0</td>\n",
       "      <td>7</td>\n",
       "      <td>102</td>\n",
       "      <td>515</td>\n",
       "      <td>1104</td>\n",
       "    </tr>\n",
       "    <tr>\n",
       "      <th>광주광산경찰서</th>\n",
       "      <td>기타</td>\n",
       "      <td>0</td>\n",
       "      <td>4</td>\n",
       "      <td>40</td>\n",
       "      <td>54</td>\n",
       "      <td>1268</td>\n",
       "    </tr>\n",
       "  </tbody>\n",
       "</table>\n",
       "</div>"
      ],
      "text/plain": [
       "            구분  살인  강도  강간·강제추행    절도     폭력\n",
       "관서명                                         \n",
       "광주지방경찰청계  발생건수   9  33      725  4816   8366\n",
       "광주지방경찰청계  검거건수   9  32      732  3487   7553\n",
       "광주지방경찰청계  검거인원  10  61      824  3046  11018\n",
       "광주지방경찰청계    구속   8  28       71   115     88\n",
       "광주지방경찰청계   불구속   0  26      523  2493   5235\n",
       "광주지방경찰청계    기타   2   7      230   438   5695\n",
       "광주지방경찰청   발생건수   0   0        0     0      0\n",
       "광주지방경찰청   검거건수   0   1       91     0     37\n",
       "광주지방경찰청   검거인원   0   1      105     0    149\n",
       "광주지방경찰청     구속   0   0       17     0      7\n",
       "광주지방경찰청    불구속   0   1       53     0     69\n",
       "광주지방경찰청     기타   0   0       35     0     73\n",
       "광주동부경찰서   발생건수   3   5       77   624   1090\n",
       "광주동부경찰서   검거건수   3   5       70   470    953\n",
       "광주동부경찰서   검거인원   4   4       76   483   1538\n",
       "광주동부경찰서     구속   2   3        2    19      9\n",
       "광주동부경찰서    불구속   0   1       57   395    801\n",
       "광주동부경찰서     기타   2   0       17    69    728\n",
       "광주서부경찰서   발생건수   0   7      196  1142   2293\n",
       "광주서부경찰서   검거건수   0   7      172   708   2065\n",
       "광주서부경찰서   검거인원   0  23      188   708   2971\n",
       "광주서부경찰서     구속   0   8        6    20     31\n",
       "광주서부경찰서    불구속   0  15      123   582   1356\n",
       "광주서부경찰서     기타   0   0       59   106   1584\n",
       "광주남부경찰서   발생건수   0   4       68   577    898\n",
       "광주남부경찰서   검거건수   0   4       51   522    799\n",
       "광주남부경찰서   검거인원   0   5       47   363   1107\n",
       "광주남부경찰서     구속   0   2        1    18      1\n",
       "광주남부경찰서    불구속   0   2       29   271    591\n",
       "광주남부경찰서     기타   0   1       17    74    515\n",
       "광주북부경찰서   발생건수   3   5      215  1546   2176\n",
       "광주북부경찰서   검거건수   3   5      204  1127   1997\n",
       "광주북부경찰서   검거인원   3   6      260   898   2863\n",
       "광주북부경찰서     구속   3   4       39    33     22\n",
       "광주북부경찰서    불구속   0   0      159   730   1314\n",
       "광주북부경찰서     기타   0   2       62   135   1527\n",
       "광주광산경찰서   발생건수   3  12      169   927   1909\n",
       "광주광산경찰서   검거건수   3  10      144   660   1702\n",
       "광주광산경찰서   검거인원   3  22      148   594   2390\n",
       "광주광산경찰서     구속   3  11        6    25     18\n",
       "광주광산경찰서    불구속   0   7      102   515   1104\n",
       "광주광산경찰서     기타   0   4       40    54   1268"
      ]
     },
     "execution_count": 587,
     "metadata": {},
     "output_type": "execute_result"
    }
   ],
   "source": [
    "df2017"
   ]
  },
  {
   "cell_type": "code",
   "execution_count": null,
   "id": "d248c136-88bf-49dc-b9f7-385bba9fc046",
   "metadata": {},
   "outputs": [],
   "source": []
  },
  {
   "cell_type": "markdown",
   "id": "e7d2a46a-6f61-48b7-8abd-5030642ae9a5",
   "metadata": {},
   "source": [
    "2. 데이터 전처리\n",
    "   - 데이터를 살펴보면 df2017에만 '광주지방경찰청' index가 있는데, 데이터가 부실함\n",
    "   - 해당 행들을 삭제"
   ]
  },
  {
   "cell_type": "code",
   "execution_count": null,
   "id": "ad85baba-3cee-4ec9-90c5-1db69cdc1f4a",
   "metadata": {},
   "outputs": [],
   "source": []
  },
  {
   "cell_type": "code",
   "execution_count": 681,
   "id": "37f20e43-db39-4af3-bf7a-12ca9fb8afc7",
   "metadata": {},
   "outputs": [],
   "source": [
    "df2017.drop('광주지방경찰청', inplace = True)"
   ]
  },
  {
   "cell_type": "code",
   "execution_count": 595,
   "id": "7dd8908a-c2fb-4b01-a57d-bc097199ab00",
   "metadata": {},
   "outputs": [
    {
     "data": {
      "text/plain": [
       "(36, 6)"
      ]
     },
     "execution_count": 595,
     "metadata": {},
     "output_type": "execute_result"
    }
   ],
   "source": [
    "df2017.shape"
   ]
  },
  {
   "cell_type": "code",
   "execution_count": null,
   "id": "825b9f9e-dbea-453d-9c7b-6bd64ba8576f",
   "metadata": {},
   "outputs": [],
   "source": []
  },
  {
   "cell_type": "markdown",
   "id": "879f271f-09c3-46bd-a6a5-888f46437a32",
   "metadata": {},
   "source": [
    "3. 범죄 증감률을 구하기 위한 총계 추가"
   ]
  },
  {
   "cell_type": "code",
   "execution_count": 683,
   "id": "563f0be0-90b3-4be0-99b8-601419a4d772",
   "metadata": {},
   "outputs": [],
   "source": [
    "df2015['총계'] = df2015.loc[:, '살인':'폭력'].sum(axis = 1)\n",
    "df2016['총계'] = df2016.loc[:, '살인':'폭력'].sum(axis = 1)\n",
    "df2017['총계'] = df2017.loc[:, '살인':'폭력'].sum(axis = 1)"
   ]
  },
  {
   "cell_type": "code",
   "execution_count": 665,
   "id": "edcebc8b-acb9-4fc5-91f3-b6a4fc772085",
   "metadata": {},
   "outputs": [
    {
     "data": {
      "text/html": [
       "<div>\n",
       "<style scoped>\n",
       "    .dataframe tbody tr th:only-of-type {\n",
       "        vertical-align: middle;\n",
       "    }\n",
       "\n",
       "    .dataframe tbody tr th {\n",
       "        vertical-align: top;\n",
       "    }\n",
       "\n",
       "    .dataframe thead th {\n",
       "        text-align: right;\n",
       "    }\n",
       "</style>\n",
       "<table border=\"1\" class=\"dataframe\">\n",
       "  <thead>\n",
       "    <tr style=\"text-align: right;\">\n",
       "      <th></th>\n",
       "      <th>구분</th>\n",
       "      <th>살인</th>\n",
       "      <th>강도</th>\n",
       "      <th>강간·강제추행</th>\n",
       "      <th>절도</th>\n",
       "      <th>폭력</th>\n",
       "      <th>총계</th>\n",
       "    </tr>\n",
       "    <tr>\n",
       "      <th>관서명</th>\n",
       "      <th></th>\n",
       "      <th></th>\n",
       "      <th></th>\n",
       "      <th></th>\n",
       "      <th></th>\n",
       "      <th></th>\n",
       "      <th></th>\n",
       "    </tr>\n",
       "  </thead>\n",
       "  <tbody>\n",
       "    <tr>\n",
       "      <th>광주지방경찰청계</th>\n",
       "      <td>발생건수</td>\n",
       "      <td>18</td>\n",
       "      <td>44</td>\n",
       "      <td>750</td>\n",
       "      <td>8425</td>\n",
       "      <td>9593</td>\n",
       "      <td>18830</td>\n",
       "    </tr>\n",
       "    <tr>\n",
       "      <th>광주지방경찰청계</th>\n",
       "      <td>검거건수</td>\n",
       "      <td>18</td>\n",
       "      <td>47</td>\n",
       "      <td>758</td>\n",
       "      <td>5409</td>\n",
       "      <td>8301</td>\n",
       "      <td>14533</td>\n",
       "    </tr>\n",
       "    <tr>\n",
       "      <th>광주지방경찰청계</th>\n",
       "      <td>검거인원</td>\n",
       "      <td>17</td>\n",
       "      <td>66</td>\n",
       "      <td>776</td>\n",
       "      <td>3433</td>\n",
       "      <td>11774</td>\n",
       "      <td>16066</td>\n",
       "    </tr>\n",
       "    <tr>\n",
       "      <th>광주지방경찰청계</th>\n",
       "      <td>구속</td>\n",
       "      <td>9</td>\n",
       "      <td>33</td>\n",
       "      <td>42</td>\n",
       "      <td>104</td>\n",
       "      <td>58</td>\n",
       "      <td>246</td>\n",
       "    </tr>\n",
       "    <tr>\n",
       "      <th>광주지방경찰청계</th>\n",
       "      <td>불구속</td>\n",
       "      <td>1</td>\n",
       "      <td>26</td>\n",
       "      <td>511</td>\n",
       "      <td>2781</td>\n",
       "      <td>5618</td>\n",
       "      <td>8937</td>\n",
       "    </tr>\n",
       "    <tr>\n",
       "      <th>광주지방경찰청계</th>\n",
       "      <td>기타</td>\n",
       "      <td>7</td>\n",
       "      <td>7</td>\n",
       "      <td>223</td>\n",
       "      <td>548</td>\n",
       "      <td>6098</td>\n",
       "      <td>6883</td>\n",
       "    </tr>\n",
       "    <tr>\n",
       "      <th>광주동부경찰서</th>\n",
       "      <td>발생건수</td>\n",
       "      <td>3</td>\n",
       "      <td>5</td>\n",
       "      <td>92</td>\n",
       "      <td>1100</td>\n",
       "      <td>1155</td>\n",
       "      <td>2355</td>\n",
       "    </tr>\n",
       "    <tr>\n",
       "      <th>광주동부경찰서</th>\n",
       "      <td>검거건수</td>\n",
       "      <td>4</td>\n",
       "      <td>6</td>\n",
       "      <td>86</td>\n",
       "      <td>583</td>\n",
       "      <td>970</td>\n",
       "      <td>1649</td>\n",
       "    </tr>\n",
       "    <tr>\n",
       "      <th>광주동부경찰서</th>\n",
       "      <td>검거인원</td>\n",
       "      <td>4</td>\n",
       "      <td>7</td>\n",
       "      <td>98</td>\n",
       "      <td>447</td>\n",
       "      <td>1483</td>\n",
       "      <td>2039</td>\n",
       "    </tr>\n",
       "    <tr>\n",
       "      <th>광주동부경찰서</th>\n",
       "      <td>구속</td>\n",
       "      <td>3</td>\n",
       "      <td>2</td>\n",
       "      <td>8</td>\n",
       "      <td>13</td>\n",
       "      <td>10</td>\n",
       "      <td>36</td>\n",
       "    </tr>\n",
       "    <tr>\n",
       "      <th>광주동부경찰서</th>\n",
       "      <td>불구속</td>\n",
       "      <td>0</td>\n",
       "      <td>4</td>\n",
       "      <td>63</td>\n",
       "      <td>379</td>\n",
       "      <td>703</td>\n",
       "      <td>1149</td>\n",
       "    </tr>\n",
       "    <tr>\n",
       "      <th>광주동부경찰서</th>\n",
       "      <td>기타</td>\n",
       "      <td>1</td>\n",
       "      <td>1</td>\n",
       "      <td>27</td>\n",
       "      <td>55</td>\n",
       "      <td>770</td>\n",
       "      <td>854</td>\n",
       "    </tr>\n",
       "    <tr>\n",
       "      <th>광주서부경찰서</th>\n",
       "      <td>발생건수</td>\n",
       "      <td>5</td>\n",
       "      <td>10</td>\n",
       "      <td>172</td>\n",
       "      <td>2050</td>\n",
       "      <td>2483</td>\n",
       "      <td>4720</td>\n",
       "    </tr>\n",
       "    <tr>\n",
       "      <th>광주서부경찰서</th>\n",
       "      <td>검거건수</td>\n",
       "      <td>4</td>\n",
       "      <td>8</td>\n",
       "      <td>153</td>\n",
       "      <td>1471</td>\n",
       "      <td>2124</td>\n",
       "      <td>3760</td>\n",
       "    </tr>\n",
       "    <tr>\n",
       "      <th>광주서부경찰서</th>\n",
       "      <td>검거인원</td>\n",
       "      <td>4</td>\n",
       "      <td>15</td>\n",
       "      <td>167</td>\n",
       "      <td>876</td>\n",
       "      <td>3080</td>\n",
       "      <td>4142</td>\n",
       "    </tr>\n",
       "    <tr>\n",
       "      <th>광주서부경찰서</th>\n",
       "      <td>구속</td>\n",
       "      <td>3</td>\n",
       "      <td>10</td>\n",
       "      <td>7</td>\n",
       "      <td>27</td>\n",
       "      <td>19</td>\n",
       "      <td>66</td>\n",
       "    </tr>\n",
       "    <tr>\n",
       "      <th>광주서부경찰서</th>\n",
       "      <td>불구속</td>\n",
       "      <td>0</td>\n",
       "      <td>5</td>\n",
       "      <td>91</td>\n",
       "      <td>665</td>\n",
       "      <td>1366</td>\n",
       "      <td>2127</td>\n",
       "    </tr>\n",
       "    <tr>\n",
       "      <th>광주서부경찰서</th>\n",
       "      <td>기타</td>\n",
       "      <td>1</td>\n",
       "      <td>0</td>\n",
       "      <td>69</td>\n",
       "      <td>184</td>\n",
       "      <td>1695</td>\n",
       "      <td>1949</td>\n",
       "    </tr>\n",
       "    <tr>\n",
       "      <th>광주남부경찰서</th>\n",
       "      <td>발생건수</td>\n",
       "      <td>1</td>\n",
       "      <td>3</td>\n",
       "      <td>70</td>\n",
       "      <td>962</td>\n",
       "      <td>1081</td>\n",
       "      <td>2117</td>\n",
       "    </tr>\n",
       "    <tr>\n",
       "      <th>광주남부경찰서</th>\n",
       "      <td>검거건수</td>\n",
       "      <td>1</td>\n",
       "      <td>3</td>\n",
       "      <td>53</td>\n",
       "      <td>506</td>\n",
       "      <td>941</td>\n",
       "      <td>1504</td>\n",
       "    </tr>\n",
       "    <tr>\n",
       "      <th>광주남부경찰서</th>\n",
       "      <td>검거인원</td>\n",
       "      <td>1</td>\n",
       "      <td>3</td>\n",
       "      <td>52</td>\n",
       "      <td>418</td>\n",
       "      <td>1260</td>\n",
       "      <td>1734</td>\n",
       "    </tr>\n",
       "    <tr>\n",
       "      <th>광주남부경찰서</th>\n",
       "      <td>구속</td>\n",
       "      <td>0</td>\n",
       "      <td>3</td>\n",
       "      <td>3</td>\n",
       "      <td>19</td>\n",
       "      <td>3</td>\n",
       "      <td>28</td>\n",
       "    </tr>\n",
       "    <tr>\n",
       "      <th>광주남부경찰서</th>\n",
       "      <td>불구속</td>\n",
       "      <td>1</td>\n",
       "      <td>0</td>\n",
       "      <td>39</td>\n",
       "      <td>325</td>\n",
       "      <td>675</td>\n",
       "      <td>1040</td>\n",
       "    </tr>\n",
       "    <tr>\n",
       "      <th>광주남부경찰서</th>\n",
       "      <td>기타</td>\n",
       "      <td>0</td>\n",
       "      <td>0</td>\n",
       "      <td>10</td>\n",
       "      <td>74</td>\n",
       "      <td>582</td>\n",
       "      <td>666</td>\n",
       "    </tr>\n",
       "    <tr>\n",
       "      <th>광주북부경찰서</th>\n",
       "      <td>발생건수</td>\n",
       "      <td>5</td>\n",
       "      <td>14</td>\n",
       "      <td>256</td>\n",
       "      <td>2570</td>\n",
       "      <td>2621</td>\n",
       "      <td>5466</td>\n",
       "    </tr>\n",
       "    <tr>\n",
       "      <th>광주북부경찰서</th>\n",
       "      <td>검거건수</td>\n",
       "      <td>5</td>\n",
       "      <td>18</td>\n",
       "      <td>212</td>\n",
       "      <td>1852</td>\n",
       "      <td>2319</td>\n",
       "      <td>4406</td>\n",
       "    </tr>\n",
       "    <tr>\n",
       "      <th>광주북부경찰서</th>\n",
       "      <td>검거인원</td>\n",
       "      <td>5</td>\n",
       "      <td>28</td>\n",
       "      <td>216</td>\n",
       "      <td>948</td>\n",
       "      <td>3168</td>\n",
       "      <td>4365</td>\n",
       "    </tr>\n",
       "    <tr>\n",
       "      <th>광주북부경찰서</th>\n",
       "      <td>구속</td>\n",
       "      <td>3</td>\n",
       "      <td>11</td>\n",
       "      <td>11</td>\n",
       "      <td>30</td>\n",
       "      <td>10</td>\n",
       "      <td>65</td>\n",
       "    </tr>\n",
       "    <tr>\n",
       "      <th>광주북부경찰서</th>\n",
       "      <td>불구속</td>\n",
       "      <td>0</td>\n",
       "      <td>12</td>\n",
       "      <td>153</td>\n",
       "      <td>770</td>\n",
       "      <td>1544</td>\n",
       "      <td>2479</td>\n",
       "    </tr>\n",
       "    <tr>\n",
       "      <th>광주북부경찰서</th>\n",
       "      <td>기타</td>\n",
       "      <td>2</td>\n",
       "      <td>5</td>\n",
       "      <td>52</td>\n",
       "      <td>148</td>\n",
       "      <td>1614</td>\n",
       "      <td>1821</td>\n",
       "    </tr>\n",
       "    <tr>\n",
       "      <th>광주광산경찰서</th>\n",
       "      <td>발생건수</td>\n",
       "      <td>4</td>\n",
       "      <td>12</td>\n",
       "      <td>160</td>\n",
       "      <td>1743</td>\n",
       "      <td>2253</td>\n",
       "      <td>4172</td>\n",
       "    </tr>\n",
       "    <tr>\n",
       "      <th>광주광산경찰서</th>\n",
       "      <td>검거건수</td>\n",
       "      <td>4</td>\n",
       "      <td>10</td>\n",
       "      <td>135</td>\n",
       "      <td>996</td>\n",
       "      <td>1922</td>\n",
       "      <td>3067</td>\n",
       "    </tr>\n",
       "    <tr>\n",
       "      <th>광주광산경찰서</th>\n",
       "      <td>검거인원</td>\n",
       "      <td>3</td>\n",
       "      <td>8</td>\n",
       "      <td>129</td>\n",
       "      <td>736</td>\n",
       "      <td>2585</td>\n",
       "      <td>3461</td>\n",
       "    </tr>\n",
       "    <tr>\n",
       "      <th>광주광산경찰서</th>\n",
       "      <td>구속</td>\n",
       "      <td>0</td>\n",
       "      <td>4</td>\n",
       "      <td>5</td>\n",
       "      <td>12</td>\n",
       "      <td>6</td>\n",
       "      <td>27</td>\n",
       "    </tr>\n",
       "    <tr>\n",
       "      <th>광주광산경찰서</th>\n",
       "      <td>불구속</td>\n",
       "      <td>0</td>\n",
       "      <td>4</td>\n",
       "      <td>81</td>\n",
       "      <td>639</td>\n",
       "      <td>1181</td>\n",
       "      <td>1905</td>\n",
       "    </tr>\n",
       "    <tr>\n",
       "      <th>광주광산경찰서</th>\n",
       "      <td>기타</td>\n",
       "      <td>3</td>\n",
       "      <td>0</td>\n",
       "      <td>43</td>\n",
       "      <td>85</td>\n",
       "      <td>1398</td>\n",
       "      <td>1529</td>\n",
       "    </tr>\n",
       "  </tbody>\n",
       "</table>\n",
       "</div>"
      ],
      "text/plain": [
       "            구분  살인  강도  강간·강제추행    절도     폭력     총계\n",
       "관서명                                                \n",
       "광주지방경찰청계  발생건수  18  44      750  8425   9593  18830\n",
       "광주지방경찰청계  검거건수  18  47      758  5409   8301  14533\n",
       "광주지방경찰청계  검거인원  17  66      776  3433  11774  16066\n",
       "광주지방경찰청계    구속   9  33       42   104     58    246\n",
       "광주지방경찰청계   불구속   1  26      511  2781   5618   8937\n",
       "광주지방경찰청계    기타   7   7      223   548   6098   6883\n",
       "광주동부경찰서   발생건수   3   5       92  1100   1155   2355\n",
       "광주동부경찰서   검거건수   4   6       86   583    970   1649\n",
       "광주동부경찰서   검거인원   4   7       98   447   1483   2039\n",
       "광주동부경찰서     구속   3   2        8    13     10     36\n",
       "광주동부경찰서    불구속   0   4       63   379    703   1149\n",
       "광주동부경찰서     기타   1   1       27    55    770    854\n",
       "광주서부경찰서   발생건수   5  10      172  2050   2483   4720\n",
       "광주서부경찰서   검거건수   4   8      153  1471   2124   3760\n",
       "광주서부경찰서   검거인원   4  15      167   876   3080   4142\n",
       "광주서부경찰서     구속   3  10        7    27     19     66\n",
       "광주서부경찰서    불구속   0   5       91   665   1366   2127\n",
       "광주서부경찰서     기타   1   0       69   184   1695   1949\n",
       "광주남부경찰서   발생건수   1   3       70   962   1081   2117\n",
       "광주남부경찰서   검거건수   1   3       53   506    941   1504\n",
       "광주남부경찰서   검거인원   1   3       52   418   1260   1734\n",
       "광주남부경찰서     구속   0   3        3    19      3     28\n",
       "광주남부경찰서    불구속   1   0       39   325    675   1040\n",
       "광주남부경찰서     기타   0   0       10    74    582    666\n",
       "광주북부경찰서   발생건수   5  14      256  2570   2621   5466\n",
       "광주북부경찰서   검거건수   5  18      212  1852   2319   4406\n",
       "광주북부경찰서   검거인원   5  28      216   948   3168   4365\n",
       "광주북부경찰서     구속   3  11       11    30     10     65\n",
       "광주북부경찰서    불구속   0  12      153   770   1544   2479\n",
       "광주북부경찰서     기타   2   5       52   148   1614   1821\n",
       "광주광산경찰서   발생건수   4  12      160  1743   2253   4172\n",
       "광주광산경찰서   검거건수   4  10      135   996   1922   3067\n",
       "광주광산경찰서   검거인원   3   8      129   736   2585   3461\n",
       "광주광산경찰서     구속   0   4        5    12      6     27\n",
       "광주광산경찰서    불구속   0   4       81   639   1181   1905\n",
       "광주광산경찰서     기타   3   0       43    85   1398   1529"
      ]
     },
     "execution_count": 665,
     "metadata": {},
     "output_type": "execute_result"
    }
   ],
   "source": [
    "df2015"
   ]
  },
  {
   "cell_type": "code",
   "execution_count": null,
   "id": "743412a5-8fe8-4030-b295-34500696ef83",
   "metadata": {},
   "outputs": [],
   "source": []
  },
  {
   "cell_type": "markdown",
   "id": "dad629d5-babc-4983-bc0e-de0b6416223c",
   "metadata": {},
   "source": [
    "4. 데이터 자르기: '구분' 컬럼의 '발생건수'의 '총계'만 가져오기"
   ]
  },
  {
   "cell_type": "code",
   "execution_count": 685,
   "id": "ced5481f-8f50-4ec7-93e2-e8b13cae9f3a",
   "metadata": {},
   "outputs": [
    {
     "data": {
      "text/plain": [
       "관서명\n",
       "광주지방경찰청계    13949\n",
       "광주동부경찰서      1799\n",
       "광주서부경찰서      3638\n",
       "광주남부경찰서      1547\n",
       "광주북부경찰서      3945\n",
       "광주광산경찰서      3020\n",
       "Name: 총계, dtype: int64"
      ]
     },
     "execution_count": 685,
     "metadata": {},
     "output_type": "execute_result"
    }
   ],
   "source": [
    "# 각 연도별로 발생건수의 총계 가져오기\n",
    "# 구분 컬럼 == '발생건수' 라는 조건에서 총계\n",
    "# 행의 범위: 조건식 (불리언 인덱싱)\n",
    "# 열의 범위: '총계'\n",
    "s15 = df2015.loc[df2015['구분'] == '발생건수', '총계']\n",
    "s16 = df2016.loc[df2016['구분'] == '발생건수', '총계']\n",
    "s17 = df2017.loc[df2017['구분'] == '발생건수', '총계']\n",
    "\n",
    "s17"
   ]
  },
  {
   "cell_type": "code",
   "execution_count": null,
   "id": "123fa0bc-35ef-41a5-b129-648b811e9bfa",
   "metadata": {},
   "outputs": [],
   "source": []
  },
  {
   "cell_type": "markdown",
   "id": "57904dee-6102-435b-bf85-cd711f034756",
   "metadata": {},
   "source": [
    "5. 전년대비 범죄 발생 횟수 증감율 계산\n",
    "   - 공식: 금년 - 작년 / 작년 * 100"
   ]
  },
  {
   "cell_type": "code",
   "execution_count": 687,
   "id": "6e7c5d1f-67a4-4f18-aac1-77b2b0faf9d2",
   "metadata": {},
   "outputs": [],
   "source": [
    "# 15년 - 15년 사이의 범죄 증감율\n",
    "s1516 = (s16 - s15) / s15 * 100\n",
    "\n",
    "# 16년 - 17년 사이의 범죄 증감율\n",
    "s1617 = (s17 - s16) / s16 * 100\n"
   ]
  },
  {
   "cell_type": "code",
   "execution_count": 689,
   "id": "e083e90d-e654-4aa4-8d93-b9aba1d08a56",
   "metadata": {},
   "outputs": [
    {
     "data": {
      "text/plain": [
       "관서명\n",
       "광주지방경찰청계   -18.130643\n",
       "광주동부경찰서    -12.186837\n",
       "광주서부경찰서    -17.542373\n",
       "광주남부경찰서    -11.903637\n",
       "광주북부경찰서    -24.112697\n",
       "광주광산경찰서    -17.473634\n",
       "Name: 총계, dtype: float64"
      ]
     },
     "execution_count": 689,
     "metadata": {},
     "output_type": "execute_result"
    }
   ],
   "source": [
    "s1516"
   ]
  },
  {
   "cell_type": "code",
   "execution_count": 691,
   "id": "761f5432-f5c6-4d3f-b211-3de0a8b1871a",
   "metadata": {},
   "outputs": [
    {
     "data": {
      "text/plain": [
       "관서명\n",
       "광주지방경찰청계    -9.516087\n",
       "광주동부경찰서    -13.007737\n",
       "광주서부경찰서     -6.526208\n",
       "광주남부경찰서    -17.050938\n",
       "광주북부경찰서     -4.893925\n",
       "광주광산경찰서    -12.285797\n",
       "Name: 총계, dtype: float64"
      ]
     },
     "execution_count": 691,
     "metadata": {},
     "output_type": "execute_result"
    }
   ],
   "source": [
    "s1617"
   ]
  },
  {
   "cell_type": "markdown",
   "id": "12e927fa-f5d2-4937-aed0-795b29c5277c",
   "metadata": {},
   "source": [
    "#### 변수들 정리\n",
    "- s15: 15년 총계\n",
    "- s16: 16년 총계\n",
    "- s17: 17년 총계\n",
    "- s1516: 15-16 증감율\n",
    "- s1617: 16-17 증감율"
   ]
  },
  {
   "cell_type": "code",
   "execution_count": null,
   "id": "6620a982-1929-4e39-b33f-263a8074a23d",
   "metadata": {},
   "outputs": [],
   "source": []
  },
  {
   "cell_type": "markdown",
   "id": "10fc7e6d-8fc8-42fa-9438-eacf349bb4b7",
   "metadata": {},
   "source": [
    "Series들로 하나의 DF 생성"
   ]
  },
  {
   "cell_type": "code",
   "execution_count": 695,
   "id": "64ebc7fe-f8bd-494d-bdef-7498bf8fc548",
   "metadata": {},
   "outputs": [],
   "source": [
    "# pd.concat([DF or Series들], axis = 0 or 1)\n",
    "# Series 나 DF 을 병합할 때 사용"
   ]
  },
  {
   "cell_type": "code",
   "execution_count": 699,
   "id": "8a202d66-e8f9-4a4f-9ac6-ed55c5305ac8",
   "metadata": {},
   "outputs": [
    {
     "data": {
      "text/html": [
       "<div>\n",
       "<style scoped>\n",
       "    .dataframe tbody tr th:only-of-type {\n",
       "        vertical-align: middle;\n",
       "    }\n",
       "\n",
       "    .dataframe tbody tr th {\n",
       "        vertical-align: top;\n",
       "    }\n",
       "\n",
       "    .dataframe thead th {\n",
       "        text-align: right;\n",
       "    }\n",
       "</style>\n",
       "<table border=\"1\" class=\"dataframe\">\n",
       "  <thead>\n",
       "    <tr style=\"text-align: right;\">\n",
       "      <th></th>\n",
       "      <th>총계</th>\n",
       "      <th>총계</th>\n",
       "    </tr>\n",
       "    <tr>\n",
       "      <th>관서명</th>\n",
       "      <th></th>\n",
       "      <th></th>\n",
       "    </tr>\n",
       "  </thead>\n",
       "  <tbody>\n",
       "    <tr>\n",
       "      <th>광주지방경찰청계</th>\n",
       "      <td>18830</td>\n",
       "      <td>15416</td>\n",
       "    </tr>\n",
       "    <tr>\n",
       "      <th>광주동부경찰서</th>\n",
       "      <td>2355</td>\n",
       "      <td>2068</td>\n",
       "    </tr>\n",
       "    <tr>\n",
       "      <th>광주서부경찰서</th>\n",
       "      <td>4720</td>\n",
       "      <td>3892</td>\n",
       "    </tr>\n",
       "    <tr>\n",
       "      <th>광주남부경찰서</th>\n",
       "      <td>2117</td>\n",
       "      <td>1865</td>\n",
       "    </tr>\n",
       "    <tr>\n",
       "      <th>광주북부경찰서</th>\n",
       "      <td>5466</td>\n",
       "      <td>4148</td>\n",
       "    </tr>\n",
       "    <tr>\n",
       "      <th>광주광산경찰서</th>\n",
       "      <td>4172</td>\n",
       "      <td>3443</td>\n",
       "    </tr>\n",
       "  </tbody>\n",
       "</table>\n",
       "</div>"
      ],
      "text/plain": [
       "             총계     총계\n",
       "관서명                   \n",
       "광주지방경찰청계  18830  15416\n",
       "광주동부경찰서    2355   2068\n",
       "광주서부경찰서    4720   3892\n",
       "광주남부경찰서    2117   1865\n",
       "광주북부경찰서    5466   4148\n",
       "광주광산경찰서    4172   3443"
      ]
     },
     "execution_count": 699,
     "metadata": {},
     "output_type": "execute_result"
    }
   ],
   "source": [
    "pd.concat([s15, s16], axis = 1)"
   ]
  },
  {
   "cell_type": "code",
   "execution_count": 703,
   "id": "547c7563-ef35-4711-9d51-1f5e44bb6525",
   "metadata": {},
   "outputs": [
    {
     "data": {
      "text/html": [
       "<div>\n",
       "<style scoped>\n",
       "    .dataframe tbody tr th:only-of-type {\n",
       "        vertical-align: middle;\n",
       "    }\n",
       "\n",
       "    .dataframe tbody tr th {\n",
       "        vertical-align: top;\n",
       "    }\n",
       "\n",
       "    .dataframe thead th {\n",
       "        text-align: right;\n",
       "    }\n",
       "</style>\n",
       "<table border=\"1\" class=\"dataframe\">\n",
       "  <thead>\n",
       "    <tr style=\"text-align: right;\">\n",
       "      <th></th>\n",
       "      <th>2015 총계</th>\n",
       "      <th>15-16 증감율</th>\n",
       "      <th>2016 총계</th>\n",
       "      <th>16-17 증감율</th>\n",
       "      <th>2017 총계</th>\n",
       "    </tr>\n",
       "    <tr>\n",
       "      <th>관서명</th>\n",
       "      <th></th>\n",
       "      <th></th>\n",
       "      <th></th>\n",
       "      <th></th>\n",
       "      <th></th>\n",
       "    </tr>\n",
       "  </thead>\n",
       "  <tbody>\n",
       "    <tr>\n",
       "      <th>광주지방경찰청계</th>\n",
       "      <td>18830</td>\n",
       "      <td>-18.130643</td>\n",
       "      <td>15416</td>\n",
       "      <td>-9.516087</td>\n",
       "      <td>13949</td>\n",
       "    </tr>\n",
       "    <tr>\n",
       "      <th>광주동부경찰서</th>\n",
       "      <td>2355</td>\n",
       "      <td>-12.186837</td>\n",
       "      <td>2068</td>\n",
       "      <td>-13.007737</td>\n",
       "      <td>1799</td>\n",
       "    </tr>\n",
       "    <tr>\n",
       "      <th>광주서부경찰서</th>\n",
       "      <td>4720</td>\n",
       "      <td>-17.542373</td>\n",
       "      <td>3892</td>\n",
       "      <td>-6.526208</td>\n",
       "      <td>3638</td>\n",
       "    </tr>\n",
       "    <tr>\n",
       "      <th>광주남부경찰서</th>\n",
       "      <td>2117</td>\n",
       "      <td>-11.903637</td>\n",
       "      <td>1865</td>\n",
       "      <td>-17.050938</td>\n",
       "      <td>1547</td>\n",
       "    </tr>\n",
       "    <tr>\n",
       "      <th>광주북부경찰서</th>\n",
       "      <td>5466</td>\n",
       "      <td>-24.112697</td>\n",
       "      <td>4148</td>\n",
       "      <td>-4.893925</td>\n",
       "      <td>3945</td>\n",
       "    </tr>\n",
       "    <tr>\n",
       "      <th>광주광산경찰서</th>\n",
       "      <td>4172</td>\n",
       "      <td>-17.473634</td>\n",
       "      <td>3443</td>\n",
       "      <td>-12.285797</td>\n",
       "      <td>3020</td>\n",
       "    </tr>\n",
       "  </tbody>\n",
       "</table>\n",
       "</div>"
      ],
      "text/plain": [
       "          2015 총계  15-16 증감율  2016 총계  16-17 증감율  2017 총계\n",
       "관서명                                                      \n",
       "광주지방경찰청계    18830 -18.130643    15416  -9.516087    13949\n",
       "광주동부경찰서      2355 -12.186837     2068 -13.007737     1799\n",
       "광주서부경찰서      4720 -17.542373     3892  -6.526208     3638\n",
       "광주남부경찰서      2117 -11.903637     1865 -17.050938     1547\n",
       "광주북부경찰서      5466 -24.112697     4148  -4.893925     3945\n",
       "광주광산경찰서      4172 -17.473634     3443 -12.285797     3020"
      ]
     },
     "execution_count": 703,
     "metadata": {},
     "output_type": "execute_result"
    }
   ],
   "source": [
    "total = pd.concat([s15, s1516, s16, s1617, s17], axis = 1)\n",
    "total.columns = ['2015 총계', '15-16 증감율', '2016 총계', '16-17 증감율', '2017 총계']\n",
    "total"
   ]
  },
  {
   "cell_type": "code",
   "execution_count": 705,
   "id": "50b93697-7573-41a0-aa35-512f5bcb5291",
   "metadata": {},
   "outputs": [
    {
     "data": {
      "text/html": [
       "<div>\n",
       "<style scoped>\n",
       "    .dataframe tbody tr th:only-of-type {\n",
       "        vertical-align: middle;\n",
       "    }\n",
       "\n",
       "    .dataframe tbody tr th {\n",
       "        vertical-align: top;\n",
       "    }\n",
       "\n",
       "    .dataframe thead th {\n",
       "        text-align: right;\n",
       "    }\n",
       "</style>\n",
       "<table border=\"1\" class=\"dataframe\">\n",
       "  <thead>\n",
       "    <tr style=\"text-align: right;\">\n",
       "      <th></th>\n",
       "      <th>2015 총계</th>\n",
       "      <th>15-16 증감율</th>\n",
       "      <th>2016 총계</th>\n",
       "      <th>16-17 증감율</th>\n",
       "      <th>2017 총계</th>\n",
       "    </tr>\n",
       "    <tr>\n",
       "      <th>관서명</th>\n",
       "      <th></th>\n",
       "      <th></th>\n",
       "      <th></th>\n",
       "      <th></th>\n",
       "      <th></th>\n",
       "    </tr>\n",
       "  </thead>\n",
       "  <tbody>\n",
       "    <tr>\n",
       "      <th>광주지방경찰청계</th>\n",
       "      <td>18830</td>\n",
       "      <td>-18.13</td>\n",
       "      <td>15416</td>\n",
       "      <td>-9.52</td>\n",
       "      <td>13949</td>\n",
       "    </tr>\n",
       "    <tr>\n",
       "      <th>광주동부경찰서</th>\n",
       "      <td>2355</td>\n",
       "      <td>-12.19</td>\n",
       "      <td>2068</td>\n",
       "      <td>-13.01</td>\n",
       "      <td>1799</td>\n",
       "    </tr>\n",
       "    <tr>\n",
       "      <th>광주서부경찰서</th>\n",
       "      <td>4720</td>\n",
       "      <td>-17.54</td>\n",
       "      <td>3892</td>\n",
       "      <td>-6.53</td>\n",
       "      <td>3638</td>\n",
       "    </tr>\n",
       "    <tr>\n",
       "      <th>광주남부경찰서</th>\n",
       "      <td>2117</td>\n",
       "      <td>-11.90</td>\n",
       "      <td>1865</td>\n",
       "      <td>-17.05</td>\n",
       "      <td>1547</td>\n",
       "    </tr>\n",
       "    <tr>\n",
       "      <th>광주북부경찰서</th>\n",
       "      <td>5466</td>\n",
       "      <td>-24.11</td>\n",
       "      <td>4148</td>\n",
       "      <td>-4.89</td>\n",
       "      <td>3945</td>\n",
       "    </tr>\n",
       "    <tr>\n",
       "      <th>광주광산경찰서</th>\n",
       "      <td>4172</td>\n",
       "      <td>-17.47</td>\n",
       "      <td>3443</td>\n",
       "      <td>-12.29</td>\n",
       "      <td>3020</td>\n",
       "    </tr>\n",
       "  </tbody>\n",
       "</table>\n",
       "</div>"
      ],
      "text/plain": [
       "          2015 총계  15-16 증감율  2016 총계  16-17 증감율  2017 총계\n",
       "관서명                                                      \n",
       "광주지방경찰청계    18830     -18.13    15416      -9.52    13949\n",
       "광주동부경찰서      2355     -12.19     2068     -13.01     1799\n",
       "광주서부경찰서      4720     -17.54     3892      -6.53     3638\n",
       "광주남부경찰서      2117     -11.90     1865     -17.05     1547\n",
       "광주북부경찰서      5466     -24.11     4148      -4.89     3945\n",
       "광주광산경찰서      4172     -17.47     3443     -12.29     3020"
      ]
     },
     "execution_count": 705,
     "metadata": {},
     "output_type": "execute_result"
    }
   ],
   "source": [
    "total.round(2)"
   ]
  },
  {
   "cell_type": "code",
   "execution_count": 711,
   "id": "e9b66fc6-2f52-434d-abb6-ac740659049c",
   "metadata": {},
   "outputs": [
    {
     "data": {
      "text/html": [
       "<style type=\"text/css\">\n",
       "</style>\n",
       "<table id=\"T_a22e2\">\n",
       "  <thead>\n",
       "    <tr>\n",
       "      <th class=\"blank level0\" >&nbsp;</th>\n",
       "      <th id=\"T_a22e2_level0_col0\" class=\"col_heading level0 col0\" >2015 총계</th>\n",
       "      <th id=\"T_a22e2_level0_col1\" class=\"col_heading level0 col1\" >15-16 증감율</th>\n",
       "      <th id=\"T_a22e2_level0_col2\" class=\"col_heading level0 col2\" >2016 총계</th>\n",
       "      <th id=\"T_a22e2_level0_col3\" class=\"col_heading level0 col3\" >16-17 증감율</th>\n",
       "      <th id=\"T_a22e2_level0_col4\" class=\"col_heading level0 col4\" >2017 총계</th>\n",
       "    </tr>\n",
       "    <tr>\n",
       "      <th class=\"index_name level0\" >관서명</th>\n",
       "      <th class=\"blank col0\" >&nbsp;</th>\n",
       "      <th class=\"blank col1\" >&nbsp;</th>\n",
       "      <th class=\"blank col2\" >&nbsp;</th>\n",
       "      <th class=\"blank col3\" >&nbsp;</th>\n",
       "      <th class=\"blank col4\" >&nbsp;</th>\n",
       "    </tr>\n",
       "  </thead>\n",
       "  <tbody>\n",
       "    <tr>\n",
       "      <th id=\"T_a22e2_level0_row0\" class=\"row_heading level0 row0\" >광주지방경찰청계</th>\n",
       "      <td id=\"T_a22e2_row0_col0\" class=\"data row0 col0\" >18830.00</td>\n",
       "      <td id=\"T_a22e2_row0_col1\" class=\"data row0 col1\" >-18.13</td>\n",
       "      <td id=\"T_a22e2_row0_col2\" class=\"data row0 col2\" >15416.00</td>\n",
       "      <td id=\"T_a22e2_row0_col3\" class=\"data row0 col3\" >-9.52</td>\n",
       "      <td id=\"T_a22e2_row0_col4\" class=\"data row0 col4\" >13949.00</td>\n",
       "    </tr>\n",
       "    <tr>\n",
       "      <th id=\"T_a22e2_level0_row1\" class=\"row_heading level0 row1\" >광주동부경찰서</th>\n",
       "      <td id=\"T_a22e2_row1_col0\" class=\"data row1 col0\" >2355.00</td>\n",
       "      <td id=\"T_a22e2_row1_col1\" class=\"data row1 col1\" >-12.19</td>\n",
       "      <td id=\"T_a22e2_row1_col2\" class=\"data row1 col2\" >2068.00</td>\n",
       "      <td id=\"T_a22e2_row1_col3\" class=\"data row1 col3\" >-13.01</td>\n",
       "      <td id=\"T_a22e2_row1_col4\" class=\"data row1 col4\" >1799.00</td>\n",
       "    </tr>\n",
       "    <tr>\n",
       "      <th id=\"T_a22e2_level0_row2\" class=\"row_heading level0 row2\" >광주서부경찰서</th>\n",
       "      <td id=\"T_a22e2_row2_col0\" class=\"data row2 col0\" >4720.00</td>\n",
       "      <td id=\"T_a22e2_row2_col1\" class=\"data row2 col1\" >-17.54</td>\n",
       "      <td id=\"T_a22e2_row2_col2\" class=\"data row2 col2\" >3892.00</td>\n",
       "      <td id=\"T_a22e2_row2_col3\" class=\"data row2 col3\" >-6.53</td>\n",
       "      <td id=\"T_a22e2_row2_col4\" class=\"data row2 col4\" >3638.00</td>\n",
       "    </tr>\n",
       "    <tr>\n",
       "      <th id=\"T_a22e2_level0_row3\" class=\"row_heading level0 row3\" >광주남부경찰서</th>\n",
       "      <td id=\"T_a22e2_row3_col0\" class=\"data row3 col0\" >2117.00</td>\n",
       "      <td id=\"T_a22e2_row3_col1\" class=\"data row3 col1\" >-11.90</td>\n",
       "      <td id=\"T_a22e2_row3_col2\" class=\"data row3 col2\" >1865.00</td>\n",
       "      <td id=\"T_a22e2_row3_col3\" class=\"data row3 col3\" >-17.05</td>\n",
       "      <td id=\"T_a22e2_row3_col4\" class=\"data row3 col4\" >1547.00</td>\n",
       "    </tr>\n",
       "    <tr>\n",
       "      <th id=\"T_a22e2_level0_row4\" class=\"row_heading level0 row4\" >광주북부경찰서</th>\n",
       "      <td id=\"T_a22e2_row4_col0\" class=\"data row4 col0\" >5466.00</td>\n",
       "      <td id=\"T_a22e2_row4_col1\" class=\"data row4 col1\" >-24.11</td>\n",
       "      <td id=\"T_a22e2_row4_col2\" class=\"data row4 col2\" >4148.00</td>\n",
       "      <td id=\"T_a22e2_row4_col3\" class=\"data row4 col3\" >-4.89</td>\n",
       "      <td id=\"T_a22e2_row4_col4\" class=\"data row4 col4\" >3945.00</td>\n",
       "    </tr>\n",
       "    <tr>\n",
       "      <th id=\"T_a22e2_level0_row5\" class=\"row_heading level0 row5\" >광주광산경찰서</th>\n",
       "      <td id=\"T_a22e2_row5_col0\" class=\"data row5 col0\" >4172.00</td>\n",
       "      <td id=\"T_a22e2_row5_col1\" class=\"data row5 col1\" >-17.47</td>\n",
       "      <td id=\"T_a22e2_row5_col2\" class=\"data row5 col2\" >3443.00</td>\n",
       "      <td id=\"T_a22e2_row5_col3\" class=\"data row5 col3\" >-12.29</td>\n",
       "      <td id=\"T_a22e2_row5_col4\" class=\"data row5 col4\" >3020.00</td>\n",
       "    </tr>\n",
       "  </tbody>\n",
       "</table>\n"
      ],
      "text/plain": [
       "<pandas.io.formats.style.Styler at 0x179f46f90>"
      ]
     },
     "execution_count": 711,
     "metadata": {},
     "output_type": "execute_result"
    }
   ],
   "source": [
    "total.style.format('{:.2f}')"
   ]
  },
  {
   "cell_type": "code",
   "execution_count": 713,
   "id": "ffad8efb-04f9-4a87-846d-55adc1443266",
   "metadata": {},
   "outputs": [
    {
     "data": {
      "text/html": [
       "<style type=\"text/css\">\n",
       "</style>\n",
       "<table id=\"T_8d1a8\">\n",
       "  <thead>\n",
       "    <tr>\n",
       "      <th class=\"blank level0\" >&nbsp;</th>\n",
       "      <th id=\"T_8d1a8_level0_col0\" class=\"col_heading level0 col0\" >2015 총계</th>\n",
       "      <th id=\"T_8d1a8_level0_col1\" class=\"col_heading level0 col1\" >15-16 증감율</th>\n",
       "      <th id=\"T_8d1a8_level0_col2\" class=\"col_heading level0 col2\" >2016 총계</th>\n",
       "      <th id=\"T_8d1a8_level0_col3\" class=\"col_heading level0 col3\" >16-17 증감율</th>\n",
       "      <th id=\"T_8d1a8_level0_col4\" class=\"col_heading level0 col4\" >2017 총계</th>\n",
       "    </tr>\n",
       "    <tr>\n",
       "      <th class=\"index_name level0\" >관서명</th>\n",
       "      <th class=\"blank col0\" >&nbsp;</th>\n",
       "      <th class=\"blank col1\" >&nbsp;</th>\n",
       "      <th class=\"blank col2\" >&nbsp;</th>\n",
       "      <th class=\"blank col3\" >&nbsp;</th>\n",
       "      <th class=\"blank col4\" >&nbsp;</th>\n",
       "    </tr>\n",
       "  </thead>\n",
       "  <tbody>\n",
       "    <tr>\n",
       "      <th id=\"T_8d1a8_level0_row0\" class=\"row_heading level0 row0\" >광주지방경찰청계</th>\n",
       "      <td id=\"T_8d1a8_row0_col0\" class=\"data row0 col0\" >18830%</td>\n",
       "      <td id=\"T_8d1a8_row0_col1\" class=\"data row0 col1\" >-18.130642591609135%</td>\n",
       "      <td id=\"T_8d1a8_row0_col2\" class=\"data row0 col2\" >15416%</td>\n",
       "      <td id=\"T_8d1a8_row0_col3\" class=\"data row0 col3\" >-9.516087182148416%</td>\n",
       "      <td id=\"T_8d1a8_row0_col4\" class=\"data row0 col4\" >13949%</td>\n",
       "    </tr>\n",
       "    <tr>\n",
       "      <th id=\"T_8d1a8_level0_row1\" class=\"row_heading level0 row1\" >광주동부경찰서</th>\n",
       "      <td id=\"T_8d1a8_row1_col0\" class=\"data row1 col0\" >2355%</td>\n",
       "      <td id=\"T_8d1a8_row1_col1\" class=\"data row1 col1\" >-12.186836518046709%</td>\n",
       "      <td id=\"T_8d1a8_row1_col2\" class=\"data row1 col2\" >2068%</td>\n",
       "      <td id=\"T_8d1a8_row1_col3\" class=\"data row1 col3\" >-13.007736943907155%</td>\n",
       "      <td id=\"T_8d1a8_row1_col4\" class=\"data row1 col4\" >1799%</td>\n",
       "    </tr>\n",
       "    <tr>\n",
       "      <th id=\"T_8d1a8_level0_row2\" class=\"row_heading level0 row2\" >광주서부경찰서</th>\n",
       "      <td id=\"T_8d1a8_row2_col0\" class=\"data row2 col0\" >4720%</td>\n",
       "      <td id=\"T_8d1a8_row2_col1\" class=\"data row2 col1\" >-17.542372881355934%</td>\n",
       "      <td id=\"T_8d1a8_row2_col2\" class=\"data row2 col2\" >3892%</td>\n",
       "      <td id=\"T_8d1a8_row2_col3\" class=\"data row2 col3\" >-6.526207605344296%</td>\n",
       "      <td id=\"T_8d1a8_row2_col4\" class=\"data row2 col4\" >3638%</td>\n",
       "    </tr>\n",
       "    <tr>\n",
       "      <th id=\"T_8d1a8_level0_row3\" class=\"row_heading level0 row3\" >광주남부경찰서</th>\n",
       "      <td id=\"T_8d1a8_row3_col0\" class=\"data row3 col0\" >2117%</td>\n",
       "      <td id=\"T_8d1a8_row3_col1\" class=\"data row3 col1\" >-11.903637222484647%</td>\n",
       "      <td id=\"T_8d1a8_row3_col2\" class=\"data row3 col2\" >1865%</td>\n",
       "      <td id=\"T_8d1a8_row3_col3\" class=\"data row3 col3\" >-17.050938337801608%</td>\n",
       "      <td id=\"T_8d1a8_row3_col4\" class=\"data row3 col4\" >1547%</td>\n",
       "    </tr>\n",
       "    <tr>\n",
       "      <th id=\"T_8d1a8_level0_row4\" class=\"row_heading level0 row4\" >광주북부경찰서</th>\n",
       "      <td id=\"T_8d1a8_row4_col0\" class=\"data row4 col0\" >5466%</td>\n",
       "      <td id=\"T_8d1a8_row4_col1\" class=\"data row4 col1\" >-24.11269667032565%</td>\n",
       "      <td id=\"T_8d1a8_row4_col2\" class=\"data row4 col2\" >4148%</td>\n",
       "      <td id=\"T_8d1a8_row4_col3\" class=\"data row4 col3\" >-4.893924783027965%</td>\n",
       "      <td id=\"T_8d1a8_row4_col4\" class=\"data row4 col4\" >3945%</td>\n",
       "    </tr>\n",
       "    <tr>\n",
       "      <th id=\"T_8d1a8_level0_row5\" class=\"row_heading level0 row5\" >광주광산경찰서</th>\n",
       "      <td id=\"T_8d1a8_row5_col0\" class=\"data row5 col0\" >4172%</td>\n",
       "      <td id=\"T_8d1a8_row5_col1\" class=\"data row5 col1\" >-17.473633748801536%</td>\n",
       "      <td id=\"T_8d1a8_row5_col2\" class=\"data row5 col2\" >3443%</td>\n",
       "      <td id=\"T_8d1a8_row5_col3\" class=\"data row5 col3\" >-12.28579726982283%</td>\n",
       "      <td id=\"T_8d1a8_row5_col4\" class=\"data row5 col4\" >3020%</td>\n",
       "    </tr>\n",
       "  </tbody>\n",
       "</table>\n"
      ],
      "text/plain": [
       "<pandas.io.formats.style.Styler at 0x17baf5b80>"
      ]
     },
     "execution_count": 713,
     "metadata": {},
     "output_type": "execute_result"
    }
   ],
   "source": [
    "# % 기호 추가\n",
    "total.style.format('{:}%')"
   ]
  },
  {
   "cell_type": "code",
   "execution_count": 715,
   "id": "54ae048b-e34b-4ce2-b8dc-ace26cba3e05",
   "metadata": {},
   "outputs": [
    {
     "data": {
      "text/html": [
       "<style type=\"text/css\">\n",
       "</style>\n",
       "<table id=\"T_71030\">\n",
       "  <thead>\n",
       "    <tr>\n",
       "      <th class=\"blank level0\" >&nbsp;</th>\n",
       "      <th id=\"T_71030_level0_col0\" class=\"col_heading level0 col0\" >2015 총계</th>\n",
       "      <th id=\"T_71030_level0_col1\" class=\"col_heading level0 col1\" >15-16 증감율</th>\n",
       "      <th id=\"T_71030_level0_col2\" class=\"col_heading level0 col2\" >2016 총계</th>\n",
       "      <th id=\"T_71030_level0_col3\" class=\"col_heading level0 col3\" >16-17 증감율</th>\n",
       "      <th id=\"T_71030_level0_col4\" class=\"col_heading level0 col4\" >2017 총계</th>\n",
       "    </tr>\n",
       "    <tr>\n",
       "      <th class=\"index_name level0\" >관서명</th>\n",
       "      <th class=\"blank col0\" >&nbsp;</th>\n",
       "      <th class=\"blank col1\" >&nbsp;</th>\n",
       "      <th class=\"blank col2\" >&nbsp;</th>\n",
       "      <th class=\"blank col3\" >&nbsp;</th>\n",
       "      <th class=\"blank col4\" >&nbsp;</th>\n",
       "    </tr>\n",
       "  </thead>\n",
       "  <tbody>\n",
       "    <tr>\n",
       "      <th id=\"T_71030_level0_row0\" class=\"row_heading level0 row0\" >광주지방경찰청계</th>\n",
       "      <td id=\"T_71030_row0_col0\" class=\"data row0 col0\" >18830.00%</td>\n",
       "      <td id=\"T_71030_row0_col1\" class=\"data row0 col1\" >-18.13%</td>\n",
       "      <td id=\"T_71030_row0_col2\" class=\"data row0 col2\" >15416.00%</td>\n",
       "      <td id=\"T_71030_row0_col3\" class=\"data row0 col3\" >-9.52%</td>\n",
       "      <td id=\"T_71030_row0_col4\" class=\"data row0 col4\" >13949.00%</td>\n",
       "    </tr>\n",
       "    <tr>\n",
       "      <th id=\"T_71030_level0_row1\" class=\"row_heading level0 row1\" >광주동부경찰서</th>\n",
       "      <td id=\"T_71030_row1_col0\" class=\"data row1 col0\" >2355.00%</td>\n",
       "      <td id=\"T_71030_row1_col1\" class=\"data row1 col1\" >-12.19%</td>\n",
       "      <td id=\"T_71030_row1_col2\" class=\"data row1 col2\" >2068.00%</td>\n",
       "      <td id=\"T_71030_row1_col3\" class=\"data row1 col3\" >-13.01%</td>\n",
       "      <td id=\"T_71030_row1_col4\" class=\"data row1 col4\" >1799.00%</td>\n",
       "    </tr>\n",
       "    <tr>\n",
       "      <th id=\"T_71030_level0_row2\" class=\"row_heading level0 row2\" >광주서부경찰서</th>\n",
       "      <td id=\"T_71030_row2_col0\" class=\"data row2 col0\" >4720.00%</td>\n",
       "      <td id=\"T_71030_row2_col1\" class=\"data row2 col1\" >-17.54%</td>\n",
       "      <td id=\"T_71030_row2_col2\" class=\"data row2 col2\" >3892.00%</td>\n",
       "      <td id=\"T_71030_row2_col3\" class=\"data row2 col3\" >-6.53%</td>\n",
       "      <td id=\"T_71030_row2_col4\" class=\"data row2 col4\" >3638.00%</td>\n",
       "    </tr>\n",
       "    <tr>\n",
       "      <th id=\"T_71030_level0_row3\" class=\"row_heading level0 row3\" >광주남부경찰서</th>\n",
       "      <td id=\"T_71030_row3_col0\" class=\"data row3 col0\" >2117.00%</td>\n",
       "      <td id=\"T_71030_row3_col1\" class=\"data row3 col1\" >-11.90%</td>\n",
       "      <td id=\"T_71030_row3_col2\" class=\"data row3 col2\" >1865.00%</td>\n",
       "      <td id=\"T_71030_row3_col3\" class=\"data row3 col3\" >-17.05%</td>\n",
       "      <td id=\"T_71030_row3_col4\" class=\"data row3 col4\" >1547.00%</td>\n",
       "    </tr>\n",
       "    <tr>\n",
       "      <th id=\"T_71030_level0_row4\" class=\"row_heading level0 row4\" >광주북부경찰서</th>\n",
       "      <td id=\"T_71030_row4_col0\" class=\"data row4 col0\" >5466.00%</td>\n",
       "      <td id=\"T_71030_row4_col1\" class=\"data row4 col1\" >-24.11%</td>\n",
       "      <td id=\"T_71030_row4_col2\" class=\"data row4 col2\" >4148.00%</td>\n",
       "      <td id=\"T_71030_row4_col3\" class=\"data row4 col3\" >-4.89%</td>\n",
       "      <td id=\"T_71030_row4_col4\" class=\"data row4 col4\" >3945.00%</td>\n",
       "    </tr>\n",
       "    <tr>\n",
       "      <th id=\"T_71030_level0_row5\" class=\"row_heading level0 row5\" >광주광산경찰서</th>\n",
       "      <td id=\"T_71030_row5_col0\" class=\"data row5 col0\" >4172.00%</td>\n",
       "      <td id=\"T_71030_row5_col1\" class=\"data row5 col1\" >-17.47%</td>\n",
       "      <td id=\"T_71030_row5_col2\" class=\"data row5 col2\" >3443.00%</td>\n",
       "      <td id=\"T_71030_row5_col3\" class=\"data row5 col3\" >-12.29%</td>\n",
       "      <td id=\"T_71030_row5_col4\" class=\"data row5 col4\" >3020.00%</td>\n",
       "    </tr>\n",
       "  </tbody>\n",
       "</table>\n"
      ],
      "text/plain": [
       "<pandas.io.formats.style.Styler at 0x17bb34e90>"
      ]
     },
     "execution_count": 715,
     "metadata": {},
     "output_type": "execute_result"
    }
   ],
   "source": [
    "# 소수점 2자리, % 기호\n",
    "total.style.format('{:.2f}%')"
   ]
  },
  {
   "cell_type": "code",
   "execution_count": 719,
   "id": "71e33ae6-d13a-45a3-b2a9-566899768580",
   "metadata": {},
   "outputs": [
    {
     "data": {
      "text/html": [
       "<style type=\"text/css\">\n",
       "</style>\n",
       "<table id=\"T_a92fa\">\n",
       "  <thead>\n",
       "    <tr>\n",
       "      <th class=\"blank level0\" >&nbsp;</th>\n",
       "      <th id=\"T_a92fa_level0_col0\" class=\"col_heading level0 col0\" >2015 총계</th>\n",
       "      <th id=\"T_a92fa_level0_col1\" class=\"col_heading level0 col1\" >15-16 증감율</th>\n",
       "      <th id=\"T_a92fa_level0_col2\" class=\"col_heading level0 col2\" >2016 총계</th>\n",
       "      <th id=\"T_a92fa_level0_col3\" class=\"col_heading level0 col3\" >16-17 증감율</th>\n",
       "      <th id=\"T_a92fa_level0_col4\" class=\"col_heading level0 col4\" >2017 총계</th>\n",
       "    </tr>\n",
       "    <tr>\n",
       "      <th class=\"index_name level0\" >관서명</th>\n",
       "      <th class=\"blank col0\" >&nbsp;</th>\n",
       "      <th class=\"blank col1\" >&nbsp;</th>\n",
       "      <th class=\"blank col2\" >&nbsp;</th>\n",
       "      <th class=\"blank col3\" >&nbsp;</th>\n",
       "      <th class=\"blank col4\" >&nbsp;</th>\n",
       "    </tr>\n",
       "  </thead>\n",
       "  <tbody>\n",
       "    <tr>\n",
       "      <th id=\"T_a92fa_level0_row0\" class=\"row_heading level0 row0\" >광주지방경찰청계</th>\n",
       "      <td id=\"T_a92fa_row0_col0\" class=\"data row0 col0\" >18830</td>\n",
       "      <td id=\"T_a92fa_row0_col1\" class=\"data row0 col1\" >-18.13%</td>\n",
       "      <td id=\"T_a92fa_row0_col2\" class=\"data row0 col2\" >15416</td>\n",
       "      <td id=\"T_a92fa_row0_col3\" class=\"data row0 col3\" >-9.52%</td>\n",
       "      <td id=\"T_a92fa_row0_col4\" class=\"data row0 col4\" >13949</td>\n",
       "    </tr>\n",
       "    <tr>\n",
       "      <th id=\"T_a92fa_level0_row1\" class=\"row_heading level0 row1\" >광주동부경찰서</th>\n",
       "      <td id=\"T_a92fa_row1_col0\" class=\"data row1 col0\" >2355</td>\n",
       "      <td id=\"T_a92fa_row1_col1\" class=\"data row1 col1\" >-12.19%</td>\n",
       "      <td id=\"T_a92fa_row1_col2\" class=\"data row1 col2\" >2068</td>\n",
       "      <td id=\"T_a92fa_row1_col3\" class=\"data row1 col3\" >-13.01%</td>\n",
       "      <td id=\"T_a92fa_row1_col4\" class=\"data row1 col4\" >1799</td>\n",
       "    </tr>\n",
       "    <tr>\n",
       "      <th id=\"T_a92fa_level0_row2\" class=\"row_heading level0 row2\" >광주서부경찰서</th>\n",
       "      <td id=\"T_a92fa_row2_col0\" class=\"data row2 col0\" >4720</td>\n",
       "      <td id=\"T_a92fa_row2_col1\" class=\"data row2 col1\" >-17.54%</td>\n",
       "      <td id=\"T_a92fa_row2_col2\" class=\"data row2 col2\" >3892</td>\n",
       "      <td id=\"T_a92fa_row2_col3\" class=\"data row2 col3\" >-6.53%</td>\n",
       "      <td id=\"T_a92fa_row2_col4\" class=\"data row2 col4\" >3638</td>\n",
       "    </tr>\n",
       "    <tr>\n",
       "      <th id=\"T_a92fa_level0_row3\" class=\"row_heading level0 row3\" >광주남부경찰서</th>\n",
       "      <td id=\"T_a92fa_row3_col0\" class=\"data row3 col0\" >2117</td>\n",
       "      <td id=\"T_a92fa_row3_col1\" class=\"data row3 col1\" >-11.90%</td>\n",
       "      <td id=\"T_a92fa_row3_col2\" class=\"data row3 col2\" >1865</td>\n",
       "      <td id=\"T_a92fa_row3_col3\" class=\"data row3 col3\" >-17.05%</td>\n",
       "      <td id=\"T_a92fa_row3_col4\" class=\"data row3 col4\" >1547</td>\n",
       "    </tr>\n",
       "    <tr>\n",
       "      <th id=\"T_a92fa_level0_row4\" class=\"row_heading level0 row4\" >광주북부경찰서</th>\n",
       "      <td id=\"T_a92fa_row4_col0\" class=\"data row4 col0\" >5466</td>\n",
       "      <td id=\"T_a92fa_row4_col1\" class=\"data row4 col1\" >-24.11%</td>\n",
       "      <td id=\"T_a92fa_row4_col2\" class=\"data row4 col2\" >4148</td>\n",
       "      <td id=\"T_a92fa_row4_col3\" class=\"data row4 col3\" >-4.89%</td>\n",
       "      <td id=\"T_a92fa_row4_col4\" class=\"data row4 col4\" >3945</td>\n",
       "    </tr>\n",
       "    <tr>\n",
       "      <th id=\"T_a92fa_level0_row5\" class=\"row_heading level0 row5\" >광주광산경찰서</th>\n",
       "      <td id=\"T_a92fa_row5_col0\" class=\"data row5 col0\" >4172</td>\n",
       "      <td id=\"T_a92fa_row5_col1\" class=\"data row5 col1\" >-17.47%</td>\n",
       "      <td id=\"T_a92fa_row5_col2\" class=\"data row5 col2\" >3443</td>\n",
       "      <td id=\"T_a92fa_row5_col3\" class=\"data row5 col3\" >-12.29%</td>\n",
       "      <td id=\"T_a92fa_row5_col4\" class=\"data row5 col4\" >3020</td>\n",
       "    </tr>\n",
       "  </tbody>\n",
       "</table>\n"
      ],
      "text/plain": [
       "<pandas.io.formats.style.Styler at 0x17bb37b30>"
      ]
     },
     "execution_count": 719,
     "metadata": {},
     "output_type": "execute_result"
    }
   ],
   "source": [
    "# 소수점 2자리, % 기호 딕셔너리 형태로\n",
    "total.style.format({\n",
    "    '15-16 증감율': '{:.2f}%',\n",
    "    '16-17 증감율': '{:.2f}%'\n",
    "})"
   ]
  },
  {
   "cell_type": "code",
   "execution_count": null,
   "id": "1eeff0a2-c858-41d5-b91d-1af70897f902",
   "metadata": {},
   "outputs": [],
   "source": []
  },
  {
   "cell_type": "code",
   "execution_count": null,
   "id": "4fa72e7e-0b7d-4590-9756-ce350f8f7fb5",
   "metadata": {},
   "outputs": [],
   "source": []
  },
  {
   "cell_type": "code",
   "execution_count": null,
   "id": "34f70f98-0a7f-4075-825c-3ca8ede9ae9c",
   "metadata": {},
   "outputs": [],
   "source": []
  },
  {
   "cell_type": "code",
   "execution_count": null,
   "id": "abd85bc7-af66-49e6-a9be-b755ae1c088d",
   "metadata": {},
   "outputs": [],
   "source": []
  },
  {
   "cell_type": "code",
   "execution_count": null,
   "id": "9073fe43-2fb2-47a5-aa4f-f8dabf28196b",
   "metadata": {},
   "outputs": [],
   "source": []
  },
  {
   "cell_type": "code",
   "execution_count": null,
   "id": "61c994c1-04ba-4c4f-bf52-2d246a29a67a",
   "metadata": {},
   "outputs": [],
   "source": []
  },
  {
   "cell_type": "code",
   "execution_count": null,
   "id": "21b9193c-854d-45e5-8b2f-3a1a4ebc0439",
   "metadata": {},
   "outputs": [],
   "source": []
  }
 ],
 "metadata": {
  "kernelspec": {
   "display_name": "Python [conda env:base] *",
   "language": "python",
   "name": "conda-base-py"
  },
  "language_info": {
   "codemirror_mode": {
    "name": "ipython",
    "version": 3
   },
   "file_extension": ".py",
   "mimetype": "text/x-python",
   "name": "python",
   "nbconvert_exporter": "python",
   "pygments_lexer": "ipython3",
   "version": "3.12.7"
  }
 },
 "nbformat": 4,
 "nbformat_minor": 5
}
