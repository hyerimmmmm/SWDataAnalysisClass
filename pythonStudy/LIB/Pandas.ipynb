{
 "cells": [
  {
   "cell_type": "markdown",
   "id": "93a330a6-1b70-4ce4-937e-5df465555647",
   "metadata": {},
   "source": [
    "### Series: 1차원 데이터 자료 형식\n",
    "- 인덱스 + 값으로 구성"
   ]
  },
  {
   "cell_type": "raw",
   "id": "529fce1a-186b-42f7-b0df-1241c9b8c40d",
   "metadata": {},
   "source": [
    "Series 만들기\n",
    "- 각 도시들의 인구수를 Series로 만들어보자"
   ]
  },
  {
   "cell_type": "code",
   "execution_count": 8,
   "id": "4395cc61-be01-442a-8ec9-496e63316138",
   "metadata": {},
   "outputs": [],
   "source": [
    "import pandas as pd"
   ]
  },
  {
   "cell_type": "code",
   "execution_count": 12,
   "id": "fc912cdd-1042-48a4-91e8-4858bdfe03dc",
   "metadata": {},
   "outputs": [
    {
     "data": {
      "text/plain": [
       "0    9901232\n",
       "1    3441423\n",
       "2    2891323\n",
       "3    2462123\n",
       "dtype: int64"
      ]
     },
     "execution_count": 12,
     "metadata": {},
     "output_type": "execute_result"
    }
   ],
   "source": [
    "# Series 만들기\n",
    "# Pandas의 Series 함수 사용\n",
    "\n",
    "pop = pd.Series([9901232, 3441423, 2891323, 2462123])\n",
    "pop"
   ]
  },
  {
   "cell_type": "code",
   "execution_count": 18,
   "id": "d2d583c8-3db2-4a9e-a898-0a4c60bd49e4",
   "metadata": {},
   "outputs": [
    {
     "data": {
      "text/plain": [
       "서울    9901232\n",
       "부산    3441423\n",
       "인천    2891323\n",
       "대구    2462123\n",
       "dtype: int64"
      ]
     },
     "execution_count": 18,
     "metadata": {},
     "output_type": "execute_result"
    }
   ],
   "source": [
    "# 인덱스 각각에 이름을 부여\n",
    "# Series.index = [값, 값, ...]\n",
    "\n",
    "pop.index = ['서울', '부산', '인천', '대구']\n",
    "pop"
   ]
  },
  {
   "cell_type": "code",
   "execution_count": 24,
   "id": "a8eaf3fc-7e36-4e0a-97d1-a5a3dde1ea10",
   "metadata": {},
   "outputs": [
    {
     "data": {
      "text/plain": [
       "써울    9901232\n",
       "부산    3441423\n",
       "인천    2891323\n",
       "대구    2462123\n",
       "dtype: int64"
      ]
     },
     "execution_count": 24,
     "metadata": {},
     "output_type": "execute_result"
    }
   ],
   "source": [
    "# 이름을 재설정\n",
    "# Series.rename({기존값:바꿀값})\n",
    "\n",
    "pop.rename({'서울':'써울'})\n"
   ]
  },
  {
   "cell_type": "code",
   "execution_count": 30,
   "id": "d8720864-c449-4f57-b451-3020e54d15e1",
   "metadata": {},
   "outputs": [
    {
     "data": {
      "text/plain": [
       "서울    9901232\n",
       "부산    3441423\n",
       "인천    2891323\n",
       "대구    2462123\n",
       "dtype: int64"
      ]
     },
     "execution_count": 30,
     "metadata": {},
     "output_type": "execute_result"
    }
   ],
   "source": [
    "# Series의 인덱스 이름을 부여해서 만들기\n",
    "\n",
    "pop = pd.Series([9901232, 3441423, 2891323, 2462123],\n",
    "               index = ['서울', '부산', '인천', '대구']\n",
    "               )\n",
    "\n",
    "pop"
   ]
  },
  {
   "cell_type": "code",
   "execution_count": 34,
   "id": "325e0d13-9e9b-4758-b8a5-bbf92d8fc089",
   "metadata": {},
   "outputs": [
    {
     "data": {
      "text/plain": [
       "서울    9901232\n",
       "부산    3441423\n",
       "인천    2891323\n",
       "대구    2462123\n",
       "dtype: int64"
      ]
     },
     "execution_count": 34,
     "metadata": {},
     "output_type": "execute_result"
    }
   ],
   "source": [
    "# 딕셔너리로 Series 생성\n",
    "# 딕셔너리의 키값이 인덱스의 이름으로 들어감\n",
    "pop = pd.Series({'서울' : 9901232, '부산': 3441423, '인천': 2891323, '대구': 2462123})\n",
    "pop"
   ]
  },
  {
   "cell_type": "code",
   "execution_count": 38,
   "id": "2b7603f2-675d-49b4-8959-651a87fd1c5d",
   "metadata": {},
   "outputs": [
    {
     "data": {
      "text/plain": [
       "서울    9901232\n",
       "부산    3441423\n",
       "인천    2891323\n",
       "대구    2462123\n",
       "Name: 인구수, dtype: int64"
      ]
     },
     "execution_count": 38,
     "metadata": {},
     "output_type": "execute_result"
    }
   ],
   "source": [
    "# Series에 이름을 부여하기\n",
    "\n",
    "pop.name = '인구수'\n",
    "pop"
   ]
  },
  {
   "cell_type": "code",
   "execution_count": 40,
   "id": "1e1f4fd8-ff31-4162-9202-cc4c0d0ac1e5",
   "metadata": {},
   "outputs": [
    {
     "data": {
      "text/plain": [
       "도시\n",
       "서울    9901232\n",
       "부산    3441423\n",
       "인천    2891323\n",
       "대구    2462123\n",
       "Name: 인구수, dtype: int64"
      ]
     },
     "execution_count": 40,
     "metadata": {},
     "output_type": "execute_result"
    }
   ],
   "source": [
    "# Series의 인덱스 전체(그룹)에 이름을 부여하기\n",
    "\n",
    "pop.index.name = '도시'\n",
    "pop"
   ]
  },
  {
   "cell_type": "code",
   "execution_count": null,
   "id": "23610a2b-63bd-4293-9952-5c536ff1aad6",
   "metadata": {},
   "outputs": [],
   "source": []
  },
  {
   "cell_type": "markdown",
   "id": "171645e9-1d26-4d91-ac29-6765bbde48c5",
   "metadata": {},
   "source": [
    "### Series의 데이터 확인 (속성 확인)"
   ]
  },
  {
   "cell_type": "code",
   "execution_count": 43,
   "id": "d602f5dd-89f0-41a2-916c-933a7efad521",
   "metadata": {},
   "outputs": [
    {
     "data": {
      "text/plain": [
       "array([9901232, 3441423, 2891323, 2462123])"
      ]
     },
     "execution_count": 43,
     "metadata": {},
     "output_type": "execute_result"
    }
   ],
   "source": [
    "# Series의 값들 확인\n",
    "# Series.values\n",
    "\n",
    "pop.values"
   ]
  },
  {
   "cell_type": "code",
   "execution_count": 49,
   "id": "b3b0bc7b-e4b5-414c-98d4-3ed0f66279b3",
   "metadata": {},
   "outputs": [
    {
     "data": {
      "text/plain": [
       "numpy.ndarray"
      ]
     },
     "execution_count": 49,
     "metadata": {},
     "output_type": "execute_result"
    }
   ],
   "source": [
    "type(pop.values) # pandas 라이브러리가 numpy를 바탕으로 만들어졌기 때문"
   ]
  },
  {
   "cell_type": "code",
   "execution_count": 51,
   "id": "7e6d3f59-88d2-4ae5-878f-3d062a0ae7fa",
   "metadata": {},
   "outputs": [
    {
     "data": {
      "text/plain": [
       "Index(['서울', '부산', '인천', '대구'], dtype='object', name='도시')"
      ]
     },
     "execution_count": 51,
     "metadata": {},
     "output_type": "execute_result"
    }
   ],
   "source": [
    "# Series의 인덱스 확인하기\n",
    "# Series.index\n",
    "\n",
    "pop.index"
   ]
  },
  {
   "cell_type": "code",
   "execution_count": 53,
   "id": "a4c34397-1a6f-4049-a03a-554b72eebe6f",
   "metadata": {},
   "outputs": [
    {
     "data": {
      "text/plain": [
       "dtype('int64')"
      ]
     },
     "execution_count": 53,
     "metadata": {},
     "output_type": "execute_result"
    }
   ],
   "source": [
    "# Series의 데이터 타입 확인하기\n",
    "# Series.dtype\n",
    "\n",
    "pop.dtype"
   ]
  },
  {
   "cell_type": "code",
   "execution_count": null,
   "id": "35f9427e-d3a3-45cb-8877-1c9976a83e8e",
   "metadata": {},
   "outputs": [],
   "source": []
  },
  {
   "cell_type": "markdown",
   "id": "8c2f0b3f-34fd-43b8-a58d-a64d63979ae8",
   "metadata": {},
   "source": [
    "### 인덱싱"
   ]
  },
  {
   "cell_type": "code",
   "execution_count": 56,
   "id": "5dc762e1-6037-432f-b62e-59c75e46d5f9",
   "metadata": {},
   "outputs": [
    {
     "data": {
      "text/plain": [
       "도시\n",
       "서울    9901232\n",
       "부산    3441423\n",
       "인천    2891323\n",
       "대구    2462123\n",
       "Name: 인구수, dtype: int64"
      ]
     },
     "execution_count": 56,
     "metadata": {},
     "output_type": "execute_result"
    }
   ],
   "source": [
    "pop"
   ]
  },
  {
   "cell_type": "code",
   "execution_count": 58,
   "id": "3cd123bb-6f11-4b6e-986f-e65890623f45",
   "metadata": {},
   "outputs": [
    {
     "data": {
      "text/plain": [
       "9901232"
      ]
     },
     "execution_count": 58,
     "metadata": {},
     "output_type": "execute_result"
    }
   ],
   "source": [
    "# 인덱스의 이름으로 인덱싱\n",
    "\n",
    "pop['서울']"
   ]
  },
  {
   "cell_type": "code",
   "execution_count": 60,
   "id": "d84e6e13-905d-42d6-a701-19c133269623",
   "metadata": {},
   "outputs": [
    {
     "name": "stderr",
     "output_type": "stream",
     "text": [
      "/var/folders/wp/kc67w1qs78j6fmlzz9psj5cw0000gn/T/ipykernel_20530/997359403.py:2: FutureWarning: Series.__getitem__ treating keys as positions is deprecated. In a future version, integer keys will always be treated as labels (consistent with DataFrame behavior). To access a value by position, use `ser.iloc[pos]`\n",
      "  pop[1]\n"
     ]
    },
    {
     "data": {
      "text/plain": [
       "3441423"
      ]
     },
     "execution_count": 60,
     "metadata": {},
     "output_type": "execute_result"
    }
   ],
   "source": [
    "# 인덱스 번호로 인덱싱\n",
    "pop[1]"
   ]
  },
  {
   "cell_type": "code",
   "execution_count": 68,
   "id": "788a9129-18c7-4217-a563-87ac2d2e0ae1",
   "metadata": {},
   "outputs": [
    {
     "data": {
      "text/plain": [
       "도시\n",
       "부산    3441423\n",
       "대구    2462123\n",
       "Name: 인구수, dtype: int64"
      ]
     },
     "execution_count": 68,
     "metadata": {},
     "output_type": "execute_result"
    }
   ],
   "source": [
    "# 여러 도시를 인덱싱\n",
    "# 인덱스를 '리스트'의 형태로 입력\n",
    "\n",
    "pop[['부산', '대구']]"
   ]
  },
  {
   "cell_type": "code",
   "execution_count": null,
   "id": "d95c38d3-104b-4c5f-84f2-e06c8bc6a016",
   "metadata": {},
   "outputs": [],
   "source": []
  },
  {
   "cell_type": "markdown",
   "id": "707fa8d4-0bbb-4989-ace1-eb2b2b456949",
   "metadata": {},
   "source": [
    "### 슬라이싱"
   ]
  },
  {
   "cell_type": "code",
   "execution_count": 71,
   "id": "859c431a-7e64-48d4-b5f5-c0cd80d18622",
   "metadata": {},
   "outputs": [
    {
     "data": {
      "text/plain": [
       "도시\n",
       "서울    9901232\n",
       "부산    3441423\n",
       "인천    2891323\n",
       "대구    2462123\n",
       "Name: 인구수, dtype: int64"
      ]
     },
     "execution_count": 71,
     "metadata": {},
     "output_type": "execute_result"
    }
   ],
   "source": [
    "pop"
   ]
  },
  {
   "cell_type": "code",
   "execution_count": 75,
   "id": "87f04561-73bd-4981-bb0b-88905d278a54",
   "metadata": {},
   "outputs": [
    {
     "data": {
      "text/plain": [
       "도시\n",
       "부산    3441423\n",
       "인천    2891323\n",
       "Name: 인구수, dtype: int64"
      ]
     },
     "execution_count": 75,
     "metadata": {},
     "output_type": "execute_result"
    }
   ],
   "source": [
    "# 인덱스 번호로 슬라이싱\n",
    "pop[1 : 3]"
   ]
  },
  {
   "cell_type": "code",
   "execution_count": 83,
   "id": "d8a7f914-0e27-44a1-9f32-931fd6737230",
   "metadata": {},
   "outputs": [
    {
     "data": {
      "text/plain": [
       "도시\n",
       "부산    3441423\n",
       "인천    2891323\n",
       "Name: 인구수, dtype: int64"
      ]
     },
     "execution_count": 83,
     "metadata": {},
     "output_type": "execute_result"
    }
   ],
   "source": [
    "# 인덱스 이름으로 슬라이싱\n",
    "# 인덱스 이름으로 슬라이싱 하는 경우에는 끝값 포함\n",
    "pop['부산':'인천']"
   ]
  },
  {
   "cell_type": "code",
   "execution_count": null,
   "id": "5d5c7147-9f7c-4e8a-9842-25c50361db06",
   "metadata": {},
   "outputs": [],
   "source": []
  },
  {
   "cell_type": "markdown",
   "id": "47068212-7b96-4b68-be09-a053d29021cb",
   "metadata": {},
   "source": [
    "### 불리언 인덱싱\n",
    "- 특정 조건에 맞는 데이터를 가져올 때 사용\n",
    "- 인덱스 번호 대신, 조건식을 입력"
   ]
  },
  {
   "cell_type": "code",
   "execution_count": 90,
   "id": "f2c18b74-fae7-47cd-add3-264a5a970541",
   "metadata": {},
   "outputs": [
    {
     "data": {
      "text/plain": [
       "도시\n",
       "인천    2891323\n",
       "대구    2462123\n",
       "Name: 인구수, dtype: int64"
      ]
     },
     "execution_count": 90,
     "metadata": {},
     "output_type": "execute_result"
    }
   ],
   "source": [
    "# Series에서 불리언 값을 불러와보기\n",
    "# 인구가 300만 미만인가?\n",
    "\n",
    "pop[pop < 3000000]"
   ]
  },
  {
   "cell_type": "code",
   "execution_count": 96,
   "id": "3145df51-daa5-459a-9459-821d1f9d0150",
   "metadata": {},
   "outputs": [
    {
     "data": {
      "text/plain": [
       "도시\n",
       "부산    3441423\n",
       "인천    2891323\n",
       "Name: 인구수, dtype: int64"
      ]
     },
     "execution_count": 96,
     "metadata": {},
     "output_type": "execute_result"
    }
   ],
   "source": [
    "# 인구가 250만 초과이고, 500만 미만인 도시들을 가져오기\n",
    "\n",
    "pop[(pop < 5000000) & (pop > 2500000)]"
   ]
  },
  {
   "cell_type": "code",
   "execution_count": null,
   "id": "ccb0f97e-11ed-4329-8dfd-e6ea788d4ac6",
   "metadata": {},
   "outputs": [],
   "source": []
  },
  {
   "cell_type": "markdown",
   "id": "4e5a6fa1-8bcf-4f26-a50f-facf3e7a998d",
   "metadata": {},
   "source": [
    "#### Series 데이터 변경, 추가, 삭제"
   ]
  },
  {
   "cell_type": "code",
   "execution_count": 99,
   "id": "7084c982-fe47-46d6-9650-e280c48eb876",
   "metadata": {},
   "outputs": [
    {
     "data": {
      "text/plain": [
       "도시\n",
       "서울    9901232\n",
       "부산    3441423\n",
       "인천    2891323\n",
       "대구    2462123\n",
       "Name: 인구수, dtype: int64"
      ]
     },
     "execution_count": 99,
     "metadata": {},
     "output_type": "execute_result"
    }
   ],
   "source": [
    "pop"
   ]
  },
  {
   "cell_type": "code",
   "execution_count": 113,
   "id": "fe184c09-5cfa-4989-b8c5-8f45e15c0cae",
   "metadata": {},
   "outputs": [
    {
     "data": {
      "text/plain": [
       "도시\n",
       "서울    9901232\n",
       "부산    3400000\n",
       "인천    2891323\n",
       "대구    2462123\n",
       "대전    2400000\n",
       "Name: 인구수, dtype: int64"
      ]
     },
     "execution_count": 113,
     "metadata": {},
     "output_type": "execute_result"
    }
   ],
   "source": [
    "# 데이터 변경\n",
    "# 인덱싱으로 값을 불러와서 새로운 값을 넣어줌\n",
    "\n",
    "pop['부산'] = 3400000\n",
    "pop"
   ]
  },
  {
   "cell_type": "code",
   "execution_count": 111,
   "id": "eca470bb-68d2-4114-bf81-5043f9b42e7d",
   "metadata": {},
   "outputs": [
    {
     "data": {
      "text/plain": [
       "도시\n",
       "서울    9901232\n",
       "부산    3400000\n",
       "인천    2891323\n",
       "대구    2462123\n",
       "대전    2400000\n",
       "Name: 인구수, dtype: int64"
      ]
     },
     "execution_count": 111,
     "metadata": {},
     "output_type": "execute_result"
    }
   ],
   "source": [
    "# 데이터 추가\n",
    "# 기존에 입력한 적 없는 인덱스에 데이터를 삽입\n",
    "\n",
    "pop['대전'] = 2400000\n",
    "pop"
   ]
  },
  {
   "cell_type": "code",
   "execution_count": 121,
   "id": "0f1da2f3-e0d8-45f0-bdbc-23bb8bedecb0",
   "metadata": {},
   "outputs": [],
   "source": [
    "# 데이터 삭제\n",
    "\n",
    "del pop['대전']\n",
    "\n",
    "pop"
   ]
  },
  {
   "cell_type": "code",
   "execution_count": null,
   "id": "c886225b-14cd-4e4d-b9b1-e62fba0d954a",
   "metadata": {},
   "outputs": [],
   "source": []
  },
  {
   "cell_type": "code",
   "execution_count": null,
   "id": "f7ed86fa-a8dc-42ac-87d8-81167dd6d688",
   "metadata": {},
   "outputs": [],
   "source": []
  },
  {
   "cell_type": "markdown",
   "id": "e11160ea-11cd-4f4f-9b13-5116b5ffe61f",
   "metadata": {},
   "source": [
    "### DataFrame(2차원 데이터) 만들기"
   ]
  },
  {
   "cell_type": "code",
   "execution_count": 134,
   "id": "34ee90c0-6215-4e0e-a930-163541f2e3a8",
   "metadata": {},
   "outputs": [
    {
     "data": {
      "text/html": [
       "<div>\n",
       "<style scoped>\n",
       "    .dataframe tbody tr th:only-of-type {\n",
       "        vertical-align: middle;\n",
       "    }\n",
       "\n",
       "    .dataframe tbody tr th {\n",
       "        vertical-align: top;\n",
       "    }\n",
       "\n",
       "    .dataframe thead th {\n",
       "        text-align: right;\n",
       "    }\n",
       "</style>\n",
       "<table border=\"1\" class=\"dataframe\">\n",
       "  <thead>\n",
       "    <tr style=\"text-align: right;\">\n",
       "      <th></th>\n",
       "      <th>서울</th>\n",
       "      <th>부산</th>\n",
       "      <th>인천</th>\n",
       "      <th>대구</th>\n",
       "    </tr>\n",
       "  </thead>\n",
       "  <tbody>\n",
       "    <tr>\n",
       "      <th>2015</th>\n",
       "      <td>9904312</td>\n",
       "      <td>3448737</td>\n",
       "      <td>2890451</td>\n",
       "      <td>2466052</td>\n",
       "    </tr>\n",
       "    <tr>\n",
       "      <th>2010</th>\n",
       "      <td>9631482</td>\n",
       "      <td>3393191</td>\n",
       "      <td>2632035</td>\n",
       "      <td>2431774</td>\n",
       "    </tr>\n",
       "  </tbody>\n",
       "</table>\n",
       "</div>"
      ],
      "text/plain": [
       "           서울       부산       인천       대구\n",
       "2015  9904312  3448737  2890451  2466052\n",
       "2010  9631482  3393191  2632035  2431774"
      ]
     },
     "execution_count": 134,
     "metadata": {},
     "output_type": "execute_result"
    }
   ],
   "source": [
    "# 딕셔너리를 이용해 데이터 프레임 생성 하기\n",
    "# 자료\n",
    "data = {\n",
    "    '서울': [9904312, 9631482],\n",
    "    '부산': [3448737, 3393191],\n",
    "    '인천': [2890451, 2632035],\n",
    "    '대구': [2466052, 2431774],\n",
    "}\n",
    "\n",
    "# 인덱스\n",
    "ind = ['2015', '2010']\n",
    "\n",
    "pop = pd.DataFrame(data, ind) # 자료, 인덱스 순으로 넣어주기\n",
    "pop\n",
    "\n",
    "# Series: key 값이 인덱스의 이름으로 사용\n",
    "# DataFrame: key 값이 컬럼명으로 사용"
   ]
  },
  {
   "cell_type": "code",
   "execution_count": 138,
   "id": "8c8c7831-5fd4-4bc1-b0ba-a551ed58e860",
   "metadata": {},
   "outputs": [
    {
     "data": {
      "text/html": [
       "<div>\n",
       "<style scoped>\n",
       "    .dataframe tbody tr th:only-of-type {\n",
       "        vertical-align: middle;\n",
       "    }\n",
       "\n",
       "    .dataframe tbody tr th {\n",
       "        vertical-align: top;\n",
       "    }\n",
       "\n",
       "    .dataframe thead th {\n",
       "        text-align: right;\n",
       "    }\n",
       "</style>\n",
       "<table border=\"1\" class=\"dataframe\">\n",
       "  <thead>\n",
       "    <tr style=\"text-align: right;\">\n",
       "      <th></th>\n",
       "      <th>서울</th>\n",
       "      <th>부산</th>\n",
       "      <th>인천</th>\n",
       "      <th>대구</th>\n",
       "    </tr>\n",
       "  </thead>\n",
       "  <tbody>\n",
       "    <tr>\n",
       "      <th>2015</th>\n",
       "      <td>9904312</td>\n",
       "      <td>3448737</td>\n",
       "      <td>2890451</td>\n",
       "      <td>2466052</td>\n",
       "    </tr>\n",
       "    <tr>\n",
       "      <th>2010</th>\n",
       "      <td>9631482</td>\n",
       "      <td>3393191</td>\n",
       "      <td>2632035</td>\n",
       "      <td>2431774</td>\n",
       "    </tr>\n",
       "  </tbody>\n",
       "</table>\n",
       "</div>"
      ],
      "text/plain": [
       "           서울       부산       인천       대구\n",
       "2015  9904312  3448737  2890451  2466052\n",
       "2010  9631482  3393191  2632035  2431774"
      ]
     },
     "execution_count": 138,
     "metadata": {},
     "output_type": "execute_result"
    }
   ],
   "source": [
    "# 리스트를 이용해 데이터 프레임 생성 하기\n",
    "\n",
    "data = [[9904312,3448737,2890451,2466052],\n",
    "        [9631482,3393191,2632035,2431774]]\n",
    "\n",
    "ind = ['2015', '2010']\n",
    "\n",
    "col = ['서울', '부산', '인천', '대구']\n",
    "\n",
    "pop = pd.DataFrame(data, index = ind, columns = col) # 자료, 인덱스 이름, 컬럼명 순으로 넣어주기\n",
    "\n",
    "pop"
   ]
  },
  {
   "cell_type": "code",
   "execution_count": 144,
   "id": "48fe54b1-888e-43e2-b79b-ca32744b054a",
   "metadata": {},
   "outputs": [
    {
     "data": {
      "text/html": [
       "<div>\n",
       "<style scoped>\n",
       "    .dataframe tbody tr th:only-of-type {\n",
       "        vertical-align: middle;\n",
       "    }\n",
       "\n",
       "    .dataframe tbody tr th {\n",
       "        vertical-align: top;\n",
       "    }\n",
       "\n",
       "    .dataframe thead th {\n",
       "        text-align: right;\n",
       "    }\n",
       "</style>\n",
       "<table border=\"1\" class=\"dataframe\">\n",
       "  <thead>\n",
       "    <tr style=\"text-align: right;\">\n",
       "      <th></th>\n",
       "      <th>서울시</th>\n",
       "      <th>부산시</th>\n",
       "      <th>인천</th>\n",
       "      <th>대구</th>\n",
       "    </tr>\n",
       "  </thead>\n",
       "  <tbody>\n",
       "    <tr>\n",
       "      <th>2016</th>\n",
       "      <td>9904312</td>\n",
       "      <td>3448737</td>\n",
       "      <td>2890451</td>\n",
       "      <td>2466052</td>\n",
       "    </tr>\n",
       "    <tr>\n",
       "      <th>2011</th>\n",
       "      <td>9631482</td>\n",
       "      <td>3393191</td>\n",
       "      <td>2632035</td>\n",
       "      <td>2431774</td>\n",
       "    </tr>\n",
       "  </tbody>\n",
       "</table>\n",
       "</div>"
      ],
      "text/plain": [
       "          서울시      부산시       인천       대구\n",
       "2016  9904312  3448737  2890451  2466052\n",
       "2011  9631482  3393191  2632035  2431774"
      ]
     },
     "execution_count": 144,
     "metadata": {},
     "output_type": "execute_result"
    }
   ],
   "source": [
    "# 인덱스의 이름 변경\n",
    "# DF.rename(index = {'바꾸기 전': '바꾼 후'}, colums = {'바꾸기 전': '바꾼 후'})\n",
    "\n",
    "pop.rename(index = {'2015': '2016', '2010': '2011'}, columns = {'서울': '서울시', '부산': '부산시'})"
   ]
  },
  {
   "cell_type": "markdown",
   "id": "36a8d5eb-576e-4fba-abb4-8a6bd8e7a683",
   "metadata": {},
   "source": [
    "### 정리\n",
    "- DF을 생성하는 방법은 2가지\n",
    "  - 딕셔너리 방식은 key 값이 컬럼명, value값이 위에서 아래로\n",
    "  - 리스트 방식은 데이터가 보이는 위치 그대로 들어감"
   ]
  },
  {
   "cell_type": "code",
   "execution_count": null,
   "id": "132ac58f-634f-4451-85c8-f24a59a6c65a",
   "metadata": {},
   "outputs": [],
   "source": []
  },
  {
   "cell_type": "code",
   "execution_count": 151,
   "id": "d5438a23-7593-40c3-95c0-adbe1fa0ddc9",
   "metadata": {},
   "outputs": [
    {
     "data": {
      "text/html": [
       "<div>\n",
       "<style scoped>\n",
       "    .dataframe tbody tr th:only-of-type {\n",
       "        vertical-align: middle;\n",
       "    }\n",
       "\n",
       "    .dataframe tbody tr th {\n",
       "        vertical-align: top;\n",
       "    }\n",
       "\n",
       "    .dataframe thead th {\n",
       "        text-align: right;\n",
       "    }\n",
       "</style>\n",
       "<table border=\"1\" class=\"dataframe\">\n",
       "  <thead>\n",
       "    <tr style=\"text-align: right;\">\n",
       "      <th></th>\n",
       "      <th>2015</th>\n",
       "      <th>2010</th>\n",
       "    </tr>\n",
       "  </thead>\n",
       "  <tbody>\n",
       "    <tr>\n",
       "      <th>서울</th>\n",
       "      <td>9904312</td>\n",
       "      <td>9631482</td>\n",
       "    </tr>\n",
       "    <tr>\n",
       "      <th>부산</th>\n",
       "      <td>3448737</td>\n",
       "      <td>3393191</td>\n",
       "    </tr>\n",
       "    <tr>\n",
       "      <th>인천</th>\n",
       "      <td>2890451</td>\n",
       "      <td>2632035</td>\n",
       "    </tr>\n",
       "    <tr>\n",
       "      <th>대구</th>\n",
       "      <td>2466052</td>\n",
       "      <td>2431774</td>\n",
       "    </tr>\n",
       "  </tbody>\n",
       "</table>\n",
       "</div>"
      ],
      "text/plain": [
       "       2015     2010\n",
       "서울  9904312  9631482\n",
       "부산  3448737  3393191\n",
       "인천  2890451  2632035\n",
       "대구  2466052  2431774"
      ]
     },
     "execution_count": 151,
     "metadata": {},
     "output_type": "execute_result"
    }
   ],
   "source": [
    "# 전치\n",
    "# 전치 시키면 딕셔너리와 형태가 같아짐\n",
    "pop = pop.T\n",
    "pop"
   ]
  },
  {
   "cell_type": "code",
   "execution_count": 163,
   "id": "23e541ba-dec6-4631-8e62-37550277fbf6",
   "metadata": {},
   "outputs": [
    {
     "data": {
      "text/html": [
       "<div>\n",
       "<style scoped>\n",
       "    .dataframe tbody tr th:only-of-type {\n",
       "        vertical-align: middle;\n",
       "    }\n",
       "\n",
       "    .dataframe tbody tr th {\n",
       "        vertical-align: top;\n",
       "    }\n",
       "\n",
       "    .dataframe thead th {\n",
       "        text-align: right;\n",
       "    }\n",
       "</style>\n",
       "<table border=\"1\" class=\"dataframe\">\n",
       "  <thead>\n",
       "    <tr style=\"text-align: right;\">\n",
       "      <th></th>\n",
       "      <th>2015</th>\n",
       "      <th>2010</th>\n",
       "    </tr>\n",
       "  </thead>\n",
       "  <tbody>\n",
       "    <tr>\n",
       "      <th>서울</th>\n",
       "      <td>90000000</td>\n",
       "      <td>9631482</td>\n",
       "    </tr>\n",
       "    <tr>\n",
       "      <th>부산</th>\n",
       "      <td>23450000</td>\n",
       "      <td>3393191</td>\n",
       "    </tr>\n",
       "    <tr>\n",
       "      <th>인천</th>\n",
       "      <td>2342234</td>\n",
       "      <td>2632035</td>\n",
       "    </tr>\n",
       "    <tr>\n",
       "      <th>대구</th>\n",
       "      <td>5029384</td>\n",
       "      <td>2431774</td>\n",
       "    </tr>\n",
       "  </tbody>\n",
       "</table>\n",
       "</div>"
      ],
      "text/plain": [
       "        2015     2010\n",
       "서울  90000000  9631482\n",
       "부산  23450000  3393191\n",
       "인천   2342234  2632035\n",
       "대구   5029384  2431774"
      ]
     },
     "execution_count": 163,
     "metadata": {},
     "output_type": "execute_result"
    }
   ],
   "source": [
    "# DataFrame의 컬럼 변경\n",
    "# 기존 컬럼을 인덱싱 해서 새로운 값 대입\n",
    "# 인덱싱은 컬럼에만 접근가능\n",
    "\n",
    "pop['2015'] = [90000000, 23450000, 2342234, 5029384]\n",
    "pop"
   ]
  },
  {
   "cell_type": "code",
   "execution_count": 165,
   "id": "c011f3dd-9a38-4ad8-b013-f3c031af0b4d",
   "metadata": {},
   "outputs": [
    {
     "data": {
      "text/plain": [
       "90000000"
      ]
     },
     "execution_count": 165,
     "metadata": {},
     "output_type": "execute_result"
    }
   ],
   "source": [
    "pop['2015']['서울']"
   ]
  },
  {
   "cell_type": "code",
   "execution_count": null,
   "id": "a8d090e0-0e30-4f7f-b4f3-c07395414b7e",
   "metadata": {},
   "outputs": [],
   "source": []
  },
  {
   "cell_type": "code",
   "execution_count": 169,
   "id": "ef855c91-a8c2-45dc-9228-5bbfc6f59f14",
   "metadata": {},
   "outputs": [
    {
     "data": {
      "text/html": [
       "<div>\n",
       "<style scoped>\n",
       "    .dataframe tbody tr th:only-of-type {\n",
       "        vertical-align: middle;\n",
       "    }\n",
       "\n",
       "    .dataframe tbody tr th {\n",
       "        vertical-align: top;\n",
       "    }\n",
       "\n",
       "    .dataframe thead th {\n",
       "        text-align: right;\n",
       "    }\n",
       "</style>\n",
       "<table border=\"1\" class=\"dataframe\">\n",
       "  <thead>\n",
       "    <tr style=\"text-align: right;\">\n",
       "      <th></th>\n",
       "      <th>2015</th>\n",
       "      <th>2010</th>\n",
       "      <th>2005</th>\n",
       "    </tr>\n",
       "  </thead>\n",
       "  <tbody>\n",
       "    <tr>\n",
       "      <th>서울</th>\n",
       "      <td>90000000</td>\n",
       "      <td>9631482</td>\n",
       "      <td>1</td>\n",
       "    </tr>\n",
       "    <tr>\n",
       "      <th>부산</th>\n",
       "      <td>23450000</td>\n",
       "      <td>3393191</td>\n",
       "      <td>2</td>\n",
       "    </tr>\n",
       "    <tr>\n",
       "      <th>인천</th>\n",
       "      <td>2342234</td>\n",
       "      <td>2632035</td>\n",
       "      <td>3</td>\n",
       "    </tr>\n",
       "    <tr>\n",
       "      <th>대구</th>\n",
       "      <td>5029384</td>\n",
       "      <td>2431774</td>\n",
       "      <td>4</td>\n",
       "    </tr>\n",
       "  </tbody>\n",
       "</table>\n",
       "</div>"
      ],
      "text/plain": [
       "        2015     2010  2005\n",
       "서울  90000000  9631482     1\n",
       "부산  23450000  3393191     2\n",
       "인천   2342234  2632035     3\n",
       "대구   5029384  2431774     4"
      ]
     },
     "execution_count": 169,
     "metadata": {},
     "output_type": "execute_result"
    }
   ],
   "source": [
    "# DataFrame에 새로운 컬럼 추가\n",
    "pop['2005'] = [1, 2, 3, 4]\n",
    "\n",
    "pop"
   ]
  },
  {
   "cell_type": "code",
   "execution_count": null,
   "id": "dff08023-c914-4705-a3f9-25a69c5a893c",
   "metadata": {},
   "outputs": [],
   "source": []
  },
  {
   "cell_type": "code",
   "execution_count": null,
   "id": "76bf4730-5ee6-4ad7-bc73-6025333ba96b",
   "metadata": {},
   "outputs": [],
   "source": []
  },
  {
   "cell_type": "code",
   "execution_count": null,
   "id": "21d31e5d-8b65-4cb4-93ea-abd0fa0c039d",
   "metadata": {},
   "outputs": [],
   "source": []
  },
  {
   "cell_type": "code",
   "execution_count": null,
   "id": "ae9f1a9b-64b9-4340-9897-8ae62144ed05",
   "metadata": {},
   "outputs": [],
   "source": []
  },
  {
   "cell_type": "code",
   "execution_count": null,
   "id": "737ac856-ffbe-40bd-a2b1-a5ced6288469",
   "metadata": {},
   "outputs": [],
   "source": []
  },
  {
   "cell_type": "code",
   "execution_count": null,
   "id": "c680076e-8bca-4d98-8394-c394863967cd",
   "metadata": {},
   "outputs": [],
   "source": []
  },
  {
   "cell_type": "code",
   "execution_count": null,
   "id": "b2cd5e6c-071d-4be5-96d0-3183c37fc5f6",
   "metadata": {},
   "outputs": [],
   "source": []
  },
  {
   "cell_type": "code",
   "execution_count": null,
   "id": "7f8921c4-e541-4b00-a875-37e9d316e1d3",
   "metadata": {},
   "outputs": [],
   "source": []
  },
  {
   "cell_type": "code",
   "execution_count": null,
   "id": "c93fd4e2-edeb-4b38-8089-6d2af082ce4e",
   "metadata": {},
   "outputs": [],
   "source": []
  },
  {
   "cell_type": "code",
   "execution_count": null,
   "id": "c207a6c0-b879-4183-9b02-86e6d3b68394",
   "metadata": {},
   "outputs": [],
   "source": []
  },
  {
   "cell_type": "code",
   "execution_count": null,
   "id": "bec13389-2f53-4e16-8f9d-ca4390c5dec4",
   "metadata": {},
   "outputs": [],
   "source": []
  },
  {
   "cell_type": "code",
   "execution_count": null,
   "id": "968d3896-1426-4ca7-9117-98afdb74c3dc",
   "metadata": {},
   "outputs": [],
   "source": []
  },
  {
   "cell_type": "code",
   "execution_count": null,
   "id": "9f07428d-4abe-41ca-b144-e4442e50b128",
   "metadata": {},
   "outputs": [],
   "source": []
  }
 ],
 "metadata": {
  "kernelspec": {
   "display_name": "Python [conda env:base] *",
   "language": "python",
   "name": "conda-base-py"
  },
  "language_info": {
   "codemirror_mode": {
    "name": "ipython",
    "version": 3
   },
   "file_extension": ".py",
   "mimetype": "text/x-python",
   "name": "python",
   "nbconvert_exporter": "python",
   "pygments_lexer": "ipython3",
   "version": "3.12.7"
  }
 },
 "nbformat": 4,
 "nbformat_minor": 5
}
