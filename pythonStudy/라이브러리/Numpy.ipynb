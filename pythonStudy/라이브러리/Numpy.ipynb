{
 "cells": [
  {
   "cell_type": "markdown",
   "id": "3e5c0ce8-94ac-4e03-aa0a-182856eee1d9",
   "metadata": {},
   "source": [
    "### Numpy\n",
    "- 복잡한 빅데이터의 수학적/과학적 계산을 위해 만들어진 라이브러리\n",
    "- 반복문 없이, 전체 데이터 배열 연산이 가능한 수학 함수를 제공\n",
    "- 배열: 동일한 자료형의 원소들이 연속적인 형태로 구성된 자료구조"
   ]
  },
  {
   "cell_type": "code",
   "execution_count": 6,
   "id": "547f065c-eb6e-41b7-969c-282b44a04b87",
   "metadata": {},
   "outputs": [],
   "source": [
    "import numpy as np # numpy 라이브러리를 불러오고, 앞으로 np라고 부르겠다"
   ]
  },
  {
   "cell_type": "code",
   "execution_count": 12,
   "id": "8efe9e13-9a1b-47a0-a36c-01642e6bcd60",
   "metadata": {},
   "outputs": [
    {
     "data": {
      "text/plain": [
       "array([4, 3, 2, 1])"
      ]
     },
     "execution_count": 12,
     "metadata": {},
     "output_type": "execute_result"
    }
   ],
   "source": [
    "# array(): 배열을 만들어주는 함수\n",
    "# -> 리스트나 튜플을 배열로 변환\n",
    "# -> 그리고 반환값을 arr 변수에 저장\n",
    "arr = np.array([4, 3, 2, 1]) # np에서 array 함수 사용\n",
    "\n",
    "arr"
   ]
  },
  {
   "cell_type": "code",
   "execution_count": 20,
   "id": "039b906c-726d-4c7c-b386-59e9c751c931",
   "metadata": {},
   "outputs": [
    {
     "data": {
      "text/plain": [
       "array([1., 2., 3., 4.], dtype=float32)"
      ]
     },
     "execution_count": 20,
     "metadata": {},
     "output_type": "execute_result"
    }
   ],
   "source": [
    "list1 = [1, 2, 3, 4]\n",
    "\n",
    "# 자료형 변경도 가능, list -> float\n",
    "arr = np.array(list1, dtype = np.float32)\n",
    "\n",
    "arr"
   ]
  },
  {
   "cell_type": "code",
   "execution_count": 22,
   "id": "4b89a840-9391-4b4d-96bd-571d8e686099",
   "metadata": {},
   "outputs": [
    {
     "data": {
      "text/plain": [
       "numpy.ndarray"
      ]
     },
     "execution_count": 22,
     "metadata": {},
     "output_type": "execute_result"
    }
   ],
   "source": [
    "type(arr)"
   ]
  },
  {
   "cell_type": "code",
   "execution_count": null,
   "id": "9dfc11a1-8ba4-4959-86d8-3292c853ccad",
   "metadata": {},
   "outputs": [],
   "source": []
  },
  {
   "cell_type": "code",
   "execution_count": 24,
   "id": "f4f145e1-bd44-4b86-a968-a4693487b18d",
   "metadata": {},
   "outputs": [
    {
     "data": {
      "text/plain": [
       "array([1, 2, 3, 4])"
      ]
     },
     "execution_count": 24,
     "metadata": {},
     "output_type": "execute_result"
    }
   ],
   "source": [
    "list1 = [1, 2, 3, 4]\n",
    "\n",
    "# 자료형 변경도 가능, list -> float\n",
    "arr = np.array(list1)\n",
    "\n",
    "arr"
   ]
  },
  {
   "cell_type": "code",
   "execution_count": 32,
   "id": "1628bdbf-17cb-4112-bec0-2111727035b1",
   "metadata": {},
   "outputs": [
    {
     "data": {
      "text/plain": [
       "array([2, 3, 4, 5])"
      ]
     },
     "execution_count": 32,
     "metadata": {},
     "output_type": "execute_result"
    }
   ],
   "source": [
    "arr + [1, 1, 1, 1]"
   ]
  },
  {
   "cell_type": "code",
   "execution_count": 34,
   "id": "90af79de-a362-415a-b539-780a4e0f0510",
   "metadata": {},
   "outputs": [
    {
     "data": {
      "text/plain": [
       "array([2, 4, 6, 8])"
      ]
     },
     "execution_count": 34,
     "metadata": {},
     "output_type": "execute_result"
    }
   ],
   "source": [
    "arr + [1, 2, 3, 4]"
   ]
  },
  {
   "cell_type": "code",
   "execution_count": null,
   "id": "e25a906c-acd4-40ad-a5fb-6dd01b9def39",
   "metadata": {},
   "outputs": [],
   "source": []
  },
  {
   "cell_type": "code",
   "execution_count": 36,
   "id": "c49a27f4-73c9-4fb8-b415-46f808c4c4ea",
   "metadata": {},
   "outputs": [
    {
     "data": {
      "text/plain": [
       "array([2, 3, 4, 5])"
      ]
     },
     "execution_count": 36,
     "metadata": {},
     "output_type": "execute_result"
    }
   ],
   "source": [
    "arr + 1"
   ]
  },
  {
   "cell_type": "code",
   "execution_count": 38,
   "id": "9880c85c-0410-48d5-8bc9-e79bc23fc1b7",
   "metadata": {},
   "outputs": [
    {
     "data": {
      "text/plain": [
       "array([0, 1, 2, 3])"
      ]
     },
     "execution_count": 38,
     "metadata": {},
     "output_type": "execute_result"
    }
   ],
   "source": [
    "arr - 1"
   ]
  },
  {
   "cell_type": "code",
   "execution_count": 44,
   "id": "638db129-3c4e-4654-be64-4ed5de330bc8",
   "metadata": {},
   "outputs": [
    {
     "data": {
      "text/plain": [
       "array([ 3,  6,  9, 12])"
      ]
     },
     "execution_count": 44,
     "metadata": {},
     "output_type": "execute_result"
    }
   ],
   "source": [
    "arr * 3"
   ]
  },
  {
   "cell_type": "code",
   "execution_count": 42,
   "id": "a7732537-9b48-494d-a8b1-5a25cd8069db",
   "metadata": {},
   "outputs": [
    {
     "data": {
      "text/plain": [
       "array([0.33333333, 0.66666667, 1.        , 1.33333333])"
      ]
     },
     "execution_count": 42,
     "metadata": {},
     "output_type": "execute_result"
    }
   ],
   "source": [
    "arr / 3"
   ]
  },
  {
   "cell_type": "code",
   "execution_count": null,
   "id": "478e43d6-5d88-48bf-bca3-52a390d9a48e",
   "metadata": {},
   "outputs": [],
   "source": []
  },
  {
   "cell_type": "markdown",
   "id": "f82be128-a9aa-4c9c-bfc5-288998be3d0f",
   "metadata": {},
   "source": [
    "#### 배열끼리의 사칙연산"
   ]
  },
  {
   "cell_type": "code",
   "execution_count": 51,
   "id": "efeb37b8-84a3-429c-9b79-5ef6ceb7a17d",
   "metadata": {},
   "outputs": [],
   "source": [
    "arr1 = np.array([1, 2, 3])\n",
    "arr2 = np.array([4, 5, 6])\n",
    "arr3 = np.array([7, 8, 9, 10])"
   ]
  },
  {
   "cell_type": "code",
   "execution_count": 53,
   "id": "97844cb9-a19f-4d04-acd6-e04f0f530565",
   "metadata": {},
   "outputs": [
    {
     "data": {
      "text/plain": [
       "array([5, 7, 9])"
      ]
     },
     "execution_count": 53,
     "metadata": {},
     "output_type": "execute_result"
    }
   ],
   "source": [
    "arr1 + arr2"
   ]
  },
  {
   "cell_type": "code",
   "execution_count": 55,
   "id": "a8f734cf-c3f2-4e90-bb6c-15b2d207122d",
   "metadata": {},
   "outputs": [
    {
     "ename": "ValueError",
     "evalue": "operands could not be broadcast together with shapes (3,) (4,) ",
     "output_type": "error",
     "traceback": [
      "\u001b[0;31m---------------------------------------------------------------------------\u001b[0m",
      "\u001b[0;31mValueError\u001b[0m                                Traceback (most recent call last)",
      "Cell \u001b[0;32mIn[55], line 1\u001b[0m\n\u001b[0;32m----> 1\u001b[0m arr1 \u001b[38;5;241m+\u001b[39m arr3\n",
      "\u001b[0;31mValueError\u001b[0m: operands could not be broadcast together with shapes (3,) (4,) "
     ]
    }
   ],
   "source": [
    "arr1 + arr3"
   ]
  },
  {
   "cell_type": "code",
   "execution_count": 59,
   "id": "62f1e292-905b-447e-9273-8ea72376ac20",
   "metadata": {},
   "outputs": [
    {
     "name": "stdout",
     "output_type": "stream",
     "text": [
      "[5 7 9]\n",
      "[3 3 3]\n",
      "[ 4 10 18]\n",
      "[4.  2.5 2. ]\n",
      "[4 2 2]\n",
      "[0 1 0]\n"
     ]
    }
   ],
   "source": [
    "print(arr2 + arr1)\n",
    "print(arr2 - arr1)\n",
    "print(arr2 * arr1)\n",
    "print(arr2 / arr1)\n",
    "print(arr2 // arr1)\n",
    "print(arr2 % arr1)"
   ]
  },
  {
   "cell_type": "code",
   "execution_count": 69,
   "id": "9165ddf2-d42d-4074-8790-a7852d030bd9",
   "metadata": {},
   "outputs": [
    {
     "data": {
      "text/plain": [
       "array([4. , 2.5, 2. ])"
      ]
     },
     "execution_count": 69,
     "metadata": {},
     "output_type": "execute_result"
    }
   ],
   "source": [
    "# 업캐스팅\n",
    "# 정수와 실수를 같이 넣었을 때 더 상위 표현 방식 으로 표현\n",
    "# 배열은 모두 동일한 자료형이어야 하기 때문에\n",
    "arr_f = np.array([4, 2.5, 2])\n",
    "\n",
    "arr_f"
   ]
  },
  {
   "cell_type": "code",
   "execution_count": null,
   "id": "9abc51bc-e32a-4436-a740-fde9b326b5c1",
   "metadata": {},
   "outputs": [],
   "source": []
  },
  {
   "cell_type": "code",
   "execution_count": 75,
   "id": "0c85ac88-e3bc-4883-a1a5-24b757d50a66",
   "metadata": {},
   "outputs": [
    {
     "data": {
      "text/plain": [
       "array(['a', 'b', 'c', 'de'], dtype='<U2')"
      ]
     },
     "execution_count": 75,
     "metadata": {},
     "output_type": "execute_result"
    }
   ],
   "source": [
    "# 문자형 자료가 담겨있는 배열\n",
    "# 문자형 배열은 수학적 계산이 불가능하기 때문에 잘 사용하지 않음\n",
    "arr_str = np.array(['a', 'b', 'c', 'de'])\n",
    "arr_str"
   ]
  },
  {
   "cell_type": "code",
   "execution_count": null,
   "id": "c5fdc104-a7fe-49fd-9570-10480bef3e1e",
   "metadata": {},
   "outputs": [],
   "source": []
  },
  {
   "cell_type": "code",
   "execution_count": 83,
   "id": "fbe7a2e4-2d4b-413c-b74a-abc077ff609c",
   "metadata": {},
   "outputs": [
    {
     "data": {
      "text/plain": [
       "array(['a', 'b', '3', '4'], dtype='<U21')"
      ]
     },
     "execution_count": 83,
     "metadata": {},
     "output_type": "execute_result"
    }
   ],
   "source": [
    "arr_str2 = np.array(['a', 'b', 3, 4])\n",
    "arr_str2"
   ]
  },
  {
   "cell_type": "code",
   "execution_count": null,
   "id": "bc229319-f1ad-4b25-8c1a-f7e07d301b75",
   "metadata": {},
   "outputs": [],
   "source": []
  },
  {
   "cell_type": "markdown",
   "id": "d56b13e9-2e64-4a05-bea1-174491b44010",
   "metadata": {},
   "source": [
    "### 2차원 배열"
   ]
  },
  {
   "cell_type": "code",
   "execution_count": 94,
   "id": "ec51cf3a-4930-48c8-9bcb-acfd18b68777",
   "metadata": {},
   "outputs": [
    {
     "data": {
      "text/plain": [
       "array([[1, 2, 3],\n",
       "       [4, 5, 6]])"
      ]
     },
     "execution_count": 94,
     "metadata": {},
     "output_type": "execute_result"
    }
   ],
   "source": [
    "arr2 = np.array([[1, 2, 3], [4, 5, 6]])\n",
    "\n",
    "arr2"
   ]
  },
  {
   "cell_type": "code",
   "execution_count": 96,
   "id": "95f0c981-ebab-4013-8416-d19ebc76139b",
   "metadata": {},
   "outputs": [
    {
     "data": {
      "text/plain": [
       "2"
      ]
     },
     "execution_count": 96,
     "metadata": {},
     "output_type": "execute_result"
    }
   ],
   "source": [
    "# ndim: 배열의 차원을 확인해주는 함수\n",
    "arr2.ndim"
   ]
  },
  {
   "cell_type": "code",
   "execution_count": 100,
   "id": "931f5f31-7888-475d-a279-56a0f5c13f88",
   "metadata": {},
   "outputs": [
    {
     "data": {
      "text/plain": [
       "(2, 3)"
      ]
     },
     "execution_count": 100,
     "metadata": {},
     "output_type": "execute_result"
    }
   ],
   "source": [
    "# shape: 배열의 형태를 확인해주는 함수(행, 열)\n",
    "arr2.shape"
   ]
  },
  {
   "cell_type": "code",
   "execution_count": 104,
   "id": "e9726771-a2fc-4585-bd5c-a81a26699e73",
   "metadata": {},
   "outputs": [
    {
     "data": {
      "text/plain": [
       "6"
      ]
     },
     "execution_count": 104,
     "metadata": {},
     "output_type": "execute_result"
    }
   ],
   "source": [
    "# size: 배열의 가장 작은 단위 요소 개수\n",
    "# shape으로 구한 행 * 열 = size\n",
    "arr2.size"
   ]
  },
  {
   "cell_type": "code",
   "execution_count": 106,
   "id": "6c024d84-5e54-4718-b7ee-8b27695d5441",
   "metadata": {},
   "outputs": [
    {
     "data": {
      "text/plain": [
       "dtype('int64')"
      ]
     },
     "execution_count": 106,
     "metadata": {},
     "output_type": "execute_result"
    }
   ],
   "source": [
    "# dtype: 배열 내의 데이터들의 자료형을 구하는 함수\n",
    "arr2.dtype"
   ]
  },
  {
   "cell_type": "code",
   "execution_count": null,
   "id": "fd6bc77a-d790-43f6-8a0b-59a81fa982dc",
   "metadata": {},
   "outputs": [],
   "source": []
  },
  {
   "attachments": {
    "dfdb5c71-296e-47e2-8e84-9a6cd24a0f74.png": {
     "image/png": "[encoded data removed]"
    }
   },
   "cell_type": "markdown",
   "id": "41ec5e5a-82f9-465d-b588-3731e993379c",
   "metadata": {},
   "source": [
    "![image.png](attachment:dfdb5c71-296e-47e2-8e84-9a6cd24a0f74.png)"
   ]
  },
  {
   "cell_type": "code",
   "execution_count": 135,
   "id": "7495ef81-21c3-4a7a-a6dc-8d15a335fe60",
   "metadata": {},
   "outputs": [
    {
     "data": {
      "text/plain": [
       "array([[[ 1,  2,  3],\n",
       "        [ 4,  5,  6]],\n",
       "\n",
       "       [[ 7,  8,  9],\n",
       "        [10, 11, 12]]])"
      ]
     },
     "execution_count": 135,
     "metadata": {},
     "output_type": "execute_result"
    }
   ],
   "source": [
    "# 3차원 배열\n",
    "arr3 = np.array([[[1, 2, 3], [4, 5, 6]], [[7, 8, 9], [10, 11, 12]]])\n",
    "\n",
    "arr3"
   ]
  },
  {
   "cell_type": "code",
   "execution_count": 139,
   "id": "5a1f99e8-b4e1-4c5d-a45a-db4980cb6fff",
   "metadata": {},
   "outputs": [
    {
     "name": "stdout",
     "output_type": "stream",
     "text": [
      "차원 3\n",
      "형태 (2, 2, 3)\n",
      "전체요소수 12\n",
      "데이터타입 int64\n"
     ]
    }
   ],
   "source": [
    "# 차원, 형태, 전체요소수, 데이터 타입\n",
    "print('차원', arr3.ndim)\n",
    "print('형태', arr3.shape) # 큰 묶음 부터 작은 묶음 순으로 출력\n",
    "print('전체요소수', arr3.size)\n",
    "print('데이터타입', arr3.dtype)"
   ]
  },
  {
   "cell_type": "code",
   "execution_count": null,
   "id": "39ea1d26-6bd0-4a0e-9313-e37c42ee7f0d",
   "metadata": {},
   "outputs": [],
   "source": []
  },
  {
   "cell_type": "markdown",
   "id": "60aae22c-1a36-4be3-89ea-1c908f358706",
   "metadata": {},
   "source": [
    "### 편리한 배열 생성 함수"
   ]
  },
  {
   "cell_type": "code",
   "execution_count": 151,
   "id": "b9d386b8-a661-41ba-ab19-1b5375c861ef",
   "metadata": {},
   "outputs": [
    {
     "data": {
      "text/plain": [
       "array([[0., 0.],\n",
       "       [0., 0.],\n",
       "       [0., 0.]])"
      ]
     },
     "execution_count": 151,
     "metadata": {},
     "output_type": "execute_result"
    }
   ],
   "source": [
    "# 0으로 배열 생성\n",
    "# zeros((형태))\n",
    "arr_0 = np.zeros((3, 2))\n",
    "\n",
    "arr_0"
   ]
  },
  {
   "cell_type": "code",
   "execution_count": 153,
   "id": "1c6d28c6-16e7-488a-b7f2-4ca0c0803f4d",
   "metadata": {},
   "outputs": [
    {
     "data": {
      "text/plain": [
       "dtype('float64')"
      ]
     },
     "execution_count": 153,
     "metadata": {},
     "output_type": "execute_result"
    }
   ],
   "source": [
    "arr_0.dtype"
   ]
  },
  {
   "cell_type": "code",
   "execution_count": 161,
   "id": "abdf695b-521b-4de2-afd2-5f18d3270ef7",
   "metadata": {},
   "outputs": [
    {
     "data": {
      "text/plain": [
       "array([[[1, 1, 1],\n",
       "        [1, 1, 1],\n",
       "        [1, 1, 1],\n",
       "        [1, 1, 1]],\n",
       "\n",
       "       [[1, 1, 1],\n",
       "        [1, 1, 1],\n",
       "        [1, 1, 1],\n",
       "        [1, 1, 1]]], dtype=int32)"
      ]
     },
     "execution_count": 161,
     "metadata": {},
     "output_type": "execute_result"
    }
   ],
   "source": [
    "# 1로 배열 생성\n",
    "# ones((형태))\n",
    "arr_1 = np.ones((2, 4, 3), dtype = np.int32)\n",
    "\n",
    "arr_1"
   ]
  },
  {
   "cell_type": "code",
   "execution_count": 173,
   "id": "06136f8d-f463-4217-952e-a80e1806c1e9",
   "metadata": {},
   "outputs": [
    {
     "data": {
      "text/plain": [
       "array([[[4, 4],\n",
       "        [4, 4],\n",
       "        [4, 4]],\n",
       "\n",
       "       [[4, 4],\n",
       "        [4, 4],\n",
       "        [4, 4]]])"
      ]
     },
     "execution_count": 173,
     "metadata": {},
     "output_type": "execute_result"
    }
   ],
   "source": [
    "# 특정 값으로 배열 생성\n",
    "# full\n",
    "# np.full((형태), 값)\n",
    "arr_f = np.full((2, 3, 2), 4)\n",
    "\n",
    "arr_f"
   ]
  },
  {
   "cell_type": "code",
   "execution_count": null,
   "id": "26a98817-1735-4c20-b2a5-6135345cb168",
   "metadata": {},
   "outputs": [],
   "source": []
  },
  {
   "cell_type": "code",
   "execution_count": 185,
   "id": "4cd27d15-f302-4f56-bd76-b1e759637d8a",
   "metadata": {},
   "outputs": [
    {
     "name": "stdout",
     "output_type": "stream",
     "text": [
      "[ 1  2  3  4  5  6  7  8  9 10 11 12]\n",
      "[ 1  4  7 10]\n",
      "[ 0  1  2  3  4  5  6  7  8  9 10 11 12]\n",
      "[ 0  1  2  3  4  5  6  7  8  9 10 11 12]\n"
     ]
    }
   ],
   "source": [
    "# np.arange(): range() 시퀀스로 배열을 생성해주는 함수\n",
    "# 사용법은 range() 함수와 유사\n",
    "# np.arange(시작할 값, 끝 값, 증감량)\n",
    "\n",
    "arr_a = np.arange(1, 13, 1)\n",
    "print(arr_a)\n",
    "\n",
    "arr_a = np.arange(1, 13, 3)\n",
    "print(arr_a)\n",
    "\n",
    "arr_a = np.arange(0, 13, 1)\n",
    "print(arr_a)\n",
    "\n",
    "arr_a = np.arange(13)\n",
    "print(arr_a)"
   ]
  },
  {
   "cell_type": "code",
   "execution_count": 189,
   "id": "f14f1f87-594a-494a-a043-6da1845355b6",
   "metadata": {},
   "outputs": [
    {
     "data": {
      "text/plain": [
       "array([[ 0,  1,  2,  3],\n",
       "       [ 4,  5,  6,  7],\n",
       "       [ 8,  9, 10, 11]])"
      ]
     },
     "execution_count": 189,
     "metadata": {},
     "output_type": "execute_result"
    }
   ],
   "source": [
    "# reshape: 배열의 형태(shape)를 재구성하는 함수\n",
    "# 배열의 전체 요소 수와 형태의 수가 일치해야 가능\n",
    "arr_a = np.arange(12)\n",
    "arr_a.reshape(3, 4)"
   ]
  },
  {
   "cell_type": "code",
   "execution_count": null,
   "id": "c1cf0585-db08-4ce1-8ec2-be8e845f1efc",
   "metadata": {},
   "outputs": [],
   "source": []
  },
  {
   "cell_type": "markdown",
   "id": "fd892525-f6f1-4903-b9f8-c8eff2b79ae6",
   "metadata": {},
   "source": [
    "### array의 데이터에 접근 방법\n",
    "- array는 list와 마찬가지로 인덱싱, 슬라이싱 가능"
   ]
  },
  {
   "cell_type": "code",
   "execution_count": 194,
   "id": "3329796d-bb62-4cfc-b30d-aa021162eb5f",
   "metadata": {},
   "outputs": [
    {
     "data": {
      "text/plain": [
       "array([[1, 2, 3],\n",
       "       [4, 5, 6]])"
      ]
     },
     "execution_count": 194,
     "metadata": {},
     "output_type": "execute_result"
    }
   ],
   "source": [
    "arr1 = np.array([[1, 2 ,3], [4, 5, 6]])\n",
    "\n",
    "arr1"
   ]
  },
  {
   "cell_type": "code",
   "execution_count": 196,
   "id": "91bbc5dd-3f22-4b8b-b17e-415f34399aa3",
   "metadata": {},
   "outputs": [
    {
     "data": {
      "text/plain": [
       "array([1, 2, 3])"
      ]
     },
     "execution_count": 196,
     "metadata": {},
     "output_type": "execute_result"
    }
   ],
   "source": [
    "arr1[0]"
   ]
  },
  {
   "cell_type": "code",
   "execution_count": 198,
   "id": "f9c7332e-69d0-454b-be05-da86782c1b5a",
   "metadata": {},
   "outputs": [
    {
     "data": {
      "text/plain": [
       "2"
      ]
     },
     "execution_count": 198,
     "metadata": {},
     "output_type": "execute_result"
    }
   ],
   "source": [
    "# 2 인덱싱\n",
    "arr1[0][1]"
   ]
  },
  {
   "cell_type": "code",
   "execution_count": 200,
   "id": "a0028bf2-c58c-4c27-b0c8-866fa954f1ce",
   "metadata": {},
   "outputs": [
    {
     "data": {
      "text/plain": [
       "5"
      ]
     },
     "execution_count": 200,
     "metadata": {},
     "output_type": "execute_result"
    }
   ],
   "source": [
    "# 5 인덱싱\n",
    "arr1[1][1]"
   ]
  },
  {
   "cell_type": "code",
   "execution_count": null,
   "id": "a521b799-36c7-4cb1-a1fd-e0b356aaad38",
   "metadata": {},
   "outputs": [],
   "source": []
  },
  {
   "cell_type": "code",
   "execution_count": 204,
   "id": "3bf63107-5b57-4d62-aaf2-dda908b84ac4",
   "metadata": {},
   "outputs": [
    {
     "name": "stdout",
     "output_type": "stream",
     "text": [
      "변경 전: \n",
      " [[1 2 3]\n",
      " [4 5 6]]\n",
      "변경 후: \n",
      " [[11 22 33]\n",
      " [ 4  5  6]]\n"
     ]
    }
   ],
   "source": [
    "# 인덱싱하여 값 변경\n",
    "arr1 = np.array([[1, 2 ,3], [4, 5, 6]])\n",
    "print('변경 전: \\n', arr1)\n",
    "\n",
    "# 값 변경\n",
    "arr1[0] = [11, 22, 33]\n",
    "\n",
    "print('변경 후: \\n', arr1)"
   ]
  },
  {
   "cell_type": "code",
   "execution_count": 208,
   "id": "1e888d2b-a695-455f-a12e-474a200e2b39",
   "metadata": {},
   "outputs": [
    {
     "name": "stdout",
     "output_type": "stream",
     "text": [
      "[[1, 2, 3], [4, 5, 6]]\n",
      "[11, [4, 5, 6]]\n"
     ]
    }
   ],
   "source": [
    "list1 = [[1, 2 ,3], [4, 5, 6]]\n",
    "print(list1)\n",
    "\n",
    "# 값 변경\n",
    "list1[0] = 11\n",
    "\n",
    "print(list1)"
   ]
  },
  {
   "cell_type": "code",
   "execution_count": null,
   "id": "a70ecedb-00d4-438a-b7d0-544f370ee192",
   "metadata": {},
   "outputs": [],
   "source": []
  },
  {
   "cell_type": "markdown",
   "id": "c9640f0e-0474-431c-8c39-ecb0a7368a87",
   "metadata": {},
   "source": [
    "### 슬라이싱"
   ]
  },
  {
   "cell_type": "code",
   "execution_count": 215,
   "id": "0e4f0c3e-6c5d-430a-8eaf-9e662e3ed9a0",
   "metadata": {},
   "outputs": [
    {
     "data": {
      "text/plain": [
       "array([[0, 1, 2],\n",
       "       [3, 4, 5],\n",
       "       [6, 7, 8]])"
      ]
     },
     "execution_count": 215,
     "metadata": {},
     "output_type": "execute_result"
    }
   ],
   "source": [
    "arr2 = np.arange(9).reshape(3, 3)\n",
    "arr2"
   ]
  },
  {
   "cell_type": "code",
   "execution_count": 217,
   "id": "b7723470-e638-4bfd-8228-913e30ddbd7f",
   "metadata": {},
   "outputs": [
    {
     "data": {
      "text/plain": [
       "array([[0, 1, 2],\n",
       "       [3, 4, 5]])"
      ]
     },
     "execution_count": 217,
     "metadata": {},
     "output_type": "execute_result"
    }
   ],
   "source": [
    "arr2[:2]"
   ]
  },
  {
   "cell_type": "code",
   "execution_count": 221,
   "id": "80c11e42-5393-4c09-b078-9ad11c78c851",
   "metadata": {},
   "outputs": [
    {
     "name": "stdout",
     "output_type": "stream",
     "text": [
      "인덱싱:  [0 1 2]\n",
      "슬라이싱:  [[0 1 2]]\n"
     ]
    }
   ],
   "source": [
    "print('인덱싱: ', arr2[0])\n",
    "print('슬라이싱: ', arr2[:1])"
   ]
  },
  {
   "cell_type": "code",
   "execution_count": null,
   "id": "627ceed6-a697-4cf9-80cf-d71157ee6d13",
   "metadata": {},
   "outputs": [],
   "source": []
  },
  {
   "cell_type": "code",
   "execution_count": 235,
   "id": "d1d2601f-294a-45a0-9777-e0abbc5a42c9",
   "metadata": {},
   "outputs": [
    {
     "name": "stdout",
     "output_type": "stream",
     "text": [
      "[4 5]\n"
     ]
    }
   ],
   "source": [
    "# [4, 5]를 슬라이싱\n",
    "\n",
    "print(arr2[1][1:])"
   ]
  },
  {
   "cell_type": "code",
   "execution_count": 243,
   "id": "572bc685-cc2f-4086-86e6-df4b841855ce",
   "metadata": {},
   "outputs": [
    {
     "data": {
      "text/plain": [
       "array([[ 0,  1,  2],\n",
       "       [ 3, 47, 65],\n",
       "       [ 6,  7,  8]])"
      ]
     },
     "execution_count": 243,
     "metadata": {},
     "output_type": "execute_result"
    }
   ],
   "source": [
    "# 값 변경\n",
    "arr2[1][1:] = [47, 65] # 방법1(정석)\n",
    "arr2[1][1:] = [47] # 방법2\n",
    "arr2[1][1:] = 47, 65 # 방법3\n",
    "\n",
    "arr2"
   ]
  },
  {
   "cell_type": "code",
   "execution_count": null,
   "id": "6ff06395-486c-43bd-9d8b-27d5d8ac9ff9",
   "metadata": {},
   "outputs": [],
   "source": []
  },
  {
   "cell_type": "markdown",
   "id": "863309de-8767-489d-bde4-08cec18dd848",
   "metadata": {},
   "source": [
    "### 2차원 배열에서의 데이터 접근"
   ]
  },
  {
   "cell_type": "code",
   "execution_count": 250,
   "id": "9a229a96-456b-4124-9720-c2e4de2e1a0d",
   "metadata": {},
   "outputs": [
    {
     "data": {
      "text/plain": [
       "array([[ 0,  1,  2,  3,  4,  5,  6,  7,  8,  9],\n",
       "       [10, 11, 12, 13, 14, 15, 16, 17, 18, 19],\n",
       "       [20, 21, 22, 23, 24, 25, 26, 27, 28, 29],\n",
       "       [30, 31, 32, 33, 34, 35, 36, 37, 38, 39],\n",
       "       [40, 41, 42, 43, 44, 45, 46, 47, 48, 49]])"
      ]
     },
     "execution_count": 250,
     "metadata": {},
     "output_type": "execute_result"
    }
   ],
   "source": [
    "# 2차원 배열\n",
    "arr3 = np.arange(50).reshape(5, 10)\n",
    "\n",
    "arr3"
   ]
  },
  {
   "cell_type": "code",
   "execution_count": 256,
   "id": "dab7fd0c-14a6-4f85-8c64-c1da16d49841",
   "metadata": {},
   "outputs": [
    {
     "data": {
      "text/plain": [
       "array([[ 0,  1,  2,  3,  4,  5],\n",
       "       [10, 11, 12, 13, 14, 15]])"
      ]
     },
     "execution_count": 256,
     "metadata": {},
     "output_type": "execute_result"
    }
   ],
   "source": [
    "# 2차원 배열의 일부 한번에 가져오기\n",
    "# arr[행의 범위, 열의 범위]\n",
    "# ,로 행의 범위와 열의 범위 구분\n",
    "\n",
    "arr3[:2, :6]"
   ]
  },
  {
   "cell_type": "code",
   "execution_count": 260,
   "id": "a353678a-a81b-4d88-bd3d-2cfe6e81ff0d",
   "metadata": {},
   "outputs": [
    {
     "data": {
      "text/plain": [
       "array([[ 0],\n",
       "       [10],\n",
       "       [20],\n",
       "       [30],\n",
       "       [40]])"
      ]
     },
     "execution_count": 260,
     "metadata": {},
     "output_type": "execute_result"
    }
   ],
   "source": [
    "arr3[:, :1]"
   ]
  },
  {
   "cell_type": "code",
   "execution_count": 268,
   "id": "62ec6cc5-e1ee-4019-b67e-9b396bb63089",
   "metadata": {},
   "outputs": [
    {
     "data": {
      "text/plain": [
       "array([[ 0],\n",
       "       [20],\n",
       "       [40]])"
      ]
     },
     "execution_count": 268,
     "metadata": {},
     "output_type": "execute_result"
    }
   ],
   "source": [
    "arr3[[0, 2, 4], :1]\n",
    "arr3[0:5:2, :1] # 이렇게 생략 가능 arr3[::2, :1]"
   ]
  },
  {
   "cell_type": "code",
   "execution_count": null,
   "id": "d280b6d0-d714-4e5d-9757-7faa670ba0ba",
   "metadata": {},
   "outputs": [],
   "source": []
  },
  {
   "cell_type": "code",
   "execution_count": null,
   "id": "c455b141-031e-4e30-8c22-7216fedb40b4",
   "metadata": {},
   "outputs": [],
   "source": []
  },
  {
   "cell_type": "code",
   "execution_count": null,
   "id": "b1a7bc6b-4e59-4d1a-973b-74de1ffc8ced",
   "metadata": {},
   "outputs": [],
   "source": []
  }
 ],
 "metadata": {
  "kernelspec": {
   "display_name": "Python [conda env:base] *",
   "language": "python",
   "name": "conda-base-py"
  },
  "language_info": {
   "codemirror_mode": {
    "name": "ipython",
    "version": 3
   },
   "file_extension": ".py",
   "mimetype": "text/x-python",
   "name": "python",
   "nbconvert_exporter": "python",
   "pygments_lexer": "ipython3",
   "version": "3.12.7"
  }
 },
 "nbformat": 4,
 "nbformat_minor": 5
}
