{
 "cells": [
  {
   "cell_type": "markdown",
   "id": "79019fa2-6466-465a-97ce-5b45398fa288",
   "metadata": {},
   "source": [
    "### 딕셔너리\n",
    "- 불변한 key, 변화가능한 value로 맵핑되어 있는 순서가 없는 집합"
   ]
  },
  {
   "cell_type": "code",
   "execution_count": null,
   "id": "387641cf-2a43-42d0-9d35-1521bc90c347",
   "metadata": {},
   "outputs": [],
   "source": []
  },
  {
   "cell_type": "code",
   "execution_count": 3,
   "id": "4f72d78c-505d-486a-9f7a-7e805cdd4b85",
   "metadata": {},
   "outputs": [
    {
     "name": "stdout",
     "output_type": "stream",
     "text": [
      "{'name': '김혜림', 'age': 27, 'phone': '010-4097-4234'}\n"
     ]
    }
   ],
   "source": [
    "dict1 = {'name': '김혜림', 'age': 27, 'phone': '010-4097-4234'}\n",
    "print(dict1)"
   ]
  },
  {
   "cell_type": "code",
   "execution_count": 7,
   "id": "b4132ffd-6b3b-45b2-817a-3903db1868c5",
   "metadata": {},
   "outputs": [
    {
     "name": "stdout",
     "output_type": "stream",
     "text": [
      "<class 'dict'>\n"
     ]
    }
   ],
   "source": [
    "print(type(dict1))"
   ]
  },
  {
   "cell_type": "code",
   "execution_count": 9,
   "id": "a8b3a9c2-3f39-4156-b031-54f1e7db6da2",
   "metadata": {},
   "outputs": [
    {
     "data": {
      "text/plain": [
       "3"
      ]
     },
     "execution_count": 9,
     "metadata": {},
     "output_type": "execute_result"
    }
   ],
   "source": [
    "len(dict1)"
   ]
  },
  {
   "cell_type": "code",
   "execution_count": 11,
   "id": "272a1105-b0df-466d-b8bb-885f1c68b55a",
   "metadata": {},
   "outputs": [
    {
     "name": "stdout",
     "output_type": "stream",
     "text": [
      "name\n",
      "age\n",
      "phone\n"
     ]
    }
   ],
   "source": [
    "for i in dict1:\n",
    "    print(i)"
   ]
  },
  {
   "cell_type": "code",
   "execution_count": null,
   "id": "ac43f44d-c06c-4c23-ae22-008646a1886d",
   "metadata": {},
   "outputs": [],
   "source": []
  },
  {
   "cell_type": "code",
   "execution_count": 37,
   "id": "9d60ce8c-dbde-4a51-8212-bfd8e32d24ab",
   "metadata": {},
   "outputs": [
    {
     "name": "stdout",
     "output_type": "stream",
     "text": [
      "김혜림\n"
     ]
    },
    {
     "ename": "KeyError",
     "evalue": "'age'",
     "output_type": "error",
     "traceback": [
      "\u001b[0;31m---------------------------------------------------------------------------\u001b[0m",
      "\u001b[0;31mKeyError\u001b[0m                                  Traceback (most recent call last)",
      "Cell \u001b[0;32mIn[37], line 6\u001b[0m\n\u001b[1;32m      1\u001b[0m \u001b[38;5;66;03m# 딕셔너리의 값 가져오기\u001b[39;00m\n\u001b[1;32m      2\u001b[0m \u001b[38;5;66;03m# 딕셔너리는 순서가 없는 자료형이기 때문에 인덱스 번호가 없음\u001b[39;00m\n\u001b[1;32m      3\u001b[0m \u001b[38;5;66;03m# 대신, key값을 통해서 데이터를 가져올 수 있음\u001b[39;00m\n\u001b[1;32m      5\u001b[0m \u001b[38;5;28mprint\u001b[39m(dict1[\u001b[38;5;124m'\u001b[39m\u001b[38;5;124mname\u001b[39m\u001b[38;5;124m'\u001b[39m])\n\u001b[0;32m----> 6\u001b[0m \u001b[38;5;28mprint\u001b[39m(dict1[\u001b[38;5;124m'\u001b[39m\u001b[38;5;124mage\u001b[39m\u001b[38;5;124m'\u001b[39m])\n\u001b[1;32m      7\u001b[0m \u001b[38;5;28mprint\u001b[39m(dict1[\u001b[38;5;124m'\u001b[39m\u001b[38;5;124mphone\u001b[39m\u001b[38;5;124m'\u001b[39m])\n\u001b[1;32m      9\u001b[0m \u001b[38;5;28mprint\u001b[39m()\n",
      "\u001b[0;31mKeyError\u001b[0m: 'age'"
     ]
    }
   ],
   "source": [
    "# 딕셔너리의 값 가져오기\n",
    "# 딕셔너리는 순서가 없는 자료형이기 때문에 인덱스 번호가 없음\n",
    "# 대신, key값을 통해서 데이터를 가져올 수 있음\n",
    "\n",
    "print(dict1['name'])\n",
    "print(dict1['age'])\n",
    "print(dict1['phone'])\n",
    "\n",
    "print()\n",
    "\n",
    "# 딕셔너리 값 가져오기\n",
    "print(dict1.get('name'))\n",
    "\n",
    "# 딕셔너리 값 변경\n",
    "dict1['age'] = 28\n",
    "print(dict1.get('age'))\n",
    "\n",
    "# 딕셔너리 값 추가\n",
    "dict1['birth'] = '10/21'\n",
    "print(dict1.get('birth'))\n",
    "\n",
    "#딕셔너리 값 삭제\n",
    "del dict1['age']\n",
    "\n",
    "dict1"
   ]
  },
  {
   "cell_type": "code",
   "execution_count": null,
   "id": "3da2e4e7-b74a-4070-849c-e758cb182727",
   "metadata": {},
   "outputs": [],
   "source": []
  },
  {
   "cell_type": "code",
   "execution_count": 43,
   "id": "50919c1b-fde4-49b7-a724-94c1f364536c",
   "metadata": {},
   "outputs": [
    {
     "data": {
      "text/plain": [
       "{}"
      ]
     },
     "execution_count": 43,
     "metadata": {},
     "output_type": "execute_result"
    }
   ],
   "source": [
    "# 딕셔너리 비우기\n",
    "# clear()\n",
    "dict1.clear()\n",
    "\n",
    "dict1"
   ]
  },
  {
   "cell_type": "code",
   "execution_count": 45,
   "id": "fefe3a5e-696a-4872-8249-293be7438a55",
   "metadata": {},
   "outputs": [
    {
     "name": "stdout",
     "output_type": "stream",
     "text": [
      "{'name': '김혜림', 'age': 27, 'phone': '010-4097-4234'}\n"
     ]
    }
   ],
   "source": [
    "dict1 = {'name': '김혜림', 'age': 27, 'phone': '010-4097-4234'}\n",
    "print(dict1)"
   ]
  },
  {
   "cell_type": "code",
   "execution_count": null,
   "id": "7cec05df-3802-4e56-813c-05224753bf47",
   "metadata": {},
   "outputs": [],
   "source": []
  },
  {
   "cell_type": "code",
   "execution_count": 53,
   "id": "acb3f690-469e-4de8-8604-19ca6984ef01",
   "metadata": {},
   "outputs": [
    {
     "data": {
      "text/plain": [
       "{'팀원1': '김혜림'}"
      ]
     },
     "execution_count": 53,
     "metadata": {},
     "output_type": "execute_result"
    }
   ],
   "source": [
    "mini = {'팀원1': '김혜림'}\n",
    "\n",
    "mini"
   ]
  },
  {
   "cell_type": "code",
   "execution_count": null,
   "id": "ba8214cb-f5ed-4787-a73f-71698ab4524b",
   "metadata": {},
   "outputs": [],
   "source": []
  },
  {
   "cell_type": "code",
   "execution_count": 59,
   "id": "9daab200-85f6-4663-acf4-252834423d1c",
   "metadata": {},
   "outputs": [
    {
     "data": {
      "text/plain": [
       "{'팀원1': '김혜림', '팀원2': '오희진', '팀원3': '전정훈', '팀원4': '나규민', '팀원5': '한창오'}"
      ]
     },
     "execution_count": 59,
     "metadata": {},
     "output_type": "execute_result"
    }
   ],
   "source": [
    "# 1. 딕셔너리 값 추가를 통해서 미니 프로젝트 팀원 완성\n",
    "# 2. 딕셔너리 값 삭제 or 변경 or 추가를 통해 현재 팀원으로 변경\n",
    "\n",
    "mini['팀원2'] = '오희진'\n",
    "mini['팀원3'] = '전정훈'\n",
    "mini['팀원4'] = '나규민'\n",
    "mini['팀원5'] = '한창오'\n",
    "\n",
    "mini"
   ]
  },
  {
   "cell_type": "code",
   "execution_count": 63,
   "id": "fa9877a5-27c8-4bf9-acf6-9c6c5bd25f1c",
   "metadata": {},
   "outputs": [
    {
     "data": {
      "text/plain": [
       "{'팀원1': '김혜림', '팀원2': '오희진', '팀원3': '박지은', '팀원4': '이동한', '팀원5': '차명훈'}"
      ]
     },
     "execution_count": 63,
     "metadata": {},
     "output_type": "execute_result"
    }
   ],
   "source": [
    "mini['팀원3'] = '박지은'\n",
    "mini['팀원4'] = '이동한'\n",
    "mini['팀원5'] = '차명훈'\n",
    "\n",
    "mini"
   ]
  },
  {
   "cell_type": "code",
   "execution_count": null,
   "id": "a70415df-4b26-4aa2-bc64-9f5715f3c739",
   "metadata": {},
   "outputs": [],
   "source": []
  },
  {
   "cell_type": "markdown",
   "id": "b4ff4f60-747d-4198-81f1-9bd4b1851c5e",
   "metadata": {},
   "source": [
    "### 실습\n",
    "1. 사용자로부터 이름을 입력받아 해당 학생의 python, java, html.css의 평균점수 출력\n",
    "2. 잘못된 입력 시 안내문구 출력"
   ]
  },
  {
   "cell_type": "code",
   "execution_count": 66,
   "id": "f9624535-81a1-4e96-a70e-79a378aadfeb",
   "metadata": {},
   "outputs": [
    {
     "data": {
      "text/plain": [
       "{'이름': ['신재영', '신재영', '임승환', '이도연', '주미리'],\n",
       " 'Python': [95, 100, 85, 90, 80],\n",
       " 'Java': [85, 80, 100, 95, 85],\n",
       " 'html/css': [75, 70, 90, 80, 90]}"
      ]
     },
     "execution_count": 66,
     "metadata": {},
     "output_type": "execute_result"
    }
   ],
   "source": [
    "score_dict = {'이름':['신재영','신재영','임승환','이도연','주미리'],\n",
    "        'Python':[95,100,85,90,80],\n",
    "        'Java':[85,80,100,95,85],\n",
    "        'html/css':[75,70,90,80,90]}\n",
    "score_dict\n"
   ]
  },
  {
   "cell_type": "code",
   "execution_count": null,
   "id": "4369963b-7e4e-4303-8b92-e5c1d7070fa7",
   "metadata": {},
   "outputs": [],
   "source": [
    "score_dict['이름']"
   ]
  },
  {
   "cell_type": "code",
   "execution_count": null,
   "id": "b486c91b-1b36-4afa-904b-8a8c14d1932c",
   "metadata": {},
   "outputs": [],
   "source": [
    "score['이름'][3]"
   ]
  },
  {
   "cell_type": "code",
   "execution_count": 79,
   "id": "f8b8bfbf-c672-40ba-8978-4418e8f14794",
   "metadata": {},
   "outputs": [
    {
     "name": "stdin",
     "output_type": "stream",
     "text": [
      "이름을 입력해주세요 >>  혜림\n"
     ]
    },
    {
     "name": "stdout",
     "output_type": "stream",
     "text": [
      "잘못된 입력입니다.\n"
     ]
    },
    {
     "name": "stdin",
     "output_type": "stream",
     "text": [
      "이름을 입력해주세요 >>  주미리\n"
     ]
    },
    {
     "name": "stdout",
     "output_type": "stream",
     "text": [
      "평균점수:  85\n"
     ]
    }
   ],
   "source": [
    "while(True):\n",
    "    name = input('이름을 입력해주세요 >> ')\n",
    "    \n",
    "    if name == '신재영':\n",
    "        avg = (score_dict['Python'][0] + score_dict['Java'][0] + score_dict['html/css'][0] + score_dict['Python'][1] + score_dict['Java'][1] + score_dict['html/css'][1]) // 6\n",
    "        break\n",
    "    elif name == '임승환':\n",
    "        avg = (score_dict['Python'][2] + score_dict['Java'][2] + score_dict['html/css'][2]) // 3\n",
    "        break\n",
    "    elif name == '이도연':\n",
    "        avg = (score_dict['Python'][3] + score_dict['Java'][3] + score_dict['html/css'][3]) // 3 \n",
    "        break\n",
    "    elif name == '주미리':\n",
    "        avg = (score_dict['Python'][4] + score_dict['Java'][4] + score_dict['html/css'][4]) // 3\n",
    "        break\n",
    "    else:\n",
    "        print('잘못된 입력입니다.')\n",
    "print('평균점수: ', avg)"
   ]
  },
  {
   "cell_type": "code",
   "execution_count": 94,
   "id": "0f785751-0c18-4bc1-b958-0f6b969e1ce9",
   "metadata": {},
   "outputs": [
    {
     "name": "stdin",
     "output_type": "stream",
     "text": [
      "이름을 입력해주세요 >>  신재영\n"
     ]
    }
   ],
   "source": [
    "name = input('이름을 입력해주세요 >> ')\n",
    "\n",
    "for i in score_dict['이름']:\n",
    "    for j in range(len(score_dict['이름'])):\n",
    "        if name == i:\n",
    "            avg = (score_dict['Python'][j] + score_dict['Java'][j] + score_dict['html/css'][j]) // 3\n",
    "            print('평균 점수: ', avg)\n",
    "        else "
   ]
  },
  {
   "cell_type": "code",
   "execution_count": 108,
   "id": "54706c36-38c2-47f7-a1f5-b43514190f11",
   "metadata": {},
   "outputs": [
    {
     "name": "stdin",
     "output_type": "stream",
     "text": [
      "이름을 입력해주세요 >>  주미리\n"
     ]
    },
    {
     "name": "stdout",
     "output_type": "stream",
     "text": [
      "평균점수:  85\n"
     ]
    }
   ],
   "source": [
    "avg = 0 # 평균을 담아줄 변수\n",
    "check = True # 이름체크용\n",
    "\n",
    "input_name = input('이름을 입력해주세요 >> ')\n",
    "\n",
    "for i in range(len(score_dict['이름'])):\n",
    "    if input_name == score_dict['이름'][i]:\n",
    "        avg = (score_dict['Python'][i] + score_dict['Java'][i] + score_dict['html/css'][i]) // 3\n",
    "        check = False\n",
    "        print('평균점수: ', avg)\n",
    "if check:\n",
    "    print('검색 결과가 없습니다.')"
   ]
  },
  {
   "cell_type": "code",
   "execution_count": null,
   "id": "2babaac1-dcd8-4113-8d35-ec7a785f80be",
   "metadata": {},
   "outputs": [],
   "source": []
  },
  {
   "cell_type": "code",
   "execution_count": null,
   "id": "b41269ff-4fd4-4549-9587-6affaeeae028",
   "metadata": {},
   "outputs": [],
   "source": []
  },
  {
   "cell_type": "code",
   "execution_count": null,
   "id": "f52d95f0-7b6f-4d9f-a30b-717c3a36044e",
   "metadata": {},
   "outputs": [],
   "source": []
  }
 ],
 "metadata": {
  "kernelspec": {
   "display_name": "Python [conda env:base] *",
   "language": "python",
   "name": "conda-base-py"
  },
  "language_info": {
   "codemirror_mode": {
    "name": "ipython",
    "version": 3
   },
   "file_extension": ".py",
   "mimetype": "text/x-python",
   "name": "python",
   "nbconvert_exporter": "python",
   "pygments_lexer": "ipython3",
   "version": "3.12.7"
  }
 },
 "nbformat": 4,
 "nbformat_minor": 5
}
