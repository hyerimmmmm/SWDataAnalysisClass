{
 "cells": [
  {
   "cell_type": "markdown",
   "id": "79019fa2-6466-465a-97ce-5b45398fa288",
   "metadata": {},
   "source": [
    "### 딕셔너리\n",
    "- 불변한 key, 변화가능한 value로 맵핑되어 있는 순서가 없는 집합"
   ]
  },
  {
   "cell_type": "code",
   "execution_count": null,
   "id": "387641cf-2a43-42d0-9d35-1521bc90c347",
   "metadata": {},
   "outputs": [],
   "source": []
  },
  {
   "cell_type": "code",
   "execution_count": 3,
   "id": "4f72d78c-505d-486a-9f7a-7e805cdd4b85",
   "metadata": {},
   "outputs": [
    {
     "name": "stdout",
     "output_type": "stream",
     "text": [
      "{'name': '김혜림', 'age': 27, 'phone': '010-4097-4234'}\n"
     ]
    }
   ],
   "source": [
    "dict1 = {'name': '김혜림', 'age': 27, 'phone': '010-4097-4234'}\n",
    "print(dict1)"
   ]
  },
  {
   "cell_type": "code",
   "execution_count": 7,
   "id": "b4132ffd-6b3b-45b2-817a-3903db1868c5",
   "metadata": {},
   "outputs": [
    {
     "name": "stdout",
     "output_type": "stream",
     "text": [
      "<class 'dict'>\n"
     ]
    }
   ],
   "source": [
    "print(type(dict1))"
   ]
  },
  {
   "cell_type": "code",
   "execution_count": 9,
   "id": "a8b3a9c2-3f39-4156-b031-54f1e7db6da2",
   "metadata": {},
   "outputs": [
    {
     "data": {
      "text/plain": [
       "3"
      ]
     },
     "execution_count": 9,
     "metadata": {},
     "output_type": "execute_result"
    }
   ],
   "source": [
    "len(dict1)"
   ]
  },
  {
   "cell_type": "code",
   "execution_count": 11,
   "id": "272a1105-b0df-466d-b8bb-885f1c68b55a",
   "metadata": {},
   "outputs": [
    {
     "name": "stdout",
     "output_type": "stream",
     "text": [
      "name\n",
      "age\n",
      "phone\n"
     ]
    }
   ],
   "source": [
    "for i in dict1:\n",
    "    print(i)"
   ]
  },
  {
   "cell_type": "code",
   "execution_count": null,
   "id": "ac43f44d-c06c-4c23-ae22-008646a1886d",
   "metadata": {},
   "outputs": [],
   "source": []
  },
  {
   "cell_type": "code",
   "execution_count": 37,
   "id": "9d60ce8c-dbde-4a51-8212-bfd8e32d24ab",
   "metadata": {},
   "outputs": [
    {
     "name": "stdout",
     "output_type": "stream",
     "text": [
      "김혜림\n"
     ]
    },
    {
     "ename": "KeyError",
     "evalue": "'age'",
     "output_type": "error",
     "traceback": [
      "\u001b[0;31m---------------------------------------------------------------------------\u001b[0m",
      "\u001b[0;31mKeyError\u001b[0m                                  Traceback (most recent call last)",
      "Cell \u001b[0;32mIn[37], line 6\u001b[0m\n\u001b[1;32m      1\u001b[0m \u001b[38;5;66;03m# 딕셔너리의 값 가져오기\u001b[39;00m\n\u001b[1;32m      2\u001b[0m \u001b[38;5;66;03m# 딕셔너리는 순서가 없는 자료형이기 때문에 인덱스 번호가 없음\u001b[39;00m\n\u001b[1;32m      3\u001b[0m \u001b[38;5;66;03m# 대신, key값을 통해서 데이터를 가져올 수 있음\u001b[39;00m\n\u001b[1;32m      5\u001b[0m \u001b[38;5;28mprint\u001b[39m(dict1[\u001b[38;5;124m'\u001b[39m\u001b[38;5;124mname\u001b[39m\u001b[38;5;124m'\u001b[39m])\n\u001b[0;32m----> 6\u001b[0m \u001b[38;5;28mprint\u001b[39m(dict1[\u001b[38;5;124m'\u001b[39m\u001b[38;5;124mage\u001b[39m\u001b[38;5;124m'\u001b[39m])\n\u001b[1;32m      7\u001b[0m \u001b[38;5;28mprint\u001b[39m(dict1[\u001b[38;5;124m'\u001b[39m\u001b[38;5;124mphone\u001b[39m\u001b[38;5;124m'\u001b[39m])\n\u001b[1;32m      9\u001b[0m \u001b[38;5;28mprint\u001b[39m()\n",
      "\u001b[0;31mKeyError\u001b[0m: 'age'"
     ]
    }
   ],
   "source": [
    "# 딕셔너리의 값 가져오기\n",
    "# 딕셔너리는 순서가 없는 자료형이기 때문에 인덱스 번호가 없음\n",
    "# 대신, key값을 통해서 데이터를 가져올 수 있음\n",
    "\n",
    "print(dict1['name'])\n",
    "print(dict1['age'])\n",
    "print(dict1['phone'])\n",
    "\n",
    "print()\n",
    "\n",
    "# 딕셔너리 값 가져오기\n",
    "print(dict1.get('name'))\n",
    "\n",
    "# 딕셔너리 값 변경\n",
    "dict1['age'] = 28\n",
    "print(dict1.get('age'))\n",
    "\n",
    "# 딕셔너리 값 추가\n",
    "dict1['birth'] = '10/21'\n",
    "print(dict1.get('birth'))\n",
    "\n",
    "#딕셔너리 값 삭제\n",
    "del dict1['age']\n",
    "\n",
    "dict1"
   ]
  },
  {
   "cell_type": "code",
   "execution_count": null,
   "id": "3da2e4e7-b74a-4070-849c-e758cb182727",
   "metadata": {},
   "outputs": [],
   "source": []
  },
  {
   "cell_type": "code",
   "execution_count": 43,
   "id": "50919c1b-fde4-49b7-a724-94c1f364536c",
   "metadata": {},
   "outputs": [
    {
     "data": {
      "text/plain": [
       "{}"
      ]
     },
     "execution_count": 43,
     "metadata": {},
     "output_type": "execute_result"
    }
   ],
   "source": [
    "# 딕셔너리 비우기\n",
    "# clear()\n",
    "dict1.clear()\n",
    "\n",
    "dict1"
   ]
  },
  {
   "cell_type": "code",
   "execution_count": 45,
   "id": "fefe3a5e-696a-4872-8249-293be7438a55",
   "metadata": {},
   "outputs": [
    {
     "name": "stdout",
     "output_type": "stream",
     "text": [
      "{'name': '김혜림', 'age': 27, 'phone': '010-4097-4234'}\n"
     ]
    }
   ],
   "source": [
    "dict1 = {'name': '김혜림', 'age': 27, 'phone': '010-4097-4234'}\n",
    "print(dict1)"
   ]
  },
  {
   "cell_type": "code",
   "execution_count": null,
   "id": "7cec05df-3802-4e56-813c-05224753bf47",
   "metadata": {},
   "outputs": [],
   "source": []
  },
  {
   "cell_type": "code",
   "execution_count": null,
   "id": "acb3f690-469e-4de8-8604-19ca6984ef01",
   "metadata": {},
   "outputs": [],
   "source": []
  },
  {
   "cell_type": "code",
   "execution_count": null,
   "id": "ba8214cb-f5ed-4787-a73f-71698ab4524b",
   "metadata": {},
   "outputs": [],
   "source": []
  },
  {
   "cell_type": "code",
   "execution_count": null,
   "id": "9daab200-85f6-4663-acf4-252834423d1c",
   "metadata": {},
   "outputs": [],
   "source": []
  },
  {
   "cell_type": "code",
   "execution_count": null,
   "id": "fa9877a5-27c8-4bf9-acf6-9c6c5bd25f1c",
   "metadata": {},
   "outputs": [],
   "source": []
  },
  {
   "cell_type": "code",
   "execution_count": null,
   "id": "a70415df-4b26-4aa2-bc64-9f5715f3c739",
   "metadata": {},
   "outputs": [],
   "source": []
  },
  {
   "cell_type": "code",
   "execution_count": null,
   "id": "222f88f0-5e2d-4c9c-a160-fb8a93d4d314",
   "metadata": {},
   "outputs": [],
   "source": []
  },
  {
   "cell_type": "code",
   "execution_count": null,
   "id": "f9624535-81a1-4e96-a70e-79a378aadfeb",
   "metadata": {},
   "outputs": [],
   "source": []
  },
  {
   "cell_type": "code",
   "execution_count": null,
   "id": "4369963b-7e4e-4303-8b92-e5c1d7070fa7",
   "metadata": {},
   "outputs": [],
   "source": []
  },
  {
   "cell_type": "code",
   "execution_count": null,
   "id": "b486c91b-1b36-4afa-904b-8a8c14d1932c",
   "metadata": {},
   "outputs": [],
   "source": []
  },
  {
   "cell_type": "code",
   "execution_count": null,
   "id": "f8b8bfbf-c672-40ba-8978-4418e8f14794",
   "metadata": {},
   "outputs": [],
   "source": []
  },
  {
   "cell_type": "code",
   "execution_count": null,
   "id": "0f785751-0c18-4bc1-b958-0f6b969e1ce9",
   "metadata": {},
   "outputs": [],
   "source": []
  },
  {
   "cell_type": "code",
   "execution_count": null,
   "id": "54706c36-38c2-47f7-a1f5-b43514190f11",
   "metadata": {},
   "outputs": [],
   "source": []
  },
  {
   "cell_type": "code",
   "execution_count": null,
   "id": "2babaac1-dcd8-4113-8d35-ec7a785f80be",
   "metadata": {},
   "outputs": [],
   "source": []
  },
  {
   "cell_type": "code",
   "execution_count": null,
   "id": "b41269ff-4fd4-4549-9587-6affaeeae028",
   "metadata": {},
   "outputs": [],
   "source": []
  },
  {
   "cell_type": "code",
   "execution_count": null,
   "id": "f52d95f0-7b6f-4d9f-a30b-717c3a36044e",
   "metadata": {},
   "outputs": [],
   "source": []
  }
 ],
 "metadata": {
  "kernelspec": {
   "display_name": "Python [conda env:base] *",
   "language": "python",
   "name": "conda-base-py"
  },
  "language_info": {
   "codemirror_mode": {
    "name": "ipython",
    "version": 3
   },
   "file_extension": ".py",
   "mimetype": "text/x-python",
   "name": "python",
   "nbconvert_exporter": "python",
   "pygments_lexer": "ipython3",
   "version": "3.12.7"
  }
 },
 "nbformat": 4,
 "nbformat_minor": 5
}
